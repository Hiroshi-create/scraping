{
 "cells": [
  {
   "cell_type": "code",
   "execution_count": 1,
   "metadata": {},
   "outputs": [],
   "source": [
    "import pandas as pd"
   ]
  },
  {
   "cell_type": "code",
   "execution_count": 2,
   "metadata": {},
   "outputs": [],
   "source": [
    "data_1 = pd.read_csv(\"/Users/tanakahiroshi/Desktop/Programming/scraping/extracted_relations_final_1.csv\")\n",
    "data_2 = pd.read_csv(\"/Users/tanakahiroshi/Desktop/Programming/scraping/extracted_relations_final_2.csv\")"
   ]
  },
  {
   "cell_type": "code",
   "execution_count": 3,
   "metadata": {},
   "outputs": [],
   "source": [
    "data = pd.concat([data_1, data_2], ignore_index=True)"
   ]
  },
  {
   "cell_type": "code",
   "execution_count": 4,
   "metadata": {},
   "outputs": [],
   "source": [
    "temp = data[data[\"関係\"]==\"原因・理由\"].copy()\n",
    "temp.reset_index(drop=True, inplace=True)\n",
    "temp_unique = temp.drop_duplicates()\n",
    "temp = temp_unique"
   ]
  },
  {
   "cell_type": "code",
   "execution_count": 5,
   "metadata": {},
   "outputs": [
    {
     "data": {
      "text/html": [
       "<div>\n",
       "<style scoped>\n",
       "    .dataframe tbody tr th:only-of-type {\n",
       "        vertical-align: middle;\n",
       "    }\n",
       "\n",
       "    .dataframe tbody tr th {\n",
       "        vertical-align: top;\n",
       "    }\n",
       "\n",
       "    .dataframe thead th {\n",
       "        text-align: right;\n",
       "    }\n",
       "</style>\n",
       "<table border=\"1\" class=\"dataframe\">\n",
       "  <thead>\n",
       "    <tr style=\"text-align: right;\">\n",
       "      <th></th>\n",
       "      <th>原因</th>\n",
       "      <th>関係</th>\n",
       "      <th>結果</th>\n",
       "    </tr>\n",
       "  </thead>\n",
       "  <tbody>\n",
       "    <tr>\n",
       "      <th>0</th>\n",
       "      <td>今回もカラーも今どきな雰囲気に仕上がったので</td>\n",
       "      <td>原因・理由</td>\n",
       "      <td>良かったですまたよろしくお願いします♪</td>\n",
       "    </tr>\n",
       "    <tr>\n",
       "      <th>1</th>\n",
       "      <td>シャンプーを使っていただいたので、</td>\n",
       "      <td>原因・理由</td>\n",
       "      <td>来月またよろしくお願いします</td>\n",
       "    </tr>\n",
       "    <tr>\n",
       "      <th>2</th>\n",
       "      <td>とても大事な友達の式だったので、</td>\n",
       "      <td>原因・理由</td>\n",
       "      <td>アレンジが不慣れなら他のスタッフの方にもサポートいただきたかったです</td>\n",
       "    </tr>\n",
       "    <tr>\n",
       "      <th>3</th>\n",
       "      <td>とって前髪は顔のパーツの一部なので、</td>\n",
       "      <td>原因・理由</td>\n",
       "      <td>もっと研究していただきたいと思いました</td>\n",
       "    </tr>\n",
       "    <tr>\n",
       "      <th>4</th>\n",
       "      <td>今後も通いたいので、</td>\n",
       "      <td>原因・理由</td>\n",
       "      <td>改善していただければいいなと思います</td>\n",
       "    </tr>\n",
       "    <tr>\n",
       "      <th>...</th>\n",
       "      <td>...</td>\n",
       "      <td>...</td>\n",
       "      <td>...</td>\n",
       "    </tr>\n",
       "    <tr>\n",
       "      <th>3347</th>\n",
       "      <td>トリートメントもとても良かったので、</td>\n",
       "      <td>原因・理由</td>\n",
       "      <td>次回もよろしくお願いします</td>\n",
       "    </tr>\n",
       "    <tr>\n",
       "      <th>3348</th>\n",
       "      <td>色味のアドバイスをいただけるので、</td>\n",
       "      <td>原因・理由</td>\n",
       "      <td>大変有り難いです</td>\n",
       "    </tr>\n",
       "    <tr>\n",
       "      <th>3349</th>\n",
       "      <td>のは、担当スタイリストさんなので、</td>\n",
       "      <td>原因・理由</td>\n",
       "      <td>改めて感謝したいなと思いました</td>\n",
       "    </tr>\n",
       "    <tr>\n",
       "      <th>3350</th>\n",
       "      <td>つけっぱなしの上でのカラーなので</td>\n",
       "      <td>原因・理由</td>\n",
       "      <td>マスクを仕方ないのかもしれませんが</td>\n",
       "    </tr>\n",
       "    <tr>\n",
       "      <th>3351</th>\n",
       "      <td>またお願いしたいので、</td>\n",
       "      <td>原因・理由</td>\n",
       "      <td>よろしくお願いします</td>\n",
       "    </tr>\n",
       "  </tbody>\n",
       "</table>\n",
       "<p>3348 rows × 3 columns</p>\n",
       "</div>"
      ],
      "text/plain": [
       "                          原因     関係                                  結果\n",
       "0     今回もカラーも今どきな雰囲気に仕上がったので  原因・理由                 良かったですまたよろしくお願いします♪\n",
       "1          シャンプーを使っていただいたので、  原因・理由                      来月またよろしくお願いします\n",
       "2           とても大事な友達の式だったので、  原因・理由  アレンジが不慣れなら他のスタッフの方にもサポートいただきたかったです\n",
       "3         とって前髪は顔のパーツの一部なので、  原因・理由                 もっと研究していただきたいと思いました\n",
       "4                 今後も通いたいので、  原因・理由                  改善していただければいいなと思います\n",
       "...                      ...    ...                                 ...\n",
       "3347      トリートメントもとても良かったので、  原因・理由                       次回もよろしくお願いします\n",
       "3348       色味のアドバイスをいただけるので、  原因・理由                            大変有り難いです\n",
       "3349       のは、担当スタイリストさんなので、  原因・理由                     改めて感謝したいなと思いました\n",
       "3350        つけっぱなしの上でのカラーなので  原因・理由                   マスクを仕方ないのかもしれませんが\n",
       "3351             またお願いしたいので、  原因・理由                          よろしくお願いします\n",
       "\n",
       "[3348 rows x 3 columns]"
      ]
     },
     "execution_count": 5,
     "metadata": {},
     "output_type": "execute_result"
    }
   ],
   "source": [
    "temp"
   ]
  },
  {
   "cell_type": "code",
   "execution_count": 6,
   "metadata": {},
   "outputs": [
    {
     "name": "stdout",
     "output_type": "stream",
     "text": [
      "\n",
      "重複削除後のデータフレーム:\n",
      "                          原因     関係                                  結果\n",
      "0     今回もカラーも今どきな雰囲気に仕上がったので  原因・理由                 良かったですまたよろしくお願いします♪\n",
      "1          シャンプーを使っていただいたので、  原因・理由                      来月またよろしくお願いします\n",
      "2           とても大事な友達の式だったので、  原因・理由  アレンジが不慣れなら他のスタッフの方にもサポートいただきたかったです\n",
      "3         とって前髪は顔のパーツの一部なので、  原因・理由                 もっと研究していただきたいと思いました\n",
      "4                 今後も通いたいので、  原因・理由                  改善していただければいいなと思います\n",
      "...                      ...    ...                                 ...\n",
      "3347      トリートメントもとても良かったので、  原因・理由                       次回もよろしくお願いします\n",
      "3348       色味のアドバイスをいただけるので、  原因・理由                            大変有り難いです\n",
      "3349       のは、担当スタイリストさんなので、  原因・理由                     改めて感謝したいなと思いました\n",
      "3350        つけっぱなしの上でのカラーなので  原因・理由                   マスクを仕方ないのかもしれませんが\n",
      "3351             またお願いしたいので、  原因・理由                          よろしくお願いします\n",
      "\n",
      "[3348 rows x 3 columns]\n"
     ]
    }
   ],
   "source": [
    "# 重複するセットを見つける\n",
    "duplicate_indices = []\n",
    "seen = {}\n",
    "for index, row in temp.iterrows():\n",
    "    key = (row['原因'], row['結果'])\n",
    "    if key in seen:\n",
    "        duplicate_indices.append((seen[key], index))\n",
    "        print(f\"重複: インデックス {seen[key]} と {index}\")\n",
    "    else:\n",
    "        seen[key] = index\n",
    "\n",
    "# 重複を削除する\n",
    "for idx1, idx2 in duplicate_indices:\n",
    "    temp = temp.drop(idx2)\n",
    "\n",
    "# 結果を表示\n",
    "print(\"\\n重複削除後のデータフレーム:\")\n",
    "print(temp)"
   ]
  },
  {
   "cell_type": "code",
   "execution_count": 7,
   "metadata": {},
   "outputs": [],
   "source": [
    "#BERTを読み込む\n",
    "#KMEANSをする（k=50) （自分の解釈）\n",
    "#networrkxで可視化"
   ]
  },
  {
   "cell_type": "code",
   "execution_count": 8,
   "metadata": {},
   "outputs": [],
   "source": [
    "from transformers import BertJapaneseTokenizer, BertModel\n",
    "import torch"
   ]
  },
  {
   "cell_type": "code",
   "execution_count": 9,
   "metadata": {},
   "outputs": [],
   "source": [
    "class SentenceBertJapanese:\n",
    "    def __init__(self, model_name_or_path, device=None):\n",
    "        self.tokenizer = BertJapaneseTokenizer.from_pretrained(model_name_or_path)\n",
    "        self.model = BertModel.from_pretrained(model_name_or_path)\n",
    "        self.model.eval()\n",
    "\n",
    "        if device is None:\n",
    "            device = \"cuda\" if torch.cuda.is_available() else \"cpu\"\n",
    "        self.device = torch.device(device)\n",
    "        self.model.to(device)\n",
    "\n",
    "    def _mean_pooling(self, model_output, attention_mask):\n",
    "        token_embeddings = model_output[0] #First element of model_output contains all token embeddings\n",
    "        input_mask_expanded = attention_mask.unsqueeze(-1).expand(token_embeddings.size()).float()\n",
    "        return torch.sum(token_embeddings * input_mask_expanded, 1) / torch.clamp(input_mask_expanded.sum(1), min=1e-9)\n",
    "\n",
    "    @torch.no_grad()\n",
    "    def encode(self, sentences, batch_size=8):\n",
    "        all_embeddings = []\n",
    "        iterator = range(0, len(sentences), batch_size)\n",
    "        for batch_idx in iterator:\n",
    "            batch = sentences[batch_idx:batch_idx + batch_size]\n",
    "\n",
    "            encoded_input = self.tokenizer.batch_encode_plus(batch, padding=\"longest\", \n",
    "                                           truncation=True, return_tensors=\"pt\").to(self.device)\n",
    "            model_output = self.model(**encoded_input)\n",
    "            sentence_embeddings = self._mean_pooling(model_output, encoded_input[\"attention_mask\"]).to('cpu')\n",
    "\n",
    "            all_embeddings.extend(sentence_embeddings)\n",
    "\n",
    "        # return torch.stack(all_embeddings).numpy()\n",
    "        return torch.stack(all_embeddings)\n"
   ]
  },
  {
   "cell_type": "code",
   "execution_count": 10,
   "metadata": {},
   "outputs": [],
   "source": [
    "MODEL_NAME = \"sonoisa/sentence-bert-base-ja-mean-tokens-v2\"\n",
    "model = SentenceBertJapanese(MODEL_NAME)"
   ]
  },
  {
   "cell_type": "code",
   "execution_count": 11,
   "metadata": {},
   "outputs": [],
   "source": [
    "# 一つの行列に結合\n",
    "def marge_text(temp_df):\n",
    "    marge = []\n",
    "    for cau in temp_df[\"原因\"]:\n",
    "        marge.append(cau)\n",
    "\n",
    "    for res in temp_df[\"結果\"]:\n",
    "        marge.append(res)\n",
    "    return marge"
   ]
  },
  {
   "cell_type": "code",
   "execution_count": 12,
   "metadata": {},
   "outputs": [],
   "source": [
    "marge_rev = marge_text(temp)"
   ]
  },
  {
   "cell_type": "markdown",
   "metadata": {},
   "source": [
    "## クラスタリング ##"
   ]
  },
  {
   "cell_type": "code",
   "execution_count": 13,
   "metadata": {},
   "outputs": [],
   "source": [
    "from sklearn.cluster import KMeans \n",
    "import pandas as pd\n",
    "\n",
    "# 文章リストをベクトル化してクラスタリング\n",
    "def sentence_encode_and_clustering(sentences, n_clusters=100):\n",
    "    sentence_embeddings = model.encode(sentences, batch_size=8)\n",
    "    print(\"Sentence embeddings:\", sentence_embeddings.shape)\n",
    "\n",
    "    kmeans_model = KMeans(n_clusters = n_clusters).fit(sentence_embeddings)\n",
    "    print(kmeans_model.labels_)\n",
    "\n",
    "    # 元の文章、埋め込み、クラスタラベルを含むDataFrameを作成\n",
    "    return pd.DataFrame({\n",
    "        '文章': sentences,\n",
    "        # '埋め込み': sentence_embeddings.tolist(),\n",
    "        'クラスタ': kmeans_model.labels_\n",
    "    })\n",
    "\n",
    "# クラスタ番号ごとに分けて格納\n",
    "def divide_into_clusters(df_results):\n",
    "    # ユニークなクラスタ番号を取得\n",
    "    unique_clusters = df_results['クラスタ'].unique()\n",
    "\n",
    "    dfs = {}\n",
    "\n",
    "    for cluster in unique_clusters:\n",
    "        # クラスタごとにDataFrameをフィルタリングし、新しい変数に格納\n",
    "        cluster_df = df_results[df_results['クラスタ'] == cluster].copy()\n",
    "        \n",
    "        # 変数名を動的に生成（例：cluster_0, cluster_1, ...）\n",
    "        var_name = f\"cluster_{cluster}\"\n",
    "        \n",
    "        # グローバル変数として設定\n",
    "        globals()[var_name] = cluster_df\n",
    "        \n",
    "        # 辞書にも格納（後で使用する場合）\n",
    "        dfs[cluster] = cluster_df\n",
    "    \n",
    "    return dfs\n"
   ]
  },
  {
   "cell_type": "code",
   "execution_count": 14,
   "metadata": {},
   "outputs": [
    {
     "name": "stdout",
     "output_type": "stream",
     "text": [
      "Sentence embeddings: torch.Size([6696, 768])\n",
      "[64 16  4 ... 67 42 15]\n"
     ]
    }
   ],
   "source": [
    "# 文章リストをベクトル化してクラスタリング\n",
    "df_results = sentence_encode_and_clustering(marge_rev, n_clusters=100)\n",
    "cluster_dfs = {}\n",
    "# クラスタ番号ごとに分けて格納\n",
    "cluster_dfs = divide_into_clusters(df_results)\n",
    "# DataFrameの要素数（行数）を取得し、少ない順にソート\n",
    "sorted_dfs = [df for _, df in sorted(cluster_dfs.items(), key=lambda x: len(x[1]))]"
   ]
  },
  {
   "cell_type": "code",
   "execution_count": 15,
   "metadata": {},
   "outputs": [
    {
     "data": {
      "text/html": [
       "<div>\n",
       "<style scoped>\n",
       "    .dataframe tbody tr th:only-of-type {\n",
       "        vertical-align: middle;\n",
       "    }\n",
       "\n",
       "    .dataframe tbody tr th {\n",
       "        vertical-align: top;\n",
       "    }\n",
       "\n",
       "    .dataframe thead th {\n",
       "        text-align: right;\n",
       "    }\n",
       "</style>\n",
       "<table border=\"1\" class=\"dataframe\">\n",
       "  <thead>\n",
       "    <tr style=\"text-align: right;\">\n",
       "      <th></th>\n",
       "      <th>文章</th>\n",
       "      <th>クラスタ</th>\n",
       "    </tr>\n",
       "  </thead>\n",
       "  <tbody>\n",
       "    <tr>\n",
       "      <th>1441</th>\n",
       "      <td>駅から近いので</td>\n",
       "      <td>48</td>\n",
       "    </tr>\n",
       "    <tr>\n",
       "      <th>1544</th>\n",
       "      <td>仕上がりもよきでした駅近なので</td>\n",
       "      <td>48</td>\n",
       "    </tr>\n",
       "    <tr>\n",
       "      <th>1761</th>\n",
       "      <td>地下歩出口からも近いので</td>\n",
       "      <td>48</td>\n",
       "    </tr>\n",
       "    <tr>\n",
       "      <th>1934</th>\n",
       "      <td>地下歩行空間の出口からはすぐなので</td>\n",
       "      <td>48</td>\n",
       "    </tr>\n",
       "    <tr>\n",
       "      <th>2259</th>\n",
       "      <td>駅の近くなので</td>\n",
       "      <td>48</td>\n",
       "    </tr>\n",
       "    <tr>\n",
       "      <th>2289</th>\n",
       "      <td>札駅に近いので</td>\n",
       "      <td>48</td>\n",
       "    </tr>\n",
       "    <tr>\n",
       "      <th>2359</th>\n",
       "      <td>お店の雰囲気もすごくおしゃれで駅からも徒歩で近いので</td>\n",
       "      <td>48</td>\n",
       "    </tr>\n",
       "    <tr>\n",
       "      <th>2412</th>\n",
       "      <td>駅からも近いので</td>\n",
       "      <td>48</td>\n",
       "    </tr>\n",
       "    <tr>\n",
       "      <th>2496</th>\n",
       "      <td>会社から近いので</td>\n",
       "      <td>48</td>\n",
       "    </tr>\n",
       "    <tr>\n",
       "      <th>2568</th>\n",
       "      <td>駅からも近いため</td>\n",
       "      <td>48</td>\n",
       "    </tr>\n",
       "    <tr>\n",
       "      <th>2632</th>\n",
       "      <td>駅から近く大きくお店の名前も書かれていましたので、</td>\n",
       "      <td>48</td>\n",
       "    </tr>\n",
       "    <tr>\n",
       "      <th>2686</th>\n",
       "      <td>駅近なので</td>\n",
       "      <td>48</td>\n",
       "    </tr>\n",
       "    <tr>\n",
       "      <th>2732</th>\n",
       "      <td>駅から近いので</td>\n",
       "      <td>48</td>\n",
       "    </tr>\n",
       "    <tr>\n",
       "      <th>3070</th>\n",
       "      <td>少し駅から歩くので</td>\n",
       "      <td>48</td>\n",
       "    </tr>\n",
       "  </tbody>\n",
       "</table>\n",
       "</div>"
      ],
      "text/plain": [
       "                              文章  クラスタ\n",
       "1441                     駅から近いので    48\n",
       "1544             仕上がりもよきでした駅近なので    48\n",
       "1761                地下歩出口からも近いので    48\n",
       "1934           地下歩行空間の出口からはすぐなので    48\n",
       "2259                     駅の近くなので    48\n",
       "2289                     札駅に近いので    48\n",
       "2359  お店の雰囲気もすごくおしゃれで駅からも徒歩で近いので    48\n",
       "2412                    駅からも近いので    48\n",
       "2496                    会社から近いので    48\n",
       "2568                    駅からも近いため    48\n",
       "2632   駅から近く大きくお店の名前も書かれていましたので、    48\n",
       "2686                       駅近なので    48\n",
       "2732                     駅から近いので    48\n",
       "3070                   少し駅から歩くので    48"
      ]
     },
     "execution_count": 15,
     "metadata": {},
     "output_type": "execute_result"
    }
   ],
   "source": [
    "sorted_dfs[1]"
   ]
  },
  {
   "cell_type": "code",
   "execution_count": 16,
   "metadata": {},
   "outputs": [],
   "source": [
    "# !pip install keybert\n",
    "# !pip install --upgrade keybert sentence-transformers transformers"
   ]
  },
  {
   "cell_type": "markdown",
   "metadata": {},
   "source": [
    "## クラスタごとに、内容を一言でまとめる ##"
   ]
  },
  {
   "cell_type": "code",
   "execution_count": 17,
   "metadata": {},
   "outputs": [],
   "source": [
    "# from sentence_transformers import SentenceTransformer\n",
    "# from keybert import KeyBERT\n",
    "# import pandas as pd\n",
    "\n",
    "# # クラスタが同じものから文章だけ取得し、一文に繋げる\n",
    "# def connect_text_list(short_index_box_list_df):\n",
    "#     text_list = short_index_box_list_df[\"文章\"].tolist()\n",
    "#     # print(text_list)\n",
    "\n",
    "#     text = '。'.join(text_list)\n",
    "#     return text\n",
    "\n",
    "# # # キーワードを抽出\n",
    "# # def text_extract_keywords(text, text_num, model_name='cl-tohoku/bert-base-japanese-whole-word-masking', top_n=3, keyphrase_ngram_range=(1, 1)):\n",
    "# #     # モデルの初期化\n",
    "# #     model = SentenceTransformer(model_name)\n",
    "# #     kw_model = KeyBERT(model=model)\n",
    "\n",
    "# #     # 結果を格納するリスト\n",
    "# #     kw_results = []\n",
    "\n",
    "# #     try:\n",
    "# #         # キーワードを抽出\n",
    "# #         keywords = kw_model.extract_keywords(text, top_n=top_n, keyphrase_ngram_range=keyphrase_ngram_range, diversity=0, nr_candidates=0)\n",
    "# #     except Exception as e:\n",
    "# #         # print(f\"文章 {index + 1} でエラーが発生しました: {e}\")\n",
    "# #         keywords = []\n",
    "\n",
    "# #     # スコアの低い順にソート\n",
    "# #     sorted_keywords = sorted(keywords, key=lambda x: x[1])\n",
    "\n",
    "# #     # ワースト3を取得\n",
    "# #     worst_3 = sorted_keywords[:3]\n",
    "    \n",
    "# #     # 結果を格納\n",
    "# #     kw_results.append({\n",
    "# #         \"文章番号\": text_num,\n",
    "# #         \"文章\": text,\n",
    "# #         **{f\"キーワード{i + 1}\": worst_3[i][0] if i < len(worst_3) else \"\" for i in range(len(worst_3))},\n",
    "# #         **{f\"スコア{i + 1}\": worst_3[i][1] if i < len(worst_3) else 0 for i in range(len(worst_3))}\n",
    "# #     })\n",
    "\n",
    "# #     # 結果をデータフレームに変換\n",
    "# #     return pd.DataFrame(kw_results)\n",
    "\n",
    "# # GPUメモリの使用量を制限\n",
    "# torch.mps.set_per_process_memory_fraction(0.8)  # 80%のGPUメモリを使用\n",
    "\n",
    "# # モデルを一度だけ初期化\n",
    "# model_name = 'sonoisa/sentence-bert-base-ja-mean-tokens-v2'\n",
    "# model = SentenceTransformer(model_name)\n",
    "# kw_model = KeyBERT(model=model)\n",
    "\n",
    "# def text_extract_keywords(text, text_num, kw_model, top_n=3, keyphrase_ngram_range=(1, 1)):\n",
    "#     kw_results = []\n",
    "\n",
    "#     try:\n",
    "#         keywords = kw_model.extract_keywords(text, top_n=top_n, keyphrase_ngram_range=keyphrase_ngram_range, diversity=0, nr_candidates=0)\n",
    "#     except Exception as e:\n",
    "#         keywords = []\n",
    "\n",
    "#     # sorted_keywords = sorted(keywords, key=lambda x: x[1])\n",
    "#     # worst_3 = sorted_keywords[:3]\n",
    "    \n",
    "#     kw_results.append({\n",
    "#         \"文章番号\": text_num,\n",
    "#         \"文章\": text,\n",
    "#         **{f\"キーワード{i + 1}\": keywords[i][0] if i < len(keywords) else \"\" for i in range(len(keywords))},\n",
    "#         **{f\"スコア{i + 1}\": keywords[i][1] if i < len(keywords) else 0 for i in range(len(keywords))}\n",
    "#     })\n",
    "\n",
    "#     return pd.DataFrame(kw_results)\n"
   ]
  },
  {
   "cell_type": "code",
   "execution_count": 18,
   "metadata": {},
   "outputs": [
    {
     "data": {
      "text/plain": [
       "['ツルツルツヤツヤが持続しているので、',\n",
       " 'ツヤツヤになるので、',\n",
       " 'ツヤのある綺麗な状態がキープできるので',\n",
       " 'ツヤツヤな仕上がりになるので',\n",
       " '大満足ですトリートメントでもツヤツヤになったので',\n",
       " 'しっかり伸びてツヤも出たので',\n",
       " '見た目にもツヤが出たので',\n",
       " 'ツルツルです',\n",
       " 'ツルツルツヤツヤが持続しているので、',\n",
       " '大満足ですトリートメントでもツヤツヤになったので',\n",
       " 'しっかり伸びてツヤも出たので']"
      ]
     },
     "execution_count": 18,
     "metadata": {},
     "output_type": "execute_result"
    }
   ],
   "source": [
    "sorted_dfs[0][\"文章\"].tolist()"
   ]
  },
  {
   "cell_type": "markdown",
   "metadata": {},
   "source": [
    "### クラスタごとに、命名したい ###"
   ]
  },
  {
   "cell_type": "code",
   "execution_count": 19,
   "metadata": {},
   "outputs": [],
   "source": [
    "# import os\n",
    "# os.environ['PYTORCH_MPS_HIGH_WATERMARK_RATIO'] = '0.0'"
   ]
  },
  {
   "cell_type": "code",
   "execution_count": 20,
   "metadata": {},
   "outputs": [],
   "source": [
    "def replace_text(replace_text_df, new_text):\n",
    "    replace_text_df['文章'] = new_text\n",
    "    return replace_text_df"
   ]
  },
  {
   "cell_type": "code",
   "execution_count": 21,
   "metadata": {},
   "outputs": [],
   "source": [
    "# df_results_list = []\n",
    "# batch_size = 10  # バッチサイズを設定\n",
    "\n",
    "# for i in range(0, len(sorted_dfs), batch_size):\n",
    "#     batch = sorted_dfs[i:i+batch_size]\n",
    "    \n",
    "#     for j, cl_df in enumerate(batch):\n",
    "#         combined_text = connect_text_list(cl_df)  # 一文に繋げる\n",
    "#         df_results_keywords = text_extract_keywords(combined_text, int(cl_df['クラスタ'].iloc[0]), kw_model, top_n=len(cl_df))  # クラスタリング\n",
    "#         df_results_list.append(df_results_keywords)\n",
    "        \n",
    "#         keyword = df_results_keywords[\"キーワード1\"].iloc[0]\n",
    "#         sorted_dfs[i+j] = replace_text(sorted_dfs[i+j], keyword)\n",
    "    \n",
    "#     # バッチ処理後にメモリをクリア\n",
    "#     torch.mps.empty_cache()\n",
    "    \n",
    "#     if i % 100 == 0:\n",
    "#         print(f\"Processed {i} items\")\n",
    "\n",
    "# print(df_results_list)"
   ]
  },
  {
   "cell_type": "code",
   "execution_count": null,
   "metadata": {},
   "outputs": [],
   "source": []
  },
  {
   "cell_type": "code",
   "execution_count": 22,
   "metadata": {},
   "outputs": [
    {
     "data": {
      "text/plain": [
       "['駅から近いので',\n",
       " '仕上がりもよきでした駅近なので',\n",
       " '地下歩出口からも近いので',\n",
       " '地下歩行空間の出口からはすぐなので',\n",
       " '駅の近くなので',\n",
       " '札駅に近いので',\n",
       " 'お店の雰囲気もすごくおしゃれで駅からも徒歩で近いので',\n",
       " '駅からも近いので',\n",
       " '会社から近いので',\n",
       " '駅からも近いため',\n",
       " '駅から近く大きくお店の名前も書かれていましたので、',\n",
       " '駅近なので',\n",
       " '駅から近いので',\n",
       " '少し駅から歩くので']"
      ]
     },
     "execution_count": 22,
     "metadata": {},
     "output_type": "execute_result"
    }
   ],
   "source": [
    "sorted_dfs[1][\"文章\"].tolist()"
   ]
  },
  {
   "cell_type": "code",
   "execution_count": 23,
   "metadata": {},
   "outputs": [],
   "source": [
    "# コピーを取っておく\n",
    "sorted_dfs_copy = [df.copy() for df in sorted_dfs]"
   ]
  },
  {
   "cell_type": "code",
   "execution_count": 24,
   "metadata": {},
   "outputs": [
    {
     "data": {
      "text/plain": [
       "['ツルツルツヤツヤが持続しているので、',\n",
       " 'ツヤツヤになるので、',\n",
       " 'ツヤのある綺麗な状態がキープできるので',\n",
       " 'ツヤツヤな仕上がりになるので',\n",
       " '大満足ですトリートメントでもツヤツヤになったので',\n",
       " 'しっかり伸びてツヤも出たので',\n",
       " '見た目にもツヤが出たので',\n",
       " 'ツルツルです',\n",
       " 'ツルツルツヤツヤが持続しているので、',\n",
       " '大満足ですトリートメントでもツヤツヤになったので',\n",
       " 'しっかり伸びてツヤも出たので']"
      ]
     },
     "execution_count": 24,
     "metadata": {},
     "output_type": "execute_result"
    }
   ],
   "source": [
    "sorted_dfs_copy[0][\"文章\"].tolist()"
   ]
  },
  {
   "cell_type": "code",
   "execution_count": 25,
   "metadata": {},
   "outputs": [
    {
     "data": {
      "text/plain": [
       "11"
      ]
     },
     "execution_count": 25,
     "metadata": {},
     "output_type": "execute_result"
    }
   ],
   "source": [
    "len(sorted_dfs_copy[0])"
   ]
  },
  {
   "cell_type": "markdown",
   "metadata": {},
   "source": [
    "## トピックモデリング ##"
   ]
  },
  {
   "cell_type": "code",
   "execution_count": 26,
   "metadata": {},
   "outputs": [],
   "source": [
    "import pandas as pd\n",
    "from bertopic import BERTopic\n",
    "from sklearn.feature_extraction.text import CountVectorizer\n",
    "from transformers import AutoTokenizer, AutoModel\n",
    "import MeCab\n",
    "import ipadic"
   ]
  },
  {
   "cell_type": "code",
   "execution_count": 27,
   "metadata": {},
   "outputs": [],
   "source": [
    "# MeCabの設定\n",
    "mecab = MeCab.Tagger(ipadic.MECAB_ARGS)\n",
    "# BERTopicモデルの設定\n",
    "tokenizer = AutoTokenizer.from_pretrained(\"cl-tohoku/bert-base-japanese-whole-word-masking\")\n",
    "model = AutoModel.from_pretrained(\"cl-tohoku/bert-base-japanese-whole-word-masking\")\n",
    "\n",
    "# テキストの前処理関数\n",
    "def preprocess(text):\n",
    "    node = mecab.parseToNode(text)\n",
    "    words = []\n",
    "    while node:\n",
    "        if node.feature.split(\",\")[0] in [\"名詞\", \"動詞\", \"形容詞\"]:\n",
    "            words.append(node.surface)\n",
    "        node = node.next\n",
    "    return \" \".join(words)\n",
    "\n",
    "def topic_modeling(sentences):\n",
    "\n",
    "    # 前処理を適用\n",
    "    preprocessed_sentences = [preprocess(sentence) for sentence in sentences]\n",
    "\n",
    "    vectorizer = CountVectorizer(tokenizer=tokenizer.tokenize, max_features=10000)\n",
    "\n",
    "    topic_model = BERTopic(\n",
    "        language=\"japanese\",\n",
    "        calculate_probabilities=True,\n",
    "        verbose=True,\n",
    "        vectorizer_model=vectorizer,\n",
    "        embedding_model=model\n",
    "    )\n",
    "\n",
    "    # トピックモデリングの実行\n",
    "    topics, probs = topic_model.fit_transform(preprocessed_sentences)\n",
    "\n",
    "    # # 結果の表示\n",
    "    # print(topic_model.get_topic_info())\n",
    "\n",
    "    # # 各トピックの上位単語を表示\n",
    "    # for topic in topic_model.get_topics():\n",
    "    #     print(f\"トピック {topic}: {topic_model.get_topic(topic)}\")\n",
    "\n",
    "    return topic_model"
   ]
  },
  {
   "cell_type": "code",
   "execution_count": 28,
   "metadata": {},
   "outputs": [
    {
     "data": {
      "text/plain": [
       "['ツルツルツヤツヤが持続しているので、',\n",
       " 'ツヤツヤになるので、',\n",
       " 'ツヤのある綺麗な状態がキープできるので',\n",
       " 'ツヤツヤな仕上がりになるので',\n",
       " '大満足ですトリートメントでもツヤツヤになったので',\n",
       " 'しっかり伸びてツヤも出たので',\n",
       " '見た目にもツヤが出たので',\n",
       " 'ツルツルです',\n",
       " 'ツルツルツヤツヤが持続しているので、',\n",
       " '大満足ですトリートメントでもツヤツヤになったので',\n",
       " 'しっかり伸びてツヤも出たので']"
      ]
     },
     "execution_count": 28,
     "metadata": {},
     "output_type": "execute_result"
    }
   ],
   "source": [
    "sorted_dfs_copy[0][\"文章\"].tolist()"
   ]
  },
  {
   "cell_type": "code",
   "execution_count": null,
   "metadata": {},
   "outputs": [],
   "source": []
  },
  {
   "cell_type": "code",
   "execution_count": 29,
   "metadata": {},
   "outputs": [
    {
     "name": "stderr",
     "output_type": "stream",
     "text": [
      "2024-12-18 14:01:54,547 - BERTopic - Embedding - Transforming documents to embeddings.\n"
     ]
    },
    {
     "data": {
      "application/vnd.jupyter.widget-view+json": {
       "model_id": "ec7b555d41c24dc2852f6e65a27c2b08",
       "version_major": 2,
       "version_minor": 0
      },
      "text/plain": [
       "Batches:   0%|          | 0/1 [00:00<?, ?it/s]"
      ]
     },
     "metadata": {},
     "output_type": "display_data"
    },
    {
     "name": "stderr",
     "output_type": "stream",
     "text": [
      "2024-12-18 14:02:00,917 - BERTopic - Embedding - Completed ✓\n",
      "2024-12-18 14:02:00,918 - BERTopic - Dimensionality - Fitting the dimensionality reduction algorithm\n",
      "OMP: Info #276: omp_set_nested routine deprecated, please use omp_set_max_active_levels instead.\n",
      "2024-12-18 14:02:04,552 - BERTopic - Dimensionality - Completed ✓\n",
      "2024-12-18 14:02:04,552 - BERTopic - Cluster - Start clustering the reduced embeddings\n",
      "2024-12-18 14:02:04,562 - BERTopic - Cluster - Completed ✓\n",
      "2024-12-18 14:02:04,567 - BERTopic - Representation - Extracting topics from clusters using representation models.\n",
      "2024-12-18 14:02:04,600 - BERTopic - Representation - Completed ✓\n",
      "2024-12-18 14:02:04,632 - BERTopic - Embedding - Transforming documents to embeddings.\n"
     ]
    },
    {
     "data": {
      "application/vnd.jupyter.widget-view+json": {
       "model_id": "4d8f2d4a715741de8026efc38dcc4196",
       "version_major": 2,
       "version_minor": 0
      },
      "text/plain": [
       "Batches:   0%|          | 0/1 [00:00<?, ?it/s]"
      ]
     },
     "metadata": {},
     "output_type": "display_data"
    },
    {
     "name": "stderr",
     "output_type": "stream",
     "text": [
      "2024-12-18 14:02:07,086 - BERTopic - Embedding - Completed ✓\n",
      "2024-12-18 14:02:07,087 - BERTopic - Dimensionality - Fitting the dimensionality reduction algorithm\n",
      "2024-12-18 14:02:07,126 - BERTopic - Dimensionality - Completed ✓\n",
      "2024-12-18 14:02:07,126 - BERTopic - Cluster - Start clustering the reduced embeddings\n",
      "2024-12-18 14:02:07,129 - BERTopic - Cluster - Completed ✓\n",
      "2024-12-18 14:02:07,130 - BERTopic - Representation - Extracting topics from clusters using representation models.\n",
      "2024-12-18 14:02:07,140 - BERTopic - Representation - Completed ✓\n",
      "2024-12-18 14:02:07,172 - BERTopic - Embedding - Transforming documents to embeddings.\n"
     ]
    },
    {
     "data": {
      "application/vnd.jupyter.widget-view+json": {
       "model_id": "a424ee539de84e19b0d8d4019139e8c1",
       "version_major": 2,
       "version_minor": 0
      },
      "text/plain": [
       "Batches:   0%|          | 0/1 [00:00<?, ?it/s]"
      ]
     },
     "metadata": {},
     "output_type": "display_data"
    },
    {
     "name": "stderr",
     "output_type": "stream",
     "text": [
      "2024-12-18 14:02:09,936 - BERTopic - Embedding - Completed ✓\n",
      "2024-12-18 14:02:09,936 - BERTopic - Dimensionality - Fitting the dimensionality reduction algorithm\n",
      "2024-12-18 14:02:09,970 - BERTopic - Dimensionality - Completed ✓\n",
      "2024-12-18 14:02:09,971 - BERTopic - Cluster - Start clustering the reduced embeddings\n",
      "2024-12-18 14:02:09,973 - BERTopic - Cluster - Completed ✓\n",
      "2024-12-18 14:02:09,975 - BERTopic - Representation - Extracting topics from clusters using representation models.\n",
      "2024-12-18 14:02:09,990 - BERTopic - Representation - Completed ✓\n",
      "2024-12-18 14:02:10,002 - BERTopic - Embedding - Transforming documents to embeddings.\n"
     ]
    },
    {
     "data": {
      "application/vnd.jupyter.widget-view+json": {
       "model_id": "311e50479eeb4cf0843649734a271cd6",
       "version_major": 2,
       "version_minor": 0
      },
      "text/plain": [
       "Batches:   0%|          | 0/1 [00:00<?, ?it/s]"
      ]
     },
     "metadata": {},
     "output_type": "display_data"
    },
    {
     "name": "stderr",
     "output_type": "stream",
     "text": [
      "2024-12-18 14:02:12,408 - BERTopic - Embedding - Completed ✓\n",
      "2024-12-18 14:02:12,408 - BERTopic - Dimensionality - Fitting the dimensionality reduction algorithm\n",
      "2024-12-18 14:02:12,442 - BERTopic - Dimensionality - Completed ✓\n",
      "2024-12-18 14:02:12,443 - BERTopic - Cluster - Start clustering the reduced embeddings\n",
      "2024-12-18 14:02:12,445 - BERTopic - Cluster - Completed ✓\n",
      "2024-12-18 14:02:12,446 - BERTopic - Representation - Extracting topics from clusters using representation models.\n",
      "2024-12-18 14:02:12,453 - BERTopic - Representation - Completed ✓\n",
      "2024-12-18 14:02:12,466 - BERTopic - Embedding - Transforming documents to embeddings.\n"
     ]
    },
    {
     "data": {
      "application/vnd.jupyter.widget-view+json": {
       "model_id": "82332ba5f2d443319e46486e78ff4019",
       "version_major": 2,
       "version_minor": 0
      },
      "text/plain": [
       "Batches:   0%|          | 0/1 [00:00<?, ?it/s]"
      ]
     },
     "metadata": {},
     "output_type": "display_data"
    },
    {
     "name": "stderr",
     "output_type": "stream",
     "text": [
      "2024-12-18 14:02:14,947 - BERTopic - Embedding - Completed ✓\n",
      "2024-12-18 14:02:14,947 - BERTopic - Dimensionality - Fitting the dimensionality reduction algorithm\n",
      "2024-12-18 14:02:15,004 - BERTopic - Dimensionality - Completed ✓\n",
      "2024-12-18 14:02:15,005 - BERTopic - Cluster - Start clustering the reduced embeddings\n",
      "2024-12-18 14:02:15,008 - BERTopic - Cluster - Completed ✓\n",
      "2024-12-18 14:02:15,010 - BERTopic - Representation - Extracting topics from clusters using representation models.\n",
      "2024-12-18 14:02:15,022 - BERTopic - Representation - Completed ✓\n",
      "2024-12-18 14:02:15,039 - BERTopic - Embedding - Transforming documents to embeddings.\n"
     ]
    },
    {
     "data": {
      "application/vnd.jupyter.widget-view+json": {
       "model_id": "d8dec79960f24d868d206fe34d2a1de0",
       "version_major": 2,
       "version_minor": 0
      },
      "text/plain": [
       "Batches:   0%|          | 0/1 [00:00<?, ?it/s]"
      ]
     },
     "metadata": {},
     "output_type": "display_data"
    },
    {
     "name": "stderr",
     "output_type": "stream",
     "text": [
      "2024-12-18 14:02:17,377 - BERTopic - Embedding - Completed ✓\n",
      "2024-12-18 14:02:17,377 - BERTopic - Dimensionality - Fitting the dimensionality reduction algorithm\n",
      "2024-12-18 14:02:17,440 - BERTopic - Dimensionality - Completed ✓\n",
      "2024-12-18 14:02:17,441 - BERTopic - Cluster - Start clustering the reduced embeddings\n",
      "2024-12-18 14:02:17,444 - BERTopic - Cluster - Completed ✓\n",
      "2024-12-18 14:02:17,447 - BERTopic - Representation - Extracting topics from clusters using representation models.\n",
      "2024-12-18 14:02:17,452 - BERTopic - Representation - Completed ✓\n",
      "2024-12-18 14:02:17,475 - BERTopic - Embedding - Transforming documents to embeddings.\n"
     ]
    },
    {
     "data": {
      "application/vnd.jupyter.widget-view+json": {
       "model_id": "93d85618153b4a22a67fa77b7827d7aa",
       "version_major": 2,
       "version_minor": 0
      },
      "text/plain": [
       "Batches:   0%|          | 0/1 [00:00<?, ?it/s]"
      ]
     },
     "metadata": {},
     "output_type": "display_data"
    },
    {
     "name": "stderr",
     "output_type": "stream",
     "text": [
      "2024-12-18 14:02:20,848 - BERTopic - Embedding - Completed ✓\n",
      "2024-12-18 14:02:20,848 - BERTopic - Dimensionality - Fitting the dimensionality reduction algorithm\n",
      "2024-12-18 14:02:20,882 - BERTopic - Dimensionality - Completed ✓\n",
      "2024-12-18 14:02:20,882 - BERTopic - Cluster - Start clustering the reduced embeddings\n",
      "2024-12-18 14:02:20,884 - BERTopic - Cluster - Completed ✓\n",
      "2024-12-18 14:02:20,886 - BERTopic - Representation - Extracting topics from clusters using representation models.\n",
      "2024-12-18 14:02:20,894 - BERTopic - Representation - Completed ✓\n",
      "2024-12-18 14:02:20,904 - BERTopic - Embedding - Transforming documents to embeddings.\n"
     ]
    },
    {
     "data": {
      "application/vnd.jupyter.widget-view+json": {
       "model_id": "75536a0a81fc42799fa61bbcb5bb3ba9",
       "version_major": 2,
       "version_minor": 0
      },
      "text/plain": [
       "Batches:   0%|          | 0/1 [00:00<?, ?it/s]"
      ]
     },
     "metadata": {},
     "output_type": "display_data"
    },
    {
     "name": "stderr",
     "output_type": "stream",
     "text": [
      "2024-12-18 14:02:24,597 - BERTopic - Embedding - Completed ✓\n",
      "2024-12-18 14:02:24,598 - BERTopic - Dimensionality - Fitting the dimensionality reduction algorithm\n",
      "2024-12-18 14:02:24,672 - BERTopic - Dimensionality - Completed ✓\n",
      "2024-12-18 14:02:24,673 - BERTopic - Cluster - Start clustering the reduced embeddings\n",
      "2024-12-18 14:02:24,677 - BERTopic - Cluster - Completed ✓\n",
      "2024-12-18 14:02:24,679 - BERTopic - Representation - Extracting topics from clusters using representation models.\n",
      "2024-12-18 14:02:24,686 - BERTopic - Representation - Completed ✓\n",
      "2024-12-18 14:02:24,701 - BERTopic - Embedding - Transforming documents to embeddings.\n"
     ]
    },
    {
     "data": {
      "application/vnd.jupyter.widget-view+json": {
       "model_id": "118899a425744bc9911c32291aeb5d9d",
       "version_major": 2,
       "version_minor": 0
      },
      "text/plain": [
       "Batches:   0%|          | 0/1 [00:00<?, ?it/s]"
      ]
     },
     "metadata": {},
     "output_type": "display_data"
    },
    {
     "name": "stderr",
     "output_type": "stream",
     "text": [
      "2024-12-18 14:02:28,704 - BERTopic - Embedding - Completed ✓\n",
      "2024-12-18 14:02:28,705 - BERTopic - Dimensionality - Fitting the dimensionality reduction algorithm\n",
      "2024-12-18 14:02:28,760 - BERTopic - Dimensionality - Completed ✓\n",
      "2024-12-18 14:02:28,760 - BERTopic - Cluster - Start clustering the reduced embeddings\n",
      "2024-12-18 14:02:28,764 - BERTopic - Cluster - Completed ✓\n",
      "2024-12-18 14:02:28,765 - BERTopic - Representation - Extracting topics from clusters using representation models.\n",
      "2024-12-18 14:02:28,779 - BERTopic - Representation - Completed ✓\n",
      "2024-12-18 14:02:28,804 - BERTopic - Embedding - Transforming documents to embeddings.\n"
     ]
    },
    {
     "data": {
      "application/vnd.jupyter.widget-view+json": {
       "model_id": "ea02c929741a40a28279d1389f4c01c0",
       "version_major": 2,
       "version_minor": 0
      },
      "text/plain": [
       "Batches:   0%|          | 0/1 [00:00<?, ?it/s]"
      ]
     },
     "metadata": {},
     "output_type": "display_data"
    },
    {
     "name": "stderr",
     "output_type": "stream",
     "text": [
      "2024-12-18 14:02:31,118 - BERTopic - Embedding - Completed ✓\n",
      "2024-12-18 14:02:31,119 - BERTopic - Dimensionality - Fitting the dimensionality reduction algorithm\n",
      "2024-12-18 14:02:31,169 - BERTopic - Dimensionality - Completed ✓\n",
      "2024-12-18 14:02:31,170 - BERTopic - Cluster - Start clustering the reduced embeddings\n",
      "2024-12-18 14:02:31,173 - BERTopic - Cluster - Completed ✓\n",
      "2024-12-18 14:02:31,175 - BERTopic - Representation - Extracting topics from clusters using representation models.\n",
      "2024-12-18 14:02:31,205 - BERTopic - Representation - Completed ✓\n",
      "2024-12-18 14:02:31,215 - BERTopic - Embedding - Transforming documents to embeddings.\n"
     ]
    },
    {
     "data": {
      "application/vnd.jupyter.widget-view+json": {
       "model_id": "d7fbc0bf37a545889d780a956fcac4c5",
       "version_major": 2,
       "version_minor": 0
      },
      "text/plain": [
       "Batches:   0%|          | 0/1 [00:00<?, ?it/s]"
      ]
     },
     "metadata": {},
     "output_type": "display_data"
    },
    {
     "name": "stderr",
     "output_type": "stream",
     "text": [
      "2024-12-18 14:02:33,333 - BERTopic - Embedding - Completed ✓\n",
      "2024-12-18 14:02:33,333 - BERTopic - Dimensionality - Fitting the dimensionality reduction algorithm\n",
      "2024-12-18 14:02:33,377 - BERTopic - Dimensionality - Completed ✓\n",
      "2024-12-18 14:02:33,377 - BERTopic - Cluster - Start clustering the reduced embeddings\n",
      "2024-12-18 14:02:33,380 - BERTopic - Cluster - Completed ✓\n",
      "2024-12-18 14:02:33,381 - BERTopic - Representation - Extracting topics from clusters using representation models.\n",
      "2024-12-18 14:02:33,394 - BERTopic - Representation - Completed ✓\n",
      "2024-12-18 14:02:33,404 - BERTopic - Embedding - Transforming documents to embeddings.\n"
     ]
    },
    {
     "data": {
      "application/vnd.jupyter.widget-view+json": {
       "model_id": "3091626ed63f441baaed180012f44154",
       "version_major": 2,
       "version_minor": 0
      },
      "text/plain": [
       "Batches:   0%|          | 0/1 [00:00<?, ?it/s]"
      ]
     },
     "metadata": {},
     "output_type": "display_data"
    },
    {
     "name": "stderr",
     "output_type": "stream",
     "text": [
      "2024-12-18 14:02:35,490 - BERTopic - Embedding - Completed ✓\n",
      "2024-12-18 14:02:35,490 - BERTopic - Dimensionality - Fitting the dimensionality reduction algorithm\n",
      "2024-12-18 14:02:35,529 - BERTopic - Dimensionality - Completed ✓\n",
      "2024-12-18 14:02:35,529 - BERTopic - Cluster - Start clustering the reduced embeddings\n",
      "2024-12-18 14:02:35,532 - BERTopic - Cluster - Completed ✓\n",
      "2024-12-18 14:02:35,533 - BERTopic - Representation - Extracting topics from clusters using representation models.\n",
      "2024-12-18 14:02:35,545 - BERTopic - Representation - Completed ✓\n",
      "2024-12-18 14:02:35,552 - BERTopic - Embedding - Transforming documents to embeddings.\n"
     ]
    },
    {
     "data": {
      "application/vnd.jupyter.widget-view+json": {
       "model_id": "21d95b43f77144b98325df08e9b80346",
       "version_major": 2,
       "version_minor": 0
      },
      "text/plain": [
       "Batches:   0%|          | 0/1 [00:00<?, ?it/s]"
      ]
     },
     "metadata": {},
     "output_type": "display_data"
    },
    {
     "name": "stderr",
     "output_type": "stream",
     "text": [
      "2024-12-18 14:02:37,698 - BERTopic - Embedding - Completed ✓\n",
      "2024-12-18 14:02:37,698 - BERTopic - Dimensionality - Fitting the dimensionality reduction algorithm\n",
      "2024-12-18 14:02:37,752 - BERTopic - Dimensionality - Completed ✓\n",
      "2024-12-18 14:02:37,753 - BERTopic - Cluster - Start clustering the reduced embeddings\n",
      "2024-12-18 14:02:37,755 - BERTopic - Cluster - Completed ✓\n",
      "2024-12-18 14:02:37,756 - BERTopic - Representation - Extracting topics from clusters using representation models.\n",
      "2024-12-18 14:02:37,762 - BERTopic - Representation - Completed ✓\n",
      "2024-12-18 14:02:37,773 - BERTopic - Embedding - Transforming documents to embeddings.\n"
     ]
    },
    {
     "data": {
      "application/vnd.jupyter.widget-view+json": {
       "model_id": "89ad65f8642749858704d7412e672df0",
       "version_major": 2,
       "version_minor": 0
      },
      "text/plain": [
       "Batches:   0%|          | 0/1 [00:00<?, ?it/s]"
      ]
     },
     "metadata": {},
     "output_type": "display_data"
    },
    {
     "name": "stderr",
     "output_type": "stream",
     "text": [
      "2024-12-18 14:02:40,235 - BERTopic - Embedding - Completed ✓\n",
      "2024-12-18 14:02:40,235 - BERTopic - Dimensionality - Fitting the dimensionality reduction algorithm\n",
      "2024-12-18 14:02:40,270 - BERTopic - Dimensionality - Completed ✓\n",
      "2024-12-18 14:02:40,270 - BERTopic - Cluster - Start clustering the reduced embeddings\n",
      "2024-12-18 14:02:40,272 - BERTopic - Cluster - Completed ✓\n",
      "2024-12-18 14:02:40,274 - BERTopic - Representation - Extracting topics from clusters using representation models.\n",
      "2024-12-18 14:02:40,285 - BERTopic - Representation - Completed ✓\n",
      "2024-12-18 14:02:40,297 - BERTopic - Embedding - Transforming documents to embeddings.\n"
     ]
    },
    {
     "data": {
      "application/vnd.jupyter.widget-view+json": {
       "model_id": "66fc1aa1a7434a8ba3891f442ee6ed81",
       "version_major": 2,
       "version_minor": 0
      },
      "text/plain": [
       "Batches:   0%|          | 0/1 [00:00<?, ?it/s]"
      ]
     },
     "metadata": {},
     "output_type": "display_data"
    },
    {
     "name": "stderr",
     "output_type": "stream",
     "text": [
      "2024-12-18 14:02:42,780 - BERTopic - Embedding - Completed ✓\n",
      "2024-12-18 14:02:42,780 - BERTopic - Dimensionality - Fitting the dimensionality reduction algorithm\n",
      "2024-12-18 14:02:42,827 - BERTopic - Dimensionality - Completed ✓\n",
      "2024-12-18 14:02:42,828 - BERTopic - Cluster - Start clustering the reduced embeddings\n",
      "2024-12-18 14:02:42,831 - BERTopic - Cluster - Completed ✓\n",
      "2024-12-18 14:02:42,832 - BERTopic - Representation - Extracting topics from clusters using representation models.\n",
      "2024-12-18 14:02:43,038 - BERTopic - Representation - Completed ✓\n",
      "2024-12-18 14:02:43,084 - BERTopic - Embedding - Transforming documents to embeddings.\n"
     ]
    },
    {
     "data": {
      "application/vnd.jupyter.widget-view+json": {
       "model_id": "326a7f458a804a18ad2992f8ec4e481f",
       "version_major": 2,
       "version_minor": 0
      },
      "text/plain": [
       "Batches:   0%|          | 0/2 [00:00<?, ?it/s]"
      ]
     },
     "metadata": {},
     "output_type": "display_data"
    },
    {
     "name": "stderr",
     "output_type": "stream",
     "text": [
      "2024-12-18 14:02:47,252 - BERTopic - Embedding - Completed ✓\n",
      "2024-12-18 14:02:47,253 - BERTopic - Dimensionality - Fitting the dimensionality reduction algorithm\n",
      "2024-12-18 14:02:47,302 - BERTopic - Dimensionality - Completed ✓\n",
      "2024-12-18 14:02:47,303 - BERTopic - Cluster - Start clustering the reduced embeddings\n",
      "2024-12-18 14:02:47,306 - BERTopic - Cluster - Completed ✓\n",
      "2024-12-18 14:02:47,308 - BERTopic - Representation - Extracting topics from clusters using representation models.\n",
      "2024-12-18 14:02:47,325 - BERTopic - Representation - Completed ✓\n",
      "2024-12-18 14:02:47,336 - BERTopic - Embedding - Transforming documents to embeddings.\n"
     ]
    },
    {
     "data": {
      "application/vnd.jupyter.widget-view+json": {
       "model_id": "cd70eac62c364a84a06698f9de4b1ad4",
       "version_major": 2,
       "version_minor": 0
      },
      "text/plain": [
       "Batches:   0%|          | 0/2 [00:00<?, ?it/s]"
      ]
     },
     "metadata": {},
     "output_type": "display_data"
    },
    {
     "name": "stderr",
     "output_type": "stream",
     "text": [
      "2024-12-18 14:02:50,200 - BERTopic - Embedding - Completed ✓\n",
      "2024-12-18 14:02:50,200 - BERTopic - Dimensionality - Fitting the dimensionality reduction algorithm\n",
      "2024-12-18 14:02:50,269 - BERTopic - Dimensionality - Completed ✓\n",
      "2024-12-18 14:02:50,269 - BERTopic - Cluster - Start clustering the reduced embeddings\n",
      "2024-12-18 14:02:50,272 - BERTopic - Cluster - Completed ✓\n",
      "2024-12-18 14:02:50,275 - BERTopic - Representation - Extracting topics from clusters using representation models.\n",
      "2024-12-18 14:02:50,294 - BERTopic - Representation - Completed ✓\n",
      "2024-12-18 14:02:50,307 - BERTopic - Embedding - Transforming documents to embeddings.\n"
     ]
    },
    {
     "data": {
      "application/vnd.jupyter.widget-view+json": {
       "model_id": "2d426151470c4d58a16bae25555aa846",
       "version_major": 2,
       "version_minor": 0
      },
      "text/plain": [
       "Batches:   0%|          | 0/2 [00:00<?, ?it/s]"
      ]
     },
     "metadata": {},
     "output_type": "display_data"
    },
    {
     "name": "stderr",
     "output_type": "stream",
     "text": [
      "2024-12-18 14:02:53,413 - BERTopic - Embedding - Completed ✓\n",
      "2024-12-18 14:02:53,413 - BERTopic - Dimensionality - Fitting the dimensionality reduction algorithm\n",
      "2024-12-18 14:02:53,451 - BERTopic - Dimensionality - Completed ✓\n",
      "2024-12-18 14:02:53,452 - BERTopic - Cluster - Start clustering the reduced embeddings\n",
      "2024-12-18 14:02:53,458 - BERTopic - Cluster - Completed ✓\n",
      "2024-12-18 14:02:53,459 - BERTopic - Representation - Extracting topics from clusters using representation models.\n",
      "2024-12-18 14:02:53,471 - BERTopic - Representation - Completed ✓\n",
      "2024-12-18 14:02:53,480 - BERTopic - Embedding - Transforming documents to embeddings.\n"
     ]
    },
    {
     "data": {
      "application/vnd.jupyter.widget-view+json": {
       "model_id": "2eefbde1268b434a9e8a66343c54fa91",
       "version_major": 2,
       "version_minor": 0
      },
      "text/plain": [
       "Batches:   0%|          | 0/2 [00:00<?, ?it/s]"
      ]
     },
     "metadata": {},
     "output_type": "display_data"
    },
    {
     "name": "stderr",
     "output_type": "stream",
     "text": [
      "2024-12-18 14:02:55,863 - BERTopic - Embedding - Completed ✓\n",
      "2024-12-18 14:02:55,863 - BERTopic - Dimensionality - Fitting the dimensionality reduction algorithm\n",
      "2024-12-18 14:02:55,913 - BERTopic - Dimensionality - Completed ✓\n",
      "2024-12-18 14:02:55,913 - BERTopic - Cluster - Start clustering the reduced embeddings\n",
      "2024-12-18 14:02:55,918 - BERTopic - Cluster - Completed ✓\n",
      "2024-12-18 14:02:55,919 - BERTopic - Representation - Extracting topics from clusters using representation models.\n",
      "2024-12-18 14:02:55,934 - BERTopic - Representation - Completed ✓\n",
      "2024-12-18 14:02:55,949 - BERTopic - Embedding - Transforming documents to embeddings.\n"
     ]
    },
    {
     "data": {
      "application/vnd.jupyter.widget-view+json": {
       "model_id": "0b6b4d58fc7543a49a23f16cd0166471",
       "version_major": 2,
       "version_minor": 0
      },
      "text/plain": [
       "Batches:   0%|          | 0/2 [00:00<?, ?it/s]"
      ]
     },
     "metadata": {},
     "output_type": "display_data"
    },
    {
     "name": "stderr",
     "output_type": "stream",
     "text": [
      "2024-12-18 14:02:58,508 - BERTopic - Embedding - Completed ✓\n",
      "2024-12-18 14:02:58,509 - BERTopic - Dimensionality - Fitting the dimensionality reduction algorithm\n",
      "2024-12-18 14:02:58,550 - BERTopic - Dimensionality - Completed ✓\n",
      "2024-12-18 14:02:58,551 - BERTopic - Cluster - Start clustering the reduced embeddings\n",
      "2024-12-18 14:02:58,554 - BERTopic - Cluster - Completed ✓\n",
      "2024-12-18 14:02:58,555 - BERTopic - Representation - Extracting topics from clusters using representation models.\n",
      "2024-12-18 14:02:58,571 - BERTopic - Representation - Completed ✓\n",
      "2024-12-18 14:02:58,580 - BERTopic - Embedding - Transforming documents to embeddings.\n"
     ]
    },
    {
     "data": {
      "application/vnd.jupyter.widget-view+json": {
       "model_id": "c7431520d47f49dfa7a17690d2953603",
       "version_major": 2,
       "version_minor": 0
      },
      "text/plain": [
       "Batches:   0%|          | 0/2 [00:00<?, ?it/s]"
      ]
     },
     "metadata": {},
     "output_type": "display_data"
    },
    {
     "name": "stderr",
     "output_type": "stream",
     "text": [
      "2024-12-18 14:03:01,136 - BERTopic - Embedding - Completed ✓\n",
      "2024-12-18 14:03:01,136 - BERTopic - Dimensionality - Fitting the dimensionality reduction algorithm\n",
      "2024-12-18 14:03:01,178 - BERTopic - Dimensionality - Completed ✓\n",
      "2024-12-18 14:03:01,178 - BERTopic - Cluster - Start clustering the reduced embeddings\n",
      "2024-12-18 14:03:01,181 - BERTopic - Cluster - Completed ✓\n",
      "2024-12-18 14:03:01,182 - BERTopic - Representation - Extracting topics from clusters using representation models.\n",
      "2024-12-18 14:03:01,198 - BERTopic - Representation - Completed ✓\n",
      "2024-12-18 14:03:01,213 - BERTopic - Embedding - Transforming documents to embeddings.\n"
     ]
    },
    {
     "data": {
      "application/vnd.jupyter.widget-view+json": {
       "model_id": "4885be4e9d91458a8794ed85d93687d5",
       "version_major": 2,
       "version_minor": 0
      },
      "text/plain": [
       "Batches:   0%|          | 0/2 [00:00<?, ?it/s]"
      ]
     },
     "metadata": {},
     "output_type": "display_data"
    },
    {
     "name": "stderr",
     "output_type": "stream",
     "text": [
      "2024-12-18 14:03:03,525 - BERTopic - Embedding - Completed ✓\n",
      "2024-12-18 14:03:03,526 - BERTopic - Dimensionality - Fitting the dimensionality reduction algorithm\n",
      "2024-12-18 14:03:03,615 - BERTopic - Dimensionality - Completed ✓\n",
      "2024-12-18 14:03:03,615 - BERTopic - Cluster - Start clustering the reduced embeddings\n",
      "2024-12-18 14:03:03,619 - BERTopic - Cluster - Completed ✓\n",
      "2024-12-18 14:03:03,620 - BERTopic - Representation - Extracting topics from clusters using representation models.\n",
      "2024-12-18 14:03:03,633 - BERTopic - Representation - Completed ✓\n",
      "2024-12-18 14:03:03,641 - BERTopic - Embedding - Transforming documents to embeddings.\n"
     ]
    },
    {
     "data": {
      "application/vnd.jupyter.widget-view+json": {
       "model_id": "6bc20505ce7e4e18983f75def5a63bbe",
       "version_major": 2,
       "version_minor": 0
      },
      "text/plain": [
       "Batches:   0%|          | 0/2 [00:00<?, ?it/s]"
      ]
     },
     "metadata": {},
     "output_type": "display_data"
    },
    {
     "name": "stderr",
     "output_type": "stream",
     "text": [
      "2024-12-18 14:03:06,097 - BERTopic - Embedding - Completed ✓\n",
      "2024-12-18 14:03:06,097 - BERTopic - Dimensionality - Fitting the dimensionality reduction algorithm\n",
      "2024-12-18 14:03:06,146 - BERTopic - Dimensionality - Completed ✓\n",
      "2024-12-18 14:03:06,147 - BERTopic - Cluster - Start clustering the reduced embeddings\n",
      "2024-12-18 14:03:06,151 - BERTopic - Cluster - Completed ✓\n",
      "2024-12-18 14:03:06,152 - BERTopic - Representation - Extracting topics from clusters using representation models.\n",
      "2024-12-18 14:03:06,159 - BERTopic - Representation - Completed ✓\n",
      "2024-12-18 14:03:06,168 - BERTopic - Embedding - Transforming documents to embeddings.\n"
     ]
    },
    {
     "data": {
      "application/vnd.jupyter.widget-view+json": {
       "model_id": "f78a0ecab862499c8e479fab13991a15",
       "version_major": 2,
       "version_minor": 0
      },
      "text/plain": [
       "Batches:   0%|          | 0/2 [00:00<?, ?it/s]"
      ]
     },
     "metadata": {},
     "output_type": "display_data"
    },
    {
     "name": "stderr",
     "output_type": "stream",
     "text": [
      "2024-12-18 14:03:08,279 - BERTopic - Embedding - Completed ✓\n",
      "2024-12-18 14:03:08,279 - BERTopic - Dimensionality - Fitting the dimensionality reduction algorithm\n",
      "2024-12-18 14:03:08,318 - BERTopic - Dimensionality - Completed ✓\n",
      "2024-12-18 14:03:08,318 - BERTopic - Cluster - Start clustering the reduced embeddings\n",
      "2024-12-18 14:03:08,322 - BERTopic - Cluster - Completed ✓\n",
      "2024-12-18 14:03:08,324 - BERTopic - Representation - Extracting topics from clusters using representation models.\n",
      "2024-12-18 14:03:08,332 - BERTopic - Representation - Completed ✓\n",
      "2024-12-18 14:03:08,340 - BERTopic - Embedding - Transforming documents to embeddings.\n"
     ]
    },
    {
     "data": {
      "application/vnd.jupyter.widget-view+json": {
       "model_id": "bf263bce66b34f1887ee8bd051e13384",
       "version_major": 2,
       "version_minor": 0
      },
      "text/plain": [
       "Batches:   0%|          | 0/2 [00:00<?, ?it/s]"
      ]
     },
     "metadata": {},
     "output_type": "display_data"
    },
    {
     "name": "stderr",
     "output_type": "stream",
     "text": [
      "2024-12-18 14:03:10,439 - BERTopic - Embedding - Completed ✓\n",
      "2024-12-18 14:03:10,440 - BERTopic - Dimensionality - Fitting the dimensionality reduction algorithm\n",
      "2024-12-18 14:03:10,496 - BERTopic - Dimensionality - Completed ✓\n",
      "2024-12-18 14:03:10,497 - BERTopic - Cluster - Start clustering the reduced embeddings\n",
      "2024-12-18 14:03:10,501 - BERTopic - Cluster - Completed ✓\n",
      "2024-12-18 14:03:10,503 - BERTopic - Representation - Extracting topics from clusters using representation models.\n",
      "2024-12-18 14:03:10,510 - BERTopic - Representation - Completed ✓\n",
      "2024-12-18 14:03:10,523 - BERTopic - Embedding - Transforming documents to embeddings.\n"
     ]
    },
    {
     "data": {
      "application/vnd.jupyter.widget-view+json": {
       "model_id": "da05c3d8d8eb444b86d7de1be1924b6c",
       "version_major": 2,
       "version_minor": 0
      },
      "text/plain": [
       "Batches:   0%|          | 0/2 [00:00<?, ?it/s]"
      ]
     },
     "metadata": {},
     "output_type": "display_data"
    },
    {
     "name": "stderr",
     "output_type": "stream",
     "text": [
      "2024-12-18 14:03:13,445 - BERTopic - Embedding - Completed ✓\n",
      "2024-12-18 14:03:13,446 - BERTopic - Dimensionality - Fitting the dimensionality reduction algorithm\n",
      "2024-12-18 14:03:13,489 - BERTopic - Dimensionality - Completed ✓\n",
      "2024-12-18 14:03:13,490 - BERTopic - Cluster - Start clustering the reduced embeddings\n",
      "2024-12-18 14:03:13,493 - BERTopic - Cluster - Completed ✓\n",
      "2024-12-18 14:03:13,494 - BERTopic - Representation - Extracting topics from clusters using representation models.\n",
      "2024-12-18 14:03:13,510 - BERTopic - Representation - Completed ✓\n",
      "2024-12-18 14:03:13,519 - BERTopic - Embedding - Transforming documents to embeddings.\n"
     ]
    },
    {
     "data": {
      "application/vnd.jupyter.widget-view+json": {
       "model_id": "108e67d978824322ba09083c5b1c7378",
       "version_major": 2,
       "version_minor": 0
      },
      "text/plain": [
       "Batches:   0%|          | 0/2 [00:00<?, ?it/s]"
      ]
     },
     "metadata": {},
     "output_type": "display_data"
    },
    {
     "name": "stderr",
     "output_type": "stream",
     "text": [
      "2024-12-18 14:03:15,748 - BERTopic - Embedding - Completed ✓\n",
      "2024-12-18 14:03:15,748 - BERTopic - Dimensionality - Fitting the dimensionality reduction algorithm\n",
      "2024-12-18 14:03:15,815 - BERTopic - Dimensionality - Completed ✓\n",
      "2024-12-18 14:03:15,816 - BERTopic - Cluster - Start clustering the reduced embeddings\n",
      "2024-12-18 14:03:15,820 - BERTopic - Cluster - Completed ✓\n",
      "2024-12-18 14:03:15,822 - BERTopic - Representation - Extracting topics from clusters using representation models.\n",
      "2024-12-18 14:03:15,838 - BERTopic - Representation - Completed ✓\n",
      "2024-12-18 14:03:15,848 - BERTopic - Embedding - Transforming documents to embeddings.\n"
     ]
    },
    {
     "data": {
      "application/vnd.jupyter.widget-view+json": {
       "model_id": "d41b96903eb4495c92404f6f275d63a0",
       "version_major": 2,
       "version_minor": 0
      },
      "text/plain": [
       "Batches:   0%|          | 0/2 [00:00<?, ?it/s]"
      ]
     },
     "metadata": {},
     "output_type": "display_data"
    },
    {
     "name": "stderr",
     "output_type": "stream",
     "text": [
      "2024-12-18 14:03:19,248 - BERTopic - Embedding - Completed ✓\n",
      "2024-12-18 14:03:19,249 - BERTopic - Dimensionality - Fitting the dimensionality reduction algorithm\n",
      "2024-12-18 14:03:19,317 - BERTopic - Dimensionality - Completed ✓\n",
      "2024-12-18 14:03:19,317 - BERTopic - Cluster - Start clustering the reduced embeddings\n",
      "2024-12-18 14:03:19,322 - BERTopic - Cluster - Completed ✓\n",
      "2024-12-18 14:03:19,324 - BERTopic - Representation - Extracting topics from clusters using representation models.\n",
      "2024-12-18 14:03:19,337 - BERTopic - Representation - Completed ✓\n",
      "2024-12-18 14:03:19,348 - BERTopic - Embedding - Transforming documents to embeddings.\n"
     ]
    },
    {
     "data": {
      "application/vnd.jupyter.widget-view+json": {
       "model_id": "d195557f4def4e3a832ba826e37dd0a2",
       "version_major": 2,
       "version_minor": 0
      },
      "text/plain": [
       "Batches:   0%|          | 0/2 [00:00<?, ?it/s]"
      ]
     },
     "metadata": {},
     "output_type": "display_data"
    },
    {
     "name": "stderr",
     "output_type": "stream",
     "text": [
      "2024-12-18 14:03:22,009 - BERTopic - Embedding - Completed ✓\n",
      "2024-12-18 14:03:22,009 - BERTopic - Dimensionality - Fitting the dimensionality reduction algorithm\n",
      "2024-12-18 14:03:22,052 - BERTopic - Dimensionality - Completed ✓\n",
      "2024-12-18 14:03:22,053 - BERTopic - Cluster - Start clustering the reduced embeddings\n",
      "2024-12-18 14:03:22,056 - BERTopic - Cluster - Completed ✓\n",
      "2024-12-18 14:03:22,057 - BERTopic - Representation - Extracting topics from clusters using representation models.\n",
      "2024-12-18 14:03:22,067 - BERTopic - Representation - Completed ✓\n",
      "2024-12-18 14:03:22,075 - BERTopic - Embedding - Transforming documents to embeddings.\n"
     ]
    },
    {
     "data": {
      "application/vnd.jupyter.widget-view+json": {
       "model_id": "ac0f6253006b4cc8b78f94d331348b6d",
       "version_major": 2,
       "version_minor": 0
      },
      "text/plain": [
       "Batches:   0%|          | 0/2 [00:00<?, ?it/s]"
      ]
     },
     "metadata": {},
     "output_type": "display_data"
    },
    {
     "name": "stderr",
     "output_type": "stream",
     "text": [
      "2024-12-18 14:03:24,792 - BERTopic - Embedding - Completed ✓\n",
      "2024-12-18 14:03:24,792 - BERTopic - Dimensionality - Fitting the dimensionality reduction algorithm\n",
      "2024-12-18 14:03:24,835 - BERTopic - Dimensionality - Completed ✓\n",
      "2024-12-18 14:03:24,836 - BERTopic - Cluster - Start clustering the reduced embeddings\n",
      "2024-12-18 14:03:24,839 - BERTopic - Cluster - Completed ✓\n",
      "2024-12-18 14:03:24,840 - BERTopic - Representation - Extracting topics from clusters using representation models.\n",
      "2024-12-18 14:03:24,850 - BERTopic - Representation - Completed ✓\n",
      "2024-12-18 14:03:24,862 - BERTopic - Embedding - Transforming documents to embeddings.\n"
     ]
    },
    {
     "data": {
      "application/vnd.jupyter.widget-view+json": {
       "model_id": "7e6e2a2dfa1d462eb8a5a6fc9e31f316",
       "version_major": 2,
       "version_minor": 0
      },
      "text/plain": [
       "Batches:   0%|          | 0/2 [00:00<?, ?it/s]"
      ]
     },
     "metadata": {},
     "output_type": "display_data"
    },
    {
     "name": "stderr",
     "output_type": "stream",
     "text": [
      "2024-12-18 14:03:27,559 - BERTopic - Embedding - Completed ✓\n",
      "2024-12-18 14:03:27,559 - BERTopic - Dimensionality - Fitting the dimensionality reduction algorithm\n",
      "2024-12-18 14:03:27,603 - BERTopic - Dimensionality - Completed ✓\n",
      "2024-12-18 14:03:27,603 - BERTopic - Cluster - Start clustering the reduced embeddings\n",
      "2024-12-18 14:03:27,608 - BERTopic - Cluster - Completed ✓\n",
      "2024-12-18 14:03:27,610 - BERTopic - Representation - Extracting topics from clusters using representation models.\n",
      "2024-12-18 14:03:27,624 - BERTopic - Representation - Completed ✓\n",
      "2024-12-18 14:03:27,634 - BERTopic - Embedding - Transforming documents to embeddings.\n"
     ]
    },
    {
     "data": {
      "application/vnd.jupyter.widget-view+json": {
       "model_id": "5d067b3af4e441e0bc718c337501ee0b",
       "version_major": 2,
       "version_minor": 0
      },
      "text/plain": [
       "Batches:   0%|          | 0/2 [00:00<?, ?it/s]"
      ]
     },
     "metadata": {},
     "output_type": "display_data"
    },
    {
     "name": "stderr",
     "output_type": "stream",
     "text": [
      "2024-12-18 14:03:29,919 - BERTopic - Embedding - Completed ✓\n",
      "2024-12-18 14:03:29,919 - BERTopic - Dimensionality - Fitting the dimensionality reduction algorithm\n",
      "2024-12-18 14:03:29,963 - BERTopic - Dimensionality - Completed ✓\n",
      "2024-12-18 14:03:29,963 - BERTopic - Cluster - Start clustering the reduced embeddings\n",
      "2024-12-18 14:03:29,968 - BERTopic - Cluster - Completed ✓\n",
      "2024-12-18 14:03:29,969 - BERTopic - Representation - Extracting topics from clusters using representation models.\n",
      "2024-12-18 14:03:29,977 - BERTopic - Representation - Completed ✓\n",
      "2024-12-18 14:03:29,986 - BERTopic - Embedding - Transforming documents to embeddings.\n"
     ]
    },
    {
     "data": {
      "application/vnd.jupyter.widget-view+json": {
       "model_id": "426ebdddccfc4cb69f4d2979a8aab3af",
       "version_major": 2,
       "version_minor": 0
      },
      "text/plain": [
       "Batches:   0%|          | 0/2 [00:00<?, ?it/s]"
      ]
     },
     "metadata": {},
     "output_type": "display_data"
    },
    {
     "name": "stderr",
     "output_type": "stream",
     "text": [
      "2024-12-18 14:03:32,245 - BERTopic - Embedding - Completed ✓\n",
      "2024-12-18 14:03:32,246 - BERTopic - Dimensionality - Fitting the dimensionality reduction algorithm\n",
      "2024-12-18 14:03:32,297 - BERTopic - Dimensionality - Completed ✓\n",
      "2024-12-18 14:03:32,298 - BERTopic - Cluster - Start clustering the reduced embeddings\n",
      "2024-12-18 14:03:32,301 - BERTopic - Cluster - Completed ✓\n",
      "2024-12-18 14:03:32,302 - BERTopic - Representation - Extracting topics from clusters using representation models.\n",
      "2024-12-18 14:03:32,312 - BERTopic - Representation - Completed ✓\n",
      "2024-12-18 14:03:32,320 - BERTopic - Embedding - Transforming documents to embeddings.\n"
     ]
    },
    {
     "data": {
      "application/vnd.jupyter.widget-view+json": {
       "model_id": "c7646ee764264a4f93ae19353b851ce8",
       "version_major": 2,
       "version_minor": 0
      },
      "text/plain": [
       "Batches:   0%|          | 0/2 [00:00<?, ?it/s]"
      ]
     },
     "metadata": {},
     "output_type": "display_data"
    },
    {
     "name": "stderr",
     "output_type": "stream",
     "text": [
      "2024-12-18 14:03:34,417 - BERTopic - Embedding - Completed ✓\n",
      "2024-12-18 14:03:34,417 - BERTopic - Dimensionality - Fitting the dimensionality reduction algorithm\n",
      "2024-12-18 14:03:34,460 - BERTopic - Dimensionality - Completed ✓\n",
      "2024-12-18 14:03:34,461 - BERTopic - Cluster - Start clustering the reduced embeddings\n",
      "2024-12-18 14:03:34,466 - BERTopic - Cluster - Completed ✓\n",
      "2024-12-18 14:03:34,467 - BERTopic - Representation - Extracting topics from clusters using representation models.\n",
      "2024-12-18 14:03:34,479 - BERTopic - Representation - Completed ✓\n",
      "2024-12-18 14:03:34,487 - BERTopic - Embedding - Transforming documents to embeddings.\n"
     ]
    },
    {
     "data": {
      "application/vnd.jupyter.widget-view+json": {
       "model_id": "20db4e4fa14241de910b73edff026a13",
       "version_major": 2,
       "version_minor": 0
      },
      "text/plain": [
       "Batches:   0%|          | 0/2 [00:00<?, ?it/s]"
      ]
     },
     "metadata": {},
     "output_type": "display_data"
    },
    {
     "name": "stderr",
     "output_type": "stream",
     "text": [
      "2024-12-18 14:03:36,986 - BERTopic - Embedding - Completed ✓\n",
      "2024-12-18 14:03:36,986 - BERTopic - Dimensionality - Fitting the dimensionality reduction algorithm\n",
      "2024-12-18 14:03:37,028 - BERTopic - Dimensionality - Completed ✓\n",
      "2024-12-18 14:03:37,029 - BERTopic - Cluster - Start clustering the reduced embeddings\n",
      "2024-12-18 14:03:37,033 - BERTopic - Cluster - Completed ✓\n",
      "2024-12-18 14:03:37,035 - BERTopic - Representation - Extracting topics from clusters using representation models.\n",
      "2024-12-18 14:03:37,042 - BERTopic - Representation - Completed ✓\n",
      "2024-12-18 14:03:37,049 - BERTopic - Embedding - Transforming documents to embeddings.\n"
     ]
    },
    {
     "data": {
      "application/vnd.jupyter.widget-view+json": {
       "model_id": "fe4f64aeebdb40359b9a7951959abc6d",
       "version_major": 2,
       "version_minor": 0
      },
      "text/plain": [
       "Batches:   0%|          | 0/2 [00:00<?, ?it/s]"
      ]
     },
     "metadata": {},
     "output_type": "display_data"
    },
    {
     "name": "stderr",
     "output_type": "stream",
     "text": [
      "2024-12-18 14:03:39,388 - BERTopic - Embedding - Completed ✓\n",
      "2024-12-18 14:03:39,388 - BERTopic - Dimensionality - Fitting the dimensionality reduction algorithm\n",
      "2024-12-18 14:03:39,453 - BERTopic - Dimensionality - Completed ✓\n",
      "2024-12-18 14:03:39,454 - BERTopic - Cluster - Start clustering the reduced embeddings\n",
      "2024-12-18 14:03:39,459 - BERTopic - Cluster - Completed ✓\n",
      "2024-12-18 14:03:39,460 - BERTopic - Representation - Extracting topics from clusters using representation models.\n",
      "2024-12-18 14:03:39,465 - BERTopic - Representation - Completed ✓\n",
      "2024-12-18 14:03:39,472 - BERTopic - Embedding - Transforming documents to embeddings.\n"
     ]
    },
    {
     "data": {
      "application/vnd.jupyter.widget-view+json": {
       "model_id": "277ef97d79b54ffc848a63ef3a11b369",
       "version_major": 2,
       "version_minor": 0
      },
      "text/plain": [
       "Batches:   0%|          | 0/2 [00:00<?, ?it/s]"
      ]
     },
     "metadata": {},
     "output_type": "display_data"
    },
    {
     "name": "stderr",
     "output_type": "stream",
     "text": [
      "2024-12-18 14:03:42,242 - BERTopic - Embedding - Completed ✓\n",
      "2024-12-18 14:03:42,243 - BERTopic - Dimensionality - Fitting the dimensionality reduction algorithm\n",
      "2024-12-18 14:03:42,311 - BERTopic - Dimensionality - Completed ✓\n",
      "2024-12-18 14:03:42,311 - BERTopic - Cluster - Start clustering the reduced embeddings\n",
      "2024-12-18 14:03:42,316 - BERTopic - Cluster - Completed ✓\n",
      "2024-12-18 14:03:42,318 - BERTopic - Representation - Extracting topics from clusters using representation models.\n",
      "2024-12-18 14:03:42,323 - BERTopic - Representation - Completed ✓\n",
      "2024-12-18 14:03:42,335 - BERTopic - Embedding - Transforming documents to embeddings.\n"
     ]
    },
    {
     "data": {
      "application/vnd.jupyter.widget-view+json": {
       "model_id": "5d0e2204bfcf41678855d79c07113439",
       "version_major": 2,
       "version_minor": 0
      },
      "text/plain": [
       "Batches:   0%|          | 0/2 [00:00<?, ?it/s]"
      ]
     },
     "metadata": {},
     "output_type": "display_data"
    },
    {
     "name": "stderr",
     "output_type": "stream",
     "text": [
      "2024-12-18 14:03:44,872 - BERTopic - Embedding - Completed ✓\n",
      "2024-12-18 14:03:44,873 - BERTopic - Dimensionality - Fitting the dimensionality reduction algorithm\n",
      "2024-12-18 14:03:44,918 - BERTopic - Dimensionality - Completed ✓\n",
      "2024-12-18 14:03:44,918 - BERTopic - Cluster - Start clustering the reduced embeddings\n",
      "2024-12-18 14:03:44,923 - BERTopic - Cluster - Completed ✓\n",
      "2024-12-18 14:03:44,924 - BERTopic - Representation - Extracting topics from clusters using representation models.\n",
      "2024-12-18 14:03:44,934 - BERTopic - Representation - Completed ✓\n",
      "2024-12-18 14:03:44,943 - BERTopic - Embedding - Transforming documents to embeddings.\n"
     ]
    },
    {
     "data": {
      "application/vnd.jupyter.widget-view+json": {
       "model_id": "d078c8c26e87443594a2ebea907a61d8",
       "version_major": 2,
       "version_minor": 0
      },
      "text/plain": [
       "Batches:   0%|          | 0/2 [00:00<?, ?it/s]"
      ]
     },
     "metadata": {},
     "output_type": "display_data"
    },
    {
     "name": "stderr",
     "output_type": "stream",
     "text": [
      "2024-12-18 14:03:47,343 - BERTopic - Embedding - Completed ✓\n",
      "2024-12-18 14:03:47,344 - BERTopic - Dimensionality - Fitting the dimensionality reduction algorithm\n",
      "2024-12-18 14:03:47,417 - BERTopic - Dimensionality - Completed ✓\n",
      "2024-12-18 14:03:47,418 - BERTopic - Cluster - Start clustering the reduced embeddings\n",
      "2024-12-18 14:03:47,423 - BERTopic - Cluster - Completed ✓\n",
      "2024-12-18 14:03:47,426 - BERTopic - Representation - Extracting topics from clusters using representation models.\n",
      "2024-12-18 14:03:47,447 - BERTopic - Representation - Completed ✓\n",
      "2024-12-18 14:03:47,464 - BERTopic - Embedding - Transforming documents to embeddings.\n"
     ]
    },
    {
     "data": {
      "application/vnd.jupyter.widget-view+json": {
       "model_id": "2a45631114ba4b2192cdcd9b65b9e4de",
       "version_major": 2,
       "version_minor": 0
      },
      "text/plain": [
       "Batches:   0%|          | 0/2 [00:00<?, ?it/s]"
      ]
     },
     "metadata": {},
     "output_type": "display_data"
    },
    {
     "name": "stderr",
     "output_type": "stream",
     "text": [
      "2024-12-18 14:03:51,038 - BERTopic - Embedding - Completed ✓\n",
      "2024-12-18 14:03:51,038 - BERTopic - Dimensionality - Fitting the dimensionality reduction algorithm\n",
      "2024-12-18 14:03:51,100 - BERTopic - Dimensionality - Completed ✓\n",
      "2024-12-18 14:03:51,100 - BERTopic - Cluster - Start clustering the reduced embeddings\n",
      "2024-12-18 14:03:51,107 - BERTopic - Cluster - Completed ✓\n",
      "2024-12-18 14:03:51,110 - BERTopic - Representation - Extracting topics from clusters using representation models.\n",
      "2024-12-18 14:03:51,127 - BERTopic - Representation - Completed ✓\n",
      "2024-12-18 14:03:51,149 - BERTopic - Embedding - Transforming documents to embeddings.\n"
     ]
    },
    {
     "data": {
      "application/vnd.jupyter.widget-view+json": {
       "model_id": "25e97463c0a44a20aced7d81898fe94a",
       "version_major": 2,
       "version_minor": 0
      },
      "text/plain": [
       "Batches:   0%|          | 0/2 [00:00<?, ?it/s]"
      ]
     },
     "metadata": {},
     "output_type": "display_data"
    },
    {
     "name": "stderr",
     "output_type": "stream",
     "text": [
      "2024-12-18 14:03:53,404 - BERTopic - Embedding - Completed ✓\n",
      "2024-12-18 14:03:53,404 - BERTopic - Dimensionality - Fitting the dimensionality reduction algorithm\n",
      "2024-12-18 14:03:53,479 - BERTopic - Dimensionality - Completed ✓\n",
      "2024-12-18 14:03:53,479 - BERTopic - Cluster - Start clustering the reduced embeddings\n",
      "2024-12-18 14:03:53,485 - BERTopic - Cluster - Completed ✓\n",
      "2024-12-18 14:03:53,486 - BERTopic - Representation - Extracting topics from clusters using representation models.\n",
      "2024-12-18 14:03:53,503 - BERTopic - Representation - Completed ✓\n",
      "2024-12-18 14:03:53,513 - BERTopic - Embedding - Transforming documents to embeddings.\n"
     ]
    },
    {
     "data": {
      "application/vnd.jupyter.widget-view+json": {
       "model_id": "9d2034ee4c2943d5bf2393b4d84e29c9",
       "version_major": 2,
       "version_minor": 0
      },
      "text/plain": [
       "Batches:   0%|          | 0/2 [00:00<?, ?it/s]"
      ]
     },
     "metadata": {},
     "output_type": "display_data"
    },
    {
     "name": "stderr",
     "output_type": "stream",
     "text": [
      "2024-12-18 14:03:56,944 - BERTopic - Embedding - Completed ✓\n",
      "2024-12-18 14:03:56,945 - BERTopic - Dimensionality - Fitting the dimensionality reduction algorithm\n",
      "2024-12-18 14:03:56,998 - BERTopic - Dimensionality - Completed ✓\n",
      "2024-12-18 14:03:56,999 - BERTopic - Cluster - Start clustering the reduced embeddings\n",
      "2024-12-18 14:03:57,005 - BERTopic - Cluster - Completed ✓\n",
      "2024-12-18 14:03:57,007 - BERTopic - Representation - Extracting topics from clusters using representation models.\n",
      "2024-12-18 14:03:57,017 - BERTopic - Representation - Completed ✓\n",
      "2024-12-18 14:03:57,028 - BERTopic - Embedding - Transforming documents to embeddings.\n"
     ]
    },
    {
     "data": {
      "application/vnd.jupyter.widget-view+json": {
       "model_id": "b16852b9be6d4d4d83cfa6dfdae4531e",
       "version_major": 2,
       "version_minor": 0
      },
      "text/plain": [
       "Batches:   0%|          | 0/2 [00:00<?, ?it/s]"
      ]
     },
     "metadata": {},
     "output_type": "display_data"
    },
    {
     "name": "stderr",
     "output_type": "stream",
     "text": [
      "2024-12-18 14:03:59,314 - BERTopic - Embedding - Completed ✓\n",
      "2024-12-18 14:03:59,315 - BERTopic - Dimensionality - Fitting the dimensionality reduction algorithm\n",
      "2024-12-18 14:03:59,367 - BERTopic - Dimensionality - Completed ✓\n",
      "2024-12-18 14:03:59,368 - BERTopic - Cluster - Start clustering the reduced embeddings\n",
      "2024-12-18 14:03:59,373 - BERTopic - Cluster - Completed ✓\n",
      "2024-12-18 14:03:59,375 - BERTopic - Representation - Extracting topics from clusters using representation models.\n",
      "2024-12-18 14:03:59,387 - BERTopic - Representation - Completed ✓\n",
      "2024-12-18 14:03:59,397 - BERTopic - Embedding - Transforming documents to embeddings.\n"
     ]
    },
    {
     "data": {
      "application/vnd.jupyter.widget-view+json": {
       "model_id": "f4f1a91f08a44494abaf07509dcf5b65",
       "version_major": 2,
       "version_minor": 0
      },
      "text/plain": [
       "Batches:   0%|          | 0/3 [00:00<?, ?it/s]"
      ]
     },
     "metadata": {},
     "output_type": "display_data"
    },
    {
     "name": "stderr",
     "output_type": "stream",
     "text": [
      "2024-12-18 14:04:02,958 - BERTopic - Embedding - Completed ✓\n",
      "2024-12-18 14:04:02,959 - BERTopic - Dimensionality - Fitting the dimensionality reduction algorithm\n",
      "2024-12-18 14:04:03,024 - BERTopic - Dimensionality - Completed ✓\n",
      "2024-12-18 14:04:03,025 - BERTopic - Cluster - Start clustering the reduced embeddings\n",
      "2024-12-18 14:04:03,030 - BERTopic - Cluster - Completed ✓\n",
      "2024-12-18 14:04:03,032 - BERTopic - Representation - Extracting topics from clusters using representation models.\n",
      "2024-12-18 14:04:03,104 - BERTopic - Representation - Completed ✓\n",
      "2024-12-18 14:04:03,121 - BERTopic - Embedding - Transforming documents to embeddings.\n"
     ]
    },
    {
     "data": {
      "application/vnd.jupyter.widget-view+json": {
       "model_id": "cbebd8ee149447d8a14e16c9d61ea80b",
       "version_major": 2,
       "version_minor": 0
      },
      "text/plain": [
       "Batches:   0%|          | 0/3 [00:00<?, ?it/s]"
      ]
     },
     "metadata": {},
     "output_type": "display_data"
    },
    {
     "name": "stderr",
     "output_type": "stream",
     "text": [
      "2024-12-18 14:04:06,649 - BERTopic - Embedding - Completed ✓\n",
      "2024-12-18 14:04:06,650 - BERTopic - Dimensionality - Fitting the dimensionality reduction algorithm\n",
      "2024-12-18 14:04:06,708 - BERTopic - Dimensionality - Completed ✓\n",
      "2024-12-18 14:04:06,708 - BERTopic - Cluster - Start clustering the reduced embeddings\n",
      "2024-12-18 14:04:06,712 - BERTopic - Cluster - Completed ✓\n",
      "2024-12-18 14:04:06,714 - BERTopic - Representation - Extracting topics from clusters using representation models.\n",
      "2024-12-18 14:04:06,722 - BERTopic - Representation - Completed ✓\n",
      "2024-12-18 14:04:06,730 - BERTopic - Embedding - Transforming documents to embeddings.\n"
     ]
    },
    {
     "data": {
      "application/vnd.jupyter.widget-view+json": {
       "model_id": "1b70c7961ca340db9d56efcd350beb79",
       "version_major": 2,
       "version_minor": 0
      },
      "text/plain": [
       "Batches:   0%|          | 0/3 [00:00<?, ?it/s]"
      ]
     },
     "metadata": {},
     "output_type": "display_data"
    },
    {
     "name": "stderr",
     "output_type": "stream",
     "text": [
      "2024-12-18 14:04:09,276 - BERTopic - Embedding - Completed ✓\n",
      "2024-12-18 14:04:09,276 - BERTopic - Dimensionality - Fitting the dimensionality reduction algorithm\n",
      "2024-12-18 14:04:09,352 - BERTopic - Dimensionality - Completed ✓\n",
      "2024-12-18 14:04:09,352 - BERTopic - Cluster - Start clustering the reduced embeddings\n",
      "2024-12-18 14:04:09,358 - BERTopic - Cluster - Completed ✓\n",
      "2024-12-18 14:04:09,359 - BERTopic - Representation - Extracting topics from clusters using representation models.\n",
      "2024-12-18 14:04:09,366 - BERTopic - Representation - Completed ✓\n",
      "2024-12-18 14:04:09,376 - BERTopic - Embedding - Transforming documents to embeddings.\n"
     ]
    },
    {
     "data": {
      "application/vnd.jupyter.widget-view+json": {
       "model_id": "52f4f7c1fb1d44e6a3fb74775588fedd",
       "version_major": 2,
       "version_minor": 0
      },
      "text/plain": [
       "Batches:   0%|          | 0/3 [00:00<?, ?it/s]"
      ]
     },
     "metadata": {},
     "output_type": "display_data"
    },
    {
     "name": "stderr",
     "output_type": "stream",
     "text": [
      "2024-12-18 14:04:12,905 - BERTopic - Embedding - Completed ✓\n",
      "2024-12-18 14:04:12,906 - BERTopic - Dimensionality - Fitting the dimensionality reduction algorithm\n",
      "2024-12-18 14:04:13,005 - BERTopic - Dimensionality - Completed ✓\n",
      "2024-12-18 14:04:13,006 - BERTopic - Cluster - Start clustering the reduced embeddings\n",
      "2024-12-18 14:04:13,015 - BERTopic - Cluster - Completed ✓\n",
      "2024-12-18 14:04:13,025 - BERTopic - Representation - Extracting topics from clusters using representation models.\n",
      "2024-12-18 14:04:13,042 - BERTopic - Representation - Completed ✓\n",
      "2024-12-18 14:04:13,052 - BERTopic - Embedding - Transforming documents to embeddings.\n"
     ]
    },
    {
     "data": {
      "application/vnd.jupyter.widget-view+json": {
       "model_id": "125adc4616804dc7a91479122b4db36c",
       "version_major": 2,
       "version_minor": 0
      },
      "text/plain": [
       "Batches:   0%|          | 0/3 [00:00<?, ?it/s]"
      ]
     },
     "metadata": {},
     "output_type": "display_data"
    },
    {
     "name": "stderr",
     "output_type": "stream",
     "text": [
      "2024-12-18 14:04:15,891 - BERTopic - Embedding - Completed ✓\n",
      "2024-12-18 14:04:15,892 - BERTopic - Dimensionality - Fitting the dimensionality reduction algorithm\n",
      "2024-12-18 14:04:15,998 - BERTopic - Dimensionality - Completed ✓\n",
      "2024-12-18 14:04:15,999 - BERTopic - Cluster - Start clustering the reduced embeddings\n",
      "2024-12-18 14:04:16,007 - BERTopic - Cluster - Completed ✓\n",
      "2024-12-18 14:04:16,009 - BERTopic - Representation - Extracting topics from clusters using representation models.\n",
      "2024-12-18 14:04:16,016 - BERTopic - Representation - Completed ✓\n",
      "2024-12-18 14:04:16,054 - BERTopic - Embedding - Transforming documents to embeddings.\n"
     ]
    },
    {
     "data": {
      "application/vnd.jupyter.widget-view+json": {
       "model_id": "d7eb7152fbc748209f7ca3709459cfec",
       "version_major": 2,
       "version_minor": 0
      },
      "text/plain": [
       "Batches:   0%|          | 0/3 [00:00<?, ?it/s]"
      ]
     },
     "metadata": {},
     "output_type": "display_data"
    },
    {
     "name": "stderr",
     "output_type": "stream",
     "text": [
      "2024-12-18 14:04:18,631 - BERTopic - Embedding - Completed ✓\n",
      "2024-12-18 14:04:18,632 - BERTopic - Dimensionality - Fitting the dimensionality reduction algorithm\n",
      "2024-12-18 14:04:18,698 - BERTopic - Dimensionality - Completed ✓\n",
      "2024-12-18 14:04:18,699 - BERTopic - Cluster - Start clustering the reduced embeddings\n",
      "2024-12-18 14:04:18,706 - BERTopic - Cluster - Completed ✓\n",
      "2024-12-18 14:04:18,709 - BERTopic - Representation - Extracting topics from clusters using representation models.\n",
      "2024-12-18 14:04:18,727 - BERTopic - Representation - Completed ✓\n",
      "2024-12-18 14:04:18,744 - BERTopic - Embedding - Transforming documents to embeddings.\n"
     ]
    },
    {
     "data": {
      "application/vnd.jupyter.widget-view+json": {
       "model_id": "8597880c533a425eb41d25c4256cf55e",
       "version_major": 2,
       "version_minor": 0
      },
      "text/plain": [
       "Batches:   0%|          | 0/3 [00:00<?, ?it/s]"
      ]
     },
     "metadata": {},
     "output_type": "display_data"
    },
    {
     "name": "stderr",
     "output_type": "stream",
     "text": [
      "2024-12-18 14:04:22,663 - BERTopic - Embedding - Completed ✓\n",
      "2024-12-18 14:04:22,664 - BERTopic - Dimensionality - Fitting the dimensionality reduction algorithm\n",
      "2024-12-18 14:04:22,745 - BERTopic - Dimensionality - Completed ✓\n",
      "2024-12-18 14:04:22,746 - BERTopic - Cluster - Start clustering the reduced embeddings\n",
      "2024-12-18 14:04:22,758 - BERTopic - Cluster - Completed ✓\n",
      "2024-12-18 14:04:22,767 - BERTopic - Representation - Extracting topics from clusters using representation models.\n",
      "2024-12-18 14:04:22,801 - BERTopic - Representation - Completed ✓\n",
      "2024-12-18 14:04:22,815 - BERTopic - Embedding - Transforming documents to embeddings.\n"
     ]
    },
    {
     "data": {
      "application/vnd.jupyter.widget-view+json": {
       "model_id": "d0ad34c82cc342f69716091309624612",
       "version_major": 2,
       "version_minor": 0
      },
      "text/plain": [
       "Batches:   0%|          | 0/3 [00:00<?, ?it/s]"
      ]
     },
     "metadata": {},
     "output_type": "display_data"
    },
    {
     "name": "stderr",
     "output_type": "stream",
     "text": [
      "2024-12-18 14:04:25,145 - BERTopic - Embedding - Completed ✓\n",
      "2024-12-18 14:04:25,145 - BERTopic - Dimensionality - Fitting the dimensionality reduction algorithm\n",
      "2024-12-18 14:04:25,195 - BERTopic - Dimensionality - Completed ✓\n",
      "2024-12-18 14:04:25,196 - BERTopic - Cluster - Start clustering the reduced embeddings\n",
      "2024-12-18 14:04:25,202 - BERTopic - Cluster - Completed ✓\n",
      "2024-12-18 14:04:25,203 - BERTopic - Representation - Extracting topics from clusters using representation models.\n",
      "2024-12-18 14:04:25,212 - BERTopic - Representation - Completed ✓\n",
      "2024-12-18 14:04:25,228 - BERTopic - Embedding - Transforming documents to embeddings.\n"
     ]
    },
    {
     "data": {
      "application/vnd.jupyter.widget-view+json": {
       "model_id": "353b5519ed914902890ef19beed537e8",
       "version_major": 2,
       "version_minor": 0
      },
      "text/plain": [
       "Batches:   0%|          | 0/3 [00:00<?, ?it/s]"
      ]
     },
     "metadata": {},
     "output_type": "display_data"
    },
    {
     "name": "stderr",
     "output_type": "stream",
     "text": [
      "2024-12-18 14:04:28,230 - BERTopic - Embedding - Completed ✓\n",
      "2024-12-18 14:04:28,230 - BERTopic - Dimensionality - Fitting the dimensionality reduction algorithm\n",
      "2024-12-18 14:04:28,324 - BERTopic - Dimensionality - Completed ✓\n",
      "2024-12-18 14:04:28,325 - BERTopic - Cluster - Start clustering the reduced embeddings\n",
      "2024-12-18 14:04:28,335 - BERTopic - Cluster - Completed ✓\n",
      "2024-12-18 14:04:28,338 - BERTopic - Representation - Extracting topics from clusters using representation models.\n",
      "2024-12-18 14:04:28,360 - BERTopic - Representation - Completed ✓\n",
      "2024-12-18 14:04:28,378 - BERTopic - Embedding - Transforming documents to embeddings.\n"
     ]
    },
    {
     "data": {
      "application/vnd.jupyter.widget-view+json": {
       "model_id": "8db2057722a144acbbad63c894b8cba5",
       "version_major": 2,
       "version_minor": 0
      },
      "text/plain": [
       "Batches:   0%|          | 0/3 [00:00<?, ?it/s]"
      ]
     },
     "metadata": {},
     "output_type": "display_data"
    },
    {
     "name": "stderr",
     "output_type": "stream",
     "text": [
      "2024-12-18 14:04:31,317 - BERTopic - Embedding - Completed ✓\n",
      "2024-12-18 14:04:31,318 - BERTopic - Dimensionality - Fitting the dimensionality reduction algorithm\n",
      "2024-12-18 14:04:31,379 - BERTopic - Dimensionality - Completed ✓\n",
      "2024-12-18 14:04:31,380 - BERTopic - Cluster - Start clustering the reduced embeddings\n",
      "2024-12-18 14:04:31,386 - BERTopic - Cluster - Completed ✓\n",
      "2024-12-18 14:04:31,387 - BERTopic - Representation - Extracting topics from clusters using representation models.\n",
      "2024-12-18 14:04:31,405 - BERTopic - Representation - Completed ✓\n",
      "2024-12-18 14:04:31,416 - BERTopic - Embedding - Transforming documents to embeddings.\n"
     ]
    },
    {
     "data": {
      "application/vnd.jupyter.widget-view+json": {
       "model_id": "305983b6027d4f94aa071ce93805bef6",
       "version_major": 2,
       "version_minor": 0
      },
      "text/plain": [
       "Batches:   0%|          | 0/3 [00:00<?, ?it/s]"
      ]
     },
     "metadata": {},
     "output_type": "display_data"
    },
    {
     "name": "stderr",
     "output_type": "stream",
     "text": [
      "2024-12-18 14:04:34,472 - BERTopic - Embedding - Completed ✓\n",
      "2024-12-18 14:04:34,473 - BERTopic - Dimensionality - Fitting the dimensionality reduction algorithm\n",
      "2024-12-18 14:04:34,565 - BERTopic - Dimensionality - Completed ✓\n",
      "2024-12-18 14:04:34,566 - BERTopic - Cluster - Start clustering the reduced embeddings\n",
      "2024-12-18 14:04:34,572 - BERTopic - Cluster - Completed ✓\n",
      "2024-12-18 14:04:34,574 - BERTopic - Representation - Extracting topics from clusters using representation models.\n",
      "2024-12-18 14:04:34,587 - BERTopic - Representation - Completed ✓\n",
      "2024-12-18 14:04:34,600 - BERTopic - Embedding - Transforming documents to embeddings.\n"
     ]
    },
    {
     "data": {
      "application/vnd.jupyter.widget-view+json": {
       "model_id": "b20dc3be8dc04610a1c99e8bd396034f",
       "version_major": 2,
       "version_minor": 0
      },
      "text/plain": [
       "Batches:   0%|          | 0/3 [00:00<?, ?it/s]"
      ]
     },
     "metadata": {},
     "output_type": "display_data"
    },
    {
     "name": "stderr",
     "output_type": "stream",
     "text": [
      "2024-12-18 14:04:36,891 - BERTopic - Embedding - Completed ✓\n",
      "2024-12-18 14:04:36,891 - BERTopic - Dimensionality - Fitting the dimensionality reduction algorithm\n",
      "2024-12-18 14:04:36,944 - BERTopic - Dimensionality - Completed ✓\n",
      "2024-12-18 14:04:36,944 - BERTopic - Cluster - Start clustering the reduced embeddings\n",
      "2024-12-18 14:04:36,948 - BERTopic - Cluster - Completed ✓\n",
      "2024-12-18 14:04:36,949 - BERTopic - Representation - Extracting topics from clusters using representation models.\n",
      "2024-12-18 14:04:36,962 - BERTopic - Representation - Completed ✓\n",
      "2024-12-18 14:04:36,971 - BERTopic - Embedding - Transforming documents to embeddings.\n"
     ]
    },
    {
     "data": {
      "application/vnd.jupyter.widget-view+json": {
       "model_id": "2658b26c179641b5bf3a4c6ffeb8cf57",
       "version_major": 2,
       "version_minor": 0
      },
      "text/plain": [
       "Batches:   0%|          | 0/3 [00:00<?, ?it/s]"
      ]
     },
     "metadata": {},
     "output_type": "display_data"
    },
    {
     "name": "stderr",
     "output_type": "stream",
     "text": [
      "2024-12-18 14:04:39,672 - BERTopic - Embedding - Completed ✓\n",
      "2024-12-18 14:04:39,673 - BERTopic - Dimensionality - Fitting the dimensionality reduction algorithm\n",
      "2024-12-18 14:04:39,729 - BERTopic - Dimensionality - Completed ✓\n",
      "2024-12-18 14:04:39,729 - BERTopic - Cluster - Start clustering the reduced embeddings\n",
      "2024-12-18 14:04:39,733 - BERTopic - Cluster - Completed ✓\n",
      "2024-12-18 14:04:39,735 - BERTopic - Representation - Extracting topics from clusters using representation models.\n",
      "2024-12-18 14:04:39,746 - BERTopic - Representation - Completed ✓\n",
      "2024-12-18 14:04:39,758 - BERTopic - Embedding - Transforming documents to embeddings.\n"
     ]
    },
    {
     "data": {
      "application/vnd.jupyter.widget-view+json": {
       "model_id": "633283ea04344f8cae8f8ab096563fa8",
       "version_major": 2,
       "version_minor": 0
      },
      "text/plain": [
       "Batches:   0%|          | 0/3 [00:00<?, ?it/s]"
      ]
     },
     "metadata": {},
     "output_type": "display_data"
    },
    {
     "name": "stderr",
     "output_type": "stream",
     "text": [
      "2024-12-18 14:04:42,336 - BERTopic - Embedding - Completed ✓\n",
      "2024-12-18 14:04:42,336 - BERTopic - Dimensionality - Fitting the dimensionality reduction algorithm\n",
      "2024-12-18 14:04:42,437 - BERTopic - Dimensionality - Completed ✓\n",
      "2024-12-18 14:04:42,437 - BERTopic - Cluster - Start clustering the reduced embeddings\n",
      "2024-12-18 14:04:42,441 - BERTopic - Cluster - Completed ✓\n",
      "2024-12-18 14:04:42,442 - BERTopic - Representation - Extracting topics from clusters using representation models.\n",
      "2024-12-18 14:04:42,455 - BERTopic - Representation - Completed ✓\n",
      "2024-12-18 14:04:42,465 - BERTopic - Embedding - Transforming documents to embeddings.\n"
     ]
    },
    {
     "data": {
      "application/vnd.jupyter.widget-view+json": {
       "model_id": "0849cec9363d4a1da525c064b147885a",
       "version_major": 2,
       "version_minor": 0
      },
      "text/plain": [
       "Batches:   0%|          | 0/3 [00:00<?, ?it/s]"
      ]
     },
     "metadata": {},
     "output_type": "display_data"
    },
    {
     "name": "stderr",
     "output_type": "stream",
     "text": [
      "2024-12-18 14:04:45,276 - BERTopic - Embedding - Completed ✓\n",
      "2024-12-18 14:04:45,276 - BERTopic - Dimensionality - Fitting the dimensionality reduction algorithm\n",
      "2024-12-18 14:04:45,331 - BERTopic - Dimensionality - Completed ✓\n",
      "2024-12-18 14:04:45,332 - BERTopic - Cluster - Start clustering the reduced embeddings\n",
      "2024-12-18 14:04:45,338 - BERTopic - Cluster - Completed ✓\n",
      "2024-12-18 14:04:45,339 - BERTopic - Representation - Extracting topics from clusters using representation models.\n",
      "2024-12-18 14:04:45,354 - BERTopic - Representation - Completed ✓\n",
      "2024-12-18 14:04:45,365 - BERTopic - Embedding - Transforming documents to embeddings.\n"
     ]
    },
    {
     "data": {
      "application/vnd.jupyter.widget-view+json": {
       "model_id": "a3e7a7be8a8b49478997ac4f7ad0827a",
       "version_major": 2,
       "version_minor": 0
      },
      "text/plain": [
       "Batches:   0%|          | 0/3 [00:00<?, ?it/s]"
      ]
     },
     "metadata": {},
     "output_type": "display_data"
    },
    {
     "name": "stderr",
     "output_type": "stream",
     "text": [
      "2024-12-18 14:04:48,530 - BERTopic - Embedding - Completed ✓\n",
      "2024-12-18 14:04:48,531 - BERTopic - Dimensionality - Fitting the dimensionality reduction algorithm\n",
      "2024-12-18 14:04:48,648 - BERTopic - Dimensionality - Completed ✓\n",
      "2024-12-18 14:04:48,649 - BERTopic - Cluster - Start clustering the reduced embeddings\n",
      "2024-12-18 14:04:48,658 - BERTopic - Cluster - Completed ✓\n",
      "2024-12-18 14:04:48,660 - BERTopic - Representation - Extracting topics from clusters using representation models.\n",
      "2024-12-18 14:04:48,684 - BERTopic - Representation - Completed ✓\n",
      "2024-12-18 14:04:48,698 - BERTopic - Embedding - Transforming documents to embeddings.\n"
     ]
    },
    {
     "data": {
      "application/vnd.jupyter.widget-view+json": {
       "model_id": "98dbba1dd23f4bf4a53142ea8671e6f8",
       "version_major": 2,
       "version_minor": 0
      },
      "text/plain": [
       "Batches:   0%|          | 0/3 [00:00<?, ?it/s]"
      ]
     },
     "metadata": {},
     "output_type": "display_data"
    },
    {
     "name": "stderr",
     "output_type": "stream",
     "text": [
      "2024-12-18 14:04:51,353 - BERTopic - Embedding - Completed ✓\n",
      "2024-12-18 14:04:51,354 - BERTopic - Dimensionality - Fitting the dimensionality reduction algorithm\n",
      "2024-12-18 14:04:51,413 - BERTopic - Dimensionality - Completed ✓\n",
      "2024-12-18 14:04:51,413 - BERTopic - Cluster - Start clustering the reduced embeddings\n",
      "2024-12-18 14:04:51,423 - BERTopic - Cluster - Completed ✓\n",
      "2024-12-18 14:04:51,426 - BERTopic - Representation - Extracting topics from clusters using representation models.\n",
      "2024-12-18 14:04:51,447 - BERTopic - Representation - Completed ✓\n",
      "2024-12-18 14:04:51,464 - BERTopic - Embedding - Transforming documents to embeddings.\n"
     ]
    },
    {
     "data": {
      "application/vnd.jupyter.widget-view+json": {
       "model_id": "1b5cb169cb5a4694b732ba337cf870b1",
       "version_major": 2,
       "version_minor": 0
      },
      "text/plain": [
       "Batches:   0%|          | 0/3 [00:00<?, ?it/s]"
      ]
     },
     "metadata": {},
     "output_type": "display_data"
    },
    {
     "name": "stderr",
     "output_type": "stream",
     "text": [
      "2024-12-18 14:04:53,914 - BERTopic - Embedding - Completed ✓\n",
      "2024-12-18 14:04:53,915 - BERTopic - Dimensionality - Fitting the dimensionality reduction algorithm\n",
      "2024-12-18 14:04:53,977 - BERTopic - Dimensionality - Completed ✓\n",
      "2024-12-18 14:04:53,978 - BERTopic - Cluster - Start clustering the reduced embeddings\n",
      "2024-12-18 14:04:53,984 - BERTopic - Cluster - Completed ✓\n",
      "2024-12-18 14:04:53,985 - BERTopic - Representation - Extracting topics from clusters using representation models.\n",
      "2024-12-18 14:04:53,995 - BERTopic - Representation - Completed ✓\n",
      "2024-12-18 14:04:54,006 - BERTopic - Embedding - Transforming documents to embeddings.\n"
     ]
    },
    {
     "data": {
      "application/vnd.jupyter.widget-view+json": {
       "model_id": "b482c1ae917d417ea57f585e62b5e22d",
       "version_major": 2,
       "version_minor": 0
      },
      "text/plain": [
       "Batches:   0%|          | 0/3 [00:00<?, ?it/s]"
      ]
     },
     "metadata": {},
     "output_type": "display_data"
    },
    {
     "name": "stderr",
     "output_type": "stream",
     "text": [
      "2024-12-18 14:04:56,269 - BERTopic - Embedding - Completed ✓\n",
      "2024-12-18 14:04:56,270 - BERTopic - Dimensionality - Fitting the dimensionality reduction algorithm\n",
      "2024-12-18 14:04:56,318 - BERTopic - Dimensionality - Completed ✓\n",
      "2024-12-18 14:04:56,318 - BERTopic - Cluster - Start clustering the reduced embeddings\n",
      "2024-12-18 14:04:56,324 - BERTopic - Cluster - Completed ✓\n",
      "2024-12-18 14:04:56,325 - BERTopic - Representation - Extracting topics from clusters using representation models.\n",
      "2024-12-18 14:04:56,340 - BERTopic - Representation - Completed ✓\n",
      "2024-12-18 14:04:56,349 - BERTopic - Embedding - Transforming documents to embeddings.\n"
     ]
    },
    {
     "data": {
      "application/vnd.jupyter.widget-view+json": {
       "model_id": "5ec04f87d2374696af2da6303ebf85fc",
       "version_major": 2,
       "version_minor": 0
      },
      "text/plain": [
       "Batches:   0%|          | 0/3 [00:00<?, ?it/s]"
      ]
     },
     "metadata": {},
     "output_type": "display_data"
    },
    {
     "name": "stderr",
     "output_type": "stream",
     "text": [
      "2024-12-18 14:04:58,431 - BERTopic - Embedding - Completed ✓\n",
      "2024-12-18 14:04:58,431 - BERTopic - Dimensionality - Fitting the dimensionality reduction algorithm\n",
      "2024-12-18 14:04:58,520 - BERTopic - Dimensionality - Completed ✓\n",
      "2024-12-18 14:04:58,521 - BERTopic - Cluster - Start clustering the reduced embeddings\n",
      "2024-12-18 14:04:58,527 - BERTopic - Cluster - Completed ✓\n",
      "2024-12-18 14:04:58,528 - BERTopic - Representation - Extracting topics from clusters using representation models.\n",
      "2024-12-18 14:04:58,534 - BERTopic - Representation - Completed ✓\n",
      "2024-12-18 14:04:58,543 - BERTopic - Embedding - Transforming documents to embeddings.\n"
     ]
    },
    {
     "data": {
      "application/vnd.jupyter.widget-view+json": {
       "model_id": "9ef311dbd0274634a7c86c1e1998c62b",
       "version_major": 2,
       "version_minor": 0
      },
      "text/plain": [
       "Batches:   0%|          | 0/3 [00:00<?, ?it/s]"
      ]
     },
     "metadata": {},
     "output_type": "display_data"
    },
    {
     "name": "stderr",
     "output_type": "stream",
     "text": [
      "2024-12-18 14:05:00,739 - BERTopic - Embedding - Completed ✓\n",
      "2024-12-18 14:05:00,740 - BERTopic - Dimensionality - Fitting the dimensionality reduction algorithm\n",
      "2024-12-18 14:05:00,798 - BERTopic - Dimensionality - Completed ✓\n",
      "2024-12-18 14:05:00,799 - BERTopic - Cluster - Start clustering the reduced embeddings\n",
      "2024-12-18 14:05:00,805 - BERTopic - Cluster - Completed ✓\n",
      "2024-12-18 14:05:00,807 - BERTopic - Representation - Extracting topics from clusters using representation models.\n",
      "2024-12-18 14:05:00,816 - BERTopic - Representation - Completed ✓\n",
      "2024-12-18 14:05:00,827 - BERTopic - Embedding - Transforming documents to embeddings.\n"
     ]
    },
    {
     "data": {
      "application/vnd.jupyter.widget-view+json": {
       "model_id": "44783f55721d4689b3fc8fb7372c6a14",
       "version_major": 2,
       "version_minor": 0
      },
      "text/plain": [
       "Batches:   0%|          | 0/3 [00:00<?, ?it/s]"
      ]
     },
     "metadata": {},
     "output_type": "display_data"
    },
    {
     "name": "stderr",
     "output_type": "stream",
     "text": [
      "2024-12-18 14:05:03,878 - BERTopic - Embedding - Completed ✓\n",
      "2024-12-18 14:05:03,878 - BERTopic - Dimensionality - Fitting the dimensionality reduction algorithm\n",
      "2024-12-18 14:05:03,941 - BERTopic - Dimensionality - Completed ✓\n",
      "2024-12-18 14:05:03,941 - BERTopic - Cluster - Start clustering the reduced embeddings\n",
      "2024-12-18 14:05:03,945 - BERTopic - Cluster - Completed ✓\n",
      "2024-12-18 14:05:03,947 - BERTopic - Representation - Extracting topics from clusters using representation models.\n",
      "2024-12-18 14:05:03,956 - BERTopic - Representation - Completed ✓\n",
      "2024-12-18 14:05:03,964 - BERTopic - Embedding - Transforming documents to embeddings.\n"
     ]
    },
    {
     "data": {
      "application/vnd.jupyter.widget-view+json": {
       "model_id": "bab1f239d0694b6bbd8cdb301be1e687",
       "version_major": 2,
       "version_minor": 0
      },
      "text/plain": [
       "Batches:   0%|          | 0/3 [00:00<?, ?it/s]"
      ]
     },
     "metadata": {},
     "output_type": "display_data"
    },
    {
     "name": "stderr",
     "output_type": "stream",
     "text": [
      "2024-12-18 14:05:08,128 - BERTopic - Embedding - Completed ✓\n",
      "2024-12-18 14:05:08,128 - BERTopic - Dimensionality - Fitting the dimensionality reduction algorithm\n",
      "2024-12-18 14:05:08,193 - BERTopic - Dimensionality - Completed ✓\n",
      "2024-12-18 14:05:08,193 - BERTopic - Cluster - Start clustering the reduced embeddings\n",
      "2024-12-18 14:05:08,200 - BERTopic - Cluster - Completed ✓\n",
      "2024-12-18 14:05:08,201 - BERTopic - Representation - Extracting topics from clusters using representation models.\n",
      "2024-12-18 14:05:08,213 - BERTopic - Representation - Completed ✓\n",
      "2024-12-18 14:05:08,224 - BERTopic - Embedding - Transforming documents to embeddings.\n"
     ]
    },
    {
     "data": {
      "application/vnd.jupyter.widget-view+json": {
       "model_id": "0210ea986ce5437c8c55cfebed67a3fb",
       "version_major": 2,
       "version_minor": 0
      },
      "text/plain": [
       "Batches:   0%|          | 0/3 [00:00<?, ?it/s]"
      ]
     },
     "metadata": {},
     "output_type": "display_data"
    },
    {
     "name": "stderr",
     "output_type": "stream",
     "text": [
      "2024-12-18 14:05:11,173 - BERTopic - Embedding - Completed ✓\n",
      "2024-12-18 14:05:11,174 - BERTopic - Dimensionality - Fitting the dimensionality reduction algorithm\n",
      "2024-12-18 14:05:11,227 - BERTopic - Dimensionality - Completed ✓\n",
      "2024-12-18 14:05:11,228 - BERTopic - Cluster - Start clustering the reduced embeddings\n",
      "2024-12-18 14:05:11,235 - BERTopic - Cluster - Completed ✓\n",
      "2024-12-18 14:05:11,236 - BERTopic - Representation - Extracting topics from clusters using representation models.\n",
      "2024-12-18 14:05:11,267 - BERTopic - Representation - Completed ✓\n",
      "2024-12-18 14:05:11,280 - BERTopic - Embedding - Transforming documents to embeddings.\n"
     ]
    },
    {
     "data": {
      "application/vnd.jupyter.widget-view+json": {
       "model_id": "748d0f64b62f43afbbc1a5029f9812c7",
       "version_major": 2,
       "version_minor": 0
      },
      "text/plain": [
       "Batches:   0%|          | 0/3 [00:00<?, ?it/s]"
      ]
     },
     "metadata": {},
     "output_type": "display_data"
    },
    {
     "name": "stderr",
     "output_type": "stream",
     "text": [
      "2024-12-18 14:05:13,345 - BERTopic - Embedding - Completed ✓\n",
      "2024-12-18 14:05:13,345 - BERTopic - Dimensionality - Fitting the dimensionality reduction algorithm\n",
      "2024-12-18 14:05:13,400 - BERTopic - Dimensionality - Completed ✓\n",
      "2024-12-18 14:05:13,400 - BERTopic - Cluster - Start clustering the reduced embeddings\n",
      "2024-12-18 14:05:13,406 - BERTopic - Cluster - Completed ✓\n",
      "2024-12-18 14:05:13,407 - BERTopic - Representation - Extracting topics from clusters using representation models.\n",
      "2024-12-18 14:05:13,419 - BERTopic - Representation - Completed ✓\n",
      "2024-12-18 14:05:13,434 - BERTopic - Embedding - Transforming documents to embeddings.\n"
     ]
    },
    {
     "data": {
      "application/vnd.jupyter.widget-view+json": {
       "model_id": "86e5d1ce8637478ea638eb9ba2ce0f8d",
       "version_major": 2,
       "version_minor": 0
      },
      "text/plain": [
       "Batches:   0%|          | 0/3 [00:00<?, ?it/s]"
      ]
     },
     "metadata": {},
     "output_type": "display_data"
    },
    {
     "name": "stderr",
     "output_type": "stream",
     "text": [
      "2024-12-18 14:05:17,557 - BERTopic - Embedding - Completed ✓\n",
      "2024-12-18 14:05:17,557 - BERTopic - Dimensionality - Fitting the dimensionality reduction algorithm\n",
      "2024-12-18 14:05:17,623 - BERTopic - Dimensionality - Completed ✓\n",
      "2024-12-18 14:05:17,624 - BERTopic - Cluster - Start clustering the reduced embeddings\n",
      "2024-12-18 14:05:17,631 - BERTopic - Cluster - Completed ✓\n",
      "2024-12-18 14:05:17,633 - BERTopic - Representation - Extracting topics from clusters using representation models.\n",
      "2024-12-18 14:05:17,645 - BERTopic - Representation - Completed ✓\n",
      "2024-12-18 14:05:17,661 - BERTopic - Embedding - Transforming documents to embeddings.\n"
     ]
    },
    {
     "data": {
      "application/vnd.jupyter.widget-view+json": {
       "model_id": "68b22a8e166e4ac6a1344ad8dc5900da",
       "version_major": 2,
       "version_minor": 0
      },
      "text/plain": [
       "Batches:   0%|          | 0/3 [00:00<?, ?it/s]"
      ]
     },
     "metadata": {},
     "output_type": "display_data"
    },
    {
     "name": "stderr",
     "output_type": "stream",
     "text": [
      "2024-12-18 14:05:22,093 - BERTopic - Embedding - Completed ✓\n",
      "2024-12-18 14:05:22,093 - BERTopic - Dimensionality - Fitting the dimensionality reduction algorithm\n",
      "2024-12-18 14:05:22,150 - BERTopic - Dimensionality - Completed ✓\n",
      "2024-12-18 14:05:22,150 - BERTopic - Cluster - Start clustering the reduced embeddings\n",
      "2024-12-18 14:05:22,157 - BERTopic - Cluster - Completed ✓\n",
      "2024-12-18 14:05:22,158 - BERTopic - Representation - Extracting topics from clusters using representation models.\n",
      "2024-12-18 14:05:22,175 - BERTopic - Representation - Completed ✓\n",
      "2024-12-18 14:05:22,188 - BERTopic - Embedding - Transforming documents to embeddings.\n"
     ]
    },
    {
     "data": {
      "application/vnd.jupyter.widget-view+json": {
       "model_id": "d829e360042b4462a377b7a22bd9b362",
       "version_major": 2,
       "version_minor": 0
      },
      "text/plain": [
       "Batches:   0%|          | 0/3 [00:00<?, ?it/s]"
      ]
     },
     "metadata": {},
     "output_type": "display_data"
    },
    {
     "name": "stderr",
     "output_type": "stream",
     "text": [
      "2024-12-18 14:05:24,955 - BERTopic - Embedding - Completed ✓\n",
      "2024-12-18 14:05:24,955 - BERTopic - Dimensionality - Fitting the dimensionality reduction algorithm\n",
      "2024-12-18 14:05:25,009 - BERTopic - Dimensionality - Completed ✓\n",
      "2024-12-18 14:05:25,010 - BERTopic - Cluster - Start clustering the reduced embeddings\n",
      "2024-12-18 14:05:25,016 - BERTopic - Cluster - Completed ✓\n",
      "2024-12-18 14:05:25,017 - BERTopic - Representation - Extracting topics from clusters using representation models.\n",
      "2024-12-18 14:05:25,031 - BERTopic - Representation - Completed ✓\n",
      "2024-12-18 14:05:25,042 - BERTopic - Embedding - Transforming documents to embeddings.\n"
     ]
    },
    {
     "data": {
      "application/vnd.jupyter.widget-view+json": {
       "model_id": "94bc5812dfc140ad8543b8d46a25e9a8",
       "version_major": 2,
       "version_minor": 0
      },
      "text/plain": [
       "Batches:   0%|          | 0/3 [00:00<?, ?it/s]"
      ]
     },
     "metadata": {},
     "output_type": "display_data"
    },
    {
     "name": "stderr",
     "output_type": "stream",
     "text": [
      "2024-12-18 14:05:27,724 - BERTopic - Embedding - Completed ✓\n",
      "2024-12-18 14:05:27,725 - BERTopic - Dimensionality - Fitting the dimensionality reduction algorithm\n",
      "2024-12-18 14:05:27,783 - BERTopic - Dimensionality - Completed ✓\n",
      "2024-12-18 14:05:27,783 - BERTopic - Cluster - Start clustering the reduced embeddings\n",
      "2024-12-18 14:05:27,789 - BERTopic - Cluster - Completed ✓\n",
      "2024-12-18 14:05:27,791 - BERTopic - Representation - Extracting topics from clusters using representation models.\n",
      "2024-12-18 14:05:27,800 - BERTopic - Representation - Completed ✓\n",
      "2024-12-18 14:05:27,810 - BERTopic - Embedding - Transforming documents to embeddings.\n"
     ]
    },
    {
     "data": {
      "application/vnd.jupyter.widget-view+json": {
       "model_id": "c3230a5297ee43f588483bf857e2b8e7",
       "version_major": 2,
       "version_minor": 0
      },
      "text/plain": [
       "Batches:   0%|          | 0/3 [00:00<?, ?it/s]"
      ]
     },
     "metadata": {},
     "output_type": "display_data"
    },
    {
     "name": "stderr",
     "output_type": "stream",
     "text": [
      "2024-12-18 14:05:30,568 - BERTopic - Embedding - Completed ✓\n",
      "2024-12-18 14:05:30,568 - BERTopic - Dimensionality - Fitting the dimensionality reduction algorithm\n",
      "2024-12-18 14:05:30,625 - BERTopic - Dimensionality - Completed ✓\n",
      "2024-12-18 14:05:30,625 - BERTopic - Cluster - Start clustering the reduced embeddings\n",
      "2024-12-18 14:05:30,632 - BERTopic - Cluster - Completed ✓\n",
      "2024-12-18 14:05:30,633 - BERTopic - Representation - Extracting topics from clusters using representation models.\n",
      "2024-12-18 14:05:30,644 - BERTopic - Representation - Completed ✓\n",
      "2024-12-18 14:05:30,654 - BERTopic - Embedding - Transforming documents to embeddings.\n"
     ]
    },
    {
     "data": {
      "application/vnd.jupyter.widget-view+json": {
       "model_id": "cb48899e2fdc4359bdeb5cc2690c1b38",
       "version_major": 2,
       "version_minor": 0
      },
      "text/plain": [
       "Batches:   0%|          | 0/3 [00:00<?, ?it/s]"
      ]
     },
     "metadata": {},
     "output_type": "display_data"
    },
    {
     "name": "stderr",
     "output_type": "stream",
     "text": [
      "2024-12-18 14:05:33,337 - BERTopic - Embedding - Completed ✓\n",
      "2024-12-18 14:05:33,337 - BERTopic - Dimensionality - Fitting the dimensionality reduction algorithm\n",
      "2024-12-18 14:05:33,421 - BERTopic - Dimensionality - Completed ✓\n",
      "2024-12-18 14:05:33,421 - BERTopic - Cluster - Start clustering the reduced embeddings\n",
      "2024-12-18 14:05:33,427 - BERTopic - Cluster - Completed ✓\n",
      "2024-12-18 14:05:33,429 - BERTopic - Representation - Extracting topics from clusters using representation models.\n",
      "2024-12-18 14:05:33,437 - BERTopic - Representation - Completed ✓\n",
      "2024-12-18 14:05:33,447 - BERTopic - Embedding - Transforming documents to embeddings.\n"
     ]
    },
    {
     "data": {
      "application/vnd.jupyter.widget-view+json": {
       "model_id": "4bf3b2a04af140c88c2951cf352d1327",
       "version_major": 2,
       "version_minor": 0
      },
      "text/plain": [
       "Batches:   0%|          | 0/3 [00:00<?, ?it/s]"
      ]
     },
     "metadata": {},
     "output_type": "display_data"
    },
    {
     "name": "stderr",
     "output_type": "stream",
     "text": [
      "2024-12-18 14:05:36,378 - BERTopic - Embedding - Completed ✓\n",
      "2024-12-18 14:05:36,378 - BERTopic - Dimensionality - Fitting the dimensionality reduction algorithm\n",
      "2024-12-18 14:05:36,442 - BERTopic - Dimensionality - Completed ✓\n",
      "2024-12-18 14:05:36,443 - BERTopic - Cluster - Start clustering the reduced embeddings\n",
      "2024-12-18 14:05:36,449 - BERTopic - Cluster - Completed ✓\n",
      "2024-12-18 14:05:36,451 - BERTopic - Representation - Extracting topics from clusters using representation models.\n",
      "2024-12-18 14:05:36,461 - BERTopic - Representation - Completed ✓\n",
      "2024-12-18 14:05:36,476 - BERTopic - Embedding - Transforming documents to embeddings.\n"
     ]
    },
    {
     "data": {
      "application/vnd.jupyter.widget-view+json": {
       "model_id": "408cfdd9f2854359b23fafaa4180ee99",
       "version_major": 2,
       "version_minor": 0
      },
      "text/plain": [
       "Batches:   0%|          | 0/3 [00:00<?, ?it/s]"
      ]
     },
     "metadata": {},
     "output_type": "display_data"
    },
    {
     "name": "stderr",
     "output_type": "stream",
     "text": [
      "2024-12-18 14:05:39,037 - BERTopic - Embedding - Completed ✓\n",
      "2024-12-18 14:05:39,037 - BERTopic - Dimensionality - Fitting the dimensionality reduction algorithm\n",
      "2024-12-18 14:05:39,112 - BERTopic - Dimensionality - Completed ✓\n",
      "2024-12-18 14:05:39,113 - BERTopic - Cluster - Start clustering the reduced embeddings\n",
      "2024-12-18 14:05:39,119 - BERTopic - Cluster - Completed ✓\n",
      "2024-12-18 14:05:39,121 - BERTopic - Representation - Extracting topics from clusters using representation models.\n",
      "2024-12-18 14:05:39,134 - BERTopic - Representation - Completed ✓\n",
      "2024-12-18 14:05:39,146 - BERTopic - Embedding - Transforming documents to embeddings.\n"
     ]
    },
    {
     "data": {
      "application/vnd.jupyter.widget-view+json": {
       "model_id": "d5d8f9a08e2448cfbdfc8713af97df5a",
       "version_major": 2,
       "version_minor": 0
      },
      "text/plain": [
       "Batches:   0%|          | 0/3 [00:00<?, ?it/s]"
      ]
     },
     "metadata": {},
     "output_type": "display_data"
    },
    {
     "name": "stderr",
     "output_type": "stream",
     "text": [
      "2024-12-18 14:05:42,431 - BERTopic - Embedding - Completed ✓\n",
      "2024-12-18 14:05:42,431 - BERTopic - Dimensionality - Fitting the dimensionality reduction algorithm\n",
      "2024-12-18 14:05:42,503 - BERTopic - Dimensionality - Completed ✓\n",
      "2024-12-18 14:05:42,504 - BERTopic - Cluster - Start clustering the reduced embeddings\n",
      "2024-12-18 14:05:42,510 - BERTopic - Cluster - Completed ✓\n",
      "2024-12-18 14:05:42,512 - BERTopic - Representation - Extracting topics from clusters using representation models.\n",
      "2024-12-18 14:05:42,524 - BERTopic - Representation - Completed ✓\n",
      "2024-12-18 14:05:42,536 - BERTopic - Embedding - Transforming documents to embeddings.\n"
     ]
    },
    {
     "data": {
      "application/vnd.jupyter.widget-view+json": {
       "model_id": "bc249f7d57184c3ba61c10067c48c1c2",
       "version_major": 2,
       "version_minor": 0
      },
      "text/plain": [
       "Batches:   0%|          | 0/3 [00:00<?, ?it/s]"
      ]
     },
     "metadata": {},
     "output_type": "display_data"
    },
    {
     "name": "stderr",
     "output_type": "stream",
     "text": [
      "2024-12-18 14:05:45,111 - BERTopic - Embedding - Completed ✓\n",
      "2024-12-18 14:05:45,111 - BERTopic - Dimensionality - Fitting the dimensionality reduction algorithm\n",
      "2024-12-18 14:05:45,173 - BERTopic - Dimensionality - Completed ✓\n",
      "2024-12-18 14:05:45,174 - BERTopic - Cluster - Start clustering the reduced embeddings\n",
      "2024-12-18 14:05:45,180 - BERTopic - Cluster - Completed ✓\n",
      "2024-12-18 14:05:45,182 - BERTopic - Representation - Extracting topics from clusters using representation models.\n",
      "2024-12-18 14:05:45,196 - BERTopic - Representation - Completed ✓\n",
      "2024-12-18 14:05:45,211 - BERTopic - Embedding - Transforming documents to embeddings.\n"
     ]
    },
    {
     "data": {
      "application/vnd.jupyter.widget-view+json": {
       "model_id": "671f988acdd643e7aff8e2edcea909b6",
       "version_major": 2,
       "version_minor": 0
      },
      "text/plain": [
       "Batches:   0%|          | 0/3 [00:00<?, ?it/s]"
      ]
     },
     "metadata": {},
     "output_type": "display_data"
    },
    {
     "name": "stderr",
     "output_type": "stream",
     "text": [
      "2024-12-18 14:05:47,825 - BERTopic - Embedding - Completed ✓\n",
      "2024-12-18 14:05:47,826 - BERTopic - Dimensionality - Fitting the dimensionality reduction algorithm\n",
      "2024-12-18 14:05:47,931 - BERTopic - Dimensionality - Completed ✓\n",
      "2024-12-18 14:05:47,932 - BERTopic - Cluster - Start clustering the reduced embeddings\n",
      "2024-12-18 14:05:47,939 - BERTopic - Cluster - Completed ✓\n",
      "2024-12-18 14:05:47,941 - BERTopic - Representation - Extracting topics from clusters using representation models.\n",
      "2024-12-18 14:05:47,954 - BERTopic - Representation - Completed ✓\n",
      "2024-12-18 14:05:47,966 - BERTopic - Embedding - Transforming documents to embeddings.\n"
     ]
    },
    {
     "data": {
      "application/vnd.jupyter.widget-view+json": {
       "model_id": "d26390e06bc74f53ab73c65654695699",
       "version_major": 2,
       "version_minor": 0
      },
      "text/plain": [
       "Batches:   0%|          | 0/3 [00:00<?, ?it/s]"
      ]
     },
     "metadata": {},
     "output_type": "display_data"
    },
    {
     "name": "stderr",
     "output_type": "stream",
     "text": [
      "2024-12-18 14:05:52,183 - BERTopic - Embedding - Completed ✓\n",
      "2024-12-18 14:05:52,184 - BERTopic - Dimensionality - Fitting the dimensionality reduction algorithm\n",
      "2024-12-18 14:05:52,249 - BERTopic - Dimensionality - Completed ✓\n",
      "2024-12-18 14:05:52,249 - BERTopic - Cluster - Start clustering the reduced embeddings\n",
      "2024-12-18 14:05:52,257 - BERTopic - Cluster - Completed ✓\n",
      "2024-12-18 14:05:52,258 - BERTopic - Representation - Extracting topics from clusters using representation models.\n",
      "2024-12-18 14:05:52,272 - BERTopic - Representation - Completed ✓\n",
      "2024-12-18 14:05:52,282 - BERTopic - Embedding - Transforming documents to embeddings.\n"
     ]
    },
    {
     "data": {
      "application/vnd.jupyter.widget-view+json": {
       "model_id": "147f2da6bff04543ae1e8c5ba054cc13",
       "version_major": 2,
       "version_minor": 0
      },
      "text/plain": [
       "Batches:   0%|          | 0/3 [00:00<?, ?it/s]"
      ]
     },
     "metadata": {},
     "output_type": "display_data"
    },
    {
     "name": "stderr",
     "output_type": "stream",
     "text": [
      "2024-12-18 14:05:55,401 - BERTopic - Embedding - Completed ✓\n",
      "2024-12-18 14:05:55,401 - BERTopic - Dimensionality - Fitting the dimensionality reduction algorithm\n",
      "2024-12-18 14:05:55,473 - BERTopic - Dimensionality - Completed ✓\n",
      "2024-12-18 14:05:55,473 - BERTopic - Cluster - Start clustering the reduced embeddings\n",
      "2024-12-18 14:05:55,481 - BERTopic - Cluster - Completed ✓\n",
      "2024-12-18 14:05:55,482 - BERTopic - Representation - Extracting topics from clusters using representation models.\n",
      "2024-12-18 14:05:55,488 - BERTopic - Representation - Completed ✓\n",
      "2024-12-18 14:05:55,498 - BERTopic - Embedding - Transforming documents to embeddings.\n"
     ]
    },
    {
     "data": {
      "application/vnd.jupyter.widget-view+json": {
       "model_id": "1f9e6a34cf4c4d7b918efa30e031920a",
       "version_major": 2,
       "version_minor": 0
      },
      "text/plain": [
       "Batches:   0%|          | 0/3 [00:00<?, ?it/s]"
      ]
     },
     "metadata": {},
     "output_type": "display_data"
    },
    {
     "name": "stderr",
     "output_type": "stream",
     "text": [
      "2024-12-18 14:05:59,407 - BERTopic - Embedding - Completed ✓\n",
      "2024-12-18 14:05:59,407 - BERTopic - Dimensionality - Fitting the dimensionality reduction algorithm\n",
      "2024-12-18 14:05:59,468 - BERTopic - Dimensionality - Completed ✓\n",
      "2024-12-18 14:05:59,468 - BERTopic - Cluster - Start clustering the reduced embeddings\n",
      "2024-12-18 14:05:59,475 - BERTopic - Cluster - Completed ✓\n",
      "2024-12-18 14:05:59,477 - BERTopic - Representation - Extracting topics from clusters using representation models.\n",
      "2024-12-18 14:05:59,502 - BERTopic - Representation - Completed ✓\n",
      "2024-12-18 14:05:59,514 - BERTopic - Embedding - Transforming documents to embeddings.\n"
     ]
    },
    {
     "data": {
      "application/vnd.jupyter.widget-view+json": {
       "model_id": "2e3d41fc641e44d0804014ba9dd68e8f",
       "version_major": 2,
       "version_minor": 0
      },
      "text/plain": [
       "Batches:   0%|          | 0/3 [00:00<?, ?it/s]"
      ]
     },
     "metadata": {},
     "output_type": "display_data"
    },
    {
     "name": "stderr",
     "output_type": "stream",
     "text": [
      "2024-12-18 14:06:04,232 - BERTopic - Embedding - Completed ✓\n",
      "2024-12-18 14:06:04,232 - BERTopic - Dimensionality - Fitting the dimensionality reduction algorithm\n",
      "2024-12-18 14:06:04,295 - BERTopic - Dimensionality - Completed ✓\n",
      "2024-12-18 14:06:04,296 - BERTopic - Cluster - Start clustering the reduced embeddings\n",
      "2024-12-18 14:06:04,303 - BERTopic - Cluster - Completed ✓\n",
      "2024-12-18 14:06:04,305 - BERTopic - Representation - Extracting topics from clusters using representation models.\n",
      "2024-12-18 14:06:04,318 - BERTopic - Representation - Completed ✓\n",
      "2024-12-18 14:06:04,333 - BERTopic - Embedding - Transforming documents to embeddings.\n"
     ]
    },
    {
     "data": {
      "application/vnd.jupyter.widget-view+json": {
       "model_id": "3c667766d6124757b2b29f1cdbd812f4",
       "version_major": 2,
       "version_minor": 0
      },
      "text/plain": [
       "Batches:   0%|          | 0/3 [00:00<?, ?it/s]"
      ]
     },
     "metadata": {},
     "output_type": "display_data"
    },
    {
     "name": "stderr",
     "output_type": "stream",
     "text": [
      "2024-12-18 14:06:07,805 - BERTopic - Embedding - Completed ✓\n",
      "2024-12-18 14:06:07,806 - BERTopic - Dimensionality - Fitting the dimensionality reduction algorithm\n",
      "2024-12-18 14:06:07,863 - BERTopic - Dimensionality - Completed ✓\n",
      "2024-12-18 14:06:07,864 - BERTopic - Cluster - Start clustering the reduced embeddings\n",
      "2024-12-18 14:06:07,871 - BERTopic - Cluster - Completed ✓\n",
      "2024-12-18 14:06:07,872 - BERTopic - Representation - Extracting topics from clusters using representation models.\n",
      "2024-12-18 14:06:07,890 - BERTopic - Representation - Completed ✓\n",
      "2024-12-18 14:06:07,907 - BERTopic - Embedding - Transforming documents to embeddings.\n"
     ]
    },
    {
     "data": {
      "application/vnd.jupyter.widget-view+json": {
       "model_id": "8a517cd2686e44b4b61bbd3404742649",
       "version_major": 2,
       "version_minor": 0
      },
      "text/plain": [
       "Batches:   0%|          | 0/3 [00:00<?, ?it/s]"
      ]
     },
     "metadata": {},
     "output_type": "display_data"
    },
    {
     "name": "stderr",
     "output_type": "stream",
     "text": [
      "2024-12-18 14:06:11,464 - BERTopic - Embedding - Completed ✓\n",
      "2024-12-18 14:06:11,465 - BERTopic - Dimensionality - Fitting the dimensionality reduction algorithm\n",
      "2024-12-18 14:06:11,538 - BERTopic - Dimensionality - Completed ✓\n",
      "2024-12-18 14:06:11,538 - BERTopic - Cluster - Start clustering the reduced embeddings\n",
      "2024-12-18 14:06:11,546 - BERTopic - Cluster - Completed ✓\n",
      "2024-12-18 14:06:11,548 - BERTopic - Representation - Extracting topics from clusters using representation models.\n",
      "2024-12-18 14:06:11,564 - BERTopic - Representation - Completed ✓\n",
      "2024-12-18 14:06:11,579 - BERTopic - Embedding - Transforming documents to embeddings.\n"
     ]
    },
    {
     "data": {
      "application/vnd.jupyter.widget-view+json": {
       "model_id": "42f887331b0d48db8680cd015d786f12",
       "version_major": 2,
       "version_minor": 0
      },
      "text/plain": [
       "Batches:   0%|          | 0/3 [00:00<?, ?it/s]"
      ]
     },
     "metadata": {},
     "output_type": "display_data"
    },
    {
     "name": "stderr",
     "output_type": "stream",
     "text": [
      "2024-12-18 14:06:15,101 - BERTopic - Embedding - Completed ✓\n",
      "2024-12-18 14:06:15,101 - BERTopic - Dimensionality - Fitting the dimensionality reduction algorithm\n",
      "2024-12-18 14:06:15,201 - BERTopic - Dimensionality - Completed ✓\n",
      "2024-12-18 14:06:15,202 - BERTopic - Cluster - Start clustering the reduced embeddings\n",
      "2024-12-18 14:06:15,208 - BERTopic - Cluster - Completed ✓\n",
      "2024-12-18 14:06:15,210 - BERTopic - Representation - Extracting topics from clusters using representation models.\n",
      "2024-12-18 14:06:15,238 - BERTopic - Representation - Completed ✓\n",
      "2024-12-18 14:06:15,253 - BERTopic - Embedding - Transforming documents to embeddings.\n"
     ]
    },
    {
     "data": {
      "application/vnd.jupyter.widget-view+json": {
       "model_id": "d831e1b89b2b4281984701a4ed2318ee",
       "version_major": 2,
       "version_minor": 0
      },
      "text/plain": [
       "Batches:   0%|          | 0/3 [00:00<?, ?it/s]"
      ]
     },
     "metadata": {},
     "output_type": "display_data"
    },
    {
     "name": "stderr",
     "output_type": "stream",
     "text": [
      "2024-12-18 14:06:18,391 - BERTopic - Embedding - Completed ✓\n",
      "2024-12-18 14:06:18,392 - BERTopic - Dimensionality - Fitting the dimensionality reduction algorithm\n",
      "2024-12-18 14:06:18,452 - BERTopic - Dimensionality - Completed ✓\n",
      "2024-12-18 14:06:18,453 - BERTopic - Cluster - Start clustering the reduced embeddings\n",
      "2024-12-18 14:06:18,460 - BERTopic - Cluster - Completed ✓\n",
      "2024-12-18 14:06:18,462 - BERTopic - Representation - Extracting topics from clusters using representation models.\n",
      "2024-12-18 14:06:18,475 - BERTopic - Representation - Completed ✓\n",
      "2024-12-18 14:06:18,486 - BERTopic - Embedding - Transforming documents to embeddings.\n"
     ]
    },
    {
     "data": {
      "application/vnd.jupyter.widget-view+json": {
       "model_id": "6b4498818b9044b1b7e7098a1b677eb7",
       "version_major": 2,
       "version_minor": 0
      },
      "text/plain": [
       "Batches:   0%|          | 0/3 [00:00<?, ?it/s]"
      ]
     },
     "metadata": {},
     "output_type": "display_data"
    },
    {
     "name": "stderr",
     "output_type": "stream",
     "text": [
      "2024-12-18 14:06:21,045 - BERTopic - Embedding - Completed ✓\n",
      "2024-12-18 14:06:21,046 - BERTopic - Dimensionality - Fitting the dimensionality reduction algorithm\n",
      "2024-12-18 14:06:21,106 - BERTopic - Dimensionality - Completed ✓\n",
      "2024-12-18 14:06:21,106 - BERTopic - Cluster - Start clustering the reduced embeddings\n",
      "2024-12-18 14:06:21,113 - BERTopic - Cluster - Completed ✓\n",
      "2024-12-18 14:06:21,114 - BERTopic - Representation - Extracting topics from clusters using representation models.\n",
      "2024-12-18 14:06:21,124 - BERTopic - Representation - Completed ✓\n",
      "2024-12-18 14:06:21,134 - BERTopic - Embedding - Transforming documents to embeddings.\n"
     ]
    },
    {
     "data": {
      "application/vnd.jupyter.widget-view+json": {
       "model_id": "55b9a15c32334f5faf53790601675748",
       "version_major": 2,
       "version_minor": 0
      },
      "text/plain": [
       "Batches:   0%|          | 0/4 [00:00<?, ?it/s]"
      ]
     },
     "metadata": {},
     "output_type": "display_data"
    },
    {
     "name": "stderr",
     "output_type": "stream",
     "text": [
      "2024-12-18 14:06:25,354 - BERTopic - Embedding - Completed ✓\n",
      "2024-12-18 14:06:25,355 - BERTopic - Dimensionality - Fitting the dimensionality reduction algorithm\n",
      "2024-12-18 14:06:25,462 - BERTopic - Dimensionality - Completed ✓\n",
      "2024-12-18 14:06:25,462 - BERTopic - Cluster - Start clustering the reduced embeddings\n",
      "2024-12-18 14:06:25,469 - BERTopic - Cluster - Completed ✓\n",
      "2024-12-18 14:06:25,471 - BERTopic - Representation - Extracting topics from clusters using representation models.\n",
      "2024-12-18 14:06:25,491 - BERTopic - Representation - Completed ✓\n",
      "2024-12-18 14:06:25,506 - BERTopic - Embedding - Transforming documents to embeddings.\n"
     ]
    },
    {
     "data": {
      "application/vnd.jupyter.widget-view+json": {
       "model_id": "74d13560874e4125ae155875732a2bd1",
       "version_major": 2,
       "version_minor": 0
      },
      "text/plain": [
       "Batches:   0%|          | 0/4 [00:00<?, ?it/s]"
      ]
     },
     "metadata": {},
     "output_type": "display_data"
    },
    {
     "name": "stderr",
     "output_type": "stream",
     "text": [
      "2024-12-18 14:06:29,455 - BERTopic - Embedding - Completed ✓\n",
      "2024-12-18 14:06:29,456 - BERTopic - Dimensionality - Fitting the dimensionality reduction algorithm\n",
      "2024-12-18 14:06:29,520 - BERTopic - Dimensionality - Completed ✓\n",
      "2024-12-18 14:06:29,521 - BERTopic - Cluster - Start clustering the reduced embeddings\n",
      "2024-12-18 14:06:29,528 - BERTopic - Cluster - Completed ✓\n",
      "2024-12-18 14:06:29,530 - BERTopic - Representation - Extracting topics from clusters using representation models.\n",
      "2024-12-18 14:06:29,542 - BERTopic - Representation - Completed ✓\n",
      "2024-12-18 14:06:29,557 - BERTopic - Embedding - Transforming documents to embeddings.\n"
     ]
    },
    {
     "data": {
      "application/vnd.jupyter.widget-view+json": {
       "model_id": "67d205888afd4799baf7209ee39c39a7",
       "version_major": 2,
       "version_minor": 0
      },
      "text/plain": [
       "Batches:   0%|          | 0/4 [00:00<?, ?it/s]"
      ]
     },
     "metadata": {},
     "output_type": "display_data"
    },
    {
     "name": "stderr",
     "output_type": "stream",
     "text": [
      "2024-12-18 14:06:33,260 - BERTopic - Embedding - Completed ✓\n",
      "2024-12-18 14:06:33,260 - BERTopic - Dimensionality - Fitting the dimensionality reduction algorithm\n",
      "2024-12-18 14:06:33,328 - BERTopic - Dimensionality - Completed ✓\n",
      "2024-12-18 14:06:33,328 - BERTopic - Cluster - Start clustering the reduced embeddings\n",
      "2024-12-18 14:06:33,337 - BERTopic - Cluster - Completed ✓\n",
      "2024-12-18 14:06:33,338 - BERTopic - Representation - Extracting topics from clusters using representation models.\n",
      "2024-12-18 14:06:33,351 - BERTopic - Representation - Completed ✓\n",
      "2024-12-18 14:06:33,383 - BERTopic - Embedding - Transforming documents to embeddings.\n"
     ]
    },
    {
     "data": {
      "application/vnd.jupyter.widget-view+json": {
       "model_id": "822ecc2d033a4f04937f70aaf3e42c68",
       "version_major": 2,
       "version_minor": 0
      },
      "text/plain": [
       "Batches:   0%|          | 0/4 [00:00<?, ?it/s]"
      ]
     },
     "metadata": {},
     "output_type": "display_data"
    },
    {
     "name": "stderr",
     "output_type": "stream",
     "text": [
      "2024-12-18 14:06:37,143 - BERTopic - Embedding - Completed ✓\n",
      "2024-12-18 14:06:37,143 - BERTopic - Dimensionality - Fitting the dimensionality reduction algorithm\n",
      "2024-12-18 14:06:37,207 - BERTopic - Dimensionality - Completed ✓\n",
      "2024-12-18 14:06:37,208 - BERTopic - Cluster - Start clustering the reduced embeddings\n",
      "2024-12-18 14:06:37,214 - BERTopic - Cluster - Completed ✓\n",
      "2024-12-18 14:06:37,216 - BERTopic - Representation - Extracting topics from clusters using representation models.\n",
      "2024-12-18 14:06:37,229 - BERTopic - Representation - Completed ✓\n",
      "2024-12-18 14:06:37,239 - BERTopic - Embedding - Transforming documents to embeddings.\n"
     ]
    },
    {
     "data": {
      "application/vnd.jupyter.widget-view+json": {
       "model_id": "7928adb3ef1e4728b9cce16fd8203442",
       "version_major": 2,
       "version_minor": 0
      },
      "text/plain": [
       "Batches:   0%|          | 0/4 [00:00<?, ?it/s]"
      ]
     },
     "metadata": {},
     "output_type": "display_data"
    },
    {
     "name": "stderr",
     "output_type": "stream",
     "text": [
      "2024-12-18 14:06:40,806 - BERTopic - Embedding - Completed ✓\n",
      "2024-12-18 14:06:40,806 - BERTopic - Dimensionality - Fitting the dimensionality reduction algorithm\n",
      "2024-12-18 14:06:40,930 - BERTopic - Dimensionality - Completed ✓\n",
      "2024-12-18 14:06:40,931 - BERTopic - Cluster - Start clustering the reduced embeddings\n",
      "2024-12-18 14:06:40,938 - BERTopic - Cluster - Completed ✓\n",
      "2024-12-18 14:06:40,939 - BERTopic - Representation - Extracting topics from clusters using representation models.\n",
      "2024-12-18 14:06:40,944 - BERTopic - Representation - Completed ✓\n",
      "2024-12-18 14:06:40,953 - BERTopic - Embedding - Transforming documents to embeddings.\n"
     ]
    },
    {
     "data": {
      "application/vnd.jupyter.widget-view+json": {
       "model_id": "630f2ce8433d4a1cbccd31f83552ddc0",
       "version_major": 2,
       "version_minor": 0
      },
      "text/plain": [
       "Batches:   0%|          | 0/4 [00:00<?, ?it/s]"
      ]
     },
     "metadata": {},
     "output_type": "display_data"
    },
    {
     "name": "stderr",
     "output_type": "stream",
     "text": [
      "2024-12-18 14:06:44,574 - BERTopic - Embedding - Completed ✓\n",
      "2024-12-18 14:06:44,574 - BERTopic - Dimensionality - Fitting the dimensionality reduction algorithm\n",
      "2024-12-18 14:06:44,643 - BERTopic - Dimensionality - Completed ✓\n",
      "2024-12-18 14:06:44,644 - BERTopic - Cluster - Start clustering the reduced embeddings\n",
      "2024-12-18 14:06:44,650 - BERTopic - Cluster - Completed ✓\n",
      "2024-12-18 14:06:44,651 - BERTopic - Representation - Extracting topics from clusters using representation models.\n",
      "2024-12-18 14:06:44,663 - BERTopic - Representation - Completed ✓\n",
      "2024-12-18 14:06:44,675 - BERTopic - Embedding - Transforming documents to embeddings.\n"
     ]
    },
    {
     "data": {
      "application/vnd.jupyter.widget-view+json": {
       "model_id": "a0c6de8c3e2146bfa77ea01ef43996fe",
       "version_major": 2,
       "version_minor": 0
      },
      "text/plain": [
       "Batches:   0%|          | 0/4 [00:00<?, ?it/s]"
      ]
     },
     "metadata": {},
     "output_type": "display_data"
    },
    {
     "name": "stderr",
     "output_type": "stream",
     "text": [
      "2024-12-18 14:06:48,429 - BERTopic - Embedding - Completed ✓\n",
      "2024-12-18 14:06:48,429 - BERTopic - Dimensionality - Fitting the dimensionality reduction algorithm\n",
      "2024-12-18 14:06:48,505 - BERTopic - Dimensionality - Completed ✓\n",
      "2024-12-18 14:06:48,505 - BERTopic - Cluster - Start clustering the reduced embeddings\n",
      "2024-12-18 14:06:48,513 - BERTopic - Cluster - Completed ✓\n",
      "2024-12-18 14:06:48,514 - BERTopic - Representation - Extracting topics from clusters using representation models.\n",
      "2024-12-18 14:06:48,527 - BERTopic - Representation - Completed ✓\n",
      "2024-12-18 14:06:48,541 - BERTopic - Embedding - Transforming documents to embeddings.\n"
     ]
    },
    {
     "data": {
      "application/vnd.jupyter.widget-view+json": {
       "model_id": "850737c7c9814041b97159da2ecb0d63",
       "version_major": 2,
       "version_minor": 0
      },
      "text/plain": [
       "Batches:   0%|          | 0/4 [00:00<?, ?it/s]"
      ]
     },
     "metadata": {},
     "output_type": "display_data"
    },
    {
     "name": "stderr",
     "output_type": "stream",
     "text": [
      "2024-12-18 14:06:52,723 - BERTopic - Embedding - Completed ✓\n",
      "2024-12-18 14:06:52,724 - BERTopic - Dimensionality - Fitting the dimensionality reduction algorithm\n",
      "2024-12-18 14:06:52,845 - BERTopic - Dimensionality - Completed ✓\n",
      "2024-12-18 14:06:52,846 - BERTopic - Cluster - Start clustering the reduced embeddings\n",
      "2024-12-18 14:06:52,854 - BERTopic - Cluster - Completed ✓\n",
      "2024-12-18 14:06:52,856 - BERTopic - Representation - Extracting topics from clusters using representation models.\n",
      "2024-12-18 14:06:52,887 - BERTopic - Representation - Completed ✓\n",
      "2024-12-18 14:06:52,912 - BERTopic - Embedding - Transforming documents to embeddings.\n"
     ]
    },
    {
     "data": {
      "application/vnd.jupyter.widget-view+json": {
       "model_id": "b939ac19ec7b4dcfb10ff0b02da4f738",
       "version_major": 2,
       "version_minor": 0
      },
      "text/plain": [
       "Batches:   0%|          | 0/4 [00:00<?, ?it/s]"
      ]
     },
     "metadata": {},
     "output_type": "display_data"
    },
    {
     "name": "stderr",
     "output_type": "stream",
     "text": [
      "2024-12-18 14:06:57,103 - BERTopic - Embedding - Completed ✓\n",
      "2024-12-18 14:06:57,103 - BERTopic - Dimensionality - Fitting the dimensionality reduction algorithm\n",
      "2024-12-18 14:06:57,183 - BERTopic - Dimensionality - Completed ✓\n",
      "2024-12-18 14:06:57,183 - BERTopic - Cluster - Start clustering the reduced embeddings\n",
      "2024-12-18 14:06:57,191 - BERTopic - Cluster - Completed ✓\n",
      "2024-12-18 14:06:57,192 - BERTopic - Representation - Extracting topics from clusters using representation models.\n",
      "2024-12-18 14:06:57,210 - BERTopic - Representation - Completed ✓\n",
      "2024-12-18 14:06:57,223 - BERTopic - Embedding - Transforming documents to embeddings.\n"
     ]
    },
    {
     "data": {
      "application/vnd.jupyter.widget-view+json": {
       "model_id": "870069208ee842d3960b5aa5937f6c91",
       "version_major": 2,
       "version_minor": 0
      },
      "text/plain": [
       "Batches:   0%|          | 0/4 [00:00<?, ?it/s]"
      ]
     },
     "metadata": {},
     "output_type": "display_data"
    },
    {
     "name": "stderr",
     "output_type": "stream",
     "text": [
      "2024-12-18 14:07:00,874 - BERTopic - Embedding - Completed ✓\n",
      "2024-12-18 14:07:00,875 - BERTopic - Dimensionality - Fitting the dimensionality reduction algorithm\n",
      "2024-12-18 14:07:01,124 - BERTopic - Dimensionality - Completed ✓\n",
      "2024-12-18 14:07:01,125 - BERTopic - Cluster - Start clustering the reduced embeddings\n",
      "2024-12-18 14:07:01,133 - BERTopic - Cluster - Completed ✓\n",
      "2024-12-18 14:07:01,135 - BERTopic - Representation - Extracting topics from clusters using representation models.\n",
      "2024-12-18 14:07:01,145 - BERTopic - Representation - Completed ✓\n",
      "2024-12-18 14:07:01,167 - BERTopic - Embedding - Transforming documents to embeddings.\n"
     ]
    },
    {
     "data": {
      "application/vnd.jupyter.widget-view+json": {
       "model_id": "db025d42a4524b528c8e7415f647e770",
       "version_major": 2,
       "version_minor": 0
      },
      "text/plain": [
       "Batches:   0%|          | 0/6 [00:00<?, ?it/s]"
      ]
     },
     "metadata": {},
     "output_type": "display_data"
    },
    {
     "name": "stderr",
     "output_type": "stream",
     "text": [
      "2024-12-18 14:07:05,176 - BERTopic - Embedding - Completed ✓\n",
      "2024-12-18 14:07:05,179 - BERTopic - Dimensionality - Fitting the dimensionality reduction algorithm\n",
      "2024-12-18 14:07:05,272 - BERTopic - Dimensionality - Completed ✓\n",
      "2024-12-18 14:07:05,273 - BERTopic - Cluster - Start clustering the reduced embeddings\n",
      "2024-12-18 14:07:05,284 - BERTopic - Cluster - Completed ✓\n",
      "2024-12-18 14:07:05,287 - BERTopic - Representation - Extracting topics from clusters using representation models.\n",
      "2024-12-18 14:07:05,348 - BERTopic - Representation - Completed ✓\n",
      "2024-12-18 14:07:05,431 - BERTopic - Embedding - Transforming documents to embeddings.\n"
     ]
    },
    {
     "data": {
      "application/vnd.jupyter.widget-view+json": {
       "model_id": "ca7206a2f28c41ee924b0cbd833260f1",
       "version_major": 2,
       "version_minor": 0
      },
      "text/plain": [
       "Batches:   0%|          | 0/6 [00:00<?, ?it/s]"
      ]
     },
     "metadata": {},
     "output_type": "display_data"
    },
    {
     "name": "stderr",
     "output_type": "stream",
     "text": [
      "2024-12-18 14:07:08,474 - BERTopic - Embedding - Completed ✓\n",
      "2024-12-18 14:07:08,474 - BERTopic - Dimensionality - Fitting the dimensionality reduction algorithm\n",
      "2024-12-18 14:07:08,715 - BERTopic - Dimensionality - Completed ✓\n",
      "2024-12-18 14:07:08,716 - BERTopic - Cluster - Start clustering the reduced embeddings\n",
      "2024-12-18 14:07:08,724 - BERTopic - Cluster - Completed ✓\n",
      "2024-12-18 14:07:08,726 - BERTopic - Representation - Extracting topics from clusters using representation models.\n",
      "2024-12-18 14:07:08,734 - BERTopic - Representation - Completed ✓\n"
     ]
    },
    {
     "name": "stdout",
     "output_type": "stream",
     "text": [
      "解析完了。エラーまたは不十分なデータが発生したDataFrame数: 0\n"
     ]
    }
   ],
   "source": [
    "topics_list = []\n",
    "err_df = []\n",
    "\n",
    "# sorted_dfs_copy のdfリスト全てからトピックを取得\n",
    "for index, df_copy in enumerate(sorted_dfs_copy):\n",
    "    try:\n",
    "        sentences = df_copy[\"文章\"].tolist()\n",
    "        \n",
    "        # 文章数が2未満であることを確認\n",
    "        if len(sentences) < 2:\n",
    "            print(f\"警告: インデックス {index} の文章数が不足しています。スキップします。\")\n",
    "            topics_list.append(index)  # インデックスを格納\n",
    "            err_df.append(df_copy)\n",
    "            continue\n",
    "\n",
    "        topic_model = topic_modeling(sentences)\n",
    "        topics_list.append(topic_model)\n",
    "    except (TypeError, ValueError) as e:\n",
    "        print(f\"エラーが発生しました (インデックス {index}):\")\n",
    "        print(str(e))\n",
    "        print(\"\\nエラーが発生した時のdf_copy:\")\n",
    "        print(df_copy)\n",
    "        \n",
    "        # エラーが発生したDataFrameとそのインデックスを保存\n",
    "        err_df.append(df_copy)\n",
    "        topics_list.append(index)  # インデックスを格納\n",
    "        \n",
    "        # エラーが発生しても次のデータベースの解析を続行\n",
    "\n",
    "print(f\"解析完了。エラーまたは不十分なデータが発生したDataFrame数: {len(err_df)}\")\n",
    "\n"
   ]
  },
  {
   "cell_type": "code",
   "execution_count": 30,
   "metadata": {},
   "outputs": [
    {
     "name": "stdout",
     "output_type": "stream",
     "text": [
      "全てトピックを取得\n"
     ]
    }
   ],
   "source": [
    "# トピックが取れたか確認\n",
    "if len(topics_list) == len(sorted_dfs_copy):\n",
    "    print(\"全てトピックを取得\")\n",
    "else:\n",
    "    print(\"一部、解析エラー\")\n",
    "    err_df"
   ]
  },
  {
   "cell_type": "code",
   "execution_count": 31,
   "metadata": {},
   "outputs": [
    {
     "data": {
      "text/plain": [
       "['かなり長いこと染めていなかったので',\n",
       " 'カラーだったので',\n",
       " '黒傾向になったので、',\n",
       " '矯正とカラー同時にしたからでしょうか?でも、日中はうるうるのサラサラなので',\n",
       " '色や仕上がりのイメージを事前に共有していなかった為、',\n",
       " 'インナーカラーなら隠せるから',\n",
       " '初めてのカラーだったので',\n",
       " 'かなり緑が強かったので',\n",
       " '最近カラーばかりでヘッドスパが疎かになってたので、',\n",
       " 'もう根本が黒くなってきたので',\n",
       " 'はじめてのカラーだったので',\n",
       " '顔の印象も少し明るくなったので',\n",
       " '初めての利用で初めてのインナーカラーだったので、',\n",
       " 'カラー剤などが染みてないかどうかの確認も何度もしていただいたので、',\n",
       " 'カラーは、全体的な明るさをなくしてもらえたので',\n",
       " '元々かなり明るい髪色だったため、',\n",
       " 'カラー前に保護するためのスプレーをかけてもらえたので',\n",
       " '今回は明るめのインナーカラーを入れたかったので、',\n",
       " 'ブラウンも少し入れてるから',\n",
       " '普段あまり使わない色だったので',\n",
       " 'のがことのないカラーを提案していただけたので',\n",
       " '初カラーだったので',\n",
       " 'ハイライトを入れたので',\n",
       " '全体が鏡でしたので',\n",
       " '半年ぶりにカラーしたので',\n",
       " 'ハイライトを入れたので',\n",
       " 'カラーはこちらのお店では初めてだったので、',\n",
       " 'ブリーチもカラーもしたので',\n",
       " '特にカラーは悩んでいたので',\n",
       " 'それに何回も染め直ししていたようなので、',\n",
       " 'カラーの希望も特になかったので',\n",
       " '初めての美容室でのカラーだったので',\n",
       " 'ブルーブラックのような色を一度やってみたかったので',\n",
       " '明るすぎると職場がNGなので',\n",
       " '以前より黒くしたので、',\n",
       " '初めてのアッシュカラーなので、',\n",
       " '思ってたよりシルバーパープルだったので',\n",
       " '人生初カラーだったので、',\n",
       " '初めてのカラーだったので、',\n",
       " '縮毛矯正と暗染の履歴があったため、',\n",
       " 'ピンクブラウンを想像していたので',\n",
       " '白髪染めで暗くなったカラーを明るくしたいので',\n",
       " '注文した色と全く違う色にされたこともあったため',\n",
       " '染まって無いところがチラホラと‥初めて来店の時はとてもキレイに染めて頂いただけに',\n",
       " '久々に暗いカラーをするので、',\n",
       " 'カラー終了後に、落ちてしまうので',\n",
       " 'カラー前のカウンセリングも色見本の提示などは雑だったので、',\n",
       " '今回が初カラーだったので',\n",
       " '初めてのカラーだったので',\n",
       " 'ヘアカラーもカラーだったので',\n",
       " '他店で酸熱トリートメントをした後のカラーだったので',\n",
       " '濃いめの紫にしてもらったので、',\n",
       " '今回は明るくなりすぎているので',\n",
       " '染めてもらったので',\n",
       " '今までずっと市販の物で染めていたので',\n",
       " 'デザインカラーをしていたので、',\n",
       " '久々のカラーだったので',\n",
       " 'まだ染めて間もないので',\n",
       " 'ジュって一瞬煙が見えたので',\n",
       " '仕上がりも初カラーだったので',\n",
       " '今までのカラーで色落ちしてくれたので',\n",
       " 'カットとカラーしか考えていなかったので、',\n",
       " 'カラー、トリートメントしていただきました産前でしばらく来れないので、',\n",
       " '次のカラーも楽しみです♪毛先が傷んでいたので、',\n",
       " '初カラーだったので',\n",
       " '黒染めをしていたため',\n",
       " 'ブルーブラックになったので',\n",
       " '黒染め歴があったので',\n",
       " '前回は青身が強かったので',\n",
       " '初めてのカラーだったので',\n",
       " '髪を暗くしたかったので',\n",
       " 'カラーでかぶれたり痒くなるようになって諦めてたのが、こちらのお店ではきれいに色が入ったので、',\n",
       " '唯一カラーした際の髪色が望んでた髪色より暗かった為、',\n",
       " 'つけっぱなしの上でのカラーなので',\n",
       " '暗めのカラーにしていただきました',\n",
       " '今回は初めてカットカラートリートメントで伺いました',\n",
       " '黒染めしてもらいましたが',\n",
       " '暗めの茶色に染めて頂きました',\n",
       " 'すっきりして軽くなりましたカラーは黒くしてもらいました',\n",
       " 'レイヤーを入れて赤っぽいブラウンに染めて貰いました',\n",
       " '私もパーソナルカラー診断を受けてきました',\n",
       " 'インナーカラーをしてもらったのですが、',\n",
       " 'カラーもですが',\n",
       " '1回目は、人生初のカラーをしました',\n",
       " 'カラーだけは残念です',\n",
       " 'リピートしています◎ただ今回は暗めのブラウンオーダーで完成は黒髪だったし、',\n",
       " '今回は黒染めをしましたが、',\n",
       " 'とても良かったです前回はインナーブリーチと青を入れていただいたのですが',\n",
       " '青を少し入れたりと',\n",
       " '暗くしたくて行きましたが',\n",
       " 'カラーの配合は今回は前回と同じカラーでと',\n",
       " '今回ピンクブラウンを注文しましたが、',\n",
       " '次回は少し黒っぽくしたいと思います',\n",
       " 'カラーをワントーン落とせば',\n",
       " 'カラーになりました',\n",
       " '美容師さんも気さくな方でおしゃべり好きの私にはプリンが目立たないようにグラデーションカラーにしてもらいました',\n",
       " '今回は暗くしました',\n",
       " '初めて伺いました前回前々回と今回は黒染めだったのですが、',\n",
       " '薬剤が染みたのですが、',\n",
       " 'カラーのムラは覚悟していましたし、',\n",
       " '派手過ぎないようにカラーしてもらいました',\n",
       " '今回は少し明るいカラーにしました',\n",
       " '今回は前回より明るくしたかったのですが']"
      ]
     },
     "execution_count": 31,
     "metadata": {},
     "output_type": "execute_result"
    }
   ],
   "source": [
    "sorted_dfs_copy[90][\"文章\"].tolist()"
   ]
  },
  {
   "cell_type": "code",
   "execution_count": 32,
   "metadata": {},
   "outputs": [
    {
     "data": {
      "text/plain": [
       "0                                      [前回 青 身 強かっ]\n",
       "1    [今回 カラー, インナー カラー し もらっ の, 今回 明るめ インナー カラー 入れ]\n",
       "2              [黒 染め し い ため, 黒 染め し もらい, 今回 黒 染め し]\n",
       "3                                   [カラー, カラー, カラー]\n",
       "Name: Representative_Docs, dtype: object"
      ]
     },
     "execution_count": 32,
     "metadata": {},
     "output_type": "execute_result"
    }
   ],
   "source": [
    "topics_list[90].get_topic_info()[\"Representative_Docs\"]"
   ]
  },
  {
   "cell_type": "code",
   "execution_count": 33,
   "metadata": {},
   "outputs": [],
   "source": [
    "from sklearn.feature_extraction.text import TfidfVectorizer\n",
    "from sklearn.metrics.pairwise import cosine_similarity\n",
    "import pandas as pd"
   ]
  },
  {
   "cell_type": "code",
   "execution_count": 34,
   "metadata": {},
   "outputs": [
    {
     "data": {
      "text/html": [
       "<div>\n",
       "<style scoped>\n",
       "    .dataframe tbody tr th:only-of-type {\n",
       "        vertical-align: middle;\n",
       "    }\n",
       "\n",
       "    .dataframe tbody tr th {\n",
       "        vertical-align: top;\n",
       "    }\n",
       "\n",
       "    .dataframe thead th {\n",
       "        text-align: right;\n",
       "    }\n",
       "</style>\n",
       "<table border=\"1\" class=\"dataframe\">\n",
       "  <thead>\n",
       "    <tr style=\"text-align: right;\">\n",
       "      <th></th>\n",
       "      <th>文章</th>\n",
       "      <th>クラスタ</th>\n",
       "    </tr>\n",
       "  </thead>\n",
       "  <tbody>\n",
       "    <tr>\n",
       "      <th>153</th>\n",
       "      <td>かなり長いこと染めていなかったので</td>\n",
       "      <td>6</td>\n",
       "    </tr>\n",
       "    <tr>\n",
       "      <th>189</th>\n",
       "      <td>カラーだったので</td>\n",
       "      <td>6</td>\n",
       "    </tr>\n",
       "    <tr>\n",
       "      <th>220</th>\n",
       "      <td>黒傾向になったので、</td>\n",
       "      <td>6</td>\n",
       "    </tr>\n",
       "    <tr>\n",
       "      <th>261</th>\n",
       "      <td>矯正とカラー同時にしたからでしょうか?でも、日中はうるうるのサラサラなので</td>\n",
       "      <td>6</td>\n",
       "    </tr>\n",
       "    <tr>\n",
       "      <th>265</th>\n",
       "      <td>色や仕上がりのイメージを事前に共有していなかった為、</td>\n",
       "      <td>6</td>\n",
       "    </tr>\n",
       "    <tr>\n",
       "      <th>...</th>\n",
       "      <td>...</td>\n",
       "      <td>...</td>\n",
       "    </tr>\n",
       "    <tr>\n",
       "      <th>5840</th>\n",
       "      <td>薬剤が染みたのですが、</td>\n",
       "      <td>6</td>\n",
       "    </tr>\n",
       "    <tr>\n",
       "      <th>6247</th>\n",
       "      <td>カラーのムラは覚悟していましたし、</td>\n",
       "      <td>6</td>\n",
       "    </tr>\n",
       "    <tr>\n",
       "      <th>6263</th>\n",
       "      <td>派手過ぎないようにカラーしてもらいました</td>\n",
       "      <td>6</td>\n",
       "    </tr>\n",
       "    <tr>\n",
       "      <th>6305</th>\n",
       "      <td>今回は少し明るいカラーにしました</td>\n",
       "      <td>6</td>\n",
       "    </tr>\n",
       "    <tr>\n",
       "      <th>6654</th>\n",
       "      <td>今回は前回より明るくしたかったのですが</td>\n",
       "      <td>6</td>\n",
       "    </tr>\n",
       "  </tbody>\n",
       "</table>\n",
       "<p>103 rows × 2 columns</p>\n",
       "</div>"
      ],
      "text/plain": [
       "                                         文章  クラスタ\n",
       "153                       かなり長いこと染めていなかったので     6\n",
       "189                                カラーだったので     6\n",
       "220                              黒傾向になったので、     6\n",
       "261   矯正とカラー同時にしたからでしょうか?でも、日中はうるうるのサラサラなので     6\n",
       "265              色や仕上がりのイメージを事前に共有していなかった為、     6\n",
       "...                                     ...   ...\n",
       "5840                            薬剤が染みたのですが、     6\n",
       "6247                      カラーのムラは覚悟していましたし、     6\n",
       "6263                   派手過ぎないようにカラーしてもらいました     6\n",
       "6305                       今回は少し明るいカラーにしました     6\n",
       "6654                    今回は前回より明るくしたかったのですが     6\n",
       "\n",
       "[103 rows x 2 columns]"
      ]
     },
     "execution_count": 34,
     "metadata": {},
     "output_type": "execute_result"
    }
   ],
   "source": [
    "sorted_dfs_copy[90]"
   ]
  },
  {
   "cell_type": "code",
   "execution_count": 35,
   "metadata": {},
   "outputs": [
    {
     "data": {
      "text/plain": [
       "['かなり長いこと染めていなかったので',\n",
       " 'カラーだったので',\n",
       " '黒傾向になったので、',\n",
       " '矯正とカラー同時にしたからでしょうか?でも、日中はうるうるのサラサラなので',\n",
       " '色や仕上がりのイメージを事前に共有していなかった為、',\n",
       " 'インナーカラーなら隠せるから',\n",
       " '初めてのカラーだったので',\n",
       " 'かなり緑が強かったので',\n",
       " '最近カラーばかりでヘッドスパが疎かになってたので、',\n",
       " 'もう根本が黒くなってきたので',\n",
       " 'はじめてのカラーだったので',\n",
       " '顔の印象も少し明るくなったので',\n",
       " '初めての利用で初めてのインナーカラーだったので、',\n",
       " 'カラー剤などが染みてないかどうかの確認も何度もしていただいたので、',\n",
       " 'カラーは、全体的な明るさをなくしてもらえたので',\n",
       " '元々かなり明るい髪色だったため、',\n",
       " 'カラー前に保護するためのスプレーをかけてもらえたので',\n",
       " '今回は明るめのインナーカラーを入れたかったので、',\n",
       " 'ブラウンも少し入れてるから',\n",
       " '普段あまり使わない色だったので',\n",
       " 'のがことのないカラーを提案していただけたので',\n",
       " '初カラーだったので',\n",
       " 'ハイライトを入れたので',\n",
       " '全体が鏡でしたので',\n",
       " '半年ぶりにカラーしたので',\n",
       " 'ハイライトを入れたので',\n",
       " 'カラーはこちらのお店では初めてだったので、',\n",
       " 'ブリーチもカラーもしたので',\n",
       " '特にカラーは悩んでいたので',\n",
       " 'それに何回も染め直ししていたようなので、',\n",
       " 'カラーの希望も特になかったので',\n",
       " '初めての美容室でのカラーだったので',\n",
       " 'ブルーブラックのような色を一度やってみたかったので',\n",
       " '明るすぎると職場がNGなので',\n",
       " '以前より黒くしたので、',\n",
       " '初めてのアッシュカラーなので、',\n",
       " '思ってたよりシルバーパープルだったので',\n",
       " '人生初カラーだったので、',\n",
       " '初めてのカラーだったので、',\n",
       " '縮毛矯正と暗染の履歴があったため、',\n",
       " 'ピンクブラウンを想像していたので',\n",
       " '白髪染めで暗くなったカラーを明るくしたいので',\n",
       " '注文した色と全く違う色にされたこともあったため',\n",
       " '染まって無いところがチラホラと‥初めて来店の時はとてもキレイに染めて頂いただけに',\n",
       " '久々に暗いカラーをするので、',\n",
       " 'カラー終了後に、落ちてしまうので',\n",
       " 'カラー前のカウンセリングも色見本の提示などは雑だったので、',\n",
       " '今回が初カラーだったので',\n",
       " '初めてのカラーだったので',\n",
       " 'ヘアカラーもカラーだったので',\n",
       " '他店で酸熱トリートメントをした後のカラーだったので',\n",
       " '濃いめの紫にしてもらったので、',\n",
       " '今回は明るくなりすぎているので',\n",
       " '染めてもらったので',\n",
       " '今までずっと市販の物で染めていたので',\n",
       " 'デザインカラーをしていたので、',\n",
       " '久々のカラーだったので',\n",
       " 'まだ染めて間もないので',\n",
       " 'ジュって一瞬煙が見えたので',\n",
       " '仕上がりも初カラーだったので',\n",
       " '今までのカラーで色落ちしてくれたので',\n",
       " 'カットとカラーしか考えていなかったので、',\n",
       " 'カラー、トリートメントしていただきました産前でしばらく来れないので、',\n",
       " '次のカラーも楽しみです♪毛先が傷んでいたので、',\n",
       " '初カラーだったので',\n",
       " '黒染めをしていたため',\n",
       " 'ブルーブラックになったので',\n",
       " '黒染め歴があったので',\n",
       " '前回は青身が強かったので',\n",
       " '初めてのカラーだったので',\n",
       " '髪を暗くしたかったので',\n",
       " 'カラーでかぶれたり痒くなるようになって諦めてたのが、こちらのお店ではきれいに色が入ったので、',\n",
       " '唯一カラーした際の髪色が望んでた髪色より暗かった為、',\n",
       " 'つけっぱなしの上でのカラーなので',\n",
       " '暗めのカラーにしていただきました',\n",
       " '今回は初めてカットカラートリートメントで伺いました',\n",
       " '黒染めしてもらいましたが',\n",
       " '暗めの茶色に染めて頂きました',\n",
       " 'すっきりして軽くなりましたカラーは黒くしてもらいました',\n",
       " 'レイヤーを入れて赤っぽいブラウンに染めて貰いました',\n",
       " '私もパーソナルカラー診断を受けてきました',\n",
       " 'インナーカラーをしてもらったのですが、',\n",
       " 'カラーもですが',\n",
       " '1回目は、人生初のカラーをしました',\n",
       " 'カラーだけは残念です',\n",
       " 'リピートしています◎ただ今回は暗めのブラウンオーダーで完成は黒髪だったし、',\n",
       " '今回は黒染めをしましたが、',\n",
       " 'とても良かったです前回はインナーブリーチと青を入れていただいたのですが',\n",
       " '青を少し入れたりと',\n",
       " '暗くしたくて行きましたが',\n",
       " 'カラーの配合は今回は前回と同じカラーでと',\n",
       " '今回ピンクブラウンを注文しましたが、',\n",
       " '次回は少し黒っぽくしたいと思います',\n",
       " 'カラーをワントーン落とせば',\n",
       " 'カラーになりました',\n",
       " '美容師さんも気さくな方でおしゃべり好きの私にはプリンが目立たないようにグラデーションカラーにしてもらいました',\n",
       " '今回は暗くしました',\n",
       " '初めて伺いました前回前々回と今回は黒染めだったのですが、',\n",
       " '薬剤が染みたのですが、',\n",
       " 'カラーのムラは覚悟していましたし、',\n",
       " '派手過ぎないようにカラーしてもらいました',\n",
       " '今回は少し明るいカラーにしました',\n",
       " '今回は前回より明るくしたかったのですが']"
      ]
     },
     "execution_count": 35,
     "metadata": {},
     "output_type": "execute_result"
    }
   ],
   "source": [
    "sorted_dfs_copy[90][\"文章\"].tolist()"
   ]
  },
  {
   "cell_type": "code",
   "execution_count": 36,
   "metadata": {},
   "outputs": [],
   "source": [
    "# sorted_dfs_copyの全てのdfに列名\"トピック\"を追加\n",
    "for df in sorted_dfs_copy:\n",
    "    if 'トピック' not in df.columns:\n",
    "        df['トピック'] = 'トピック名'"
   ]
  },
  {
   "cell_type": "code",
   "execution_count": 37,
   "metadata": {},
   "outputs": [],
   "source": [
    "# トピックと各dfの文章のベクトルを取得して、近いトピックを割り当てる\n",
    "def assign_topics(df, topics_info):\n",
    "    # 文章とトピックをベクトル化\n",
    "    vectorizer = TfidfVectorizer()\n",
    "    sentences = df[\"文章\"].tolist()\n",
    "    sentence_vectors = vectorizer.fit_transform(sentences)\n",
    "\n",
    "    # 元のデータ\n",
    "    representative_docs = pd.Series(topics_info.get_topic_info()[\"Representative_Docs\"], name='Representative_Docs')\n",
    "\n",
    "    # 指定されたフォーマットに変換\n",
    "    topics = [', '.join(topic) for topic in representative_docs]\n",
    "    topic_vectors = vectorizer.transform(topics)\n",
    "\n",
    "    # 余弦類似度を計算\n",
    "    similarity_matrix = cosine_similarity(sentence_vectors, topic_vectors)\n",
    "\n",
    "    # 各文章を最も近いトピックに割り当て\n",
    "    assigned_topics = [topics[i] for i in similarity_matrix.argmax(axis=1)]\n",
    "\n",
    "    # データフレームに\"トピック\"列を追加し、assigned_topicsを代入\n",
    "    df[\"トピック\"] = assigned_topics\n",
    "\n",
    "    return df"
   ]
  },
  {
   "cell_type": "code",
   "execution_count": 199,
   "metadata": {},
   "outputs": [
    {
     "data": {
      "text/plain": [
       "['大変助かります',\n",
       " '助かります',\n",
       " '大変助かりました',\n",
       " '毎回助かってます',\n",
       " '助かっています',\n",
       " '助かります',\n",
       " 'とても助かっています',\n",
       " '凄く助かりました',\n",
       " '重くて助かりました',\n",
       " '本当に助かってます',\n",
       " '今回は助かっています',\n",
       " '助かります',\n",
       " '助かりますし',\n",
       " 'また、非常に助かります',\n",
       " '助かります',\n",
       " '疎い私はとても助かっていますし、',\n",
       " 'とても助かりました',\n",
       " '助かりました',\n",
       " '助かります笑サラサラにになったし、',\n",
       " '助かってますますmm',\n",
       " '助かってます',\n",
       " '今回は助かりましたまた宜しくお願いします',\n",
       " '大変助かりました',\n",
       " '大変助かりました',\n",
       " 'とても助かります',\n",
       " '大変助かりました',\n",
       " '助かります',\n",
       " '助かります',\n",
       " 'とても助かりました',\n",
       " '助かっています',\n",
       " '助かりました',\n",
       " 'とても助かってます',\n",
       " '助かります',\n",
       " '助かります',\n",
       " '凄く助かっています',\n",
       " 'とても助かりました',\n",
       " '助かっております',\n",
       " 'とても助かっています',\n",
       " 'とても助かりました',\n",
       " '助かりました',\n",
       " '助かっています',\n",
       " '助かります',\n",
       " 'とても助かりましたありがとうございます',\n",
       " '助かります',\n",
       " '助かりました',\n",
       " '助かってます',\n",
       " 'とても助かりました',\n",
       " 'やく助かりました',\n",
       " 'とても助かっています',\n",
       " '助かります',\n",
       " 'とても助かりました',\n",
       " 'とても助かります',\n",
       " '助かりましたまたお願いしたいです',\n",
       " '助かりました',\n",
       " 'とても助かっています',\n",
       " 'とても助かりました',\n",
       " '助かります',\n",
       " '本当に助かります',\n",
       " '助かっています',\n",
       " 'とても助かりました',\n",
       " '助かっています',\n",
       " '助かります',\n",
       " '助かります',\n",
       " 'ありがとうございます私には助かります',\n",
       " 'とても助かりました',\n",
       " '助かっています',\n",
       " '助かっています',\n",
       " '助かったなと思いました',\n",
       " '助かります',\n",
       " '助かっています',\n",
       " '助かってます',\n",
       " 'とても助かりました',\n",
       " '助かりました',\n",
       " '助かりました',\n",
       " 'とても助かりました']"
      ]
     },
     "execution_count": 199,
     "metadata": {},
     "output_type": "execute_result"
    }
   ],
   "source": [
    "sorted_dfs_copy[62][\"文章\"].tolist()"
   ]
  },
  {
   "cell_type": "code",
   "execution_count": 203,
   "metadata": {},
   "outputs": [],
   "source": [
    "manual_topics_list = [\n",
    "    \"ツヤツヤになった\",\n",
    "    \"駅から近い\",\n",
    "    \"札幌での美容サービス体験\",\n",
    "    \"外が寒い\",\n",
    "    \"サラサラになった\",\n",
    "    \"信用している\",\n",
    "    \"外・心が暖かい\",\n",
    "    \"外が暑い\",\n",
    "    \"リラックスできた\",\n",
    "    \"明るい、丁寧な接客\",\n",
    "    \"ありがたい\",\n",
    "    \"落ち着いた施術・放置された\",\n",
    "    \"よろしくお願いします\",\n",
    "    \"香りや雰囲気がいい\",\n",
    "    \"様々な動画配信サービスが見れた\",\n",
    "    \"口コミが良かった\",\n",
    "    \"切られすぎた\",\n",
    "    \"立地がいい\",\n",
    "    \"今後も通う\",\n",
    "    \"丁寧な説明/実践的なアドバイス\",\n",
    "    \"短期的なリピート\",\n",
    "    \"話すのが苦手/名前が分からない\",\n",
    "    \"継続利用\",\n",
    "    \"残念\",\n",
    "    \"適度な距離感\",\n",
    "    \"伸ばしている/伸ばしたい\",\n",
    "    \"普段の感謝\",\n",
    "    \"接客が丁寧\",\n",
    "    \"指名します/指名しなかった\",\n",
    "    \"メニューの豊富さ/ドリンクサービス\",\n",
    "    \"来店した\",\n",
    "    \"パーマをかけたい/かけた\",\n",
    "    \"パサつき・色抜けうねりが気になる\",\n",
    "    \"楽しかった/楽しみ\",\n",
    "    \"緊張した\",\n",
    "    \"感謝\",\n",
    "    \"楽/スムーズ\",\n",
    "    \"あっという間\",\n",
    "    \"オーダー・希望通り\",\n",
    "    \"金額が高い・安い\",\n",
    "    \"感動した\",\n",
    "    \"仕上がりに満足・不満足\",\n",
    "    \"色がいい/色落ちが綺麗\",\n",
    "    \"安定した技術・接客\",\n",
    "    \"不安・心配\",\n",
    "    \"ネット予約ができる/当日予約ができる\",\n",
    "    \"嬉しい\",\n",
    "    \"お店に関する内容\",\n",
    "    \"予期しないクオリティ\",\n",
    "    \"安心の施術\",\n",
    "    \"美容室・スタイリストへの不安/あまり美容室に行かない\",\n",
    "    \"アイロンやヘアケア方法に関する学び\",\n",
    "    \"縮毛矯正の予定/縮毛矯正への満足感\",\n",
    "    \"肌が弱い\",\n",
    "    \"失敗経験\",\n",
    "    \"特別なイベント\",\n",
    "    \"施術中の経験や安心感\",\n",
    "    \"挑戦/前向き\",\n",
    "    \"担当者が違う/担当者の異動\",\n",
    "    \"行きます\",\n",
    "    \"施術やケアに関する感謝・満足\",\n",
    "    \"助かっています\",\n",
    "    \"予約がスムーズ\",\n",
    "    \"カットの技術が高い\",\n",
    "    \"カラーリングがきれい\",\n",
    "    \"新しいヘアスタイル\",\n",
    "    \"カット後の扱いやすさ\",\n",
    "    \"仕上がりに満足\",\n",
    "    \"スタイリングが簡単になった\",\n",
    "    \"セットがしやすい\",\n",
    "    \"頑固なクセが改善された\",\n",
    "    \"シャンプーが気持ちいい\",\n",
    "    \"トリートメントが良かった\",\n",
    "    \"笑顔で対応してくれた\",\n",
    "    \"スムーズなカウンセリング\",\n",
    "    \"無理なく会話ができた\",\n",
    "    \"早く仕上がった\",\n",
    "    \"仕上がりが想像以上\",\n",
    "    \"髪の傷みが改善した\",\n",
    "    \"再来店する予定\",\n",
    "    \"施術の後のアフターケア\",\n",
    "    \"ヘアケア商品の紹介\",\n",
    "    \"優れたカットライン\",\n",
    "    \"サロンの雰囲気が良かった\",\n",
    "    \"美容師さんが親切だった\",\n",
    "    \"丁寧なカット\",\n",
    "    \"選べるシャンプーの種類\",\n",
    "    \"清潔感のあるサロン\",\n",
    "    \"親身な対応\",\n",
    "    \"アクセスが良い\",\n",
    "    \"静かな空間\",\n",
    "    \"丁寧な仕上がり\",\n",
    "    \"希望通りのヘアスタイル\",\n",
    "    \"価格が納得\",\n",
    "    \"ヘアアレンジの提案\",\n",
    "    \"長時間の施術でも快適\",\n",
    "    \"髪が元気を取り戻した\",\n",
    "    \"落ち着いたインテリア\",\n",
    "    \"心地よい音楽\",\n",
    "    \"リピート決定\"\n",
    "]\n"
   ]
  },
  {
   "cell_type": "code",
   "execution_count": 204,
   "metadata": {},
   "outputs": [
    {
     "data": {
      "text/plain": [
       "100"
      ]
     },
     "execution_count": 204,
     "metadata": {},
     "output_type": "execute_result"
    }
   ],
   "source": [
    "len(manual_topics_list)"
   ]
  },
  {
   "cell_type": "code",
   "execution_count": 205,
   "metadata": {},
   "outputs": [],
   "source": [
    "for i, df in enumerate(sorted_dfs_copy):\n",
    "    df[\"トピック\"] = manual_topics_list[i]"
   ]
  },
  {
   "cell_type": "code",
   "execution_count": null,
   "metadata": {},
   "outputs": [
    {
     "ename": "IndexError",
     "evalue": "list index out of range",
     "output_type": "error",
     "traceback": [
      "\u001b[0;31m---------------------------------------------------------------------------\u001b[0m",
      "\u001b[0;31mIndexError\u001b[0m                                Traceback (most recent call last)",
      "Cell \u001b[0;32mIn[202], line 1\u001b[0m\n\u001b[0;32m----> 1\u001b[0m \u001b[38;5;28mprint\u001b[39m(\u001b[43mmanual_topics_list\u001b[49m\u001b[43m[\u001b[49m\u001b[38;5;28;43mlen\u001b[39;49m\u001b[43m(\u001b[49m\u001b[43mmanual_topics_list\u001b[49m\u001b[43m)\u001b[49m\u001b[43m]\u001b[49m)\n\u001b[1;32m      2\u001b[0m \u001b[38;5;66;03m# sorted_dfs_copy[len(manual_topics_list)-1][\"文章\"].tolist()\u001b[39;00m\n",
      "\u001b[0;31mIndexError\u001b[0m: list index out of range"
     ]
    }
   ],
   "source": [
    "# print(manual_topics_list[len(manual_topics_list)])\n",
    "# # sorted_dfs_copy[len(manual_topics_list)-1][\"文章\"].tolist()"
   ]
  },
  {
   "cell_type": "code",
   "execution_count": 206,
   "metadata": {},
   "outputs": [],
   "source": [
    "# 必要\n",
    "\n",
    "\n",
    "# # 取得したトピックと各dfの文章のベクトルを取得して、近いトピックを割り当てる\n",
    "# for i in range(len(sorted_dfs_copy)):\n",
    "#     sorted_dfs_copy[i] = assign_topics(sorted_dfs_copy[i], topics_list[i])\n",
    "\n",
    "# # 結果の確認（オプション）\n",
    "# for i in range(len(sorted_dfs_copy)):\n",
    "#     print(f\"DataFrame {i}:\")\n",
    "#     print(sorted_dfs_copy[i][[\"文章\", \"トピック\"]].head())\n",
    "#     print(\"\\n\")"
   ]
  },
  {
   "cell_type": "code",
   "execution_count": 207,
   "metadata": {},
   "outputs": [
    {
     "data": {
      "text/plain": [
       "[                            文章  クラスタ      トピック\n",
       " 775         ツルツルツヤツヤが持続しているので、    62  ツヤツヤになった\n",
       " 868                 ツヤツヤになるので、    62  ツヤツヤになった\n",
       " 987        ツヤのある綺麗な状態がキープできるので    62  ツヤツヤになった\n",
       " 996             ツヤツヤな仕上がりになるので    62  ツヤツヤになった\n",
       " 1102  大満足ですトリートメントでもツヤツヤになったので    62  ツヤツヤになった\n",
       " 2517            しっかり伸びてツヤも出たので    62  ツヤツヤになった\n",
       " 2522              見た目にもツヤが出たので    62  ツヤツヤになった\n",
       " 3736                    ツルツルです    62  ツヤツヤになった\n",
       " 4122        ツルツルツヤツヤが持続しているので、    62  ツヤツヤになった\n",
       " 4449  大満足ですトリートメントでもツヤツヤになったので    62  ツヤツヤになった\n",
       " 5864            しっかり伸びてツヤも出たので    62  ツヤツヤになった,\n",
       "                               文章  クラスタ   トピック\n",
       " 1441                     駅から近いので    48  駅から近い\n",
       " 1544             仕上がりもよきでした駅近なので    48  駅から近い\n",
       " 1761                地下歩出口からも近いので    48  駅から近い\n",
       " 1934           地下歩行空間の出口からはすぐなので    48  駅から近い\n",
       " 2259                     駅の近くなので    48  駅から近い\n",
       " 2289                     札駅に近いので    48  駅から近い\n",
       " 2359  お店の雰囲気もすごくおしゃれで駅からも徒歩で近いので    48  駅から近い\n",
       " 2412                    駅からも近いので    48  駅から近い\n",
       " 2496                    会社から近いので    48  駅から近い\n",
       " 2568                    駅からも近いため    48  駅から近い\n",
       " 2632   駅から近く大きくお店の名前も書かれていましたので、    48  駅から近い\n",
       " 2686                       駅近なので    48  駅から近い\n",
       " 2732                     駅から近いので    48  駅から近い\n",
       " 3070                   少し駅から歩くので    48  駅から近い,\n",
       "                                                      文章  クラスタ          トピック\n",
       " 75                             大満足です札幌に行きつけのサロンがなかったので、     0  札幌での美容サービス体験\n",
       " 599                                    札幌の方は来たことがなかったので     0  札幌での美容サービス体験\n",
       " 1197                                 楽しみにしていた札幌旅行だったので、     0  札幌での美容サービス体験\n",
       " 1687                                  久々の札幌で地理的に不安だったので     0  札幌での美容サービス体験\n",
       " 1752                                           札幌を離れるので     0  札幌での美容サービス体験\n",
       " 1974                                      札幌で初めて髪を切るので、     0  札幌での美容サービス体験\n",
       " 1998                             担当さんです北海道に長期滞在が決定したので、     0  札幌での美容サービス体験\n",
       " 2580                  シャンプーも移動なしと、なんて楽チンでしょう札幌市民ではないので、     0  札幌での美容サービス体験\n",
       " 2629                                       札幌市外に住んでいるので     0  札幌での美容サービス体験\n",
       " 2878  立地が札幌駅からすぐで便利でした来店してからの流れやサービスなど前の店舗と同じく、カット履歴...     0  札幌での美容サービス体験\n",
       " 2923                                        札幌に住んでないので、     0  札幌での美容サービス体験\n",
       " 3638                                      札幌店で施術して頂きました     0  札幌での美容サービス体験\n",
       " 4143                                  久しぶりの札幌で寄らせて頂きました     0  札幌での美容サービス体験\n",
       " 6110                                札幌駅近くのこちらの美容室を選びました     0  札幌での美容サービス体験\n",
       " 6317                 今では、この北海道で心から安心してお任せ出来る美容師さんに出会えたと     0  札幌での美容サービス体験,\n",
       "                        文章  クラスタ  トピック\n",
       " 291                寒かったので    94  外が寒い\n",
       " 708    お世話になります♪寒くなってきたので    94  外が寒い\n",
       " 1205                 寒いので    94  外が寒い\n",
       " 2602             外が寒かったので    94  外が寒い\n",
       " 2605               寒がりなので    94  外が寒い\n",
       " 2613  あっという間でした吹雪の日だったので、    94  外が寒い\n",
       " 2640               寒かったので    94  外が寒い\n",
       " 2807                 冬なので    94  外が寒い\n",
       " 2839             帰り道は寒いので    94  外が寒い\n",
       " 2846             雪が凄かった為、    94  外が寒い\n",
       " 2988            寒くなりましたので    94  外が寒い\n",
       " 2991           寒くなってきたので、    94  外が寒い\n",
       " 4254    冬はトリートメントまたお伺いします    94  外が寒い\n",
       " 5487            すごく寒かったです    94  外が寒い\n",
       " 5960  あっという間でした吹雪の日だったので、    94  外が寒い,\n",
       "                                          文章  クラスタ      トピック\n",
       " 14                               サラサラになったので    97  サラサラになった\n",
       " 47                               サラサラになるので、    97  サラサラになった\n",
       " 158                     いつもサラサラ髪に仕上げて下さるので、    97  サラサラになった\n",
       " 287           今回もトリートメント効果でサラサラ艶々ですこの時期なので、    97  サラサラになった\n",
       " 829                    毎回サラサラツヤツヤにしていただけるので    97  サラサラになった\n",
       " 902                     トリートメントだけでサラサラになるので    97  サラサラになった\n",
       " 1211                       サラサラの真っ直ぐになってたので    97  サラサラになった\n",
       " 1419              めちゃくちゃサラサラで大満足ですすごく混んでたので    97  サラサラになった\n",
       " 1463                             サラサラになったので    97  サラサラになった\n",
       " 2180                             サラサラになったので    97  サラサラになった\n",
       " 2352                   とてもサラサラで満足の用事の前だったので    97  サラサラになった\n",
       " 2397                    トリートメントでサラサラになったので、    97  サラサラになった\n",
       " 3232   2回目の来店でしたありがとうございました毎回予想以上にサラサラになるので    97  サラサラになった\n",
       " 4426                        きれいなサラサラが続いています    97  サラサラになった\n",
       " 4724                            今でも髪はサラサラです    97  サラサラになった\n",
       " 5317  トリートメントだけではサラサラ真っ直ぐは難しいのかもと思っていたのですが、    97  サラサラになった,\n",
       "                              文章  クラスタ    トピック\n",
       " 697                 絶対的信頼があるので、    89  信用している\n",
       " 808                  本当に信頼できるので    89  信用している\n",
       " 2947                    信頼できるので    89  信用している\n",
       " 3063                    信頼できるので    89  信用している\n",
       " 3418                 とても信頼しています    89  信用している\n",
       " 3506  とても信頼していますまた冬頃?よろしくお願いします    89  信用している\n",
       " 3521                    信頼しています    89  信用している\n",
       " 3714                  かなり信用してます    89  信用している\n",
       " 3786      有難うございました信頼してお任せ出来ました    89  信用している\n",
       " 3812                 とても信頼しています    89  信用している\n",
       " 4129                  ケアは信頼できます    89  信用している\n",
       " 4227                    信頼できるなと    89  信用している\n",
       " 4242                    信頼できるなと    89  信用している\n",
       " 4276               信頼してる美容師さんです    89  信用している\n",
       " 4443          対して真っ直ぐ向き合っていて尊敬、    89  信用している\n",
       " 4788         信頼感があります☆またお願いします♪    89  信用している\n",
       " 5106                    信頼しています    89  信用している\n",
       " 6067                    信頼しています    89  信用している\n",
       " 6108                 絶対的な信用あります    89  信用している\n",
       " 6191                  とても信用できます    89  信用している,\n",
       "                                                  文章  クラスタ     トピック\n",
       " 906                                暖房などでさらに乾燥しやすいので    99  外・心が暖かい\n",
       " 1493                                   暖かくなってきましたので    99  外・心が暖かい\n",
       " 1591                                   夏も冬も店内涼しいので、    99  外・心が暖かい\n",
       " 1695                                   ツイスパで過ごせますので    99  外・心が暖かい\n",
       " 2008                                       低温でもいいので    99  外・心が暖かい\n",
       " 2161                                    暖かくなってきたので、    99  外・心が暖かい\n",
       " 2495                                  気温が高くなってきたので、    99  外・心が暖かい\n",
       " 2918                                    暖かくなってきたので、    99  外・心が暖かい\n",
       " 2922                                    暖かくなってきたので、    99  外・心が暖かい\n",
       " 2978                             ヘッドスパでリフレッシュできたので、    99  外・心が暖かい\n",
       " 3076                                    暖かくなってきたので、    99  外・心が暖かい\n",
       " 3140                                     照明が真上にあるので    99  外・心が暖かい\n",
       " 3198  いつの間にかうたた寝してしまう程リラックス出来ましたお湯の流れる音、気持ちの良い温度なので    99  外・心が暖かい\n",
       " 3511                                       清潔感もあります    99  外・心が暖かい\n",
       " 3635                               保湿を気にかけたいと思っています    99  外・心が暖かい\n",
       " 3761                               ヘッドスパも意識して通いたいです    99  外・心が暖かい\n",
       " 3789                                    冷風を当ててくれたりと    99  外・心が暖かい\n",
       " 4553                                       温まってください    99  外・心が暖かい\n",
       " 5137                                    天気などによりますが、    99  外・心が暖かい\n",
       " 5390              夏の暑い時期でも、ストレートもお勧めです今後もよろしくお願いします    99  外・心が暖かい\n",
       " 6097                                   そして気持ちも晴れました    99  外・心が暖かい\n",
       " 6378                                   その日はまとまってました    99  外・心が暖かい\n",
       " 6400                                    日中にお邪魔できました    99  外・心が暖かい,\n",
       "                       文章  クラスタ  トピック\n",
       " 8                  暑いため、    44  外が暑い\n",
       " 17      貰いましたこれから暑くなるので、    44  外が暑い\n",
       " 77    ドライヤーでとても熱かったりしたので    44  外が暑い\n",
       " 169               暑かったので    44  外が暑い\n",
       " 178   今回は暑さのせいか睡眠不足だったので    44  外が暑い\n",
       " 441            暑い日でしたので、    44  外が暑い\n",
       " 591             暑い日だったので    44  外が暑い\n",
       " 993    最後、2時間暑い中施行していたので    44  外が暑い\n",
       " 1363           暑くなってきたので    44  外が暑い\n",
       " 1478          湿度が高かったので、    44  外が暑い\n",
       " 1489                夏なので    44  外が暑い\n",
       " 1535           今回は夏だったので    44  外が暑い\n",
       " 1662             この暑さなので    44  外が暑い\n",
       " 1665        暑さに負けそうだったので    44  外が暑い\n",
       " 2698     暑くてスッキリしたかったので、    44  外が暑い\n",
       " 2705           暑くなって来たので    44  外が暑い\n",
       " 2950          暑くなってきたので、    44  外が暑い\n",
       " 3000             まだ暑いので、    44  外が暑い\n",
       " 3040        最近暑くなってきたので、    44  外が暑い\n",
       " 3049  満足な仕上がりでした暑い日だったので    44  外が暑い\n",
       " 3270          笑また暑い季節なので    44  外が暑い\n",
       " 3289         暑い日が続いているので    44  外が暑い\n",
       " 3303         乾燥しがちだったので、    44  外が暑い\n",
       " 3314   これから湿気が多くなってくるので、    44  外が暑い\n",
       " 3525  今回は暑さのせいか睡眠不足だったので    44  外が暑い,\n",
       "                                    文章  クラスタ      トピック\n",
       " 129                      リラックスしていたので、    40  リラックスできた\n",
       " 707         リラックスできて楽しく過ごさせてもらえているので、    40  リラックスできた\n",
       " 1134                   こちらでは快適に過ごせたので    40  リラックスできた\n",
       " 2506                 リラックスできる環境だったので、    40  リラックスできた\n",
       " 2644                  ゆったりとした時間過ごせるので    40  リラックスできた\n",
       " 2751                       リラックスできたので    40  リラックスできた\n",
       " 2814                          くつろげたので    40  リラックスできた\n",
       " 3744                             快適です    40  リラックスできた\n",
       " 3911                        快適に過ごせました    40  リラックスできた\n",
       " 3949                      過ごしやすい時間でした    40  リラックスできた\n",
       " 3977            とても満足しています雰囲気で滞在できました    40  リラックスできた\n",
       " 4083                     そこもリラックス出来ます    40  リラックスできた\n",
       " 4087               担当者の人は全然リラックスできました    40  リラックスできた\n",
       " 4786                       リラックスできました    40  リラックスできた\n",
       " 4790  リラックスして過ごすことができましたまたよろしくお願い致します    40  リラックスできた\n",
       " 4950                         過ごしやすいです    40  リラックスできた\n",
       " 5756                     リラックスして過ごせます    40  リラックスできた\n",
       " 5758               いつもリラックスさせていただいてます    40  リラックスできた\n",
       " 5994                       ゆったり過ごせました    40  リラックスできた\n",
       " 6002                       リラックス出来ました    40  リラックスできた\n",
       " 6079                      リラックス出来ますし、    40  リラックスできた\n",
       " 6086                            快適でした    40  リラックスできた\n",
       " 6112                      リラックスできますし、    40  リラックスできた\n",
       " 6128                       のんびり過ごせました    40  リラックスできた\n",
       " 6622                    とてもリラックスできました    40  リラックスできた\n",
       " 6640               リラックスして過ごすことができました    40  リラックスできた,\n",
       "                                           文章  クラスタ       トピック\n",
       " 798         頭皮の痛みの心配など、どのスタッフさんも気を遣っていただけるので    60  明るい、丁寧な接客\n",
       " 805           最高ですスタッフさんの使う言葉や空気感が自然で素敵過ぎるので    60  明るい、丁寧な接客\n",
       " 921           尚更満足ですこちらのスタッフさんは真摯にご対応して下さるので    60  明るい、丁寧な接客\n",
       " 957                        スタッフさんばかりが揃っているので    60  明るい、丁寧な接客\n",
       " 1345                      若いスタッフさんが多い印象ですので、    60  明るい、丁寧な接客\n",
       " 1356                   スタッフさんもお客さんも若い方が多いので、    60  明るい、丁寧な接客\n",
       " 1625                              職場の基準があるので    60  明るい、丁寧な接客\n",
       " 1708                      スタッフの皆さんもフレンドリーなので    60  明るい、丁寧な接客\n",
       " 1724      そんな接客も良く安心して施術を受けてます他のスタッフの対応も良いので    60  明るい、丁寧な接客\n",
       " 1765                            スタッフさんも明るいので    60  明るい、丁寧な接客\n",
       " 1810                     経験値の高いスタッフの方が多そうなので    60  明るい、丁寧な接客\n",
       " 2226                   スタッフがマンツーマンで対応してくれたので    60  明るい、丁寧な接客\n",
       " 2231                    お客様、スタッフが若い方ばかりだったので    60  明るい、丁寧な接客\n",
       " 2246                             男性スタッフが多いので    60  明るい、丁寧な接客\n",
       " 2271                            男性のスタッフが多いので    60  明るい、丁寧な接客\n",
       " 2410             担当の方やスタッフの方も、とても気さくな方が多いので、    60  明るい、丁寧な接客\n",
       " 2424                      スタッフさんもみんな仲良く優しいので    60  明るい、丁寧な接客\n",
       " 2717                     スタッフの皆さんがとても親切でしたので    60  明るい、丁寧な接客\n",
       " 2769  広い空間、素敵な受付カウンターとソファに人とか、希望を聞いてくれているので、    60  明るい、丁寧な接客\n",
       " 2891   いつも担当していただいている方が、こちらの店舗のスタッフさんになったので、    60  明るい、丁寧な接客\n",
       " 3055                   メンズ専門とスタッフさんの歴も長かったので    60  明るい、丁寧な接客\n",
       " 3126                    初めて利用しました男性スタッフが多いので    60  明るい、丁寧な接客\n",
       " 3138                           利用客がほとんど男性なので    60  明るい、丁寧な接客\n",
       " 4268          尚更満足ですこちらのスタッフさんは真摯にご対応して下さるので    60  明るい、丁寧な接客\n",
       " 4385                           オフィスでも褒められました    60  明るい、丁寧な接客\n",
       " 5619                             男性でも気軽に行けます    60  明るい、丁寧な接客\n",
       " 5961                       その点もサービスが行き届いており、    60  明るい、丁寧な接客,\n",
       "                  文章  クラスタ   トピック\n",
       " 3357        ありがたいです    74  ありがたい\n",
       " 3545     本当にありがたいです    74  ありがたい\n",
       " 3576         有り難いです    74  ありがたい\n",
       " 3768    本当ありがとございます    74  ありがたい\n",
       " 4303     とてもありがたいです    74  ありがたい\n",
       " 4376        ありがたいです    74  ありがたい\n",
       " 4410          すごいです    74  ありがたい\n",
       " 4433        ありがたいです    74  ありがたい\n",
       " 4446        ありがたいです    74  ありがたい\n",
       " 4491        ありがたいです    74  ありがたい\n",
       " 4789        重宝しています    74  ありがたい\n",
       " 4802     本当にありがたいです    74  ありがたい\n",
       " 4900     とてもありがたいです    74  ありがたい\n",
       " 4927  扱いやすくてありがたいです    74  ありがたい\n",
       " 4976        ありがたいです    74  ありがたい\n",
       " 5488  教えていただけると幸いです    74  ありがたい\n",
       " 5752        ありがたいです    74  ありがたい\n",
       " 5781   担当の方はありがたいです    74  ありがたい\n",
       " 5942     本当にありがたいです    74  ありがたい\n",
       " 6102         有り難いです    74  ありがたい\n",
       " 6174        ありがたいです    74  ありがたい\n",
       " 6327        ありがたいです    74  ありがたい\n",
       " 6460      大変重宝しています    74  ありがたい\n",
       " 6478       重宝しております    74  ありがたい\n",
       " 6620       有難いですですが    74  ありがたい\n",
       " 6621       ありがたいのと、    74  ありがたい\n",
       " 6657        ありがたいです    74  ありがたい\n",
       " 6659        とてもお得です    74  ありがたい,\n",
       "                                 文章  クラスタ           トピック\n",
       " 152                     かなり落ち着いたので    86  落ち着いた施術・放置された\n",
       " 598              落ち着いた印象で今までで感じたので    86  落ち着いた施術・放置された\n",
       " 1049                      放置されたので、    86  落ち着いた施術・放置された\n",
       " 1209                静かに過ごさせてもらったので    86  落ち着いた施術・放置された\n",
       " 1311                   落ち着いた方が多いので    86  落ち着いた施術・放置された\n",
       " 1767                   落ち着いた雰囲気なので    86  落ち着いた施術・放置された\n",
       " 2130                       放置されたので    86  落ち着いた施術・放置された\n",
       " 2250                   落ち着いた雰囲気なので    86  落ち着いた施術・放置された\n",
       " 2300  美容師さんの会話のトーンも穏やかで落ち着いた感じですので    86  落ち着いた施術・放置された\n",
       " 2665                 静かにも過ごしたかったので    86  落ち着いた施術・放置された\n",
       " 2738             要望通り静かに接客してもらったので    86  落ち着いた施術・放置された\n",
       " 2806                    座っていられたので、    86  落ち着いた施術・放置された\n",
       " 2812                    待つことが出来たので    86  落ち着いた施術・放置された\n",
       " 2909                      座ったままなので    86  落ち着いた施術・放置された\n",
       " 3007                 静かな雰囲気が好きなので、    86  落ち着いた施術・放置された\n",
       " 3685                 接客的には沈黙が多い方かと    86  落ち着いた施術・放置された\n",
       " 3945             落ち着いた印象で今までで感じたので    86  落ち着いた施術・放置された\n",
       " 4221                    放置しますって言われ    86  落ち着いた施術・放置された\n",
       " 4503                    待つことができました    86  落ち着いた施術・放置された\n",
       " 5638                 静かにまったり過ごせました    86  落ち着いた施術・放置された\n",
       " 5670             静かに過ごすことを希望していますが    86  落ち着いた施術・放置された\n",
       " 5968             とても落ち着いて施術中過ごせました    86  落ち着いた施術・放置された\n",
       " 6091                  ゆっくりできて快適でした    86  落ち着いた施術・放置された\n",
       " 6101            定員さんは落ち着いてカットできました    86  落ち着いた施術・放置された\n",
       " 6109               落ち着いて施術を受けられました    86  落ち着いた施術・放置された\n",
       " 6153                    座っていられたので、    86  落ち着いた施術・放置された\n",
       " 6182             とても落ち着いた時間を過ごせました    86  落ち着いた施術・放置された\n",
       " 6486                ここは落ち着いて利用できます    86  落ち着いた施術・放置された\n",
       " 6490                     平和的な感じだった    86  落ち着いた施術・放置された\n",
       " 6650                   地味になりたかったので    86  落ち着いた施術・放置された,\n",
       "                               文章  クラスタ        トピック\n",
       " 3408            また、どうぞ宜しくお願い致します     3  よろしくお願いします\n",
       " 3523            その際は何卒宜しくお願い致します     3  よろしくお願いします\n",
       " 3577                   宜しくお願いします     3  よろしくお願いします\n",
       " 3636  とてもお願いしやすいですこれからも宜しくお願いします     3  よろしくお願いします\n",
       " 3823                   宜しくお願いします     3  よろしくお願いします\n",
       " 3918                 宜しくお願いいたします     3  よろしくお願いします\n",
       " 3943                また、宜しくお願いします     3  よろしくお願いします\n",
       " 4088                 納得してお願いできます     3  よろしくお願いします\n",
       " 4154              先日は宜しくお願いいたします     3  よろしくお願いします\n",
       " 4331                   宜しくお願いします     3  よろしくお願いします\n",
       " 4752                   宜しくお願いします     3  よろしくお願いします\n",
       " 4757              引き続き宜しくお願い致します     3  よろしくお願いします\n",
       " 4889               どうそ宜しくお願い致します     3  よろしくお願いします\n",
       " 4931                   宜しくお願いします     3  よろしくお願いします\n",
       " 5031               是非お願いしたいと思います     3  よろしくお願いします\n",
       " 5074                   宜しくお願いします     3  よろしくお願いします\n",
       " 5184                また、宜しくお願いします     3  よろしくお願いします\n",
       " 5225                 又、宜しくお願いします     3  よろしくお願いします\n",
       " 5253                  宜しくお願い致します     3  よろしくお願いします\n",
       " 5581                   宜しくお願いします     3  よろしくお願いします\n",
       " 5674                   宜しくお願いします     3  よろしくお願いします\n",
       " 5773       期待していますこれからも宜しくお願いします     3  よろしくお願いします\n",
       " 5850                   宜しくお願いします     3  よろしくお願いします\n",
       " 5970                  宜しくお願い致します     3  よろしくお願いします\n",
       " 6137                  宜しくお願い致します     3  よろしくお願いします\n",
       " 6206                   宜しくお願いします     3  よろしくお願いします\n",
       " 6300                   宜しくお願いします     3  よろしくお願いします\n",
       " 6405              たぶんまた宜しくお願いします     3  よろしくお願いします\n",
       " 6610                   宜しくお願いします     3  よろしくお願いします\n",
       " 6688                   宜しくお願いします     3  よろしくお願いします,\n",
       "                                    文章  クラスタ       トピック\n",
       " 9                         優しい雰囲気の方なので    39  香りや雰囲気がいい\n",
       " 68                          雰囲気でしたので、    39  香りや雰囲気がいい\n",
       " 430                          気分が変わるので    39  香りや雰囲気がいい\n",
       " 504                    気分がリフレッシュできるので    39  香りや雰囲気がいい\n",
       " 662                  毎回少し雰囲気を変えてくれるので    39  香りや雰囲気がいい\n",
       " 719                      のは艶が保たれているので    39  香りや雰囲気がいい\n",
       " 791                         いい香りだったので    39  香りや雰囲気がいい\n",
       " 1107                        いい匂いもしたので    39  香りや雰囲気がいい\n",
       " 1337                       素敵な雰囲気ですので    39  香りや雰囲気がいい\n",
       " 1385                   好きな雰囲気にしてくれたので    39  香りや雰囲気がいい\n",
       " 1408          合わせて居心地の良い雰囲気を作ってくださるので    39  香りや雰囲気がいい\n",
       " 1525                       雰囲気が変わるので、    39  香りや雰囲気がいい\n",
       " 1602                      雰囲気で眩しくないので    39  香りや雰囲気がいい\n",
       " 1655             自分の要望通りの色合いや雰囲気になるので    39  香りや雰囲気がいい\n",
       " 1711                   雰囲気もとても良かったため、    39  香りや雰囲気がいい\n",
       " 2075               相変わらず楽しい雰囲気でいられたので    39  香りや雰囲気がいい\n",
       " 2151                      独特の雰囲気だったので    39  香りや雰囲気がいい\n",
       " 2435                         雰囲気だったので    39  香りや雰囲気がいい\n",
       " 2833  担当してくれた方の雰囲気が優しくて気持ち的にゆったりできたので    39  香りや雰囲気がいい\n",
       " 2951                香りでどこのか教えてくださったので    39  香りや雰囲気がいい\n",
       " 3101                  事と雰囲気もソフトな感じなので    39  香りや雰囲気がいい\n",
       " 3246             ことや、落ち着いた雰囲気も良かったので、    39  香りや雰囲気がいい\n",
       " 3261              こちらのトリートメントが艶々になるので    39  香りや雰囲気がいい\n",
       " 3337         いう雰囲気を伝えるだけで満足な仕上がりになるので    39  香りや雰囲気がいい\n",
       " 3609                      若干の不思議な感じです    39  香りや雰囲気がいい\n",
       " 3876                    雰囲気でとても良かったです    39  香りや雰囲気がいい\n",
       " 4825       気持ちもう少し明るくても良かったかなと思いましたが、    39  香りや雰囲気がいい\n",
       " 5549                       雰囲気も良かったです    39  香りや雰囲気がいい\n",
       " 5700                     気分が行きたいと思います    39  香りや雰囲気がいい\n",
       " 5780                         開放感があります    39  香りや雰囲気がいい\n",
       " 5860                      雰囲気が気に入ってます    39  香りや雰囲気がいい\n",
       " 6687                          とても良い香り    39  香りや雰囲気がいい,\n",
       "                                           文章  クラスタ             トピック\n",
       " 159                                写真撮影があるので    85  様々な動画配信サービスが見れた\n",
       " 525                                 実習が近いので、    85  様々な動画配信サービスが見れた\n",
       " 1138                       Netflixを見ていられるので、    85  様々な動画配信サービスが見れた\n",
       " 1515                                 ビルの中なので    85  様々な動画配信サービスが見れた\n",
       " 1852                                実習があるため、    85  様々な動画配信サービスが見れた\n",
       " 1884                                 実習があるため    85  様々な動画配信サービスが見れた\n",
       " 1975                         タブレットで雑誌が読めるので、    85  様々な動画配信サービスが見れた\n",
       " 2413                                    中なので    85  様々な動画配信サービスが見れた\n",
       " 2453                           各々テレビを見られるので、    85  様々な動画配信サービスが見れた\n",
       " 2511            ファイヤースティックで動画が見れるようになっていたので、    85  様々な動画配信サービスが見れた\n",
       " 2573                        方も、テレビが用意されているので    85  様々な動画配信サービスが見れた\n",
       " 2641                ネットフリックスなども見ながら施術して頂けるので    85  様々な動画配信サービスが見れた\n",
       " 2645              NetflixやYouTubeを自由に視聴できたため    85  様々な動画配信サービスが見れた\n",
       " 2667                    様々な動画配信サービスを利用できるので、    85  様々な動画配信サービスが見れた\n",
       " 2722                   店内はNetflixなども見れるそうなので    85  様々な動画配信サービスが見れた\n",
       " 2743                         あとテレビ見ながらだったので、    85  様々な動画配信サービスが見れた\n",
       " 2761                         席ごとにテレビがついているので    85  様々な動画配信サービスが見れた\n",
       " 2805              子供もyou-tubeを見ながらのカットだったので、    85  様々な動画配信サービスが見れた\n",
       " 2808                     動画視聴しながらカットしてもらったので    85  様々な動画配信サービスが見れた\n",
       " 2810                        周りの方も動画視聴してたりなので    85  様々な動画配信サービスが見れた\n",
       " 2869                             席にテレビがあるので、    85  様々な動画配信サービスが見れた\n",
       " 2884                       &テレビがそれぞれについているので    85  様々な動画配信サービスが見れた\n",
       " 2904  カラーの待ち時間もNetflixやYouTubeなどを見ることができたため、    85  様々な動画配信サービスが見れた\n",
       " 3252                                ライブがあるので    85  様々な動画配信サービスが見れた\n",
       " 3302                           土曜日に同窓会があるので、    85  様々な動画配信サービスが見れた\n",
       " 3341                              タブレットがあるので    85  様々な動画配信サービスが見れた\n",
       " 3701                                   練習します    85  様々な動画配信サービスが見れた\n",
       " 4204       わたしのNetflixおすすめ作品ランキングを紹介しようと思います    85  様々な動画配信サービスが見れた\n",
       " 5607                                 ビルの中ですが    85  様々な動画配信サービスが見れた\n",
       " 5897               テレビ観ながらのんびり過ごせてオススメの美容室です    85  様々な動画配信サービスが見れた\n",
       " 6117              2Fフロアへ、もちろん、最新の雑誌も用意されています    85  様々な動画配信サービスが見れた\n",
       " 6689                             ネットを見たりできます    85  様々な動画配信サービスが見れた,\n",
       "                                文章  クラスタ      トピック\n",
       " 42                  口コミで評価が高かったため    87  口コミが良かった\n",
       " 227       ホットペッパーの口コミが良い雰囲気だったので、    87  口コミが良かった\n",
       " 451                    口コミも良かったので    87  口コミが良かった\n",
       " 467                 立地や口コミが良かったため    87  口コミが良かった\n",
       " 469                    口コミが高評価なので    87  口コミが良かった\n",
       " 611     カウセリングがとっても丁寧でしたまだ赤味が強いので    87  口コミが良かった\n",
       " 778                  周りの反応も良かったので    87  口コミが良かった\n",
       " 797                       人気の方なので    87  口コミが良かった\n",
       " 1101           丁寧なカウセリングが好印象だったので    87  口コミが良かった\n",
       " 1339                   口コミが良かったので    87  口コミが良かった\n",
       " 1439            似合うイメージを提案して貰えるので    87  口コミが良かった\n",
       " 1710           メンズの口コミで評価が高かったから、    87  口コミが良かった\n",
       " 1774                    見た目韓流風なので    87  口コミが良かった\n",
       " 1833        速さ共に大満足です顔周りのクセが強いため、    87  口コミが良かった\n",
       " 2089               いろいろな口コミがあったので    87  口コミが良かった\n",
       " 2213                 口コミの通知があったので    87  口コミが良かった\n",
       " 2688                 周りからの評判も良いので    87  口コミが良かった\n",
       " 2759                 口コミが良かっただけに、    87  口コミが良かった\n",
       " 2956         なりたいイメージをよく聞いてくれるので、    87  口コミが良かった\n",
       " 2958                 意外と赤が強かったので、    87  口コミが良かった\n",
       " 4187      その点についても私としてはすごく評価が高いです    87  口コミが良かった\n",
       " 4397                      印象があります    87  口コミが良かった\n",
       " 4457               とはいえ、実感はオススメです    87  口コミが良かった\n",
       " 4760          周りからの評価も感覚です大袈裟ですけど    87  口コミが良かった\n",
       " 4986                       この評価です    87  口コミが良かった\n",
       " 5048              Instagram良かったです    87  口コミが良かった\n",
       " 5134                    口コミ投稿しました    87  口コミが良かった\n",
       " 5146                       この評価です    87  口コミが良かった\n",
       " 5190  なりたいイメージを簡単にお伝えしているだけなのですが、    87  口コミが良かった\n",
       " 5627                   しかし、この評価です    87  口コミが良かった\n",
       " 5827               イメージがつきやすかったです    87  口コミが良かった\n",
       " 6373                  口コミさせて頂きました    87  口コミが良かった\n",
       " 6512               イメージがつきやすかったです    87  口コミが良かった,\n",
       "                                  文章  クラスタ    トピック\n",
       " 22                どちらも1発で切られてしまったので    11  切られすぎた\n",
       " 246        帰ってからやっぱり切りすぎたかも…と思ったので、    11  切られすぎた\n",
       " 416                      短く切られすぎたので    11  切られすぎた\n",
       " 444                  ロングからのカットだったので    11  切られすぎた\n",
       " 720               輪郭に合わせて切ってもらえるので、    11  切られすぎた\n",
       " 1327         あとの扱いやすさを考えて切ってくださったので    11  切られすぎた\n",
       " 1420            傷んでいる箇所を切っていただいたので、    11  切られすぎた\n",
       " 1632                 切りのところがありましたので    11  切られすぎた\n",
       " 1864                   関しては切ってくれるので    11  切られすぎた\n",
       " 1945                      鎖骨まであったので    11  切られすぎた\n",
       " 2023                   気持ちで切って貰えるので    11  切られすぎた\n",
       " 2055                       切ってくれたので    11  切られすぎた\n",
       " 2104                    切っていただいたので、    11  切られすぎた\n",
       " 2170                     カットも早かったので    11  切られすぎた\n",
       " 2479         切りすぎるとどうなるかを教えていただけたので    11  切られすぎた\n",
       " 2531      割と早い段階で真横にバツンと切ってしまっていたので    11  切られすぎた\n",
       " 2532             もうガッツリ切られてしまっているので    11  切られすぎた\n",
       " 2536        カットの仕方も真横にジャキジャキ切っていくので    11  切られすぎた\n",
       " 2740           これまでバッサリ切ってばかりだったので、    11  切られすぎた\n",
       " 2849                   合わせるしかなかった為、    11  切られすぎた\n",
       " 2940            そんななかクロスに腕を通しましたので、    11  切られすぎた\n",
       " 3009                 ツーブロックを勧められたので    11  切られすぎた\n",
       " 3116                   刈り上げを勧められたので    11  切られすぎた\n",
       " 3596           広がりドライヤー、カットしてもらいました    11  切られすぎた\n",
       " 3637                34センチカットして頂きました    11  切られすぎた\n",
       " 3689                   急遽調整してもらいました    11  切られすぎた\n",
       " 3816                  徐々に切ってもらいましたが    11  切られすぎた\n",
       " 3867                         切りましたと    11  切られすぎた\n",
       " 3947  いってみましたウルフカット経験のある方を選んでみましたが、    11  切られすぎた\n",
       " 4066                    切ってもらっていました    11  切られすぎた\n",
       " 4883                       結構切りましたが    11  切られすぎた\n",
       " 4979                       自分で切りました    11  切られすぎた\n",
       " 5016                   バッサリ切って頂きました    11  切られすぎた\n",
       " 5438                  後日切り直しを依頼しました    11  切られすぎた\n",
       " 6093  予約させていただきました今回はバッサリ切っていただきました    11  切られすぎた\n",
       " 6157            カットのポイントで必ず方だと思いました    11  切られすぎた\n",
       " 6265                  ティッシュを渡されたけど、    11  切られすぎた\n",
       " 6357                  ツーブロックにしましたが、    11  切られすぎた\n",
       " 6523            ガチャガチャと無理にブラシをされました    11  切られすぎた\n",
       " 6680        切りっぱなしの方が良かったのかもと思っています    11  切られすぎた,\n",
       "                                         文章  クラスタ   トピック\n",
       " 56                         アクセスもわかりやすかったので    14  立地がいい\n",
       " 79                           場所が行きやすそうだった為    14  立地がいい\n",
       " 219                               立地もいいので、    14  立地がいい\n",
       " 722                           とても居心地が良いので、    14  立地がいい\n",
       " 865                  丁度良い感じになっています♪家から遠いので    14  立地がいい\n",
       " 1011        もっとはやく出会いたかったホームトリートメントも購入したので    14  立地がいい\n",
       " 1728                        free\\wifiがあるので    14  立地がいい\n",
       " 2066                               立地も良いので    14  立地がいい\n",
       " 2085  満足ですサイドバンクがとても綺麗です外ハネのやり方も教えていただいたので    14  立地がいい\n",
       " 2262                               立地が良いので    14  立地がいい\n",
       " 2829                         のも、コスパよく行けるので    14  立地がいい\n",
       " 2836                        すぐ行ける立地も最高なので、    14  立地がいい\n",
       " 2885                           立地も通いやすいので、    14  立地がいい\n",
       " 3010                               家から近いので    14  立地がいい\n",
       " 3015                                ご近所なので    14  立地がいい\n",
       " 3143                              居心地がいいので    14  立地がいい\n",
       " 3168                              居心地がいいから    14  立地がいい\n",
       " 3183                              手入れも楽なので    14  立地がいい\n",
       " 3208                    嬉しかったです立地もとても良いので、    14  立地がいい\n",
       " 3260                         自宅から、通いやすいので、    14  立地がいい\n",
       " 3404                               大変便利でした    14  立地がいい\n",
       " 4041                          家でもセットしやすいです    14  立地がいい\n",
       " 4357                            居心地が良かったです    14  立地がいい\n",
       " 4378                        空き具合なども程よく満足です    14  立地がいい\n",
       " 4469                           コスパはいいと思います    14  立地がいい\n",
       " 4892                           行きやすいと思われます    14  立地がいい\n",
       " 5109                                 交通も便利    14  立地がいい\n",
       " 5115                                居心地も最高    14  立地がいい\n",
       " 5163                      ちょうどよい距離感でよかったです    14  立地がいい\n",
       " 5314                   気軽に行きたいときに行けるのも良いです    14  立地がいい\n",
       " 5449                           とっても行きやすいです    14  立地がいい\n",
       " 5520                      利用しやすいのも気に入っています    14  立地がいい\n",
       " 5610                               行きやすいです    14  立地がいい\n",
       " 5637                                  便利です    14  立地がいい\n",
       " 5707                               行きやすいです    14  立地がいい\n",
       " 5760                            通いやすいと思います    14  立地がいい\n",
       " 5777                               立地も良いです    14  立地がいい\n",
       " 5846                               とても便利です    14  立地がいい\n",
       " 5962                              居心地が良いです    14  立地がいい\n",
       " 6258                         また、居心地が良かったです    14  立地がいい,\n",
       "                            文章  クラスタ   トピック\n",
       " 4                  今後も通いたいので、    76  今後も通う\n",
       " 7          今後も引き続きお世話になりますので、    76  今後も通う\n",
       " 125        これからもずっとお世話になりたいので    76  今後も通う\n",
       " 241             今後も通おうと思いますので    76  今後も通う\n",
       " 918                   続いているので    76  今後も通う\n",
       " 934               今でも継続されてるので    76  今後も通う\n",
       " 1023  続けた方がやはりキープできるとの事だったので、    76  今後も通う\n",
       " 1074             その時は頑張りますので、    76  今後も通う\n",
       " 1113                    頑張るので    76  今後も通う\n",
       " 2064             通い続ける予定ですので、    76  今後も通う\n",
       " 2976                今後長くしたいので    76  今後も通う\n",
       " 3249                  一生懸命なので    76  今後も通う\n",
       " 3818                   頑張りたいと    76  今後も通う\n",
       " 3832                  継続したいてす    76  今後も通う\n",
       " 3855         ヘッドスパは今後も継続したいです    76  今後も通う\n",
       " 4080        感じですずっと使っていくと思います    76  今後も通う\n",
       " 4161      それからずっと指名させていただいてます    76  今後も通う\n",
       " 4177             でも、今後も通いたいです    76  今後も通う\n",
       " 4231          頑張って通ってみようと思います    76  今後も通う\n",
       " 4239               今後も通うつもりです    76  今後も通う\n",
       " 4241   継続して改善できるように頑張っていきたいです    76  今後も通う\n",
       " 4404              続けてみようと思います    76  今後も通う\n",
       " 4450         これからも継続していくつもりです    76  今後も通う\n",
       " 4454          これからも継続していきたいです    76  今後も通う\n",
       " 4811         継続して続けていきたいと思います    76  今後も通う\n",
       " 4833          今回はこれからも通い続けます★    76  今後も通う\n",
       " 4974           今後も頼りにしたいと思います    76  今後も通う\n",
       " 5002         これから通い続けようと思ってます    76  今後も通う\n",
       " 5072              今後も通い続けたいです    76  今後も通う\n",
       " 5147          しばらく通い続けたいと思います    76  今後も通う\n",
       " 5408              まだ行こうと思いました    76  今後も通う\n",
       " 5466         これは伸びるのを待とうと思います    76  今後も通う\n",
       " 5477  冒険するのはしばらくはここに通いたいと思います    76  今後も通う\n",
       " 5617         今後もこちらに通いたいと思います    76  今後も通う\n",
       " 5686                   がんばります    76  今後も通う\n",
       " 5987          これから長く通いたいと思います    76  今後も通う\n",
       " 6286    箇所は頑張ります♪今年もお世話になりました    76  今後も通う\n",
       " 6449           今後も通いやすいかと思います    76  今後も通う\n",
       " 6457                       継続    76  今後も通う\n",
       " 6482                 辞めないで下さい    76  今後も通う\n",
       " 6556           今後も通いたいなと思いました    76  今後も通う\n",
       " 6560          継続的にお伺いしたいと思います    76  今後も通う,\n",
       "                                                     文章  クラスタ             トピック\n",
       " 85                    スタイリングの仕方も、とても丁寧にわかりやすく教えてもらったので    28  丁寧な説明/実践的なアドバイス\n",
       " 254                 スタイリング剤や似合うスタイルについても正直に言っていただけたので、    28  丁寧な説明/実践的なアドバイス\n",
       " 294                   施術後にいつもスタイリングの仕方を細かくアドバイスして頂けるので    28  丁寧な説明/実践的なアドバイス\n",
       " 462   次回は明るめもチャレンジしてみたいですスタイリング方法についてもしっかりと教えていただけたので、    28  丁寧な説明/実践的なアドバイス\n",
       " 526     自然な仕上がりで大満足です自分でスタイリング出来るように巻き方をレクチャーしてもらったので、    28  丁寧な説明/実践的なアドバイス\n",
       " 533                             ざっくり乾かすだけでスタイリングが出来るので    28  丁寧な説明/実践的なアドバイス\n",
       " 815                 初回の時と同様のスタイリスト様担当で施術もスムーズに行ったと思うので    28  丁寧な説明/実践的なアドバイス\n",
       " 830                                  スタイルを提案していただいたので、    28  丁寧な説明/実践的なアドバイス\n",
       " 1229                     とても丁寧なカウンセリングからスタイリングして頂いたので、    28  丁寧な説明/実践的なアドバイス\n",
       " 1271                            スタイリングについてもアドバイスをくれたので    28  丁寧な説明/実践的なアドバイス\n",
       " 1307                                  スタイリングを褒めて頂いたので、    28  丁寧な説明/実践的なアドバイス\n",
       " 1520                                       スタイリングも楽なので    28  丁寧な説明/実践的なアドバイス\n",
       " 1542                       スタイリングの仕方もわかりやすく教えていただけたので、    28  丁寧な説明/実践的なアドバイス\n",
       " 1564                                    スタイルにしてもらったので、    28  丁寧な説明/実践的なアドバイス\n",
       " 1628                    ズボラな私でもスタイリングしやすいようにカットしてくれるので    28  丁寧な説明/実践的なアドバイス\n",
       " 1651        扱いやすいです面倒くさがりの私でも簡単にスタイリングもしやすいようにしてもらえたので    28  丁寧な説明/実践的なアドバイス\n",
       " 1750                             スタイリング等しっかりと説明してくれたので    28  丁寧な説明/実践的なアドバイス\n",
       " 1804                           とてもステキなスタイルを提案してくださるので、    28  丁寧な説明/実践的なアドバイス\n",
       " 1881                  カウンセリングやスタイリング方法などしっかり行っていただけたので    28  丁寧な説明/実践的なアドバイス\n",
       " 1883                               カットもスタイリングしやすくなったので    28  丁寧な説明/実践的なアドバイス\n",
       " 1983             満足です切ってからのびてきても簡単にスタイリングできるようにしてくれるので    28  丁寧な説明/実践的なアドバイス\n",
       " 2318                         さっと寝癖を整える程度でスタイリングも決まるので、    28  丁寧な説明/実践的なアドバイス\n",
       " 2552                     画像のイメージと普段の扱いやすさを考えて提案してくれたので    28  丁寧な説明/実践的なアドバイス\n",
       " 2711                           スタイリングのこと等も親切に教えてくださるので    28  丁寧な説明/実践的なアドバイス\n",
       " 2734                           スタイリングについても、教えていただいたので、    28  丁寧な説明/実践的なアドバイス\n",
       " 2827                          普段のスタイリングのコツも相談に乗って貰えるので    28  丁寧な説明/実践的なアドバイス\n",
       " 2830                   スタイリングの提案と共に理由や具体例を説明してくださったので、    28  丁寧な説明/実践的なアドバイス\n",
       " 2844                               スタイリングの仕方も教えてもらったので    28  丁寧な説明/実践的なアドバイス\n",
       " 2852                               素敵なスタイリングにしていただけたので    28  丁寧な説明/実践的なアドバイス\n",
       " 2905                     ブローの方法やスタイリングの方法を丁寧に説明して頂けるので    28  丁寧な説明/実践的なアドバイス\n",
       " 3039                          スタイリングまで、同じ方が担当してもらえるので、    28  丁寧な説明/実践的なアドバイス\n",
       " 3145                              スタイリングもお願いしてた通りだったので    28  丁寧な説明/実践的なアドバイス\n",
       " 3227              失敗なしです短くなった分スタイリングどうしたら良いかも教えてくれたので、    28  丁寧な説明/実践的なアドバイス\n",
       " 3389                               今はスタイリングがラクになりましたし、    28  丁寧な説明/実践的なアドバイス\n",
       " 3730                                スタイルもイメージが浮かんできました    28  丁寧な説明/実践的なアドバイス\n",
       " 3809  次回は明るめもチャレンジしてみたいですスタイリング方法についてもしっかりと教えていただけたので、    28  丁寧な説明/実践的なアドバイス\n",
       " 4030               これからのメイクもお洋服選びも楽になりそうですまたよろしくお願いします    28  丁寧な説明/実践的なアドバイス\n",
       " 4998        扱いやすいです面倒くさがりの私でも簡単にスタイリングもしやすいようにしてもらえたので    28  丁寧な説明/実践的なアドバイス\n",
       " 5507                           スタイリングになるのかを実際に見てみたかったと    28  丁寧な説明/実践的なアドバイス\n",
       " 5899                     画像のイメージと普段の扱いやすさを考えて提案してくれたので    28  丁寧な説明/実践的なアドバイス\n",
       " 6309                          時間が今後のスタイリング剤選びにも役立ちそうです    28  丁寧な説明/実践的なアドバイス\n",
       " 6574              失敗なしです短くなった分スタイリングどうしたら良いかも教えてくれたので、    28  丁寧な説明/実践的なアドバイス,\n",
       "                                         文章  クラスタ      トピック\n",
       " 60                          夏前頃カットをお願いするので    46  短期的なリピート\n",
       " 70                     半年に1度は何度もお願いしているので、    46  短期的なリピート\n",
       " 106                        次回来店は来年になりますので、    46  短期的なリピート\n",
       " 133                         また来月あたり伺いますので、    46  短期的なリピート\n",
       " 335                                 季節なので、    46  短期的なリピート\n",
       " 352                      1週間以内ならお直しもできますので    46  短期的なリピート\n",
       " 1024                       来月も先程予約いたしましたので    46  短期的なリピート\n",
       " 1026                        頻繁には秋頃来る予定ですので    46  短期的なリピート\n",
       " 1097                      来月あたりにまたお伺いしますので    46  短期的なリピート\n",
       " 1190                        来月も予約を入れていますので    46  短期的なリピート\n",
       " 1200                         来月も予約を入れましたので    46  短期的なリピート\n",
       " 1204                         来月も予約を入れましたので    46  短期的なリピート\n",
       " 1462                    これからも、毎月お世話になりますので    46  短期的なリピート\n",
       " 1664                           又来月お邪魔しますので    46  短期的なリピート\n",
       " 1793                     また半年後に行きたいと思いますので    46  短期的なリピート\n",
       " 2265                            また来月伺いますので    46  短期的なリピート\n",
       " 2295                        また2ヶ月後に伺いますので、    46  短期的なリピート\n",
       " 2503                        来月利用させて頂きますので、    46  短期的なリピート\n",
       " 2593         今年はトリートメントにもたくさん通いたいと思っているので、    46  短期的なリピート\n",
       " 2779  1ヶ月後や、この後のことも考えてくださっていつも対応していただいてるので    46  短期的なリピート\n",
       " 2945            また8ヶ月後くらいにそちらに行こうと思っていますので    46  短期的なリピート\n",
       " 2972                  次回も1ヶ月後ぐらいに伺う予定ですので、    46  短期的なリピート\n",
       " 2993                           また来月伺いますので、    46  短期的なリピート\n",
       " 3218                          春ごろになると思うので、    46  短期的なリピート\n",
       " 3298                            来月も訪問しますので    46  短期的なリピート\n",
       " 3349                        来月またよろしくお願いします    46  短期的なリピート\n",
       " 3382                      年に何回かと決めて行っているのに    46  短期的なリピート\n",
       " 3476                         来月はよろしくお願いします    46  短期的なリピート\n",
       " 3771                       月末か来月頭くらいに行くと思い    46  短期的なリピート\n",
       " 3853                       秋になるまでは乗り切りたいです    46  短期的なリピート\n",
       " 4070                    4月からほぼ毎月通わせて頂いています    46  短期的なリピート\n",
       " 4152                    何ヶ月おきでも又やりたいと思いました    46  短期的なリピート\n",
       " 4370             仕上がりは来月またその時はよろしくお願いいたします    46  短期的なリピート\n",
       " 4373                        頻繁には秋頃来る予定ですので    46  短期的なリピート\n",
       " 4411                         来月はよろしくお願いします    46  短期的なリピート\n",
       " 4424                          毎月は宜しくお願いします    46  短期的なリピート\n",
       " 4461       月に1度のスペシャルケアはこれからもどうぞ宜しくお願い致します    46  短期的なリピート\n",
       " 4796                  年内は年末にまたお願いするかもしれません    46  短期的なリピート\n",
       " 5265                   快適ですまた来月もよろしくお願いします    46  短期的なリピート\n",
       " 5269                   2月は次は3月にお願いするかと思います    46  短期的なリピート\n",
       " 5702                            月1で通っていますが    46  短期的なリピート\n",
       " 6454                       来月にまたよろしくお願いします    46  短期的なリピート\n",
       " 6598                    笑12月は早めに予約したいと思います    46  短期的なリピート,\n",
       "                                         文章  クラスタ             トピック\n",
       " 107        接客に関しましても個人的にはあまり話しかけられずの方がいいので    55  話すのが苦手/名前が分からない\n",
       " 270                                方向音痴なので    55  話すのが苦手/名前が分からない\n",
       " 314                            接客を受けたくないので    55  話すのが苦手/名前が分からない\n",
       " 515                       日本語はあまり上手ではないので、    55  話すのが苦手/名前が分からない\n",
       " 590                          耳の中を拭いてくれないから    55  話すのが苦手/名前が分からない\n",
       " 600                          名刺など渡されなかった為、    55  話すのが苦手/名前が分からない\n",
       " 717   最近はあまり口コミ書きませんが…担当してくださった方にお礼が言いたいので    55  話すのが苦手/名前が分からない\n",
       " 738                    僕がなかなか上手くお話できなかったので    55  話すのが苦手/名前が分からない\n",
       " 1051               休みの日の美容関連の時あまり話したくないので、    55  話すのが苦手/名前が分からない\n",
       " 1179                お話しだけでは伝わらなかった様に感じたので、    55  話すのが苦手/名前が分からない\n",
       " 1347                        元々お喋りは得意ではないので    55  話すのが苦手/名前が分からない\n",
       " 1455      とても話しやすくてすごい楽しい時間でしたくせ毛がひどかったので、    55  話すのが苦手/名前が分からない\n",
       " 1635      混んでいてみなさん担当されていて誰にも声をかけられずだったので、    55  話すのが苦手/名前が分からない\n",
       " 1847                     元々入りにくい話は聞いていたので、    55  話すのが苦手/名前が分からない\n",
       " 1871                      何もわからない初心者だったため、    55  話すのが苦手/名前が分からない\n",
       " 1941               担当していただいた方も闇雲に会話してこないので    55  話すのが苦手/名前が分からない\n",
       " 1981             スタイリストさんのお名前を聞き忘れてしまったので、    55  話すのが苦手/名前が分からない\n",
       " 1999                            話すのが苦手なので、    55  話すのが苦手/名前が分からない\n",
       " 2012               担当してくれた女の方の名前を忘れてしまったので    55  話すのが苦手/名前が分からない\n",
       " 2063                             名前聞いてないので    55  話すのが苦手/名前が分からない\n",
       " 2125                      話すのがあまり得意ではないので、    55  話すのが苦手/名前が分からない\n",
       " 2140                          名前がわからなかったので    55  話すのが苦手/名前が分からない\n",
       " 2166                          名乗って頂いていないので    55  話すのが苦手/名前が分からない\n",
       " 2270               スタイリストの方のお名前が毎回わからないので、    55  話すのが苦手/名前が分からない\n",
       " 2400                               地理に疎いため    55  話すのが苦手/名前が分からない\n",
       " 2483                  聞きたいことはないかそのことを聞けたので    55  話すのが苦手/名前が分からない\n",
       " 2512                               話過ぎないので    55  話すのが苦手/名前が分からない\n",
       " 2592                             言葉もなかったので    55  話すのが苦手/名前が分からない\n",
       " 2752                          世間話等も振られないので    55  話すのが苦手/名前が分からない\n",
       " 2781              そのほかにプライベートな話は振られなかったので、    55  話すのが苦手/名前が分からない\n",
       " 2854                        余り話すのが得意ではないので    55  話すのが苦手/名前が分からない\n",
       " 3031                        一方的なお喋りも苦手なので、    55  話すのが苦手/名前が分からない\n",
       " 3519              沢山話しかけてくることもなく落ち着いていれました    55  話すのが苦手/名前が分からない\n",
       " 3862                      日本語はあまり上手ではないので、    55  話すのが苦手/名前が分からない\n",
       " 4399                               話したくないと    55  話すのが苦手/名前が分からない\n",
       " 4901                      耳周りは非常にセットしづらいです    55  話すのが苦手/名前が分からない\n",
       " 4921                          その場で聞けませんでした    55  話すのが苦手/名前が分からない\n",
       " 5164                お互いに饒舌に会話が弾むわけではありませんが    55  話すのが苦手/名前が分からない\n",
       " 5347        私はあまり話しかけてこない美容師さんがとても心地よかったです    55  話すのが苦手/名前が分からない\n",
       " 5429                      お話しは出来なかったようですが、    55  話すのが苦手/名前が分からない\n",
       " 5623         満足の担当してくださった方の名前がわかりません…すみません    55  話すのが苦手/名前が分からない\n",
       " 5795                あまりお話できなくて申し訳なかったのですが、    55  話すのが苦手/名前が分からない\n",
       " 6540                     お名前は伏せて書かせていただきます    55  話すのが苦手/名前が分からない,\n",
       "                       文章  クラスタ  トピック\n",
       " 5               うかがいますので    70  継続利用\n",
       " 46              また伺いますので    70  継続利用\n",
       " 179      近々伺いたいと思ってますので、    70  継続利用\n",
       " 406               伺いますので    70  継続利用\n",
       " 641       また近々お伺いすると思うので    70  継続利用\n",
       " 699            お伺いしますので、    70  継続利用\n",
       " 1201            また伺いますので    70  継続利用\n",
       " 1266            近々伺いますので    70  継続利用\n",
       " 1312           確認してくれるので    70  継続利用\n",
       " 1551         またお伺いしますので、    70  継続利用\n",
       " 1580            また伺いますので    70  継続利用\n",
       " 1679           また伺いますので、    70  継続利用\n",
       " 2003       お伺いさせて頂きますので、    70  継続利用\n",
       " 2239               伺ったので    70  継続利用\n",
       " 2276          ところを探してたので    70  継続利用\n",
       " 2305       尋ねていただいていたので、    70  継続利用\n",
       " 2340            お伺いしますので    70  継続利用\n",
       " 2358           また伺いますので、    70  継続利用\n",
       " 2502             伺いますので、    70  継続利用\n",
       " 2638      うかがいたいと思いますので、    70  継続利用\n",
       " 2775       仕事でその帰りに伺ったので    70  継続利用\n",
       " 2789            また伺いますので    70  継続利用\n",
       " 2914         またうかがいますので、    70  継続利用\n",
       " 3081              伺いますので    70  継続利用\n",
       " 3340            また伺いますので    70  継続利用\n",
       " 3381           こちらに伺いました    70  継続利用\n",
       " 3428           ?と確認しましたが    70  継続利用\n",
       " 3575             お伺いしました    70  継続利用\n",
       " 3720        伺おうかなと思っています    70  継続利用\n",
       " 3827           伺いたいと思います    70  継続利用\n",
       " 4036              観察してます    70  継続利用\n",
       " 4047             思ってます…)    70  継続利用\n",
       " 4318        こちらに初めて伺いました    70  継続利用\n",
       " 4390        後日また伺わせて頂きます    70  継続利用\n",
       " 4463    近いうちにお伺いしたいと思います    70  継続利用\n",
       " 4597              次は伺います    70  継続利用\n",
       " 4846  そちらに伺う事が多くなると思いますが    70  継続利用\n",
       " 4894       トリートメントに伺いました    70  継続利用\n",
       " 4895         こちらにお伺いしました    70  継続利用\n",
       " 5006            お伺いしたいです    70  継続利用\n",
       " 5262             お伺いしました    70  継続利用\n",
       " 5696               伺いました    70  継続利用\n",
       " 5823               伺いました    70  継続利用\n",
       " 6053       スッキリしたくて伺いました    70  継続利用\n",
       " 6501           急遽伺いましたが、    70  継続利用,\n",
       "                                  文章  クラスタ トピック\n",
       " 36                またお世話になるかと思いますので、    54   残念\n",
       " 224                  他の方が良くしてくださるので    54   残念\n",
       " 1398          ありがとうございます育児の合間に行くので、    54   残念\n",
       " 1457                    利用させて頂きたいので    54   残念\n",
       " 1516               ぜひまた利用させて頂きたいので、    54   残念\n",
       " 1541                   またお世話になりますので    54   残念\n",
       " 1644                  出先で利用させて頂いたので    54   残念\n",
       " 1783                またお世話になると思いますので    54   残念\n",
       " 1899                     今後に活かしたいので    54   残念\n",
       " 1949                     ものにしてもらうので    54   残念\n",
       " 1995                     また利用しますので、    54   残念\n",
       " 2272             毎回タブレットを貸していただけるので    54   残念\n",
       " 2434                   またお世話になりますので    54   残念\n",
       " 2466                   利用したいと思ったので、    54   残念\n",
       " 2653                     また利用したいので、    54   残念\n",
       " 2952                 また利用したいと思いますので    54   残念\n",
       " 3029          またこれからも利用させていただきますので、    54   残念\n",
       " 3171              2回目以降の利用特典も豊富なので、    54   残念\n",
       " 3397                     利用しようと思います    54   残念\n",
       " 3441                今回も利用させていただきました    54   残念\n",
       " 3796                    利用させていただきます    54   残念\n",
       " 4213                     利用したいと思います    54   残念\n",
       " 4967                     次からは大丈夫です)    54   残念\n",
       " 4992                    利用したいと思いました    54   残念\n",
       " 5059               次回以降も利用させていただきます    54   残念\n",
       " 5296                     ものにしてもらうので    54   残念\n",
       " 5304                   これからも利用したいです    54   残念\n",
       " 5344                   再度利用させて頂きました    54   残念\n",
       " 5527  すごく親身になって対応してくださいましたまた利用したいです    54   残念\n",
       " 5553              ぜひまた利用させていただきたいです    54   残念\n",
       " 5583                   利用したいなと思いました    54   残念\n",
       " 5584                   私も利用させて頂きました    54   残念\n",
       " 5791          利用してみたいですまたよろしくお願いします    54   残念\n",
       " 5844                  次回も利用させてもらいます    54   残念\n",
       " 5859                      次は利用したいです    54   残念\n",
       " 5974               利用できそうなのもポイントでした    54   残念\n",
       " 6115            これからも利用させて頂きたいと思います    54   残念\n",
       " 6131      よかったですまた利用させていただきたいと思ってます    54   残念\n",
       " 6168                 今回も利用させてもらいました    54   残念\n",
       " 6233           ぜひまた利用させて頂きたいと思っています    54   残念\n",
       " 6240                   利用させていただきました    54   残念\n",
       " 6363                   利用させて頂いてますが、    54   残念\n",
       " 6412                  毎度利用させてもらってます    54   残念\n",
       " 6458                        利用したいです    54   残念\n",
       " 6470                     利用させて頂きました    54   残念,\n",
       "                        文章  クラスタ    トピック\n",
       " 468     結果悲しい思いをしたことがあるので    12  適度な距離感\n",
       " 1676            のが残念だったので    12  適度な距離感\n",
       " 2469              悲しくなるので    12  適度な距離感\n",
       " 3371               私は残念です    12  適度な距離感\n",
       " 3477          その点が少し残念でした    12  適度な距離感\n",
       " 3666                 残念です    12  適度な距離感\n",
       " 3695              悲しかったです    12  適度な距離感\n",
       " 3727              とても残念です    12  適度な距離感\n",
       " 3882        何となく残念な気がしました    12  適度な距離感\n",
       " 3903                 残念です    12  適度な距離感\n",
       " 4158              とても残念です    12  適度な距離感\n",
       " 4196                残念ですが    12  適度な距離感\n",
       " 4278                残念でした    12  適度な距離感\n",
       " 4298            のに本当に残念です    12  適度な距離感\n",
       " 4416       ヒアリングはとても残念でした    12  適度な距離感\n",
       " 4458        仕上がりはとても残念でした    12  適度な距離感\n",
       " 4484                残念でした    12  適度な距離感\n",
       " 4522           少し残念な気持ちです    12  適度な距離感\n",
       " 4545                残念でした    12  適度な距離感\n",
       " 4727               大変残念です    12  適度な距離感\n",
       " 4749              悲しかったです    12  適度な距離感\n",
       " 4764       この点はとても残念でした……    12  適度な距離感\n",
       " 4767             のが残念ですが、    12  適度な距離感\n",
       " 4856                 残念です    12  適度な距離感\n",
       " 4891              尚更残念でした    12  適度な距離感\n",
       " 5094                 残念です    12  適度な距離感\n",
       " 5143           矯正の件が残念です…    12  適度な距離感\n",
       " 5187  泣く泣く我慢の日々、物凄く後悔してます    12  適度な距離感\n",
       " 5293                 少し残念    12  適度な距離感\n",
       " 5360                 残念です    12  適度な距離感\n",
       " 5406                 残念です    12  適度な距離感\n",
       " 5578              とても残念です    12  適度な距離感\n",
       " 5628                残念でした    12  適度な距離感\n",
       " 5873         仕上がりは少し残念でした    12  適度な距離感\n",
       " 5887                   残念    12  適度な距離感\n",
       " 6039           前回は少し残念でした    12  適度な距離感\n",
       " 6061           のがちょっと残念です    12  適度な距離感\n",
       " 6089   悲しくなりながら帰宅しました残念です    12  適度な距離感\n",
       " 6146              のが悲しいです    12  適度な距離感\n",
       " 6216     正直なところ残念に思っています…    12  適度な距離感\n",
       " 6321                残念でした    12  適度な距離感\n",
       " 6352                 残念です    12  適度な距離感\n",
       " 6399       残念なポイントが目立ちました    12  適度な距離感\n",
       " 6534            少し残念でしたが、    12  適度な距離感\n",
       " 6593                 残念です    12  適度な距離感,\n",
       "                                                      文章  クラスタ          トピック\n",
       " 2                                      とても大事な友達の式だったので、     4  伸ばしている/伸ばしたい\n",
       " 313                                              寄りますので     4  伸ばしている/伸ばしたい\n",
       " 479               カット・カラーどちらとも親身になってカウンセリングしていただいたおかげで、     4  伸ばしている/伸ばしたい\n",
       " 601                                             人見知りなので     4  伸ばしている/伸ばしたい\n",
       " 668                                          人見知りな性格なので     4  伸ばしている/伸ばしたい\n",
       " 704                                        次回お友達紹介するので、     4  伸ばしている/伸ばしたい\n",
       " 716              友人からの反応も大好評でした一つずつ丁寧にメイクのやり方も教えてくれるので、     4  伸ばしている/伸ばしたい\n",
       " 976                                         友達も褒めてくれるので     4  伸ばしている/伸ばしたい\n",
       " 1015                                        気さくな方ばかりなので     4  伸ばしている/伸ばしたい\n",
       " 1162                                一度に何人かのお客様を相手しているので     4  伸ばしている/伸ばしたい\n",
       " 1252  こちらのサロンの方々は細かい私のこだわりや色の印象、全体シルエットの要望や相談も親切に聞き入...     4  伸ばしている/伸ばしたい\n",
       " 1257                                     友達にも沢山言って貰えたので     4  伸ばしている/伸ばしたい\n",
       " 1362                                        周りからも大好評なので     4  伸ばしている/伸ばしたい\n",
       " 1494  いつもと同じ席でなければ安心しなかったようで配慮していただきありがとうございます最近大きくな...     4  伸ばしている/伸ばしたい\n",
       " 1561                                   カラーの相談を親身にしてたので、     4  伸ばしている/伸ばしたい\n",
       " 1595                 思慮・配慮・決断全てバランス良く素敵なお嬢さんですもう会いたいから、     4  伸ばしている/伸ばしたい\n",
       " 1747                                        優しい人は優しいなので     4  伸ばしている/伸ばしたい\n",
       " 1828                                        他のお客さんもいたから     4  伸ばしている/伸ばしたい\n",
       " 2067                       スタッフの女性の方が適度な距離感で話しかけてくれたので、     4  伸ばしている/伸ばしたい\n",
       " 2217                            女性のお客様だけでなく、男性もいらっしゃるので     4  伸ばしている/伸ばしたい\n",
       " 2282                                         一つ一つが親身なので     4  伸ばしている/伸ばしたい\n",
       " 2312                                               派なので     4  伸ばしている/伸ばしたい\n",
       " 2487                                        イケオバになれたので、     4  伸ばしている/伸ばしたい\n",
       " 2614                                       席に案内して下さるので、     4  伸ばしている/伸ばしたい\n",
       " 2670                               家族や友達からの評判がとても良かったので     4  伸ばしている/伸ばしたい\n",
       " 3112                                        顔そりもして頂けるので     4  伸ばしている/伸ばしたい\n",
       " 3163                                   他の方々とは個性が感じられるので     4  伸ばしている/伸ばしたい\n",
       " 3266                                            人見知りなので     4  伸ばしている/伸ばしたい\n",
       " 3868                            友達とかも切ってる人いると思いますよといったら     4  伸ばしている/伸ばしたい\n",
       " 3878                                 お客さんは答えたのかもしれませんが、     4  伸ばしている/伸ばしたい\n",
       " 3984                                今度は友人にもオススメしようと思います     4  伸ばしている/伸ばしたい\n",
       " 4065      とっても居心地のいい接客でした元々、人見知りというか…元気のいい接客があまり得意ではなくて     4  伸ばしている/伸ばしたい\n",
       " 4136             お洋服屋さんで、スタッフさん&見ず知らずのお客さん、みなさんに「可愛い」って     4  伸ばしている/伸ばしたい\n",
       " 4193                                 他のお客さんが優先されたのでしょうか     4  伸ばしている/伸ばしたい\n",
       " 4691                   上で色々と提案や美容室慣れしていない身としては大変ありがたいです     4  伸ばしている/伸ばしたい\n",
       " 4924                                     みなさまお気を付けてください     4  伸ばしている/伸ばしたい\n",
       " 5055                            合う人にはすごく合うのではないかなと思いました     4  伸ばしている/伸ばしたい\n",
       " 5228                              担当してくださった方のお名前を知りたいです     4  伸ばしている/伸ばしたい\n",
       " 5714                                               会えると     4  伸ばしている/伸ばしたい\n",
       " 5835                             甥っ子、姪っ子にも運動会楽しく見に行けました     4  伸ばしている/伸ばしたい\n",
       " 5910             相談してから髪の色とか親身になって聞いてくださいましたありがとうございました     4  伸ばしている/伸ばしたい\n",
       " 6075                                       女性の方が良いかなと思い     4  伸ばしている/伸ばしたい\n",
       " 6094                                   会う人みんなにびっくりされますし     4  伸ばしている/伸ばしたい\n",
       " 6232                                  子連れでも行きやすいなと思いました     4  伸ばしている/伸ばしたい\n",
       " 6267                              家族や周りの知人にも、とても似合っていると     4  伸ばしている/伸ばしたい\n",
       " 6603                                           家族に送ってます     4  伸ばしている/伸ばしたい,\n",
       "                                    文章  クラスタ   トピック\n",
       " 16                   1ヶ月で思った以上に伸びてるので    88  普段の感謝\n",
       " 162                      伸ばしていく途中なので、    88  普段の感謝\n",
       " 199                    ボリュームが広がりやすいので    88  普段の感謝\n",
       " 213         やっぱりまたボブくらいまで伸ばそうかなと思うので、    88  普段の感謝\n",
       " 239                            腕が良いので    88  普段の感謝\n",
       " 307                 少しずつ伸ばそうと思っているので、    88  普段の感謝\n",
       " 350                     伸び放題になっていたので、    88  普段の感謝\n",
       " 402                           伸びていたので    88  普段の感謝\n",
       " 411                        事で幅が広がるので、    88  普段の感謝\n",
       " 418   満足です頑張って綺麗に伸ばしていきます最近筋トレを始めたので、    88  普段の感謝\n",
       " 582                   娘は伸ばしたいと思って居るので    88  普段の感謝\n",
       " 732                 もう少し伸ばした方が良さそうなので    88  普段の感謝\n",
       " 755                        伸ばしていきたいので    88  普段の感謝\n",
       " 947                            伸ばせるので    88  普段の感謝\n",
       " 1402                      今は伸ばしているので、    88  普段の感謝\n",
       " 1476                       今年から重かったので    88  普段の感謝\n",
       " 1559                          伸びが早いので    88  普段の感謝\n",
       " 1615                     伸びてきたこともあって、    88  普段の感謝\n",
       " 1722                        伸びるのが早いので    88  普段の感謝\n",
       " 1906                 枚数もその時の気分で増やしたので    88  普段の感謝\n",
       " 2143                     しばれる長さではあるので    88  普段の感謝\n",
       " 2219                    伸ばしたいと持っていたので    88  普段の感謝\n",
       " 2325                           量も多いので    88  普段の感謝\n",
       " 2330               ブリーチの履歴が根本も伸びていたので    88  普段の感謝\n",
       " 2478                         伸ばしかけなので    88  普段の感謝\n",
       " 2581                    前回、今回と急ぎだったので    88  普段の感謝\n",
       " 2702                     長さもガタガタだったので    88  普段の感謝\n",
       " 2723                   全体的にボリュームもあるので    88  普段の感謝\n",
       " 2773                    天パで結構伸びていたので、    88  普段の感謝\n",
       " 3094                  伸びてきてもセットができるので    88  普段の感謝\n",
       " 3430                       かなり伸びましたが、    88  普段の感謝\n",
       " 3749                          伸びていたので    88  普段の感謝\n",
       " 3765                   ヘッドスパの回数を増やすぞー    88  普段の感謝\n",
       " 4148                        頑張って伸ばします    88  普段の感謝\n",
       " 4295                     頑張って伸ばしましょうと    88  普段の感謝\n",
       " 4624              僕的にはここをもう少し伸ばして欲しいな    88  普段の感謝\n",
       " 5043                頻度の倍の期間は人生変わりますよー    88  普段の感謝\n",
       " 5238            長さはボリュームと毛先を整えてもらいました    88  普段の感謝\n",
       " 5621                       今回は伸ばせそうです    88  普段の感謝\n",
       " 5677               ブリーチの履歴が根本も伸びていたので    88  普段の感謝\n",
       " 5951                           今回は伸びた    88  普段の感謝\n",
       " 5964                        綺麗に伸ばしたいと    88  普段の感謝\n",
       " 6028                           早かったです    88  普段の感謝\n",
       " 6223                       かけられる長さで、と    88  普段の感謝\n",
       " 6419                        ポイント高いですね    88  普段の感謝\n",
       " 6686                長さとボリュームを整えて頂きました    88  普段の感謝,\n",
       "                                            文章  クラスタ   トピック\n",
       " 236                      いつも帰りは、一年後お世話になりますので    83  接客が丁寧\n",
       " 1188                     いつもお願いしていて毎回満足しているので    83  接客が丁寧\n",
       " 1417                 いつも本当にありがとうございますまた利用するので    83  接客が丁寧\n",
       " 1528             いつも暴れる子供のカットありがとうございます-☆夏なので    83  接客が丁寧\n",
       " 1540            いつも子供のカットありがとうございますタブレットがあるので    83  接客が丁寧\n",
       " 1663                      いつも本当に暖かい心で接して頂けるので    83  接客が丁寧\n",
       " 1779   いつもかっこよくしていただきありがとうございます毎回レベルアップしているので    83  接客が丁寧\n",
       " 2343         ありがとうございましたいつも優しい雰囲気で沢山お話してくれるので    83  接客が丁寧\n",
       " 3047            いつもありがとうございます希望をしっかり聞いてくれるので、    83  接客が丁寧\n",
       " 3121          いつもありがとうございますサービスヘッドスパ気持ち良すぎなので    83  接客が丁寧\n",
       " 3293  いつもお世話になってます今回もありがとうございました毎回おんなじ色だったから、    83  接客が丁寧\n",
       " 3414                       寝てましたいつもありがとうございます    83  接客が丁寧\n",
       " 3431                               いつもありがたいです    83  接客が丁寧\n",
       " 3496                                いつも助かってます    83  接客が丁寧\n",
       " 3541                  いつもありがとうございますよろしくお願いします    83  接客が丁寧\n",
       " 3644                     いつも支えてもらってありがとうございます    83  接客が丁寧\n",
       " 3651                               いつも助かっています    83  接客が丁寧\n",
       " 3824                  宜しくお願いしますねいつもありがとうございます    83  接客が丁寧\n",
       " 3836                             いつもお世話になってます    83  接客が丁寧\n",
       " 3971                いつも全てお任せしてます今回もよろしくお願いします    83  接客が丁寧\n",
       " 3979          いつも可愛いカラーありがとうございます今後も宜しくお願いします    83  接客が丁寧\n",
       " 4067                     いつもよりホームケアを頑張ろうと思えます    83  接客が丁寧\n",
       " 4069              施術時間もとても楽しいです◎いつもありがとうございます    83  接客が丁寧\n",
       " 4629                         今回はいつもありがとうございます    83  接客が丁寧\n",
       " 4637                                いつも、有難いです    83  接客が丁寧\n",
       " 4694               自分がとても気に入りましたいつもありがとうございます    83  接客が丁寧\n",
       " 4707                  いつもありがとうございますリラックスできました    83  接客が丁寧\n",
       " 4857          いつもありがとうございますよかったですまたよろしくお願いします    83  接客が丁寧\n",
       " 4867                                いつも助かってます    83  接客が丁寧\n",
       " 4869                         本当に嬉しいですいつもありがとう    83  接客が丁寧\n",
       " 5012                      いつものトークと笑顔で癒やして下さいね    83  接客が丁寧\n",
       " 5191                             いつも大変助かっています    83  接客が丁寧\n",
       " 5346                            いつもありがとうございます    83  接客が丁寧\n",
       " 5352                            いつも有り難く思っています    83  接客が丁寧\n",
       " 5593                      ですがいつもここにお願いしてしまいます    83  接客が丁寧\n",
       " 5705                               いつも感謝しています    83  接客が丁寧\n",
       " 5778            とても感謝してます是非、また◎いつもありがとうございます◎    83  接客が丁寧\n",
       " 6138      とてもありがたいですいつも神対応ありがとうございます★またお願いします    83  接客が丁寧\n",
       " 6331                    いつもありがとうございますまたお願いします    83  接客が丁寧\n",
       " 6332             毎回素敵に仕上げてくださいますいつもありがとうございます    83  接客が丁寧\n",
       " 6392                    毎回助かります…いつもありがとうございます    83  接客が丁寧\n",
       " 6468                        いつも大満足で帰らせてもらってます    83  接客が丁寧\n",
       " 6514          すみません…いつもありがとうございますまたよろしくお願いします    83  接客が丁寧\n",
       " 6552                                 いつも助かります    83  接客が丁寧\n",
       " 6587                               いつも助かってます♪    83  接客が丁寧\n",
       " 6685                  いつも感謝しています今後もよろしくお願いします    83  接客が丁寧,\n",
       "                                                  文章  クラスタ           トピック\n",
       " 49                             お店の雰囲気も良く過ごしやすかったので、    79  指名します/指名しなかった\n",
       " 374                                自然体の接客が好印象でしたので、    79  指名します/指名しなかった\n",
       " 394                                   接客や店の雰囲気も良いので    79  指名します/指名しなかった\n",
       " 476            本当にありがとうございましたお店の雰囲気もスタイリストさんも皆素敵なので    79  指名します/指名しなかった\n",
       " 569                                話しやすくお店の雰囲気が良いので    79  指名します/指名しなかった\n",
       " 637                              お客目線に立った接客をしてくれるので    79  指名します/指名しなかった\n",
       " 645                    楽しくお話してくださったりお店の雰囲気もすごく良いので、    79  指名します/指名しなかった\n",
       " 869                              とても良かったです◎私も接客業なので    79  指名します/指名しなかった\n",
       " 929                                    丁寧に接客してくれるので    79  指名します/指名しなかった\n",
       " 1262                                      接客もよかったので    79  指名します/指名しなかった\n",
       " 1338                            お客様方も、みんな素敵になっていくので    79  指名します/指名しなかった\n",
       " 1485                           大変満足してます店内の雰囲気もいいので、    79  指名します/指名しなかった\n",
       " 1757                            とてもフレンドリーに接客してくれたので    79  指名します/指名しなかった\n",
       " 1795                                接客対応もすごく良かっただけに    79  指名します/指名しなかった\n",
       " 1870                  接客サービスまで、すごく大満足でした誕生日の日だったので、    79  指名します/指名しなかった\n",
       " 1994                                 なにより接客と技術がいいので    79  指名します/指名しなかった\n",
       " 2225                          お店の方が気さくに話しかけてくださったので    79  指名します/指名しなかった\n",
       " 2574                                     接客も丁寧だったので    79  指名します/指名しなかった\n",
       " 2591                                  接客もとても良かったので、    79  指名します/指名しなかった\n",
       " 2610                        店員さんはみなさん本当に親切にしてくださるので    79  指名します/指名しなかった\n",
       " 2668                                  お店の雰囲気も好きだった為    79  指名します/指名しなかった\n",
       " 2766                         尚且つ接客や設備等も詳しく書かれていたので、    79  指名します/指名しなかった\n",
       " 2767                                        接客も良いので    79  指名します/指名しなかった\n",
       " 2796           とても居心地のいいお店で仕上がりも私のイメージに合わせてくださったので、    79  指名します/指名しなかった\n",
       " 2856                                また店内もとても綺麗だったので    79  指名します/指名しなかった\n",
       " 3100                               また女性の方が多めの接客業なので    79  指名します/指名しなかった\n",
       " 3110                          技術はもちろん、接客態度や雰囲気が良いので    79  指名します/指名しなかった\n",
       " 3221                 のもいいですね♪あとルトロワの店内とても綺麗でオシャレなので    79  指名します/指名しなかった\n",
       " 3535                                    接客も最低限で楽でした    79  指名します/指名しなかった\n",
       " 4216            お店の雰囲気も私は好きですケラチンファンデは本当にぜひ試して欲しいです    79  指名します/指名しなかった\n",
       " 4217           ジンジャーさんはみなさんとても笑顔で接客してくださいりとても良かったです    79  指名します/指名しなかった\n",
       " 4324                       丁寧に接客してくれて満足ですありがとうございます    79  指名します/指名しなかった\n",
       " 4344                                     店内空間も常に綺麗な    79  指名します/指名しなかった\n",
       " 4398                                    接客対応としてどうかと    79  指名します/指名しなかった\n",
       " 4493                           変に媚びない接客スタイルもGoodでした    79  指名します/指名しなかった\n",
       " 4832                           大変満足してます店内の雰囲気もいいので、    79  指名します/指名しなかった\n",
       " 4872                                      接客態度は満足です    79  指名します/指名しなかった\n",
       " 4881                       とても満足しています◎ここのお店は信頼しています    79  指名します/指名しなかった\n",
       " 5421                       世代には、とても良いサロンを見つけたと思いました    79  指名します/指名しなかった\n",
       " 5450                          接客を適当にされることもよくあるのですが,    79  指名します/指名しなかった\n",
       " 5451                             amieさんの接客はとても好印象です    79  指名します/指名しなかった\n",
       " 5734  お店の雰囲気、色合いが好きすぎてすごく好きになりましたいつも絶妙な良い髪色で毎回大満足です    79  指名します/指名しなかった\n",
       " 5763                     店内は笑いつもざっくりしたイメージだけ伝えていますが    79  指名します/指名しなかった\n",
       " 5772         癒されます笑1階はすごくおしゃれで洗練された空間でしたありがとうございました    79  指名します/指名しなかった\n",
       " 5956               前の赤みのある茶色よりは満足です施術中もお店の雰囲気も素敵でした    79  指名します/指名しなかった\n",
       " 6245                                       内装も綺麗でした    79  指名します/指名しなかった\n",
       " 6250                                    店内はとてもきれいです    79  指名します/指名しなかった\n",
       " 6474                             入りやすくお店の雰囲気も良かったです    79  指名します/指名しなかった\n",
       " 6568                 のもいいですね♪あとルトロワの店内とても綺麗でオシャレなので    79  指名します/指名しなかった,\n",
       "                                     文章  クラスタ               トピック\n",
       " 64        永久指名しますねって口に出してしまう程の技術があるので、     9  メニューの豊富さ/ドリンクサービス\n",
       " 253                トリートメント付きのプランだったので、     9  メニューの豊富さ/ドリンクサービス\n",
       " 333                  いうと、一緒に決めていただいたので     9  メニューの豊富さ/ドリンクサービス\n",
       " 475                次は指名して又お伺いさせて頂きますので     9  メニューの豊富さ/ドリンクサービス\n",
       " 639                        指名が出来なかったので     9  メニューの豊富さ/ドリンクサービス\n",
       " 802                    しっかり目にとオーダーしたので     9  メニューの豊富さ/ドリンクサービス\n",
       " 1297                   今回指名料が追加されていたので     9  メニューの豊富さ/ドリンクサービス\n",
       " 1508             次回は指名でお願いしようと思っていたので、     9  メニューの豊富さ/ドリンクサービス\n",
       " 1621      いつも指名しているスタイリストさんが予定合わなかったので     9  メニューの豊富さ/ドリンクサービス\n",
       " 1876                        指名はしていないので     9  メニューの豊富さ/ドリンクサービス\n",
       " 2135                         自分が指定したので     9  メニューの豊富さ/ドリンクサービス\n",
       " 2186                是非指名させて頂きたいと思いますので     9  メニューの豊富さ/ドリンクサービス\n",
       " 2275            ありがとうございました指名なしで予約したので     9  メニューの豊富さ/ドリンクサービス\n",
       " 2659                     勧められて変更をしたため、     9  メニューの豊富さ/ドリンクサービス\n",
       " 2954                            決めれたので     9  メニューの豊富さ/ドリンクサービス\n",
       " 3050         お任せした部分も自分の思ったものと、あっていたので     9  メニューの豊富さ/ドリンクサービス\n",
       " 3222                       その後予定があったので     9  メニューの豊富さ/ドリンクサービス\n",
       " 3258                   指名することもできるようなので     9  メニューの豊富さ/ドリンクサービス\n",
       " 3547              マッシュルームボブをご提案いただきました     9  メニューの豊富さ/ドリンクサービス\n",
       " 3647                          指名しましたが、     9  メニューの豊富さ/ドリンクサービス\n",
       " 3680                 いうと、一緒に決めていただいたので     9  メニューの豊富さ/ドリンクサービス\n",
       " 3722                     次回から指名させて頂きます     9  メニューの豊富さ/ドリンクサービス\n",
       " 3891               指名した意味はあるとは思っていますが、     9  メニューの豊富さ/ドリンクサービス\n",
       " 4133                     指名で切っていただきました     9  メニューの豊富さ/ドリンクサービス\n",
       " 4163  2回目のバイカルテでした担当の指名はしやすくていいなと思いました     9  メニューの豊富さ/ドリンクサービス\n",
       " 4302                 今回、あえて指名はしませんでしたが     9  メニューの豊富さ/ドリンクサービス\n",
       " 4307                     コースを選ばせて頂きました     9  メニューの豊富さ/ドリンクサービス\n",
       " 4645                   初めて指名なしで行きましたが、     9  メニューの豊富さ/ドリンクサービス\n",
       " 4660               いう希望の時はお任せする事が出来ました     9  メニューの豊富さ/ドリンクサービス\n",
       " 4665     「明るめでベージュ?で」とほぼお任せでオーダーしましたが、     9  メニューの豊富さ/ドリンクサービス\n",
       " 4771                          オーダーしました     9  メニューの豊富さ/ドリンクサービス\n",
       " 5035                             決めました     9  メニューの豊富さ/ドリンクサービス\n",
       " 5068                      指名して来たいと思います     9  メニューの豊富さ/ドリンクサービス\n",
       " 5167                           選択できました     9  メニューの豊富さ/ドリンクサービス\n",
       " 5428                      指名させていただきました     9  メニューの豊富さ/ドリンクサービス\n",
       " 5436                    あまり細かい注文はしなくとも     9  メニューの豊富さ/ドリンクサービス\n",
       " 5443                       ご指名させて頂きました     9  メニューの豊富さ/ドリンクサービス\n",
       " 5636                         こちらに決めました     9  メニューの豊富さ/ドリンクサービス\n",
       " 5669                     必ず指名させて頂いています     9  メニューの豊富さ/ドリンクサービス\n",
       " 5685                   揃えてもらうことにしましたが、     9  メニューの豊富さ/ドリンクサービス\n",
       " 5798                         指名したのですが、     9  メニューの豊富さ/ドリンクサービス\n",
       " 5833                         こちらを選びました     9  メニューの豊富さ/ドリンクサービス\n",
       " 5929                      指名無しで行きましたが、     9  メニューの豊富さ/ドリンクサービス\n",
       " 6014                       選ばせていただきました     9  メニューの豊富さ/ドリンクサービス\n",
       " 6090                      名刺とか頂きたかったです     9  メニューの豊富さ/ドリンクサービス\n",
       " 6122                             決めました     9  メニューの豊富さ/ドリンクサービス\n",
       " 6455                  自分はことを提案されたのですが、     9  メニューの豊富さ/ドリンクサービス\n",
       " 6613                        指名無しでいきました     9  メニューの豊富さ/ドリンクサービス\n",
       " 6614                   今度からは指名しようと思います     9  メニューの豊富さ/ドリンクサービス\n",
       " 6643                   ブリーチは指名でお願いしました     9  メニューの豊富さ/ドリンクサービス,\n",
       "                                                文章  クラスタ  トピック\n",
       " 110                                   大分すいてもらったので    29  来店した\n",
       " 208                             酸性ストレートをすすめて頂いたので    29  来店した\n",
       " 427                                    メニューが豊富なので    29  来店した\n",
       " 502                      オイルもドライヤーの前に使っていいものだったので    29  来店した\n",
       " 513                                  乾かすだけでまとまるので    29  来店した\n",
       " 540       仕上がりもものでした帰り際に次回のメニューについてもオススメしてもらえたので、    29  来店した\n",
       " 557   いった悩みに対しても解消できるほどの対応でしたミストとオイルも購入させていただいたので    29  来店した\n",
       " 575                               汲み取って頂き対応頂けるので、    29  来店した\n",
       " 615                                 メニューをご提示頂けたので    29  来店した\n",
       " 689                                   会食の予定があったので    29  来店した\n",
       " 905                              量でパサつきや乾燥もおさまるので    29  来店した\n",
       " 1089                        あと、リファ仕上げ?のクーポンを選んだので    29  来店した\n",
       " 1287                               ドリンクやおかしがあったので    29  来店した\n",
       " 1418                              しっかり汲み取って頂けるので、    29  来店した\n",
       " 1623                               いうのを汲み取ってくれるので    29  来店した\n",
       " 1699                                      メニューなので    29  来店した\n",
       " 2054                              簡単なドライヤーでまとまるので    29  来店した\n",
       " 2198                次回は短めにするかもしれないです笑クーポンも利用出来たので    29  来店した\n",
       " 2210                            乾かす際もほかのお客様がいたので、    29  来店した\n",
       " 2297                             メニューの変更をしてもらえたので    29  来店した\n",
       " 2324                           久々に会うお友達とランチに行くので、    29  来店した\n",
       " 2326                          あと、ヘアミルクを購入しに行きますので    29  来店した\n",
       " 2402                            中からことを汲み取ってくれるので、    29  来店した\n",
       " 2523                       合わせて相談しながらメニューを決められるので    29  来店した\n",
       " 2549                     ありがたいです飲み物と甘いお菓子もいただけるので    29  来店した\n",
       " 2604                          ミルクココアがあったかくておいしいので    29  来店した\n",
       " 2634                           洗って乾かしただけで形が出来るので、    29  来店した\n",
       " 2646                               お菓子も出していただけたので    29  来店した\n",
       " 2726                   カットのみでもドリンク等のサービスをしてくれるので、    29  来店した\n",
       " 2964                  よろしくお願いしますトークの内容が7割は食べ物ですので    29  来店した\n",
       " 3022                                間食でもいいと思いますので    29  来店した\n",
       " 3072                                   メニューも豊富なので    29  来店した\n",
       " 3089                               セットメニューの方が安いので    29  来店した\n",
       " 3310                            ドライヤーとくしだけでまとまるので    29  来店した\n",
       " 3639                              サービスのお茶も有難かったです    29  来店した\n",
       " 3938                       アシスタントの方が、お湯が耳から垂れてきたり    29  来店した\n",
       " 4938                                         新鮮です    29  来店した\n",
       " 5087                      本当にメニューのトリートメントなのか不安でした    29  来店した\n",
       " 5185                             内巻きでも外巻きでも楽しめてます    29  来店した\n",
       " 5410                     もう少し良いメニューでやってみようかと思います.    29  来店した\n",
       " 5416                                     すいてくださいと    29  来店した\n",
       " 5545                次回は短めにするかもしれないです笑クーポンも利用出来たので    29  来店した\n",
       " 5746               度にちょっとした遠出気分でご飯屋さんを探してみようと思います    29  来店した\n",
       " 5896                     ありがたいです飲み物と甘いお菓子もいただけるので    29  来店した\n",
       " 5993                   快適に過ごすことができましたドリンクの種類が豊富で、    29  来店した\n",
       " 6155                            入店後すぐに別な飲み物を頂きました    29  来店した\n",
       " 6197                         黒い部分に少しすいてもらって終了しました    29  来店した\n",
       " 6311                  よろしくお願いしますトークの内容が7割は食べ物ですので    29  来店した\n",
       " 6370             何か食べて下さいねまたカッコいいヘアスタイルよろしくお願いします    29  来店した\n",
       " 6420                             いろんなメニューを試していますが    29  来店した,\n",
       "                                                      文章  クラスタ          トピック\n",
       " 142                                        私の前にお客様がいたので    45  パーマをかけたい/かけた\n",
       " 871                                 2か月ぶり程の来店になってしまったので    45  パーマをかけたい/かけた\n",
       " 919                             今回で4回目の来店でした前回から差があったので    45  パーマをかけたい/かけた\n",
       " 991                                        3か月ぷりに来店したので    45  パーマをかけたい/かけた\n",
       " 1027                                        初めてのお店だったので    45  パーマをかけたい/かけた\n",
       " 1310                                   当日予約で初めてのお店だったので    45  パーマをかけたい/かけた\n",
       " 1334                                            来店したため、    45  パーマをかけたい/かけた\n",
       " 1411                               2回目の来店でしたたまたま有休だったので    45  パーマをかけたい/かけた\n",
       " 1466                                          初来店だったので、    45  パーマをかけたい/かけた\n",
       " 1537                                       何度も来店しているので、    45  パーマをかけたい/かけた\n",
       " 1616                                       初めての来店だったので、    45  パーマをかけたい/かけた\n",
       " 1673                                           初来店だったので    45  パーマをかけたい/かけた\n",
       " 1691                         初めての来店かつ久しぶりのパーマということもあって、    45  パーマをかけたい/かけた\n",
       " 2131                                        次の客が待っていたから    45  パーマをかけたい/かけた\n",
       " 2200                                      初めていくお店だったので、    45  パーマをかけたい/かけた\n",
       " 2367                                前の店舗の時からやって頂いていたので、    45  パーマをかけたい/かけた\n",
       " 2409                              担当の方がこちらの店舗に移動となったので、    45  パーマをかけたい/かけた\n",
       " 2419                              担当の方がこちらのお店へ異動になったので、    45  パーマをかけたい/かけた\n",
       " 2607                                       来店から3日経過したので    45  パーマをかけたい/かけた\n",
       " 2704                                     新しいお店ということもあって    45  パーマをかけたい/かけた\n",
       " 2897                                            新店舗なので、    45  パーマをかけたい/かけた\n",
       " 2902                                              新店なので    45  パーマをかけたい/かけた\n",
       " 3230  すごく満足のいく仕上がりにしていただけました♪ありがとうございました担当してくださった方は、...    45  パーマをかけたい/かけた\n",
       " 3325                                     3ヶ月ぶりの来店だったので、    45  パーマをかけたい/かけた\n",
       " 3403                                    お店へ向かってしまいましたが、    45  パーマをかけたい/かけた\n",
       " 3745                                     退店後、予定が続きましたが、    45  パーマをかけたい/かけた\n",
       " 3773                                     直してもらおうと来店しました    45  パーマをかけたい/かけた\n",
       " 3780                                     状態で来店してしまうのですが    45  パーマをかけたい/かけた\n",
       " 3793                           初めてお伺いするお店で指名をさせていただきました    45  パーマをかけたい/かけた\n",
       " 3800                                       再度来店させて頂きました    45  パーマをかけたい/かけた\n",
       " 4237                                       1ヶ月ぶりに来店しました    45  パーマをかけたい/かけた\n",
       " 4316                                                初来店    45  パーマをかけたい/かけた\n",
       " 4689                                           再来店できました    45  パーマをかけたい/かけた\n",
       " 4840                                        久し振りに来店しました    45  パーマをかけたい/かけた\n",
       " 4963                                                来店…    45  パーマをかけたい/かけた\n",
       " 5011                          お店を出た後は又すぐ行きたくなるそんな担当さんです    45  パーマをかけたい/かけた\n",
       " 5013                                     今回は急遽、短くしたくて来店    45  パーマをかけたい/かけた\n",
       " 5014                                           今回来店しました    45  パーマをかけたい/かけた\n",
       " 5086                                           特に来店しました    45  パーマをかけたい/かけた\n",
       " 5149                                       はじめてのお店でしたが、    45  パーマをかけたい/かけた\n",
       " 5511                                      色々見て今回来店しましたが    45  パーマをかけたい/かけた\n",
       " 5672                                 リフレッシュしたくて来店いたしました    45  パーマをかけたい/かけた\n",
       " 5757                                             来店しました    45  パーマをかけたい/かけた\n",
       " 5774                                    円山の店舗へは初めて参りました    45  パーマをかけたい/かけた\n",
       " 5787                                  初めて店舗利用させていただきました    45  パーマをかけたい/かけた\n",
       " 5954                                       来店から3日経過したので    45  パーマをかけたい/かけた\n",
       " 6096                                           2回目の来店です    45  パーマをかけたい/かけた\n",
       " 6243                                             初来店でした    45  パーマをかけたい/かけた\n",
       " 6276                                           来店しましたが、    45  パーマをかけたい/かけた\n",
       " 6375                                             来店しました    45  パーマをかけたい/かけた\n",
       " 6519                                        次回の来店が楽しみです    45  パーマをかけたい/かけた\n",
       " 6528                                       来店したいなと思いました    45  パーマをかけたい/かけた\n",
       " 6563                                     急遽、こちらに初来店しました    45  パーマをかけたい/かけた,\n",
       "                                    文章  クラスタ              トピック\n",
       " 53                       前回パーマをかけたので、    21  パサつき・色抜けうねりが気になる\n",
       " 69                             パーマなので    21  パサつき・色抜けうねりが気になる\n",
       " 139              パーマがいつもより早く取れかけてるので、    21  パサつき・色抜けうねりが気になる\n",
       " 140                      次回はパーマ予定なので、    21  パサつき・色抜けうねりが気になる\n",
       " 198          パーマは左右均等にバランスよく仕上げてくれるので    21  パサつき・色抜けうねりが気になる\n",
       " 336                    パーマなくなってしまうので、    21  パサつき・色抜けうねりが気になる\n",
       " 431              髪染めとパーマで時間もかかっていたので、    21  パサつき・色抜けうねりが気になる\n",
       " 434      従来のストレートパーマで失敗してしまった経験があるので、    21  パサつき・色抜けうねりが気になる\n",
       " 761                  パーマの状況も把握されていたので    21  パサつき・色抜けうねりが気になる\n",
       " 1280                パーマをかけたいと思っていますので    21  パサつき・色抜けうねりが気になる\n",
       " 1308               部分パーマも併せてしていただけたので    21  パサつき・色抜けうねりが気になる\n",
       " 1469               すぐにパーマが取れてしまうと思うので    21  パサつき・色抜けうねりが気になる\n",
       " 1526         少し伸ばしてパーマをかけたいと思っておりますので    21  パサつき・色抜けうねりが気になる\n",
       " 1529              楽しくなります彼氏にパーマもかけたので    21  パサつき・色抜けうねりが気になる\n",
       " 1677                     初めてのパーマだったので    21  パサつき・色抜けうねりが気になる\n",
       " 1702                  パーマがすぐとれてしまったので    21  パサつき・色抜けうねりが気になる\n",
       " 1706           パーマ後が思ったより強くかかりすぎていたので    21  パサつき・色抜けうねりが気になる\n",
       " 1716                      パーマが残っていたため    21  パサつき・色抜けうねりが気になる\n",
       " 1731                    パーマのかかりがいいので、    21  パサつき・色抜けうねりが気になる\n",
       " 1755                       初めてのパーマなので    21  パサつき・色抜けうねりが気になる\n",
       " 1775            結果的にストレートパーマを勧められたため、    21  パサつき・色抜けうねりが気になる\n",
       " 1781                   パーマが分からなかったため、    21  パサつき・色抜けうねりが気になる\n",
       " 1903               パーマをまたかけるかもしれませんので    21  パサつき・色抜けうねりが気になる\n",
       " 2006                   元々パーマがかかりにくいので    21  パサつき・色抜けうねりが気になる\n",
       " 2099                     久々のパーマだったので、    21  パサつき・色抜けうねりが気になる\n",
       " 2384                     強いパーマをあててたので    21  パサつき・色抜けうねりが気になる\n",
       " 2564            前回パーマをしっかりかけて頂いたおかげで、    21  パサつき・色抜けうねりが気になる\n",
       " 2755                     初めてパーマをかけるので    21  パサつき・色抜けうねりが気になる\n",
       " 2802                   あとパーマ得意みたいなので、    21  パサつき・色抜けうねりが気になる\n",
       " 2924                  何年かぶりにパーマをかけるので    21  パサつき・色抜けうねりが気になる\n",
       " 2973                      パーマがゆるかったので    21  パサつき・色抜けうねりが気になる\n",
       " 3001                   パーマをしていただけるので、    21  パサつき・色抜けうねりが気になる\n",
       " 3051                  カット、パーマがよかっただけに    21  パサつき・色抜けうねりが気になる\n",
       " 3069                   パーマをかけていただけたので    21  パサつき・色抜けうねりが気になる\n",
       " 3075                     初めてのパーマだったので    21  パサつき・色抜けうねりが気になる\n",
       " 3480               次はパーマかけてみたいと思っています    21  パサつき・色抜けうねりが気になる\n",
       " 3487                     次回はパーマ予定なので、    21  パサつき・色抜けうねりが気になる\n",
       " 4554           短く切りパーマが中途半端に残っていましたが、    21  パサつき・色抜けうねりが気になる\n",
       " 4736                      パーマを初挑戦しました    21  パサつき・色抜けうねりが気になる\n",
       " 4816                パーマがすぐ取れてしまいましたが、    21  パサつき・色抜けうねりが気になる\n",
       " 5044          次回のパーマもここでお願いしようと思っています    21  パサつき・色抜けうねりが気になる\n",
       " 5054  帰って割とたくさん洗ったら思っていたくらいのパーマになりました    21  パサつき・色抜けうねりが気になる\n",
       " 5089                      パーマはお願いしました    21  パサつき・色抜けうねりが気になる\n",
       " 5105                  今回はカット&パーマでしたが、    21  パサつき・色抜けうねりが気になる\n",
       " 5178             今度はデジタルパーマも頼みたいと思います    21  パサつき・色抜けうねりが気になる\n",
       " 5250               パーマをまたかけるかもしれませんので    21  パサつき・色抜けうねりが気になる\n",
       " 5692                パーマをかけてみたかったんですが、    21  パサつき・色抜けうねりが気になる\n",
       " 5725                      パーマは難しいかな、と    21  パサつき・色抜けうねりが気になる\n",
       " 5912               まだまだしっかりパーマがかかっており    21  パサつき・色抜けうねりが気になる\n",
       " 6150                 次はパーマお願いしようと思います    21  パサつき・色抜けうねりが気になる\n",
       " 6329                今回ポイントパーマでお願いしました    21  パサつき・色抜けうねりが気になる\n",
       " 6359             パーマはかけなくても良さそうになりました    21  パサつき・色抜けうねりが気になる\n",
       " 6529                前回のパーマはとても満足しています    21  パサつき・色抜けうねりが気になる\n",
       " 6564                  すでに茶髪になってきてますが、    21  パサつき・色抜けうねりが気になる,\n",
       "                                   文章  クラスタ       トピック\n",
       " 65               後頭部のうねりがやっぱり気になるので、    61  楽しかった/楽しみ\n",
       " 90                      かなり気になっていたので    61  楽しかった/楽しみ\n",
       " 93                        とても気に入ったので    61  楽しかった/楽しみ\n",
       " 154              色抜けとプリン状態が気になっていたので    61  楽しかった/楽しみ\n",
       " 301                     パサつきが気になったので    61  楽しかった/楽しみ\n",
       " 413                         のが気になるので    61  楽しかった/楽しみ\n",
       " 483                     頭皮の匂いが気になるので    61  楽しかった/楽しみ\n",
       " 588                      のが少し気になったので    61  楽しかった/楽しみ\n",
       " 683          パーソナルカラー診断がずっと気になっていたので    61  楽しかった/楽しみ\n",
       " 792                   根元の癖が気になり始めたので    61  楽しかった/楽しみ\n",
       " 831                      のが少し気になるので、    61  楽しかった/楽しみ\n",
       " 878                  引っかかりがまだ気になったので    61  楽しかった/楽しみ\n",
       " 1152            ケラチンファンデーションが気にいったので    61  楽しかった/楽しみ\n",
       " 1263                事に気が付かせていただいたので、    61  楽しかった/楽しみ\n",
       " 1507                       のが気になるので、    61  楽しかった/楽しみ\n",
       " 1637                        気にいってたので    61  楽しかった/楽しみ\n",
       " 1638                  見てるのが気になりましたので    61  楽しかった/楽しみ\n",
       " 1639                      気になっていたので、    61  楽しかった/楽しみ\n",
       " 2513                      大変気に入ったので、    61  楽しかった/楽しみ\n",
       " 2663                     こっちも気になったので    61  楽しかった/楽しみ\n",
       " 2687                         気に入ったので    61  楽しかった/楽しみ\n",
       " 2921                   くせが気になっていたので、    61  楽しかった/楽しみ\n",
       " 3014                     黒くなった気がするので    61  楽しかった/楽しみ\n",
       " 3087                    前から気になっていたので    61  楽しかった/楽しみ\n",
       " 3379                           気がします    61  楽しかった/楽しみ\n",
       " 3437                    かなり気になっていたので    61  楽しかった/楽しみ\n",
       " 3501             色抜けとプリン状態が気になっていたので    61  楽しかった/楽しみ\n",
       " 3509                    とても気に入っております    61  楽しかった/楽しみ\n",
       " 3659  トイレのタイミングや飲み物のことなど特に気にかけてくれました    61  楽しかった/楽しみ\n",
       " 4056                     体に気をつけてください    61  楽しかった/楽しみ\n",
       " 4184                     そこだけ気になりました    61  楽しかった/楽しみ\n",
       " 4243                      スパも気になりました    61  楽しかった/楽しみ\n",
       " 4253                     お気に入りになりました    61  楽しかった/楽しみ\n",
       " 4369                   気をつけていただきたいです    61  楽しかった/楽しみ\n",
       " 4421                     とても気に入っています    61  楽しかった/楽しみ\n",
       " 4437                 使用感気になっていたのですが、    61  楽しかった/楽しみ\n",
       " 4529                     気にして欲しかったです    61  楽しかった/楽しみ\n",
       " 4671                        気に入っています    61  楽しかった/楽しみ\n",
       " 4821                     すごく気に入っています    61  楽しかった/楽しみ\n",
       " 4826                  当日は気になってしまいました    61  楽しかった/楽しみ\n",
       " 4919      今回は、「プレミアムトリートメント」で、気がしました    61  楽しかった/楽しみ\n",
       " 5291         とても気に入りましたこれからもお世話になります    61  楽しかった/楽しみ\n",
       " 5376                    はじめは気に入っています    61  楽しかった/楽しみ\n",
       " 5489               気のせいだろうと流してしまいました    61  楽しかった/楽しみ\n",
       " 5568                      とても気に入りました    61  楽しかった/楽しみ\n",
       " 5655                  耳の裏がかゆくなりましたが、    61  楽しかった/楽しみ\n",
       " 5894                         気に入ってます    61  楽しかった/楽しみ\n",
       " 5982                        気に入っています    61  楽しかった/楽しみ\n",
       " 6485                      少し気が引きますが、    61  楽しかった/楽しみ\n",
       " 6511                        気に入っています    61  楽しかった/楽しみ\n",
       " 6609                        気に入っています    61  楽しかった/楽しみ\n",
       " 6618                   体調に気をつけてください★    61  楽しかった/楽しみ\n",
       " 6655                   のも少し気になりましたが、    61  楽しかった/楽しみ\n",
       " 6690                      とてもお気に入りです    61  楽しかった/楽しみ,\n",
       "                                    文章  クラスタ  トピック\n",
       " 455                     とっても楽しかったですので    53  緊張した\n",
       " 687                     趣味の世界観とか好みなので    53  緊張した\n",
       " 744                      のもとても楽しかったので    53  緊張した\n",
       " 1216                        楽しく終われたので    53  緊張した\n",
       " 1350                  しかもとても楽しく過ごせるので    53  緊張した\n",
       " 1401                    ずっと楽しみにしていたので    53  緊張した\n",
       " 2366                    楽しみですお話も楽しいので    53  緊張した\n",
       " 2437                         のも楽しみなので    53  緊張した\n",
       " 3212                       とても楽しみなので、    53  緊張した\n",
       " 3486                       のを楽しみにしてます    53  緊張した\n",
       " 3640             のも楽しくなりそう…学生でもオススメです    53  緊張した\n",
       " 3759                       これからも楽しみです    53  緊張した\n",
       " 3802                    とっても楽しかったですので    53  緊張した\n",
       " 3808                    スッキリするのが楽しみです    53  緊張した\n",
       " 3969                          のが楽しみです    53  緊張した\n",
       " 4054  とても楽しかったですまた友人と一緒に利用させていただきたいです    53  緊張した\n",
       " 4132                     楽しい行くのが楽しみです    53  緊張した\n",
       " 4281                        行くのが楽しみです    53  緊張した\n",
       " 4352                          のが楽しみです    53  緊張した\n",
       " 4362               終始楽しく過ごせてとても良かったです    53  緊張した\n",
       " 4387           楽しく過ごせましたまたの願いしたいと思います    53  緊張した\n",
       " 4501                   しばらく楽しみたいと思います    53  緊張した\n",
       " 4601                   楽しく過ごすことができました    53  緊張した\n",
       " 4657                        楽しく通えています    53  緊張した\n",
       " 4676              楽しく過ごせてあっとゆーまに感じました    53  緊張した\n",
       " 4686                     見ていて楽しかったです笑    53  緊張した\n",
       " 4719                       楽しみたいと思います    53  緊張した\n",
       " 4732                       楽しみにしています☆    53  緊張した\n",
       " 4782                 気分によって楽しみたいと思います    53  緊張した\n",
       " 4852                楽しかったですありがとうございます    53  緊張した\n",
       " 4873                   いろいろ楽しみたいと思います    53  緊張した\n",
       " 4937                            楽しみです    53  緊張した\n",
       " 5034                          のが楽しいです    53  緊張した\n",
       " 5216                 楽しい時間でしたまたお願いします    53  緊張した\n",
       " 5348                            楽しみです    53  緊張した\n",
       " 5505                  あっという間の楽しい時間でした    53  緊張した\n",
       " 5526          また、すごく楽しい時間を過ごすことが出来ました    53  緊張した\n",
       " 5569                          次は楽しみです    53  緊張した\n",
       " 5573             また、楽しい時間を過ごすことが出来ました    53  緊張した\n",
       " 5577                         今回は楽しみです    53  緊張した\n",
       " 5662                   当日楽しんでこようと思います    53  緊張した\n",
       " 5713                    楽しみですお話も楽しいので    53  緊張した\n",
       " 5739                         楽しく過ごせます    53  緊張した\n",
       " 5744                            楽しみです    53  緊張した\n",
       " 5786                        楽しみが増えました    53  緊張した\n",
       " 5813                         今から楽しみです    53  緊張した\n",
       " 5854                     とても楽しく過ごせました    53  緊張した\n",
       " 5921             好きな時間を過ごすことができると思います    53  緊張した\n",
       " 5949                       これからが楽しみです    53  緊張した\n",
       " 6217                        楽しく過ごせました    53  緊張した\n",
       " 6248                          楽しかったです    53  緊張した\n",
       " 6416                      とても楽しみにしてます    53  緊張した\n",
       " 6569                     のも楽しみだったりします    53  緊張した\n",
       " 6645                          次回楽しみです    53  緊張した,\n",
       "                              文章  クラスタ トピック\n",
       " 276                いつも緊張しちゃうので、    32   感謝\n",
       " 403                     葛藤中ですので    32   感謝\n",
       " 1375         緊張していてちゃんと話せなかったので    32   感謝\n",
       " 2080             のが緊張してしまいダメなので    32   感謝\n",
       " 2253                  緊張感があるので、    32   感謝\n",
       " 3467              少し緊張していたのですが、    32   感謝\n",
       " 3570               少し緊張していましたが、    32   感謝\n",
       " 3590                    緊張しましたが    32   感謝\n",
       " 3591                  緊張がほぐれました    32   感謝\n",
       " 3813                 少し緊張しましたが、    32   感謝\n",
       " 3837                   緊張してましたが    32   感謝\n",
       " 3843                  少し緊張しましたが    32   感謝\n",
       " 3847                 結構緊張しましたが、    32   感謝\n",
       " 3863                  とても緊張しました    32   感謝\n",
       " 3892                  大変緊張しましたが    32   感謝\n",
       " 3951                少し緊張していましたが    32   感謝\n",
       " 3957                 緊張していましたが、    32   感謝\n",
       " 3972             とても緊張していたのですが、    32   感謝\n",
       " 3975                   緊張しましたが、    32   感謝\n",
       " 4115                 緊張だったのですが、    32   感謝\n",
       " 4172                 緊張していましたが、    32   感謝\n",
       " 4223                 緊張していたのですが    32   感謝\n",
       " 4300                 緊張していましたが、    32   感謝\n",
       " 4328                 とても緊張しましたが    32   感謝\n",
       " 4343                緊張していたのですが、    32   感謝\n",
       " 4375                緊張していたのですが、    32   感謝\n",
       " 4400                 緊張していましたが、    32   感謝\n",
       " 4584                   緊張しましたが、    32   感謝\n",
       " 4613                  緊張してましたが、    32   感謝\n",
       " 4658                   緊張してましたが    32   感謝\n",
       " 4672               最初は緊張していましたが    32   感謝\n",
       " 4744                   緊張しましたが、    32   感謝\n",
       " 4755                 緊張していましたが、    32   感謝\n",
       " 4849                 緊張してたんですが、    32   感謝\n",
       " 5069              かなり緊張してたのですが、    32   感謝\n",
       " 5082                   緊張しましたが、    32   感謝\n",
       " 5203                  緊張してたのですが    32   感謝\n",
       " 5259                 緊張していたのですが    32   感謝\n",
       " 5318               緊張して行ったのですが、    32   感謝\n",
       " 5328                   緊張しましたが、    32   感謝\n",
       " 5373             こちらも緊張してしまいました    32   感謝\n",
       " 5394               少し緊張していたのですが    32   感謝\n",
       " 5419                 緊張してたんですけど    32   感謝\n",
       " 5442                緊張していたのですが、    32   感謝\n",
       " 5447                とても緊張しましたが、    32   感謝\n",
       " 5499                    緊張しましたが    32   感謝\n",
       " 5504                 最初緊張しましたが、    32   感謝\n",
       " 5548               少し緊張していたのですが    32   感謝\n",
       " 5665            最初とても緊張していましたが、    32   感謝\n",
       " 5668  スタイリストさんでした●私とても緊張してましたが、    32   感謝\n",
       " 5716                 緊張していましたが、    32   感謝\n",
       " 5852                最初は緊張しましたが、    32   感謝\n",
       " 6012                 緊張していましたが、    32   感謝\n",
       " 6103                 緊張していましたが、    32   感謝\n",
       " 6285               先日は緊張してましたが、    32   感謝\n",
       " 6426               少し緊張していましたが、    32   感謝,\n",
       "                                文章  クラスタ    トピック\n",
       " 2932         ありがとうございますまた定期的に行くので    67  楽/スムーズ\n",
       " 3419                丁寧にありがとうございます    67  楽/スムーズ\n",
       " 3439                  ありがとうございました    67  楽/スムーズ\n",
       " 3494            やってみますありがとうございました    67  楽/スムーズ\n",
       " 3797     先日はありがとうございました初めて口コミ書きます    67  楽/スムーズ\n",
       " 3822            気に入りましたありがとうございます    67  楽/スムーズ\n",
       " 3850                  ありがとうございました    67  楽/スムーズ\n",
       " 3886       ありがとうございましたまた宜しくお願いします    67  楽/スムーズ\n",
       " 3916                    とても感謝してるし    67  楽/スムーズ\n",
       " 3955               また、ありがとうございました    67  楽/スムーズ\n",
       " 3983                        大感謝です    67  楽/スムーズ\n",
       " 4033                  ありがとうございました    67  楽/スムーズ\n",
       " 4051                今回はありがとうございます    67  楽/スムーズ\n",
       " 4105                本当にありがとうございます    67  楽/スムーズ\n",
       " 4269                     感謝しております    67  楽/スムーズ\n",
       " 4309                         感謝です    67  楽/スムーズ\n",
       " 4609              本当に毎回ありがとうございます    67  楽/スムーズ\n",
       " 4614  宜しくお願い致します☆ミこの度はありがとうございました    67  楽/スムーズ\n",
       " 4631                  ありがとうございました    67  楽/スムーズ\n",
       " 4706           お邪魔しますありがとうございました♪    67  楽/スムーズ\n",
       " 4716   今回もありがとうございました全然何も申し訳ないです笑    67  楽/スムーズ\n",
       " 4871        宜しくお願いしますねありがとうございました    67  楽/スムーズ\n",
       " 4877                  ありがとうございました    67  楽/スムーズ\n",
       " 4907       ありがとうございましたまた宜しくお願いします    67  楽/スムーズ\n",
       " 5007                  ありがとうございました    67  楽/スムーズ\n",
       " 5071                  ありがとうございました    67  楽/スムーズ\n",
       " 5110               こと、ありがとうございました    67  楽/スムーズ\n",
       " 5266    今回もありがとうございましたありがとうございました    67  楽/スムーズ\n",
       " 5298       教えてもらえて感謝ですありがとうございました    67  楽/スムーズ\n",
       " 5363                   とても感謝しています    67  楽/スムーズ\n",
       " 5381     ありがとうございましたまたよろしくお願い致します    67  楽/スムーズ\n",
       " 5405                     ほんとに感謝です    67  楽/スムーズ\n",
       " 5537          そして納得ですありがとうございました◎    67  楽/スムーズ\n",
       " 5539                  ありがとうございました    67  楽/スムーズ\n",
       " 5590      とても気に入っていますありがとうございました☆    67  楽/スムーズ\n",
       " 5606                  ありがとうございました    67  楽/スムーズ\n",
       " 5625                  ありがとうございました    67  楽/スムーズ\n",
       " 5631                   ありがとうございます    67  楽/スムーズ\n",
       " 5738                髪色ありがとうございました    67  楽/スムーズ\n",
       " 5771                   ありがとうございます    67  楽/スムーズ\n",
       " 5849                  ありがとうございました    67  楽/スムーズ\n",
       " 5856         ありがとうございますよろしくお願いします    67  楽/スムーズ\n",
       " 5888                  自分にも感謝しています    67  楽/スムーズ\n",
       " 5904      ありがとうございましたまたよろしくお願いします    67  楽/スムーズ\n",
       " 5906                感謝の気持ちでいっぱいです    67  楽/スムーズ\n",
       " 6340         ありがとうございますよろしくお願いします    67  楽/スムーズ\n",
       " 6351                    感謝しかありません    67  楽/スムーズ\n",
       " 6404            そこは「ありがとうございました」と    67  楽/スムーズ\n",
       " 6456                   ありがとうございます    67  楽/スムーズ\n",
       " 6466                   とても感謝しています    67  楽/スムーズ\n",
       " 6503            本当に感謝ですありがとうございます    67  楽/スムーズ\n",
       " 6521                  ありがとうございました    67  楽/スムーズ\n",
       " 6541                  ありがとうございました    67  楽/スムーズ\n",
       " 6545        よろしくお願いしますありがとうございました    67  楽/スムーズ\n",
       " 6668                      とても感謝です    67  楽/スムーズ\n",
       " 6693              改めて感謝したいなと思いました    67  楽/スムーズ,\n",
       "                                                   文章  クラスタ    トピック\n",
       " 83                                  スムーズに作業していただけるので    78  あっという間\n",
       " 135   大満足です♪少しだけ短くなってまとまりやすくスッキリしましたまた伸びてきた時に予約しますので    78  あっという間\n",
       " 260                                            朝早くから    78  あっという間\n",
       " 305                                    久しぶりの外出だったため、    78  あっという間\n",
       " 1192                                 朝の準備が本当に楽になったので    78  あっという間\n",
       " 1536        楽だしでよかったです★子供のカットも夏らしくスッキリさせたいと思っておりますので    78  あっという間\n",
       " 1858                  スッキリ整えていただけて満足です夏に向けて軽くしたかったので    78  あっという間\n",
       " 2117                   サクサクとやっていただけて考えていたより早く完了したので、    78  あっという間\n",
       " 2191                             予定時間内で素敵に仕上げてもらえたので    78  あっという間\n",
       " 2685                                           朝早くから    78  あっという間\n",
       " 2777                            スピーディーでお昼前から用事があったので    78  あっという間\n",
       " 2778                                         間に合ったので    78  あっという間\n",
       " 2990                                 とても手早くしてくださるので、    78  あっという間\n",
       " 3052                                     たまたま休暇取れたので    78  あっという間\n",
       " 3117                                  5分だけでも癒しがすごいので    78  あっという間\n",
       " 3294                楽しかったですまつげパーマ、エクステは夜勤もあって時短したいので    78  あっという間\n",
       " 3338                                           のが早い為    78  あっという間\n",
       " 3398                                   一日中気分良く過ごせました    78  あっという間\n",
       " 3516                                      スムーズに進みました    78  あっという間\n",
       " 3531                                    真っ直ぐになって快適です    78  あっという間\n",
       " 3549                                  スムーズに終わり良かったです    78  あっという間\n",
       " 3602            自分でスタイリングするときも困らなかったです朝も満足の行きたいと思います    78  あっという間\n",
       " 3717                                     朝の支度がらくちんです    78  あっという間\n",
       " 3757                                 とても実りある時間になりました    78  あっという間\n",
       " 3932                                      気軽にリピート出来る    78  あっという間\n",
       " 3953                           想定していた時間より早く終わり助かりました    78  あっという間\n",
       " 3963               とても助かりましたまずは気軽な気持ちで予約してみてもいいと思います    78  あっという間\n",
       " 3964                                  無事にたどり着けると思います    78  あっという間\n",
       " 3982                       1日崩れることなく楽しい1日を送ることができました    78  あっという間\n",
       " 4274                                    気持ち良く帰って来ました    78  あっという間\n",
       " 4409                               時間に余裕のある方におすすめします    78  あっという間\n",
       " 4735                                         セットが楽です    78  あっという間\n",
       " 5292                                             楽です    78  あっという間\n",
       " 5340                                       非常に気が楽でした    78  あっという間\n",
       " 5476                                    大変過ごしやすかったです    78  あっという間\n",
       " 5479                                 早く帰って欲しかったんでしょう    78  あっという間\n",
       " 5484                           急いでやってくださったのはわかるのですが、    78  あっという間\n",
       " 5666                                 とても楽チンで気に入っています    78  あっという間\n",
       " 5796                              素敵な時間を過ごさせていただきました    78  あっという間\n",
       " 5801                                        のが早く感じます    78  あっという間\n",
       " 5830                                            楽でした    78  あっという間\n",
       " 5868                                         非常に楽でした    78  あっという間\n",
       " 5881                                      そのまま帰宅しました    78  あっという間\n",
       " 5967                                             楽です    78  あっという間\n",
       " 5971                  楽でした最後の最後までお気遣いいただいて帰り道も幸せ気分です    78  あっという間\n",
       " 5981                                            楽でした    78  あっという間\n",
       " 6009                                気持ちよく過ごすことが出来ました    78  あっという間\n",
       " 6023                                        本当に朝が楽です    78  あっという間\n",
       " 6030                                       朝が楽になりました    78  あっという間\n",
       " 6044                                   のはとってはすごく楽でした    78  あっという間\n",
       " 6051                                            楽ですね    78  あっという間\n",
       " 6113                                         とても楽でした    78  あっという間\n",
       " 6119                                         とても楽でした    78  あっという間\n",
       " 6125                                         間に合ったので    78  あっという間\n",
       " 6239        満足のいく仕上がりですさらさら過ぎて走り回りたい気分です笑ありがとうございました    78  あっという間\n",
       " 6500                                             楽です    78  あっという間\n",
       " 6628             そこだけが唯一の何事もなくよかったですまた行ける時に伺いたいと思います    78  あっという間\n",
       " 6652                         予約する時に迷わなくて済むところも良かったです    78  あっという間,\n",
       "                                                  文章  クラスタ       トピック\n",
       " 12                                   表示通りの時間で終わったので    90  オーダー・希望通り\n",
       " 32                               途中経過からも、ことが分かったので、    90  オーダー・希望通り\n",
       " 251                                       タイミングなので、    90  オーダー・希望通り\n",
       " 274                                      少し急いでいたので、    90  オーダー・希望通り\n",
       " 380                                      終わりにされたので、    90  オーダー・希望通り\n",
       " 385                                        時間が取れたので    90  オーダー・希望通り\n",
       " 784                                あっという間に終わってしまうので    90  オーダー・希望通り\n",
       " 863                                         時があったから    90  オーダー・希望通り\n",
       " 900                                    お忙しくされていたため、    90  オーダー・希望通り\n",
       " 935                             希望時間内に終わるようにしてくれたので    90  オーダー・希望通り\n",
       " 1147                                      時間があったので、    90  オーダー・希望通り\n",
       " 1157                        トリートメントや放置時間を考えてくださるので、    90  オーダー・希望通り\n",
       " 1415                                       時があったので、    90  オーダー・希望通り\n",
       " 1449                                家事や育児の隙間時間に行くので    90  オーダー・希望通り\n",
       " 1554                                  毎日時間も労力もかかるので    90  オーダー・希望通り\n",
       " 1575          トリートメントが浸透するように少し時間をおいたりするのかと思っていたので、    90  オーダー・希望通り\n",
       " 1599                          放置時間など細かくチェックしてくれてたので    90  オーダー・希望通り\n",
       " 1898                        予定だったのが1時間程度で終わってしまったので    90  オーダー・希望通り\n",
       " 1902                                          終わるので    90  オーダー・希望通り\n",
       " 2034                          記載されている予定時間通りに終了したので、    90  オーダー・希望通り\n",
       " 2136                                  終了時刻を伝えていたので、    90  オーダー・希望通り\n",
       " 2168                                ?カットカラーで1時間半なので    90  オーダー・希望通り\n",
       " 2290                                      時間帯だったので、    90  オーダー・希望通り\n",
       " 2332                           時間を気にしての施術になったと思うので、    90  オーダー・希望通り\n",
       " 2498                                  遅い時間もやっているので、    90  オーダー・希望通り\n",
       " 2970                                       このご時世なので    90  オーダー・希望通り\n",
       " 3058                                       時間があったので    90  オーダー・希望通り\n",
       " 3073                                    時間的にルーズなため、    90  オーダー・希望通り\n",
       " 3194                                         時期なので、    90  オーダー・希望通り\n",
       " 3259                                     時間が無くなったので    90  オーダー・希望通り\n",
       " 3290                                      忙しい日だったので    90  オーダー・希望通り\n",
       " 3405                            たくさん時間がかかってしまったのですが    90  オーダー・希望通り\n",
       " 4011                               最初は1時間があっという間でした    90  オーダー・希望通り\n",
       " 4055                             あっという間に時間が過ぎてしまいます    90  オーダー・希望通り\n",
       " 4486                               いつの間にか3時間経過してました    90  オーダー・希望通り\n",
       " 4576                                        時がありました    90  オーダー・希望通り\n",
       " 4649                            染に時間もかかり過ぎだと思いましたし、    90  オーダー・希望通り\n",
       " 4745                           想定時間よりも長引くと思っていたのですが    90  オーダー・希望通り\n",
       " 4850                                          時間でした    90  オーダー・希望通り\n",
       " 5100                               次は少し先になってしまいますが、    90  オーダー・希望通り\n",
       " 5246                どうにか時間を巻いていこうとしているのかなと思ってしまいました    90  オーダー・希望通り\n",
       " 5295                             ただ、 (終わっであるかもしれません    90  オーダー・希望通り\n",
       " 5305                                        終わりですが、    90  オーダー・希望通り\n",
       " 5425                                  今回は私時間が仕方ですが、    90  オーダー・希望通り\n",
       " 5541                     時間管理もう少ししっかり確認した方がいいかと思います    90  オーダー・希望通り\n",
       " 5673                          とってもお手間かけてしまったと思いますが、    90  オーダー・希望通り\n",
       " 5679                           時間を気にしての施術になったと思うので、    90  オーダー・希望通り\n",
       " 5689                            トータルで4時間くらいかかりましたが、    90  オーダー・希望通り\n",
       " 5737                                   あっという間の時間でした    90  オーダー・希望通り\n",
       " 5797                                   長時間となったのですが、    90  オーダー・希望通り\n",
       " 6043                               あっという間に時間を過ごせました    90  オーダー・希望通り\n",
       " 6162                                  何時間でもいられそうでした    90  オーダー・希望通り\n",
       " 6318  立ち去るー相手が誰かと確率2割くらい…こんなに変わるんだセット後翌日は意外と長いなと思って    90  オーダー・希望通り\n",
       " 6337                                   あっという間の時間でした    90  オーダー・希望通り\n",
       " 6368                            時短を目指していたのかもしれませんが、    90  オーダー・希望通り\n",
       " 6379                                   あっという間に終了します    90  オーダー・希望通り\n",
       " 6438                               あっという間に時間が過ぎています    90  オーダー・希望通り\n",
       " 6439                                あっという間に時間が過ぎました    90  オーダー・希望通り\n",
       " 6475                                      時間を過ごせました    90  オーダー・希望通り\n",
       " 6676                                     時間を過ごしています    90  オーダー・希望通り,\n",
       "                                   文章  クラスタ      トピック\n",
       " 20              毎回細かなオーダーを全て叶えてくれるので    59  金額が高い・安い\n",
       " 145   私の曖昧な要望にも、イメージどおりに仕上げていただけるので、    59  金額が高い・安い\n",
       " 182           私の好みのスタイルを解って下さっているので、    59  金額が高い・安い\n",
       " 186                 毎回素敵に仕上げてくださるので、    59  金額が高い・安い\n",
       " 230              理想どおりのセットをしていただけるので    59  金額が高い・安い\n",
       " ...                              ...   ...       ...\n",
       " 5938               今のスタイルとても気に入っています    59  金額が高い・安い\n",
       " 6019                    自分好みになって良いです    59  金額が高い・安い\n",
       " 6107                  その点は特に望んでいたので…    59  金額が高い・安い\n",
       " 6278                  好きなスタイルにしてもらえ、    59  金額が高い・安い\n",
       " 6491                 毎回あっという間の施術時間です    59  金額が高い・安い\n",
       " \n",
       " [62 rows x 3 columns],\n",
       "                              文章  クラスタ  トピック\n",
       " 160                  値上がりの時代なので    33  感動した\n",
       " 263            予定より七千円も高くなったので、    33  感動した\n",
       " 284                     値段は高いので    33  感動した\n",
       " 372        お値段も内容の割にはお財布に優しいので、    33  感動した\n",
       " 459                   値段も安かったため    33  感動した\n",
       " ...                         ...   ...   ...\n",
       " 5189               この料金は少し高いかなと    33  感動した\n",
       " 5759                買えるのがうれしいです    33  感動した\n",
       " 5765  駐車料金も縮毛にハイライトも入れてもらってますが、    33  感動した\n",
       " 6222     大満足です値段的にもリピートしたいと思います    33  感動した\n",
       " 6494        クーポンにプラス1000ぐらいになると    33  感動した\n",
       " \n",
       " [62 rows x 3 columns],\n",
       "                                    文章  クラスタ         トピック\n",
       " 812                         仰ってくれたので、    38  仕上がりに満足・不満足\n",
       " 1120                        とても感動したので    38  仕上がりに満足・不満足\n",
       " 1865                         やってくれたため    38  仕上がりに満足・不満足\n",
       " 1985          担当していただいた方は好感をもっていますので、    38  仕上がりに満足・不満足\n",
       " 2038                         梳いてくれたので    38  仕上がりに満足・不満足\n",
       " ...                               ...   ...          ...\n",
       " 6413                        気持ちよかったです    38  仕上がりに満足・不満足\n",
       " 6428                     非常にありがたかったです    38  仕上がりに満足・不満足\n",
       " 6440                      かなりお得と思いました    38  仕上がりに満足・不満足\n",
       " 6453  1発で綺麗に仕上げて貰えたのは久々でした、ありがとうございます    38  仕上がりに満足・不満足\n",
       " 6670               満足しましたありがとうございました♪    38  仕上がりに満足・不満足\n",
       " \n",
       " [62 rows x 3 columns],\n",
       "                              文章  クラスタ         トピック\n",
       " 29                   仕上がりでしたので、    36  色がいい/色落ちが綺麗\n",
       " 137         本当に仕上がりの注文にも任せられるので    36  色がいい/色落ちが綺麗\n",
       " 247         しっかり確認してから始めてくださるので    36  色がいい/色落ちが綺麗\n",
       " 298   仕上がりのイメージを聞いてくださったりはしたので、    36  色がいい/色落ちが綺麗\n",
       " 345              仕上がりも正直微妙だったので    36  色がいい/色落ちが綺麗\n",
       " ...                         ...   ...          ...\n",
       " 5690                仕上がりもバッチリです    36  色がいい/色落ちが綺麗\n",
       " 5920              仕上がりは、選んだのですが    36  色がいい/色落ちが綺麗\n",
       " 6135    とても良かったです仕上がりも行きたいと思います    36  色がいい/色落ちが綺麗\n",
       " 6525        綺麗に仕上りましたまたリピさせて下さい    36  色がいい/色落ちが綺麗\n",
       " 6548                     仕上がりです    36  色がいい/色落ちが綺麗\n",
       " \n",
       " [63 rows x 3 columns],\n",
       "                                                    文章  クラスタ       トピック\n",
       " 72                                        色が気に入っていた為、    47  安定した技術・接客\n",
       " 204                                        明るい色に飽きたので    47  安定した技術・接客\n",
       " 297                                だいぶ色が明るくなってきているので、    47  安定した技術・接客\n",
       " 382   何色が似合うんだろう、全頭ブリーチじゃない方法はあるのかなどなど色々相談に乗って下さったので、    47  安定した技術・接客\n",
       " 412                                    色落ちしても綺麗な色なので、    47  安定した技術・接客\n",
       " ...                                               ...   ...        ...\n",
       " 5792                         可愛い色キープ出来るようにやってみようと思います    47  安定した技術・接客\n",
       " 5820                                        色落ちも楽しみです    47  安定した技術・接客\n",
       " 5834                                        染めたのはしますっ    47  安定した技術・接客\n",
       " 5863                                     染めている時間、行きます    47  安定した技術・接客\n",
       " 6641                                            色味だけど    47  安定した技術・接客\n",
       " \n",
       " [66 rows x 3 columns],\n",
       "                                文章  クラスタ   トピック\n",
       " 98                いつもすぐに切ってしまうので、    52  不安・心配\n",
       " 234   いつもと同じオーダーでも、必ず毎回確認してくださるので    52  不安・心配\n",
       " 324        いつも癒やされてます今年中にまた伺いますので    52  不安・心配\n",
       " 559           仕上がりいつも良い感じにして下さるので    52  不安・心配\n",
       " 646               関してはいつも通りの腕前なので    52  不安・心配\n",
       " ...                           ...   ...    ...\n",
       " 6441         いつもざっくりしたオーダーばかりですが、    52  不安・心配\n",
       " 6446                 いつもいい気分で帰れます    52  不安・心配\n",
       " 6565              いつもながら素敵な仕上がりで、    52  不安・心配\n",
       " 6604                いつまで続くかも楽しみです    52  不安・心配\n",
       " 6660                いつも安定的に利用してます    52  不安・心配\n",
       " \n",
       " [66 rows x 3 columns],\n",
       "                      文章  クラスタ                トピック\n",
       " 2700         思い悩んでいたので、    93  ネット予約ができる/当日予約ができる\n",
       " 2824            不安だったので    93  ネット予約ができる/当日予約ができる\n",
       " 3280            心配だったので    93  ネット予約ができる/当日予約ができる\n",
       " 3462         不安だったのですが、    93  ネット予約ができる/当日予約ができる\n",
       " 3712         不安だったのですが、    93  ネット予約ができる/当日予約ができる\n",
       " ...                 ...   ...                 ...\n",
       " 6208  わからないことが多く不安でしたが、    93  ネット予約ができる/当日予約ができる\n",
       " 6381          少し不安でしたが、    93  ネット予約ができる/当日予約ができる\n",
       " 6425            戸惑っていたが    93  ネット予約ができる/当日予約ができる\n",
       " 6427            不安でしたが、    93  ネット予約ができる/当日予約ができる\n",
       " 6549     のは若干不安だったのですが、    93  ネット予約ができる/当日予約ができる\n",
       " \n",
       " [66 rows x 3 columns],\n",
       "                                       文章  クラスタ トピック\n",
       " 27                       閉店1時間前の予約だったので、    80  嬉しい\n",
       " 231                  正直、当日予約等は少し抵抗があったので    80  嬉しい\n",
       " 312                           翌日の予約だったので    80  嬉しい\n",
       " 381                           スパで予約しますので    80  嬉しい\n",
       " 408   予約時のメッセージをとても細かく的確に読み取っていただけているので、    80  嬉しい\n",
       " ...                                  ...   ...  ...\n",
       " 6550                             予約しました笑    80  嬉しい\n",
       " 6559                                急遽予約    80  嬉しい\n",
       " 6594                    こちらは続いて当日予約で来ました    80  嬉しい\n",
       " 6627          とても満足でしたただ、最初14時予約だったのですが、    80  嬉しい\n",
       " 6682                 今回も急遽予約させていただきましたが、    80  嬉しい\n",
       " \n",
       " [67 rows x 3 columns],\n",
       "                           文章  クラスタ      トピック\n",
       " 1386  嬉しいです♪周りからも感じにしてくれたので、    56  お店に関する内容\n",
       " 1618                嬉しかったので、    56  お店に関する内容\n",
       " 1719        とても嬉しいですまた予約するので    56  お店に関する内容\n",
       " 2887       とても嬉しいですまた予約しますので    56  お店に関する内容\n",
       " 3409                とても嬉しいです    56  お店に関する内容\n",
       " ...                      ...   ...       ...\n",
       " 6234       とても嬉しいですまた予約しますので    56  お店に関する内容\n",
       " 6242             わたしは嬉しかったです    56  お店に関する内容\n",
       " 6599                   嬉しいです    56  お店に関する内容\n",
       " 6651             少し、とても嬉しいです    56  お店に関する内容\n",
       " 6667              とても嬉しかったです    56  お店に関する内容\n",
       " \n",
       " [67 rows x 3 columns],\n",
       "                              文章  クラスタ        トピック\n",
       " 6           のは意外と他のお店は無かったりするので    50  予期しないクオリティ\n",
       " 48       以前利用していた店舗が閉店してしまったので、    50  予期しないクオリティ\n",
       " 96           以前、お店の雰囲気や立地も良いので、    50  予期しないクオリティ\n",
       " 163           店内も程よい距離感で白色基調なので    50  予期しないクオリティ\n",
       " 511   こちら以外にも複数の店舗を展開されているようなので    50  予期しないクオリティ\n",
       " ...                         ...   ...         ...\n",
       " 6301                平日にゆっくり来店です    50  予期しないクオリティ\n",
       " 6393                   他店で伺いました    50  予期しないクオリティ\n",
       " 6406                       お店です    50  予期しないクオリティ\n",
       " 6444                 カフェ開拓しときます    50  予期しないクオリティ\n",
       " 6465            素敵なお店ですヘッドスパはぜひ    50  予期しないクオリティ\n",
       " \n",
       " [68 rows x 3 columns],\n",
       "                                        文章  クラスタ   トピック\n",
       " 80                         そういう選択肢がなかったので    65  安心の施術\n",
       " 94                     前回は毛量を薄くしていただいたので、    65  安心の施術\n",
       " 165                      巻いたことがあまりなかったので、    65  安心の施術\n",
       " 286   旦那さんにみせることができませんでした風呂上りに自然と外ハネになるので    65  安心の施術\n",
       " 300                     ワックスの名前を忘れてしまったので    65  安心の施術\n",
       " ...                                   ...   ...    ...\n",
       " 5788                自分でもイメージ固まってなかったのですが、    65  安心の施術\n",
       " 5845           なんとなくのイメージしか伝えれていなかったのですが、    65  安心の施術\n",
       " 5914                        少し理想とは違いましたが、    65  安心の施術\n",
       " 6211                          全く退屈しなかったです    65  安心の施術\n",
       " 6561                          今回は全然なかったので    65  安心の施術\n",
       " \n",
       " [69 rows x 3 columns],\n",
       "                       文章  クラスタ                        トピック\n",
       " 954               確信したので    13  美容室・スタイリストへの不安/あまり美容室に行かない\n",
       " 2620    安心した状態でお任せできたので、    13  美容室・スタイリストへの不安/あまり美容室に行かない\n",
       " 2630          納得して決めれたので    13  美容室・スタイリストへの不安/あまり美容室に行かない\n",
       " 3436        安心してお任せできました    13  美容室・スタイリストへの不安/あまり美容室に行かない\n",
       " 3471        とてもご機嫌になれました    13  美容室・スタイリストへの不安/あまり美容室に行かない\n",
       " ...                  ...   ...                         ...\n",
       " 6226    安心して普段通りお任せできました    13  美容室・スタイリストへの不安/あまり美容室に行かない\n",
       " 6238     安心して任せることが出来ました    13  美容室・スタイリストへの不安/あまり美容室に行かない\n",
       " 6527  安心しておまかせすることができました    13  美容室・スタイリストへの不安/あまり美容室に行かない\n",
       " 6647        安心してお任せできました    13  美容室・スタイリストへの不安/あまり美容室に行かない\n",
       " 6649         安心して任せられました    13  美容室・スタイリストへの不安/あまり美容室に行かない\n",
       " \n",
       " [69 rows x 3 columns],\n",
       "                                     文章  クラスタ               トピック\n",
       " 124             お店やスタイリストに出会ったことなかったので    22  アイロンやヘアケア方法に関する学び\n",
       " 171                あんまり美容室では黙ってるタイプなので    22  アイロンやヘアケア方法に関する学び\n",
       " 259                 自分の他にほとんど客がいなかったので    22  アイロンやヘアケア方法に関する学び\n",
       " 344           (東京のサロンで悪い接客を受けたことがないので、    22  アイロンやヘアケア方法に関する学び\n",
       " 405                   美容室の対応が急に悪くなった為、    22  アイロンやヘアケア方法に関する学び\n",
       " ...                                ...   ...                ...\n",
       " 5809                       前の美容室は止めました    22  アイロンやヘアケア方法に関する学び\n",
       " 5917             お店選び失敗しちゃったかなと思いましたが、    22  アイロンやヘアケア方法に関する学び\n",
       " 5936               美容室ではいつも疲れてしまうのですが、    22  アイロンやヘアケア方法に関する学び\n",
       " 6178  安心してお任せすることができました初めてのサロンで不安でしたが、    22  アイロンやヘアケア方法に関する学び\n",
       " 6555                              施術前と    22  アイロンやヘアケア方法に関する学び\n",
       " \n",
       " [71 rows x 3 columns],\n",
       "                                            文章  クラスタ               トピック\n",
       " 10            とても丁寧な施術でしたブリーチ毛で毎日アイロンを使っているので    72  縮毛矯正の予定/縮毛矯正への満足感\n",
       " 458   顔周りの部分はどのくらいの長さにするかとか細かくカウンセリングして下さったので    72  縮毛矯正の予定/縮毛矯正への満足感\n",
       " 608                 美容室ですメンズカットもバッチリ対応してくれるので    72  縮毛矯正の予定/縮毛矯正への満足感\n",
       " 634                       プロのフルメイクをしていただいたので、    72  縮毛矯正の予定/縮毛矯正への満足感\n",
       " 638                          お土産にメイクのメモも頂けたので    72  縮毛矯正の予定/縮毛矯正への満足感\n",
       " ...                                       ...   ...                ...\n",
       " 6065     施術前のヘアスタイルについての説明や料金・サービス内容の確認も丁寧でした    72  縮毛矯正の予定/縮毛矯正への満足感\n",
       " 6189                      冬休み明けには頭髪検査があるのですが、    72  縮毛矯正の予定/縮毛矯正への満足感\n",
       " 6366                       毎月美容院にて毛量調整をしてますが、    72  縮毛矯正の予定/縮毛矯正への満足感\n",
       " 6367                   アイロンで表面にふんわり毛束感がでましたが、    72  縮毛矯正の予定/縮毛矯正への満足感\n",
       " 6542                    UVカットのヘアスプレーも使うようにします    72  縮毛矯正の予定/縮毛矯正への満足感\n",
       " \n",
       " [72 rows x 3 columns],\n",
       "                                    文章  クラスタ  トピック\n",
       " 15                   また近々縮毛矯正かけに行くので、    24  肌が弱い\n",
       " 34                    縮毛矯正しに行ったのに傷むから    24  肌が弱い\n",
       " 114    今回もありがとうございますカラー後初めての縮毛矯正だったので    24  肌が弱い\n",
       " 117                また縮毛矯正でお世話になると思うので    24  肌が弱い\n",
       " 173                   でも縮毛しっかりしてくれるので    24  肌が弱い\n",
       " ...                               ...   ...   ...\n",
       " 4880                 1年半ぶりに縮毛矯正をかけました    24  肌が弱い\n",
       " 4991            縮毛矯正自体は仕上がりにドキドキしましたが    24  肌が弱い\n",
       " 5077  気に入りましたまた次縮毛矯正する時もお願いしたいですまた来ます    24  肌が弱い\n",
       " 6071                    縮毛矯正を検討していました    24  肌が弱い\n",
       " 6562        まつ毛美容液のラッシュアディクトも購入しましたが、    24  肌が弱い\n",
       " \n",
       " [72 rows x 3 columns],\n",
       "                       文章  クラスタ  トピック\n",
       " 71              頭皮が弱いので、    58  失敗経験\n",
       " 74                  無いので    58  失敗経験\n",
       " 149               遠方なので、    58  失敗経験\n",
       " 275   サイドもどうしても気に入らないので、    58  失敗経験\n",
       " 318       なりたかった髪型では無いので    58  失敗経験\n",
       " ...                  ...   ...   ...\n",
       " 6310        少し寂しい気がしますがー    58  失敗経験\n",
       " 6496              評価低いです    58  失敗経験\n",
       " 6530     前のようなパサパサ感は減ったと    58  失敗経験\n",
       " 6653            ?ノドが乾いてた    58  失敗経験\n",
       " 6665          人が少ないのかなあと    58  失敗経験\n",
       " \n",
       " [72 rows x 3 columns],\n",
       "                      文章  クラスタ     トピック\n",
       " 226        取り返しがつかないので、    49  特別なイベント\n",
       " 306      顔剃はして貰えなかったので、    49  特別なイベント\n",
       " 387      マメに行く事が出来ないので、    49  特別なイベント\n",
       " 531             のが難しいから    49  特別なイベント\n",
       " 539   セルフセットがなかなか苦手なので、    49  特別なイベント\n",
       " ...                 ...   ...      ...\n",
       " 6147         もう一生行かないです    49  特別なイベント\n",
       " 6151            苦手なのですが    49  特別なイベント\n",
       " 6196            のは無理でした    49  特別なイベント\n",
       " 6371    人には向かないのかなと思います    49  特別なイベント\n",
       " 6592             のも難しくて    49  特別なイベント\n",
       " \n",
       " [72 rows x 3 columns],\n",
       "                       文章  クラスタ        トピック\n",
       " 99         三が日に営業されていたので    51  施術中の経験や安心感\n",
       " 279          これから就職もあるので    51  施術中の経験や安心感\n",
       " 320              「結婚式なので    51  施術中の経験や安心感\n",
       " 404    3月から新しい職場で就業中なので、    51  施術中の経験や安心感\n",
       " 447            イベントがあるので    51  施術中の経験や安心感\n",
       " ...                  ...   ...         ...\n",
       " 6207     目の前をカップルが歩いており、    51  施術中の経験や安心感\n",
       " 6246  あっという間でした帰りは傘もくださり    51  施術中の経験や安心感\n",
       " 6394           技術星3にしてます    51  施術中の経験や安心感\n",
       " 6472    帰って市販のストパーをかけました    51  施術中の経験や安心感\n",
       " 6515          スティルを選んでます    51  施術中の経験や安心感\n",
       " \n",
       " [73 rows x 3 columns],\n",
       "                                文章  クラスタ    トピック\n",
       " 21                       問題なかったので    98  挑戦/前向き\n",
       " 175                  軽減されると思いますので    98  挑戦/前向き\n",
       " 389                 カットなしでお願いしたので    98  挑戦/前向き\n",
       " 396                全体的に軽くしてもらえたので    98  挑戦/前向き\n",
       " 474                  春らしく軽さも出るので、    98  挑戦/前向き\n",
       " ...                           ...   ...     ...\n",
       " 6209  染まりにくい部分がある事なども丁寧に説明してくれました    98  挑戦/前向き\n",
       " 6252                    退屈しませんでした    98  挑戦/前向き\n",
       " 6506                 迷う必要が無くなりました    98  挑戦/前向き\n",
       " 6590          頭皮がかぶれたりすることはなかったです    98  挑戦/前向き\n",
       " 6675                    かぶれませんでした    98  挑戦/前向き\n",
       " \n",
       " [74 rows x 3 columns],\n",
       "                                  文章  クラスタ           トピック\n",
       " 156    次回はそろそろストレートにしようか考えているところなので    27  担当者が違う/担当者の異動\n",
       " 315                    もう少し明るくしたいので    27  担当者が違う/担当者の異動\n",
       " 733                 コースを丁寧に再考頂けるので、    27  担当者が違う/担当者の異動\n",
       " 846                  せめて最初か途中でもいいので    27  担当者が違う/担当者の異動\n",
       " 1404  また次回の仕上がりが楽しみですこれから通わせて頂きますので    27  担当者が違う/担当者の異動\n",
       " ...                             ...   ...            ...\n",
       " 6510        私はこれからもリピートさせて頂きたいと思います    27  担当者が違う/担当者の異動\n",
       " 6606               次はそうしようかなと思っています    27  担当者が違う/担当者の異動\n",
       " 6616                   頑張ってみようと思います    27  担当者が違う/担当者の異動\n",
       " 6642               前向きに検討したいと思いますまた    27  担当者が違う/担当者の異動\n",
       " 6664                 また、試してみたいと思います    27  担当者が違う/担当者の異動\n",
       " \n",
       " [74 rows x 3 columns],\n",
       "                                文章  クラスタ  トピック\n",
       " 383      ありがとうございます次は実習前に切りに行くので、    68  行きます\n",
       " 510               何度かお世話になりましたので、    68  行きます\n",
       " 643        いつも担当してくれている方がお休みだったので    68  行きます\n",
       " 652   以前何度かアシスタントでついていただいたことがあるので    68  行きます\n",
       " 666               いつもの担当さんが不在のため、    68  行きます\n",
       " ...                           ...   ...   ...\n",
       " 5886                        帰りました    68  行きます\n",
       " 5895        仕事帰りなんかは終わるまで立つ事がないので    68  行きます\n",
       " 6017        直しでまたことも人前に出ることもできません    68  行きます\n",
       " 6347              今回は短めに変えてもらいました    68  行きます\n",
       " 6588                 今回は2度目の利用でした    68  行きます\n",
       " \n",
       " [74 rows x 3 columns],\n",
       "                               文章  クラスタ            トピック\n",
       " 11                        近々行くので    17  施術やケアに関する感謝・満足\n",
       " 113                        行くので、    17  施術やケアに関する感謝・満足\n",
       " 532                  また行きたいと思うので    17  施術やケアに関する感謝・満足\n",
       " 616       自分のやりたいことにどのアクセスも良いので、    17  施術やケアに関する感謝・満足\n",
       " 631                   ちゃんと通いますので    17  施術やケアに関する感謝・満足\n",
       " ...                          ...   ...             ...\n",
       " 6484  自分と同じように方にもオススメです自分も行きたいです    17  施術やケアに関する感謝・満足\n",
       " 6508                  こちらに通っています    17  施術やケアに関する感謝・満足\n",
       " 6516             また行きたいな、通いたいと思う    17  施術やケアに関する感謝・満足\n",
       " 6578        次回はそちらに足を運んでみたいと思います    17  施術やケアに関する感謝・満足\n",
       " 6589                       行きました    17  施術やケアに関する感謝・満足\n",
       " \n",
       " [75 rows x 3 columns],\n",
       "                                         文章  クラスタ     トピック\n",
       " 235                        久しぶりのマッサージだったので    26  助かっています\n",
       " 238       いつも通りの的確な施術で、メンテナンスのカットもして頂けたので、    26  助かっています\n",
       " 490              ありがとうございますまたメンテナンスに伺いますので    26  助かっています\n",
       " 542   いつも丁寧に施術して頂いております妊娠中でおなかが大きくなってきたため、    26  助かっています\n",
       " 737               洗い終わった後にやっていただけると思っていたので    26  助かっています\n",
       " ...                                    ...   ...      ...\n",
       " 6194                    到着時に帰りにカイロを下さったりと、    26  助かっています\n",
       " 6435                          急遽、お世話になりました    26  助かっています\n",
       " 6520                    あと、清掃をもう少しお願いしたいです    26  助かっています\n",
       " 6637                         ではお仕事頑張ってください    26  助かっています\n",
       " 6674        いつもお世話になってます今回は私は簡単なメンテ程度でしたが、    26  助かっています\n",
       " \n",
       " [75 rows x 3 columns],\n",
       "              文章  クラスタ     トピック\n",
       " 3354    大変助かります    41  予約がスムーズ\n",
       " 3386      助かります    41  予約がスムーズ\n",
       " 3402   大変助かりました    41  予約がスムーズ\n",
       " 3495   毎回助かってます    41  予約がスムーズ\n",
       " 3565    助かっています    41  予約がスムーズ\n",
       " ...         ...   ...      ...\n",
       " 6498     助かってます    41  予約がスムーズ\n",
       " 6535  とても助かりました    41  予約がスムーズ\n",
       " 6538     助かりました    41  予約がスムーズ\n",
       " 6576     助かりました    41  予約がスムーズ\n",
       " 6663  とても助かりました    41  予約がスムーズ\n",
       " \n",
       " [75 rows x 3 columns],\n",
       "                          文章  クラスタ       トピック\n",
       " 177   それ以上の大満足の仕上がりにしてくれるので    77  カットの技術が高い\n",
       " 233           仕上がり的には満足したので    77  カットの技術が高い\n",
       " 339            満足のいく仕上がりなので    77  カットの技術が高い\n",
       " 390       とても綺麗に仕上げてくださったので    77  カットの技術が高い\n",
       " 449         あまりに仕上がりがよかったので    77  カットの技術が高い\n",
       " ...                     ...   ...        ...\n",
       " 6040         仕上がりに大変満足しています    77  カットの技術が高い\n",
       " 6049    この自然な仕上がりに凄く満足しています    77  カットの技術が高い\n",
       " 6319            再現性も高く嬉しいです    77  カットの技術が高い\n",
       " 6505             仕上がりも安心できる    77  カットの技術が高い\n",
       " 6605  仕上がりとしては大変満足しているのですが、    77  カットの技術が高い\n",
       " \n",
       " [76 rows x 3 columns],\n",
       "                          文章  クラスタ        トピック\n",
       " 316          ないか等訊いてくださったので    96  カラーリングがきれい\n",
       " 322   調整できないのはこちらが無理を言ってるので    96  カラーリングがきれい\n",
       " 338              決められなかったので    96  カラーリングがきれい\n",
       " 363                  不器用なので    96  カラーリングがきれい\n",
       " 443          出来上がりに納得いかないので    96  カラーリングがきれい\n",
       " ...                     ...   ...         ...\n",
       " 6551           ちょこちょこ行けませんが    96  カラーリングがきれい\n",
       " 6591               わからないとの事    96  カラーリングがきれい\n",
       " 6617      仕方ないかなーっと許容範囲内です◯    96  カラーリングがきれい\n",
       " 6656            そこまで期待をするなと    96  カラーリングがきれい\n",
       " 6679            わからなかったけれど、    96  カラーリングがきれい\n",
       " \n",
       " [76 rows x 3 columns],\n",
       "                            文章  クラスタ       トピック\n",
       " 35          トリートメントも久しぶりだったので    30  新しいヘアスタイル\n",
       " 37                  半年ぶりだったので    30  新しいヘアスタイル\n",
       " 40                  ショートにしたので    30  新しいヘアスタイル\n",
       " 82           前回から一ヶ月以上経っていたので    30  新しいヘアスタイル\n",
       " 89             何ヶ月も染めていなかったので    30  新しいヘアスタイル\n",
       " ...                       ...   ...        ...\n",
       " 6344           これでしばらく過ごせそうです    30  新しいヘアスタイル\n",
       " 6546      3ヶ月に一度しか出来ないみたいなので、    30  新しいヘアスタイル\n",
       " 6623  前回から3週間と、ちょっと早めに伺いましたが、    30  新しいヘアスタイル\n",
       " 6636  少しでもこの状態が続くといいなあと思っています    30  新しいヘアスタイル\n",
       " 6683               久しぶりにばっさりと    30  新しいヘアスタイル\n",
       " \n",
       " [77 rows x 3 columns],\n",
       "                                  文章  クラスタ        トピック\n",
       " 39                      相談に乗ってくれたので    57  カット後の扱いやすさ\n",
       " 62                良い解決策を提案してもらえたので、    57  カット後の扱いやすさ\n",
       " 102                  アドバイスや提案をくれるので    57  カット後の扱いやすさ\n",
       " 218     提案してくれて言葉足らずの要望も読み取ってもらえるので    57  カット後の扱いやすさ\n",
       " 228                 細かい要望も聞いてもらえるので    57  カット後の扱いやすさ\n",
       " ...                             ...   ...         ...\n",
       " 5724                  笑次はご相談させてください    57  カット後の扱いやすさ\n",
       " 5932         以前は次回以降はその辺も相談しよと思いました    57  カット後の扱いやすさ\n",
       " 6231  もう少し切ってほしいとかこうしたいとか相談しやすかったです    57  カット後の扱いやすさ\n",
       " 6306                  次回相談させて頂きますので    57  カット後の扱いやすさ\n",
       " 6648                  相談してコースを決めました    57  カット後の扱いやすさ\n",
       " \n",
       " [77 rows x 3 columns],\n",
       "                              文章  クラスタ     トピック\n",
       " 73              のは自分でも分かる程だったので    25  仕上がりに満足\n",
       " 112          それでもことを覚えててくださるので、    25  仕上がりに満足\n",
       " 181                  私は慣れているので、    25  仕上がりに満足\n",
       " 317   細かいところまで丁寧に時間をかけてやってくれたので    25  仕上がりに満足\n",
       " 516    それでも毎回、細かい所まで確認してもらえるので、    25  仕上がりに満足\n",
       " ...                         ...   ...      ...\n",
       " 6072                 細く説明できたので、    25  仕上がりに満足\n",
       " 6253                    参考になります    25  仕上がりに満足\n",
       " 6447                      いきやすい    25  仕上がりに満足\n",
       " 6557                  色々勉強になったし    25  仕上がりに満足\n",
       " 6595                 決めやすくなりました    25  仕上がりに満足\n",
       " \n",
       " [77 rows x 3 columns],\n",
       "                              文章  クラスタ           トピック\n",
       " 19                お席がたまたま空いたため、    95  スタイリングが簡単になった\n",
       " 81                 遅くまで営業していたので    95  スタイリングが簡単になった\n",
       " 105          毎朝扱いづらいことになっていたため、    95  スタイリングが簡単になった\n",
       " 143                お待たせしてしまったので    95  スタイリングが簡単になった\n",
       " 144             夜勤明けでかなり疲れていたので    95  スタイリングが簡単になった\n",
       " ...                         ...   ...            ...\n",
       " 6076                    空いていました    95  スタイリングが簡単になった\n",
       " 6256                   数分遅れたけど、    95  スタイリングが簡単になった\n",
       " 6573  シャンプー後10分待たされたり…などひどかったです    95  スタイリングが簡単になった\n",
       " 6638             少し待つこともありましたが、    95  スタイリングが簡単になった\n",
       " 6669                  一時帰宅しましたが    95  スタイリングが簡単になった\n",
       " \n",
       " [78 rows x 3 columns],\n",
       "                           文章  クラスタ      トピック\n",
       " 67            途中からあまりにも雑なため、    42  セットがしやすい\n",
       " 205              「少し引っ張りますので    42  セットがしやすい\n",
       " 304                 癖もなくなるので    42  セットがしやすい\n",
       " 354       根本から膨張してどうにもならないので    42  セットがしやすい\n",
       " 478         仕事上全頭は奇抜にできないので、    42  セットがしやすい\n",
       " ...                      ...   ...       ...\n",
       " 6497         でも方じゃなければオススメです    42  セットがしやすい\n",
       " 6607              顔周りしか切れないと    42  セットがしやすい\n",
       " 6631  分かりませんw次は、後ろ髪を伸ばしたいので、    42  セットがしやすい\n",
       " 6692                大変有り難いです    42  セットがしやすい\n",
       " 6694       マスクを仕方ないのかもしれませんが    42  セットがしやすい\n",
       " \n",
       " [79 rows x 3 columns],\n",
       "                             文章  クラスタ         トピック\n",
       " 78                  パサついていたので、     7  頑固なクセが改善された\n",
       " 183                 うんざりしてきたので     7  頑固なクセが改善された\n",
       " 232          申し訳ない気持ちが大きかったので、     7  頑固なクセが改善された\n",
       " 503                 ジメジメしてたので、     7  頑固なクセが改善された\n",
       " 519                にえ?笑と言われたので     7  頑固なクセが改善された\n",
       " ...                        ...   ...          ...\n",
       " 6389  気にならないようにトップを暗めでスッキリしました     7  頑固なクセが改善された\n",
       " 6418                      おもいま     7  頑固なクセが改善された\n",
       " 6518              気疲れしないのが最高です     7  頑固なクセが改善された\n",
       " 6533                 躊躇してしまいます     7  頑固なクセが改善された\n",
       " 6539           比べるのも申し訳ないのですが、     7  頑固なクセが改善された\n",
       " \n",
       " [80 rows x 3 columns],\n",
       "                                 文章  クラスタ         トピック\n",
       " 25               癖毛も驚くほど真っ直ぐになるので、    19  シャンプーが気持ちいい\n",
       " 41    それからトリートメントのお陰で髪がスルスルになったので、    19  シャンプーが気持ちいい\n",
       " 58                       前髪が癖が強いので    19  シャンプーが気持ちいい\n",
       " 84                    髪が真っ直ぐになったので    19  シャンプーが気持ちいい\n",
       " 100                    髪を伸ばしたかったので    19  シャンプーが気持ちいい\n",
       " ...                            ...   ...          ...\n",
       " 4391           髪はとてもいい状態ではあったのですが、    19  シャンプーが気持ちいい\n",
       " 4465                髪の広がりが改善されそうです    19  シャンプーが気持ちいい\n",
       " 5135                 髪は真っ直ぐになりましたが    19  シャンプーが気持ちいい\n",
       " 5175                  髪の毛もスッキリしました    19  シャンプーが気持ちいい\n",
       " 6314                 いつも髪を結んでいましたが    19  シャンプーが気持ちいい\n",
       " \n",
       " [81 rows x 3 columns],\n",
       "                      文章  クラスタ          トピック\n",
       " 13             オイリーなので、    73  トリートメントが良かった\n",
       " 138       笑顔で帰ることが出来るので    73  トリートメントが良かった\n",
       " 250      さらに可愛くしてくれるので、    73  トリートメントが良かった\n",
       " 277           可愛くなれるので、    73  トリートメントが良かった\n",
       " 367      綺麗に可愛くしてもらえるので    73  トリートメントが良かった\n",
       " ...                 ...   ...           ...\n",
       " 6289    とても素晴らしいと思っています    73  トリートメントが良かった\n",
       " 6290             ビックリです    73  トリートメントが良かった\n",
       " 6355  そっとしてくれる感じも心地良いです    73  トリートメントが良かった\n",
       " 6364          とにかく好印象です    73  トリートメントが良かった\n",
       " 6495            可愛いですが、    73  トリートメントが良かった\n",
       " \n",
       " [82 rows x 3 columns],\n",
       "                             文章  クラスタ        トピック\n",
       " 76    ありがとうごさいました又是非次も予約しますので、    69  笑顔で対応してくれた\n",
       " 167                 次回も指名しますので    69  笑顔で対応してくれた\n",
       " 258          またお願いしたいと思っているので、    69  笑顔で対応してくれた\n",
       " 496         次回もお願いしたいと思っていますので    69  笑顔で対応してくれた\n",
       " 677    これからも定期的におねがいしたいと思いますので    69  笑顔で対応してくれた\n",
       " ...                        ...   ...         ...\n",
       " 6630             次回もよろしくお願いします    69  笑顔で対応してくれた\n",
       " 6634        とにかく、今後も指名させてもらいます    69  笑顔で対応してくれた\n",
       " 6681               次回楽しみにしています    69  笑顔で対応してくれた\n",
       " 6684            次回はそれでまたお願いします    69  笑顔で対応してくれた\n",
       " 6691             次回もよろしくお願いします    69  笑顔で対応してくれた\n",
       " \n",
       " [82 rows x 3 columns],\n",
       "                                 文章  クラスタ          トピック\n",
       " 193            色々お話しながら施術していただけるので    63  スムーズなカウンセリング\n",
       " 244        巻き方やセットの仕方まで丁寧に教えてくれたので    63  スムーズなカウンセリング\n",
       " 342              色落ちしないアドバイスも頂いたので    63  スムーズなカウンセリング\n",
       " 353                   色々教えていただいたので    63  スムーズなカウンセリング\n",
       " 409          その1つ1つにアドバイスをいただけたため、    63  スムーズなカウンセリング\n",
       " ...                            ...   ...           ...\n",
       " 5790                行くのが教えていただいたので    63  スムーズなカウンセリング\n",
       " 5907                巻き方などの説明もあったので    63  スムーズなカウンセリング\n",
       " 5944  色々と楽になりました毎回的確にアドバイスをして頂けるので    63  スムーズなカウンセリング\n",
       " 6180       教えていただいたことを実践してみようと思います    63  スムーズなカウンセリング\n",
       " 6402              セットのコツを教えてもらいました    63  スムーズなカウンセリング\n",
       " \n",
       " [83 rows x 3 columns],\n",
       "                                                      文章  クラスタ        トピック\n",
       " 1                                     シャンプーを使っていただいたので、    16  無理なく会話ができた\n",
       " 132                                    シャンプーもカットも上手なので、    16  無理なく会話ができた\n",
       " 172                  シャンプー、スースーして気持ちよかったです物価高くなり続けているので    16  無理なく会話ができた\n",
       " 201                                 シャンプーカットブローのみでしたので、    16  無理なく会話ができた\n",
       " 211                             シャンプーもいつもとても丁寧にしてくださるので    16  無理なく会話ができた\n",
       " ...                                                 ...   ...         ...\n",
       " 6348                               炭酸シャンプーがとても気持ち良かったです    16  無理なく会話ができた\n",
       " 6385                            満足しています炭酸シャンプーをして頂きましたが    16  無理なく会話ができた\n",
       " 6397               最初のシャンプー時に (もちろんとても気持ちよき)次はパーマしようかしら    16  無理なく会話ができた\n",
       " 6526  少し切ってもらいましたとても楽になりましたシャンプーやヘッドスパも心地よかったですありがとう...    16  無理なく会話ができた\n",
       " 6584                                     オイルも香りがとても良いので    16  無理なく会話ができた\n",
       " \n",
       " [85 rows x 3 columns],\n",
       "                         文章  クラスタ     トピック\n",
       " 33        美容室の担当の方が転勤になった為    10  早く仕上がった\n",
       " 97         美容室の後に予定があったので、    10  早く仕上がった\n",
       " 119          久しぶりの美容院だったので    10  早く仕上がった\n",
       " 319           サロン、と謳っていたので    10  早く仕上がった\n",
       " 337    今までの美容室で一番満足が行ってるので    10  早く仕上がった\n",
       " ...                    ...   ...      ...\n",
       " 6059                 サロンです    10  早く仕上がった\n",
       " 6169  基本的に色々な美容室に行っていましたが、    10  早く仕上がった\n",
       " 6382         すごく好きな美容院さんです    10  早く仕上がった\n",
       " 6431          美容室を探していましたが    10  早く仕上がった\n",
       " 6513             これは美容室でした    10  早く仕上がった\n",
       " \n",
       " [85 rows x 3 columns],\n",
       "                                             文章  クラスタ       トピック\n",
       " 148                   担当スタイリストさんには安心して任せられるので、    92  仕上がりが想像以上\n",
       " 309                        スタイリストさんも話しやすく丁寧なので    92  仕上がりが想像以上\n",
       " 487                 少なすぎずで担当スタイリストさんが提案してくれたので    92  仕上がりが想像以上\n",
       " 605                 担当スタイリストさんのカットするスピードも早いので、    92  仕上がりが想像以上\n",
       " 794                         スタイリストさんを信頼しているので、    92  仕上がりが想像以上\n",
       " ...                                        ...   ...        ...\n",
       " 6179      今回担当してくださったスタイリストさんは、終始リラックスして過ごせました    92  仕上がりが想像以上\n",
       " 6401  担当してくれたスタイリストさんは、最初のカウンセリングからとても楽しい時間でした    92  仕上がりが想像以上\n",
       " 6450          指名した担当スタイリストさんは、笑顔で話しに応じていただきました    92  仕上がりが想像以上\n",
       " 6476                               スタイリストさんなので    92  仕上がりが想像以上\n",
       " 6602                     ほぼ担当スタイリストさんにお任せしています    92  仕上がりが想像以上\n",
       " \n",
       " [85 rows x 3 columns],\n",
       "                                  文章  クラスタ       トピック\n",
       " 321                    その後少し考えられたので    43  髪の傷みが改善した\n",
       " 509             我慢できなくなったら矯正で伺いますので    43  髪の傷みが改善した\n",
       " 917         今回はことと前回の仕上がりに不安があったので、    43  髪の傷みが改善した\n",
       " 1059            指名した方が体調不良とのことだったので    43  髪の傷みが改善した\n",
       " 1261                   伸ばすかで悩んでいたので    43  髪の傷みが改善した\n",
       " ...                             ...   ...        ...\n",
       " 6303                     難しかったと思います    43  髪の傷みが改善した\n",
       " 6353                    似合うか不安でしたが、    43  髪の傷みが改善した\n",
       " 6423                どうなるのかと思ってましたが、    43  髪の傷みが改善した\n",
       " 6462  迷っている人はこちらでお願いするといいのではないでしょうか    43  髪の傷みが改善した\n",
       " 6509                最終的に諦めてしまうのですが、    43  髪の傷みが改善した\n",
       " \n",
       " [85 rows x 3 columns],\n",
       "                                             文章  クラスタ     トピック\n",
       " 23                            ロングヘアがお気に入りだったので    75  再来店する予定\n",
       " 50                           伸びた髪を綺麗に整えて頂いたので、    75  再来店する予定\n",
       " 55                            久しぶりのヘアカラーだったため、    75  再来店する予定\n",
       " 146           嬉しいです教えていただいたヘアスタイルも大人っぽく簡単だったので    75  再来店する予定\n",
       " 252                              素敵な髪形にして頂いたので    75  再来店する予定\n",
       " ...                                        ...   ...      ...\n",
       " 6313  いつも楽しみにして準備しておりますまたカッコいいヘアスタイルよろしくお願いします    75  再来店する予定\n",
       " 6372                         自分のやりたい髪型がいいと思います    75  再来店する予定\n",
       " 6376                 感激しました結婚式の髪型について、大変助かりました    75  再来店する予定\n",
       " 6531         とても気に入っていますトリートメントで髪がまたつやつやになったし、    75  再来店する予定\n",
       " 6666                           その中で可愛い髪色になったので    75  再来店する予定\n",
       " \n",
       " [87 rows x 3 columns],\n",
       "                    文章  クラスタ         トピック\n",
       " 38        安心して任せられるので    84  施術の後のアフターケア\n",
       " 66     安心して任せていられるので、    84  施術の後のアフターケア\n",
       " 147    安心しておまかせできるので、    84  施術の後のアフターケア\n",
       " 197   いつも安心してお任せできるので    84  施術の後のアフターケア\n",
       " 225     毎回安心して任せられるので    84  施術の後のアフターケア\n",
       " ...               ...   ...          ...\n",
       " 6517      のが安心して任せられる    84  施術の後のアフターケア\n",
       " 6532         安心なんですが、    84  施術の後のアフターケア\n",
       " 6629     安心いただけると思います    84  施術の後のアフターケア\n",
       " 6661     安心してお任せしています    84  施術の後のアフターケア\n",
       " 6677       安心して任せられます    84  施術の後のアフターケア\n",
       " \n",
       " [87 rows x 3 columns],\n",
       "                                   文章  クラスタ       トピック\n",
       " 52             シルエットがうーむ…という印象だったので、    35  ヘアケア商品の紹介\n",
       " 115               思ってたよりもちゃんとかかってたので    35  ヘアケア商品の紹介\n",
       " 188                  事に帰宅してから気づいたので、    35  ヘアケア商品の紹介\n",
       " 379                       一気に高くなったので    35  ヘアケア商品の紹介\n",
       " 428                          感じましたので    35  ヘアケア商品の紹介\n",
       " ...                              ...   ...        ...\n",
       " 6391              今回はなり結果思った感じになりました    35  ヘアケア商品の紹介\n",
       " 6396  そちらで体験しまたが気分☆爽快＼/カットもしてもらいましたが    35  ヘアケア商品の紹介\n",
       " 6459                          びっくりした    35  ヘアケア商品の紹介\n",
       " 6463                           驚きました    35  ヘアケア商品の紹介\n",
       " 6625                    効果を期待していましたが    35  ヘアケア商品の紹介\n",
       " \n",
       " [87 rows x 3 columns],\n",
       "                      文章  クラスタ       トピック\n",
       " 95             のが初めてなので    71  優れたカットライン\n",
       " 166    レイヤーカットが初めてだったので    71  優れたカットライン\n",
       " 176          初めての所だったので    71  優れたカットライン\n",
       " 222            初めて伺ったので    71  優れたカットライン\n",
       " 242         初めての場所だったので    71  優れたカットライン\n",
       " ...                 ...   ...        ...\n",
       " 5779   今回初めてこちらにお邪魔しました    71  優れたカットライン\n",
       " 6024  今回はじめて子供を連れて行きました    71  優れたカットライン\n",
       " 6171  今回こちらにはじめてお邪魔しました    71  優れたカットライン\n",
       " 6236          初めて利用しました    71  優れたカットライン\n",
       " 6249             初回でしたが    71  優れたカットライン\n",
       " \n",
       " [87 rows x 3 columns],\n",
       "                               文章  クラスタ          トピック\n",
       " 243          丁寧な対応で気楽に話しかけてくれたので    91  サロンの雰囲気が良かった\n",
       " 271   人見知りの私でも、最後まで楽しく話すことができるので    91  サロンの雰囲気が良かった\n",
       " 433     分かりやすい説明と相談で想像以上に素敵になるので    91  サロンの雰囲気が良かった\n",
       " 456              笑お話も気さくにしてくれたので    91  サロンの雰囲気が良かった\n",
       " 477               たくさん話しかけてくれるので    91  サロンの雰囲気が良かった\n",
       " ...                          ...   ...           ...\n",
       " 5599                   話しやすかったです    91  サロンの雰囲気が良かった\n",
       " 5608    リクエストや質問などのやり取りもしやすかったです    91  サロンの雰囲気が良かった\n",
       " 5749           いつも楽しく相談させて貰っています    91  サロンの雰囲気が良かった\n",
       " 6068                   お話もよかったです    91  サロンの雰囲気が良かった\n",
       " 6105                気持ちよくお話できました    91  サロンの雰囲気が良かった\n",
       " \n",
       " [88 rows x 3 columns],\n",
       "                                      文章  クラスタ         トピック\n",
       " 3                    とって前髪は顔のパーツの一部なので、    20  美容師さんが親切だった\n",
       " 61                      髪型を提案していただけるので、    20  美容師さんが親切だった\n",
       " 92     髪の毛をまとめてもおろしても可愛い感じにカットしてくださったので    20  美容師さんが親切だった\n",
       " 122   髪型が、担当者様の丁寧なカット技術とパーマで再現出来ていますので、    20  美容師さんが親切だった\n",
       " 217                合わせてヘアスタイルを変えるもできるので    20  美容師さんが親切だった\n",
       " ...                                 ...   ...          ...\n",
       " 6291                       髪型自体のセットがキツイ    20  美容師さんが親切だった\n",
       " 6477                   髪形などを提案していただけるので    20  美容師さんが親切だった\n",
       " 6479                 ここ1年はいろいろな髪形になれてます    20  美容師さんが親切だった\n",
       " 6492                    ヘアスタイルはお任せしています    20  美容師さんが親切だった\n",
       " 6507         次回からは同じ髪型になるように通っていこうと思います    20  美容師さんが親切だった\n",
       " \n",
       " [93 rows x 3 columns],\n",
       "                                        文章  クラスタ    トピック\n",
       " 595               とても嬉しいです次回も利用させて頂きますので、    81  丁寧なカット\n",
       " 849                        ことも大事に思っているので、    81  丁寧なカット\n",
       " 1065            相談の結果、値段以上に嬉しいですまた行きたいので、    81  丁寧なカット\n",
       " 1563  毎回、綺麗にしていただき感謝です今回はポイントがたくさん貯まってたので    81  丁寧なカット\n",
       " 1593                       感謝です☆また行きますので、    81  丁寧なカット\n",
       " ...                                   ...   ...     ...\n",
       " 6346                        翌日からの満足度は高いです    81  丁寧なカット\n",
       " 6451                     一緒に考えてくれるのが嬉しいです    81  丁寧なカット\n",
       " 6577          安心しておまかせできますまた来年もよろしくお願いします    81  丁寧なカット\n",
       " 6611          次回はストレートをかけに行きますありがとうございました    81  丁寧なカット\n",
       " 6671            色味もありがとうございますまたよろしくお願いします    81  丁寧なカット\n",
       " \n",
       " [93 rows x 3 columns],\n",
       "                         文章  クラスタ         トピック\n",
       " 26      ダメージがひどく広がってしまうので、    82  選べるシャンプーの種類\n",
       " 44                傷んできたので、    82  選べるシャンプーの種類\n",
       " 54     現状の扱いにちょっと苦労していたので、    82  選べるシャンプーの種類\n",
       " 59    くりくりしてきて嫌だなぁと思っていたので    82  選べるシャンプーの種類\n",
       " 63                困っていたので、    82  選べるシャンプーの種類\n",
       " ...                    ...   ...          ...\n",
       " 6448        しばらく辛い思いをしそうです    82  選べるシャンプーの種類\n",
       " 6452               辛い癖毛なので    82  選べるシャンプーの種類\n",
       " 6488       顔剃り中は少し眩しく感じました    82  選べるシャンプーの種類\n",
       " 6522              疲れがとれました    82  選べるシャンプーの種類\n",
       " 6597                眩しいですが    82  選べるシャンプーの種類\n",
       " \n",
       " [96 rows x 3 columns],\n",
       "                                   文章  クラスタ       トピック\n",
       " 88              カウンセリングを丁寧にしていただいたので    31  清潔感のあるサロン\n",
       " 123          本当にすごく丁寧で気持ちよく施術してくれたので    31  清潔感のあるサロン\n",
       " 130      カウンセリングの段階から丁寧にお話しして下さったので、    31  清潔感のあるサロン\n",
       " 209                    丁寧な説明がありましたので    31  清潔感のあるサロン\n",
       " 273               一つひとつ丁寧に確認してくれたので、    31  清潔感のあるサロン\n",
       " ...                              ...   ...        ...\n",
       " 5365                カウンセリングもスムーズにいき、    31  清潔感のあるサロン\n",
       " 5460            とても良かったです対応もとても親切でした    31  清潔感のあるサロン\n",
       " 6106                   しっかりと言えばよかったと    31  清潔感のあるサロン\n",
       " 6356                  その通りに対応くださいました    31  清潔感のあるサロン\n",
       " 6502  丁寧にカウンセリングしていただきながら、切っていただきました    31  清潔感のあるサロン\n",
       " \n",
       " [96 rows x 3 columns],\n",
       "                                      文章  クラスタ   トピック\n",
       " 0                今回もカラーも今どきな雰囲気に仕上がったので    64  親身な対応\n",
       " 109                    カットもカラーも早くて上手なので    64  親身な対応\n",
       " 118               トリートメントでカラーも綺麗に保ててるので    64  親身な対応\n",
       " 206              久々に全体的にカラーリングしてもらったので、    64  親身な対応\n",
       " 282            リタッチも全体のカラーにしっかり馴染んでいたので    64  親身な対応\n",
       " ...                                 ...   ...    ...\n",
       " 6524  いつもと同じ色でもカラートーンを初めから明るめに入れて下さったので    64  親身な対応\n",
       " 6554        痛ませることなくワンカラーで可愛く仕上げてもらいました    64  親身な対応\n",
       " 6575                     カラーはいつもお任せですが、    64  親身な対応\n",
       " 6580           カラーのチョイスも私の好みを汲み取ってくれるので    64  親身な対応\n",
       " 6585              ホリスティックカラーのメリットも聞けたので    64  親身な対応\n",
       " \n",
       " [100 rows x 3 columns],\n",
       "                                                      文章  クラスタ     トピック\n",
       " 30                             ごめんなさい…今月中にカラーもお願いしたいので、    66  アクセスが良い\n",
       " 131                           カットもカラーも最後もこの後人に会う予定だったので    66  アクセスが良い\n",
       " 168                            カラーの相談でも端的にアドバイスしてくれたので、    66  アクセスが良い\n",
       " 194   こちらのお店、初来店でカットとカラーをお願いしたのですが・・いつも行ってる美容室とはカラー剤...    66  アクセスが良い\n",
       " 195                                          それでも染めたいから    66  アクセスが良い\n",
       " ...                                                 ...   ...      ...\n",
       " 6186                                機会が次はカラーでも行きたいと思います    66  アクセスが良い\n",
       " 6307                                     カラーは宜しくお願い致します    66  アクセスが良い\n",
       " 6339                               冬仕様にカラーを変えたいと思います、また    66  アクセスが良い\n",
       " 6566                         その際は春らしい可愛いカラーをお願いしたいと思います    66  アクセスが良い\n",
       " 6572                     カット、パーマ、カラーとフルコースでお願いすることにしました    66  アクセスが良い\n",
       " \n",
       " [100 rows x 3 columns],\n",
       "                                          文章  クラスタ   トピック\n",
       " 153                       かなり長いこと染めていなかったので     6  静かな空間\n",
       " 189                                カラーだったので     6  静かな空間\n",
       " 220                              黒傾向になったので、     6  静かな空間\n",
       " 261   矯正とカラー同時にしたからでしょうか?でも、日中はうるうるのサラサラなので     6  静かな空間\n",
       " 265              色や仕上がりのイメージを事前に共有していなかった為、     6  静かな空間\n",
       " ...                                     ...   ...    ...\n",
       " 5840                            薬剤が染みたのですが、     6  静かな空間\n",
       " 6247                      カラーのムラは覚悟していましたし、     6  静かな空間\n",
       " 6263                   派手過ぎないようにカラーしてもらいました     6  静かな空間\n",
       " 6305                       今回は少し明るいカラーにしました     6  静かな空間\n",
       " 6654                    今回は前回より明るくしたかったのですが     6  静かな空間\n",
       " \n",
       " [103 rows x 3 columns],\n",
       "                         文章  クラスタ     トピック\n",
       " 229           また寄らせて頂きますので    34  丁寧な仕上がり\n",
       " 278               お任せ出来たので    34  丁寧な仕上がり\n",
       " 285              せっかく掛けたので    34  丁寧な仕上がり\n",
       " 341                言われたため、    34  丁寧な仕上がり\n",
       " 365   いう私のニュアンスを汲み取ってくれるので    34  丁寧な仕上がり\n",
       " ...                    ...   ...      ...\n",
       " 6417          リピートでお願いしました    34  丁寧な仕上がり\n",
       " 6437           そっちにしときますねと    34  丁寧な仕上がり\n",
       " 6464                了承したが、    34  丁寧な仕上がり\n",
       " 6612        トリートメントお願いしました    34  丁寧な仕上がり\n",
       " 6635             お世話になってます    34  丁寧な仕上がり\n",
       " \n",
       " [103 rows x 3 columns],\n",
       "                   文章  クラスタ         トピック\n",
       " 200   総じて満足ですまた来ますので     8  希望通りのヘアスタイル\n",
       " 210    とっても満足していますので     8  希望通りのヘアスタイル\n",
       " 538      以前とても満足したので     8  希望通りのヘアスタイル\n",
       " 826           大満足なので     8  希望通りのヘアスタイル\n",
       " 951          満足でしたので     8  希望通りのヘアスタイル\n",
       " ...              ...   ...          ...\n",
       " 6493        全体的に満足です     8  希望通りのヘアスタイル\n",
       " 6570        とても大満足です     8  希望通りのヘアスタイル\n",
       " 6581           大満足です     8  希望通りのヘアスタイル\n",
       " 6626           大満足です     8  希望通りのヘアスタイル\n",
       " 6673     終了後はとても満足です     8  希望通りのヘアスタイル\n",
       " \n",
       " [107 rows x 3 columns],\n",
       "                                文章  クラスタ   トピック\n",
       " 51        そろそろカットでイメージチェンジがしたいので、    37  価格が納得\n",
       " 91             確認しながらカットしてくださったので    37  価格が納得\n",
       " 111   以前から日常的に扱いやすいようにカットしてくださるので    37  価格が納得\n",
       " 128                   カットもする予定なので    37  価格が納得\n",
       " 221             スッキリとカットしてもらったので、    37  価格が納得\n",
       " ...                           ...   ...    ...\n",
       " 6388                  スッキリと短くカット、    37  価格が納得\n",
       " 6398                  カットは、よかったです    37  価格が納得\n",
       " 6424           今までより短くカットしてもらいました    37  価格が納得\n",
       " 6430                   カットお願いしました    37  価格が納得\n",
       " 6536                       久々カット、    37  価格が納得\n",
       " \n",
       " [113 rows x 3 columns],\n",
       "                    文章  クラスタ       トピック\n",
       " 45           残しがあったので    18  ヘアアレンジの提案\n",
       " 87       ブリーチ歴などあったので    18  ヘアアレンジの提案\n",
       " 103        ピアスをしていたので    18  ヘアアレンジの提案\n",
       " 126     ちょっとブリーチしてたので    18  ヘアアレンジの提案\n",
       " 256     ブリーチ始めようとしたので    18  ヘアアレンジの提案\n",
       " ...               ...   ...        ...\n",
       " 6064           利用しました    18  ヘアアレンジの提案\n",
       " 6221                )    18  ヘアアレンジの提案\n",
       " 6282           オススメです    18  ヘアアレンジの提案\n",
       " 6596  リピートしました毎回、私ですが    18  ヘアアレンジの提案\n",
       " 6678           オススメです    18  ヘアアレンジの提案\n",
       " \n",
       " [115 rows x 3 columns],\n",
       "                                            文章  クラスタ        トピック\n",
       " 18                      髪のダメージとかも良く考慮してくれるので、    23  長時間の施術でも快適\n",
       " 31         イメチェンできてよかったです前髪と毛先もやっと重めにカットできたので    23  長時間の施術でも快適\n",
       " 116             いつも扱いずらい髪質を少しでも良くしようとしてくださるので    23  長時間の施術でも快適\n",
       " 170   すごくスッキリしました髪のお手入れのことなどいろいろお話ししていただいたので、    23  長時間の施術でも快適\n",
       " 190                        しばらく髪のことで悩まなくていいので    23  長時間の施術でも快適\n",
       " ...                                       ...   ...         ...\n",
       " 5559                      以前よりもヘアセットしやすくなりました    23  長時間の施術でも快適\n",
       " 5799                      毛先を揃えてもらうようにお願いしました    23  長時間の施術でも快適\n",
       " 6010                髪の色合いもカットも満足でした◎また利用したいです    23  長時間の施術でも快適\n",
       " 6283                        ヘアアレンジも楽しみたいと思います    23  長時間の施術でも快適\n",
       " 6583                           丁寧に丁寧に髪を切ってくれる    23  長時間の施術でも快適\n",
       " \n",
       " [116 rows x 3 columns],\n",
       "                                           文章  クラスタ        トピック\n",
       " 43                                癒されに伺いますので     1  髪が元気を取り戻した\n",
       " 86                      高い技術で上手くカバーしていただいたため     1  髪が元気を取り戻した\n",
       " 134                      前回とても素敵に仕上げていただいたので     1  髪が元気を取り戻した\n",
       " 141      丁寧にやってもらえてよかったです長持ちする巻き方も教えてもらったので、     1  髪が元気を取り戻した\n",
       " 150   それでも、快く迎えてくれるうえにオーダー以上に可愛いく仕上げてもらえるので、     1  髪が元気を取り戻した\n",
       " ...                                      ...   ...         ...\n",
       " 6600           崩れないように強目に大満足でしたまた利用させていただきます     1  髪が元気を取り戻した\n",
       " 6615             大満足です◎ケア方法などもたくさん教えていただいたので     1  髪が元気を取り戻した\n",
       " 6619              先の展望を含めて納得して施術を受けることができました     1  髪が元気を取り戻した\n",
       " 6658                       本当に切ってよかったなと思いました     1  髪が元気を取り戻した\n",
       " 6672                               とても癒されました     1  髪が元気を取り戻した\n",
       " \n",
       " [126 rows x 3 columns],\n",
       "                   文章  クラスタ        トピック\n",
       " 108    今までで1番良かったので、     5  落ち着いたインテリア\n",
       " 578     初回でとてもよかったので     5  落ち着いたインテリア\n",
       " 594    とても良いとの事だったので     5  落ち着いたインテリア\n",
       " 696       本当に良かったので、     5  落ち着いたインテリア\n",
       " 711        すごく良かったので     5  落ち着いたインテリア\n",
       " ...              ...   ...         ...\n",
       " 6579          良かったです     5  落ち着いたインテリア\n",
       " 6633  なかなか、とても良かったです     5  落ち着いたインテリア\n",
       " 6639    とても印象が良かったです     5  落ち着いたインテリア\n",
       " 6644          良かったです     5  落ち着いたインテリア\n",
       " 6662          よかったです     5  落ち着いたインテリア\n",
       " \n",
       " [127 rows x 3 columns],\n",
       "                        文章  クラスタ    トピック\n",
       " 24        癖毛が目立つようになったので、     2  心地よい音楽\n",
       " 28          毛先が眼の周りに触るので、     2  心地よい音楽\n",
       " 57       私の髪が変な風に傷んでいたせいで     2  心地よい音楽\n",
       " 155       髪も少し重くなってきていたので     2  心地よい音楽\n",
       " 157   部分のカットと、毛量がかなりあったので     2  心地よい音楽\n",
       " ...                   ...   ...     ...\n",
       " 5478    髪の毛に跡がついてしまったのですが     2  心地よい音楽\n",
       " 5490   毛先の不揃いさが強調されただけでした     2  心地よい音楽\n",
       " 6048  本当に良かったですかなりの癖毛ですが、     2  心地よい音楽\n",
       " 6195        髪の傷みと色ムラが酷い為、     2  心地よい音楽\n",
       " 6335    髪のことはいつも緊張するのですが、     2  心地よい音楽\n",
       " \n",
       " [162 rows x 3 columns],\n",
       "                     文章  クラスタ    トピック\n",
       " 377           お願いしたので、    15  リピート決定\n",
       " 399      お願いしようと思いますので    15  リピート決定\n",
       " 1453      お願いしたいと思うので、    15  リピート決定\n",
       " 3134           お願いだから、    15  リピート決定\n",
       " 3347       またお願いしたいので、    15  リピート決定\n",
       " ...                ...   ...     ...\n",
       " 6571        よろしくお願いします    15  リピート決定\n",
       " 6624  その時はまたよろしくお願いします    15  リピート決定\n",
       " 6632        よろしくお願いします    15  リピート決定\n",
       " 6646        よろしくお願いします    15  リピート決定\n",
       " 6695        よろしくお願いします    15  リピート決定\n",
       " \n",
       " [162 rows x 3 columns]]"
      ]
     },
     "execution_count": 207,
     "metadata": {},
     "output_type": "execute_result"
    }
   ],
   "source": [
    "sorted_dfs_copy"
   ]
  },
  {
   "cell_type": "code",
   "execution_count": 208,
   "metadata": {},
   "outputs": [],
   "source": [
    "# すべてのDataFrameを連結\n",
    "combined_df = pd.concat(sorted_dfs_copy, ignore_index=False)\n",
    "# index番号でソート\n",
    "df_results = combined_df.sort_index()"
   ]
  },
  {
   "cell_type": "code",
   "execution_count": 209,
   "metadata": {},
   "outputs": [
    {
     "name": "stdout",
     "output_type": "stream",
     "text": [
      "前半のデータセット:\n",
      "                          理由  理由_クラスタ       理由_トピック\n",
      "0     今回もカラーも今どきな雰囲気に仕上がったので       64         親身な対応\n",
      "1          シャンプーを使っていただいたので、       16    無理なく会話ができた\n",
      "2           とても大事な友達の式だったので、        4  伸ばしている/伸ばしたい\n",
      "3         とって前髪は顔のパーツの一部なので、       20   美容師さんが親切だった\n",
      "4                 今後も通いたいので、       76         今後も通う\n",
      "...                      ...      ...           ...\n",
      "3343      トリートメントもとても良かったので、        1    髪が元気を取り戻した\n",
      "3344       色味のアドバイスをいただけるので、       47     安定した技術・接客\n",
      "3345       のは、担当スタイリストさんなので、       92     仕上がりが想像以上\n",
      "3346        つけっぱなしの上でのカラーなので        6         静かな空間\n",
      "3347             またお願いしたいので、       15        リピート決定\n",
      "\n",
      "[3348 rows x 3 columns]\n",
      "\n",
      "後半のデータセット（インデックス振り直し後）:\n",
      "                                      結果  結果_クラスタ        結果_トピック\n",
      "0                    良かったですまたよろしくお願いします♪       81         丁寧なカット\n",
      "1                         来月またよろしくお願いします       46       短期的なリピート\n",
      "2     アレンジが不慣れなら他のスタッフの方にもサポートいただきたかったです       68           行きます\n",
      "3                    もっと研究していただきたいと思いました       27  担当者が違う/担当者の異動\n",
      "4                     改善していただければいいなと思います        1     髪が元気を取り戻した\n",
      "...                                  ...      ...            ...\n",
      "3343                       次回もよろしくお願いします       69     笑顔で対応してくれた\n",
      "3344                            大変有り難いです       42       セットがしやすい\n",
      "3345                     改めて感謝したいなと思いました       67         楽/スムーズ\n",
      "3346                   マスクを仕方ないのかもしれませんが       42       セットがしやすい\n",
      "3347                          よろしくお願いします       15         リピート決定\n",
      "\n",
      "[3348 rows x 3 columns]\n"
     ]
    }
   ],
   "source": [
    "# dfを前半と後半で分ける\n",
    "total_rows = len(df_results)\n",
    "\n",
    "# データフレームを半分に分割\n",
    "df_first_half = df_results.iloc[:total_rows//2]\n",
    "df_second_half = df_results.iloc[total_rows//2:]\n",
    "\n",
    "df_first_half = df_first_half.rename(columns={\"文章\": \"理由\", \"クラスタ\": \"理由_クラスタ\", \"トピック\": \"理由_トピック\"})\n",
    "df_second_half = df_second_half.rename(columns={\"文章\": \"結果\", \"クラスタ\": \"結果_クラスタ\", \"トピック\": \"結果_トピック\"})\n",
    "\n",
    "# 後半のデータセットのインデックスを振り直す\n",
    "df_second_half = df_second_half.reset_index(drop=True)\n",
    "\n",
    "# 結果を確認\n",
    "print(\"前半のデータセット:\")\n",
    "print(df_first_half)\n",
    "print(\"\\n後半のデータセット（インデックス振り直し後）:\")\n",
    "print(df_second_half)"
   ]
  },
  {
   "cell_type": "code",
   "execution_count": 210,
   "metadata": {},
   "outputs": [
    {
     "name": "stdout",
     "output_type": "stream",
     "text": [
      "                          理由  理由_クラスタ       理由_トピック  \\\n",
      "0     今回もカラーも今どきな雰囲気に仕上がったので       64         親身な対応   \n",
      "1          シャンプーを使っていただいたので、       16    無理なく会話ができた   \n",
      "2           とても大事な友達の式だったので、        4  伸ばしている/伸ばしたい   \n",
      "3         とって前髪は顔のパーツの一部なので、       20   美容師さんが親切だった   \n",
      "4                 今後も通いたいので、       76         今後も通う   \n",
      "...                      ...      ...           ...   \n",
      "3343      トリートメントもとても良かったので、        1    髪が元気を取り戻した   \n",
      "3344       色味のアドバイスをいただけるので、       47     安定した技術・接客   \n",
      "3345       のは、担当スタイリストさんなので、       92     仕上がりが想像以上   \n",
      "3346        つけっぱなしの上でのカラーなので        6         静かな空間   \n",
      "3347             またお願いしたいので、       15        リピート決定   \n",
      "\n",
      "                                      結果  結果_クラスタ        結果_トピック  \n",
      "0                    良かったですまたよろしくお願いします♪       81         丁寧なカット  \n",
      "1                         来月またよろしくお願いします       46       短期的なリピート  \n",
      "2     アレンジが不慣れなら他のスタッフの方にもサポートいただきたかったです       68           行きます  \n",
      "3                    もっと研究していただきたいと思いました       27  担当者が違う/担当者の異動  \n",
      "4                     改善していただければいいなと思います        1     髪が元気を取り戻した  \n",
      "...                                  ...      ...            ...  \n",
      "3343                       次回もよろしくお願いします       69     笑顔で対応してくれた  \n",
      "3344                            大変有り難いです       42       セットがしやすい  \n",
      "3345                     改めて感謝したいなと思いました       67         楽/スムーズ  \n",
      "3346                   マスクを仕方ないのかもしれませんが       42       セットがしやすい  \n",
      "3347                          よろしくお願いします       15         リピート決定  \n",
      "\n",
      "[3348 rows x 6 columns]\n"
     ]
    }
   ],
   "source": [
    "# df_first_halfとdf_second_halfを横方向に連結\n",
    "concatenated_df_horizontal = pd.concat([df_first_half, df_second_half], axis=1)\n",
    "\n",
    "# 結果を表示\n",
    "print(concatenated_df_horizontal)"
   ]
  },
  {
   "cell_type": "code",
   "execution_count": 211,
   "metadata": {},
   "outputs": [
    {
     "data": {
      "text/html": [
       "<div>\n",
       "<style scoped>\n",
       "    .dataframe tbody tr th:only-of-type {\n",
       "        vertical-align: middle;\n",
       "    }\n",
       "\n",
       "    .dataframe tbody tr th {\n",
       "        vertical-align: top;\n",
       "    }\n",
       "\n",
       "    .dataframe thead th {\n",
       "        text-align: right;\n",
       "    }\n",
       "</style>\n",
       "<table border=\"1\" class=\"dataframe\">\n",
       "  <thead>\n",
       "    <tr style=\"text-align: right;\">\n",
       "      <th></th>\n",
       "      <th>理由</th>\n",
       "      <th>理由_クラスタ</th>\n",
       "      <th>理由_トピック</th>\n",
       "      <th>結果</th>\n",
       "      <th>結果_クラスタ</th>\n",
       "      <th>結果_トピック</th>\n",
       "    </tr>\n",
       "  </thead>\n",
       "  <tbody>\n",
       "    <tr>\n",
       "      <th>0</th>\n",
       "      <td>今回もカラーも今どきな雰囲気に仕上がったので</td>\n",
       "      <td>64</td>\n",
       "      <td>親身な対応</td>\n",
       "      <td>良かったですまたよろしくお願いします♪</td>\n",
       "      <td>81</td>\n",
       "      <td>丁寧なカット</td>\n",
       "    </tr>\n",
       "    <tr>\n",
       "      <th>1</th>\n",
       "      <td>シャンプーを使っていただいたので、</td>\n",
       "      <td>16</td>\n",
       "      <td>無理なく会話ができた</td>\n",
       "      <td>来月またよろしくお願いします</td>\n",
       "      <td>46</td>\n",
       "      <td>短期的なリピート</td>\n",
       "    </tr>\n",
       "    <tr>\n",
       "      <th>2</th>\n",
       "      <td>とても大事な友達の式だったので、</td>\n",
       "      <td>4</td>\n",
       "      <td>伸ばしている/伸ばしたい</td>\n",
       "      <td>アレンジが不慣れなら他のスタッフの方にもサポートいただきたかったです</td>\n",
       "      <td>68</td>\n",
       "      <td>行きます</td>\n",
       "    </tr>\n",
       "    <tr>\n",
       "      <th>3</th>\n",
       "      <td>とって前髪は顔のパーツの一部なので、</td>\n",
       "      <td>20</td>\n",
       "      <td>美容師さんが親切だった</td>\n",
       "      <td>もっと研究していただきたいと思いました</td>\n",
       "      <td>27</td>\n",
       "      <td>担当者が違う/担当者の異動</td>\n",
       "    </tr>\n",
       "    <tr>\n",
       "      <th>4</th>\n",
       "      <td>今後も通いたいので、</td>\n",
       "      <td>76</td>\n",
       "      <td>今後も通う</td>\n",
       "      <td>改善していただければいいなと思います</td>\n",
       "      <td>1</td>\n",
       "      <td>髪が元気を取り戻した</td>\n",
       "    </tr>\n",
       "    <tr>\n",
       "      <th>...</th>\n",
       "      <td>...</td>\n",
       "      <td>...</td>\n",
       "      <td>...</td>\n",
       "      <td>...</td>\n",
       "      <td>...</td>\n",
       "      <td>...</td>\n",
       "    </tr>\n",
       "    <tr>\n",
       "      <th>3343</th>\n",
       "      <td>トリートメントもとても良かったので、</td>\n",
       "      <td>1</td>\n",
       "      <td>髪が元気を取り戻した</td>\n",
       "      <td>次回もよろしくお願いします</td>\n",
       "      <td>69</td>\n",
       "      <td>笑顔で対応してくれた</td>\n",
       "    </tr>\n",
       "    <tr>\n",
       "      <th>3344</th>\n",
       "      <td>色味のアドバイスをいただけるので、</td>\n",
       "      <td>47</td>\n",
       "      <td>安定した技術・接客</td>\n",
       "      <td>大変有り難いです</td>\n",
       "      <td>42</td>\n",
       "      <td>セットがしやすい</td>\n",
       "    </tr>\n",
       "    <tr>\n",
       "      <th>3345</th>\n",
       "      <td>のは、担当スタイリストさんなので、</td>\n",
       "      <td>92</td>\n",
       "      <td>仕上がりが想像以上</td>\n",
       "      <td>改めて感謝したいなと思いました</td>\n",
       "      <td>67</td>\n",
       "      <td>楽/スムーズ</td>\n",
       "    </tr>\n",
       "    <tr>\n",
       "      <th>3346</th>\n",
       "      <td>つけっぱなしの上でのカラーなので</td>\n",
       "      <td>6</td>\n",
       "      <td>静かな空間</td>\n",
       "      <td>マスクを仕方ないのかもしれませんが</td>\n",
       "      <td>42</td>\n",
       "      <td>セットがしやすい</td>\n",
       "    </tr>\n",
       "    <tr>\n",
       "      <th>3347</th>\n",
       "      <td>またお願いしたいので、</td>\n",
       "      <td>15</td>\n",
       "      <td>リピート決定</td>\n",
       "      <td>よろしくお願いします</td>\n",
       "      <td>15</td>\n",
       "      <td>リピート決定</td>\n",
       "    </tr>\n",
       "  </tbody>\n",
       "</table>\n",
       "<p>3348 rows × 6 columns</p>\n",
       "</div>"
      ],
      "text/plain": [
       "                          理由  理由_クラスタ       理由_トピック  \\\n",
       "0     今回もカラーも今どきな雰囲気に仕上がったので       64         親身な対応   \n",
       "1          シャンプーを使っていただいたので、       16    無理なく会話ができた   \n",
       "2           とても大事な友達の式だったので、        4  伸ばしている/伸ばしたい   \n",
       "3         とって前髪は顔のパーツの一部なので、       20   美容師さんが親切だった   \n",
       "4                 今後も通いたいので、       76         今後も通う   \n",
       "...                      ...      ...           ...   \n",
       "3343      トリートメントもとても良かったので、        1    髪が元気を取り戻した   \n",
       "3344       色味のアドバイスをいただけるので、       47     安定した技術・接客   \n",
       "3345       のは、担当スタイリストさんなので、       92     仕上がりが想像以上   \n",
       "3346        つけっぱなしの上でのカラーなので        6         静かな空間   \n",
       "3347             またお願いしたいので、       15        リピート決定   \n",
       "\n",
       "                                      結果  結果_クラスタ        結果_トピック  \n",
       "0                    良かったですまたよろしくお願いします♪       81         丁寧なカット  \n",
       "1                         来月またよろしくお願いします       46       短期的なリピート  \n",
       "2     アレンジが不慣れなら他のスタッフの方にもサポートいただきたかったです       68           行きます  \n",
       "3                    もっと研究していただきたいと思いました       27  担当者が違う/担当者の異動  \n",
       "4                     改善していただければいいなと思います        1     髪が元気を取り戻した  \n",
       "...                                  ...      ...            ...  \n",
       "3343                       次回もよろしくお願いします       69     笑顔で対応してくれた  \n",
       "3344                            大変有り難いです       42       セットがしやすい  \n",
       "3345                     改めて感謝したいなと思いました       67         楽/スムーズ  \n",
       "3346                   マスクを仕方ないのかもしれませんが       42       セットがしやすい  \n",
       "3347                          よろしくお願いします       15         リピート決定  \n",
       "\n",
       "[3348 rows x 6 columns]"
      ]
     },
     "execution_count": 211,
     "metadata": {},
     "output_type": "execute_result"
    }
   ],
   "source": [
    "concatenated_df_horizontal"
   ]
  },
  {
   "cell_type": "code",
   "execution_count": 212,
   "metadata": {},
   "outputs": [],
   "source": [
    "# import fugashi\n",
    "# from transformers import BertTokenizer, BertForMaskedLM\n",
    "# import torch\n",
    "# import numpy as np\n",
    "# from sklearn.metrics.pairwise import cosine_similarity\n",
    "# from sklearn.feature_extraction.text import TfidfVectorizer\n",
    "\n",
    "# # BERTモデルとトークナイザーの準備\n",
    "# tokenizer = BertTokenizer.from_pretrained('cl-tohoku/bert-base-japanese-v2')\n",
    "# model = BertForMaskedLM.from_pretrained('cl-tohoku/bert-base-japanese-v2')\n",
    "\n",
    "# # fugashiのトークナイザーを準備\n",
    "# tagger = fugashi.Tagger()\n",
    "\n",
    "# # 入力文のリスト\n",
    "# input_sentences = topics_list[80].get_topic_info()[\"Representative_Docs\"][0]\n",
    "\n",
    "# # 学習データ\n",
    "# training_data = marge_rev\n",
    "\n",
    "# def tokenize_ja(text):\n",
    "#     return [word.surface for word in tagger(text)]\n",
    "\n",
    "# def complete_sentence(input_sentence):\n",
    "#     tokens = tokenize_ja(input_sentence)\n",
    "    \n",
    "#     masked_tokens = []\n",
    "#     for i, token in enumerate(tokens):\n",
    "#         if i == 0 or i == len(tokens) - 1 or np.random.rand() < 0.2:  # マスクの確率を下げる\n",
    "#             masked_tokens.append(token)\n",
    "#         else:\n",
    "#             masked_tokens.append('[MASK]')\n",
    "    \n",
    "#     input_ids = tokenizer.convert_tokens_to_ids(masked_tokens)\n",
    "#     input_ids = torch.tensor([input_ids])\n",
    "    \n",
    "#     with torch.no_grad():\n",
    "#         outputs = model(input_ids)\n",
    "#         predictions = outputs[0]\n",
    "    \n",
    "#     predicted_tokens = []\n",
    "#     for i, token in enumerate(masked_tokens):\n",
    "#         if token == '[MASK]':\n",
    "#             predicted_ids = torch.argsort(predictions[0, i], descending=True)[:5]  # 上位5候補を取得\n",
    "#             predicted_tokens_candidates = tokenizer.convert_ids_to_tokens(predicted_ids)\n",
    "#             # 文脈に合う最適な候補を選択（ここでは簡単のため最初の候補を選択）\n",
    "#             predicted_tokens.append(predicted_tokens_candidates[0])\n",
    "#         else:\n",
    "#             predicted_tokens.append(token)\n",
    "    \n",
    "#     completed_sentence = ''.join(predicted_tokens).replace('##', '')\n",
    "#     return completed_sentence\n",
    "\n",
    "# # 各入力文に対して文章を生成\n",
    "# generated_sentences = [complete_sentence(sentence) for sentence in input_sentences]\n",
    "\n",
    "# # 生成された文章と学習データの類似度を計算\n",
    "# vectorizer = TfidfVectorizer(tokenizer=tokenize_ja)\n",
    "# tfidf_matrix = vectorizer.fit_transform(training_data + generated_sentences)\n",
    "# cosine_similarities = cosine_similarity(tfidf_matrix[-len(generated_sentences):], tfidf_matrix[:len(training_data)])\n",
    "\n",
    "# # 最も類似度の高い文章を選択\n",
    "# best_match_index = np.argmax(cosine_similarities.max(axis=1))\n",
    "# best_match = generated_sentences[best_match_index]\n",
    "\n",
    "# print(\"生成された文章:\")\n",
    "# for sentence in generated_sentences:\n",
    "#     print(sentence)\n",
    "\n",
    "# print(\"\\n最も内容が近い生成文:\", best_match)\n"
   ]
  },
  {
   "cell_type": "code",
   "execution_count": 95,
   "metadata": {},
   "outputs": [
    {
     "data": {
      "text/html": [
       "<div>\n",
       "<style scoped>\n",
       "    .dataframe tbody tr th:only-of-type {\n",
       "        vertical-align: middle;\n",
       "    }\n",
       "\n",
       "    .dataframe tbody tr th {\n",
       "        vertical-align: top;\n",
       "    }\n",
       "\n",
       "    .dataframe thead th {\n",
       "        text-align: right;\n",
       "    }\n",
       "</style>\n",
       "<table border=\"1\" class=\"dataframe\">\n",
       "  <thead>\n",
       "    <tr style=\"text-align: right;\">\n",
       "      <th></th>\n",
       "      <th>文章</th>\n",
       "      <th>クラスタ</th>\n",
       "    </tr>\n",
       "  </thead>\n",
       "  <tbody>\n",
       "    <tr>\n",
       "      <th>3</th>\n",
       "      <td>旦那さんにみせることができませんでした風呂上りに自然と外ハネになるので</td>\n",
       "      <td>13</td>\n",
       "    </tr>\n",
       "    <tr>\n",
       "      <th>7</th>\n",
       "      <td>仕事上全頭は奇抜にできないので、</td>\n",
       "      <td>13</td>\n",
       "    </tr>\n",
       "    <tr>\n",
       "      <th>21</th>\n",
       "      <td>塗ってる人は担当者じゃないので、</td>\n",
       "      <td>13</td>\n",
       "    </tr>\n",
       "    <tr>\n",
       "      <th>25</th>\n",
       "      <td>混んでいてみなさん担当されていて誰にも声をかけられずだったので、</td>\n",
       "      <td>13</td>\n",
       "    </tr>\n",
       "    <tr>\n",
       "      <th>34</th>\n",
       "      <td>従業員の顔写真がないので</td>\n",
       "      <td>13</td>\n",
       "    </tr>\n",
       "    <tr>\n",
       "      <th>45</th>\n",
       "      <td>顔剃りの時に、担当の人でない人が急に来て始めたので</td>\n",
       "      <td>13</td>\n",
       "    </tr>\n",
       "    <tr>\n",
       "      <th>55</th>\n",
       "      <td>あまりアシスタントさんが入ることがなかったのですが、</td>\n",
       "      <td>13</td>\n",
       "    </tr>\n",
       "  </tbody>\n",
       "</table>\n",
       "</div>"
      ],
      "text/plain": [
       "                                     文章  クラスタ\n",
       "3   旦那さんにみせることができませんでした風呂上りに自然と外ハネになるので    13\n",
       "7                      仕事上全頭は奇抜にできないので、    13\n",
       "21                     塗ってる人は担当者じゃないので、    13\n",
       "25     混んでいてみなさん担当されていて誰にも声をかけられずだったので、    13\n",
       "34                         従業員の顔写真がないので    13\n",
       "45            顔剃りの時に、担当の人でない人が急に来て始めたので    13\n",
       "55           あまりアシスタントさんが入ることがなかったのですが、    13"
      ]
     },
     "execution_count": 95,
     "metadata": {},
     "output_type": "execute_result"
    }
   ],
   "source": []
  },
  {
   "cell_type": "code",
   "execution_count": null,
   "metadata": {},
   "outputs": [],
   "source": [
    "# topics = get_topics_from_texts(sorted_dfs_copy[30][\"文章\"].tolist())\n",
    "# for topic, words in topics.items():\n",
    "#     print(f\"トピック {topic}: {words}\")"
   ]
  },
  {
   "cell_type": "code",
   "execution_count": 158,
   "metadata": {},
   "outputs": [
    {
     "data": {
      "text/html": [
       "<div>\n",
       "<style scoped>\n",
       "    .dataframe tbody tr th:only-of-type {\n",
       "        vertical-align: middle;\n",
       "    }\n",
       "\n",
       "    .dataframe tbody tr th {\n",
       "        vertical-align: top;\n",
       "    }\n",
       "\n",
       "    .dataframe thead th {\n",
       "        text-align: right;\n",
       "    }\n",
       "</style>\n",
       "<table border=\"1\" class=\"dataframe\">\n",
       "  <thead>\n",
       "    <tr style=\"text-align: right;\">\n",
       "      <th></th>\n",
       "      <th>文章</th>\n",
       "      <th>クラスタ</th>\n",
       "    </tr>\n",
       "  </thead>\n",
       "  <tbody>\n",
       "    <tr>\n",
       "      <th>0</th>\n",
       "      <td>今回もカラーも今どきな雰囲気に仕上がったので</td>\n",
       "      <td>7</td>\n",
       "    </tr>\n",
       "    <tr>\n",
       "      <th>1</th>\n",
       "      <td>シャンプーを使っていただいたので、</td>\n",
       "      <td>31</td>\n",
       "    </tr>\n",
       "    <tr>\n",
       "      <th>2</th>\n",
       "      <td>とても大事な友達の式だったので、</td>\n",
       "      <td>17</td>\n",
       "    </tr>\n",
       "    <tr>\n",
       "      <th>3</th>\n",
       "      <td>とって前髪は顔のパーツの一部なので、</td>\n",
       "      <td>28</td>\n",
       "    </tr>\n",
       "    <tr>\n",
       "      <th>4</th>\n",
       "      <td>今後も通いたいので、</td>\n",
       "      <td>15</td>\n",
       "    </tr>\n",
       "    <tr>\n",
       "      <th>...</th>\n",
       "      <td>...</td>\n",
       "      <td>...</td>\n",
       "    </tr>\n",
       "    <tr>\n",
       "      <th>6691</th>\n",
       "      <td>次回もよろしくお願いします</td>\n",
       "      <td>94</td>\n",
       "    </tr>\n",
       "    <tr>\n",
       "      <th>6692</th>\n",
       "      <td>大変有り難いです</td>\n",
       "      <td>69</td>\n",
       "    </tr>\n",
       "    <tr>\n",
       "      <th>6693</th>\n",
       "      <td>改めて感謝したいなと思いました</td>\n",
       "      <td>49</td>\n",
       "    </tr>\n",
       "    <tr>\n",
       "      <th>6694</th>\n",
       "      <td>マスクを仕方ないのかもしれませんが</td>\n",
       "      <td>69</td>\n",
       "    </tr>\n",
       "    <tr>\n",
       "      <th>6695</th>\n",
       "      <td>よろしくお願いします</td>\n",
       "      <td>5</td>\n",
       "    </tr>\n",
       "  </tbody>\n",
       "</table>\n",
       "<p>6696 rows × 2 columns</p>\n",
       "</div>"
      ],
      "text/plain": [
       "                          文章  クラスタ\n",
       "0     今回もカラーも今どきな雰囲気に仕上がったので     7\n",
       "1          シャンプーを使っていただいたので、    31\n",
       "2           とても大事な友達の式だったので、    17\n",
       "3         とって前髪は顔のパーツの一部なので、    28\n",
       "4                 今後も通いたいので、    15\n",
       "...                      ...   ...\n",
       "6691           次回もよろしくお願いします    94\n",
       "6692                大変有り難いです    69\n",
       "6693         改めて感謝したいなと思いました    49\n",
       "6694       マスクを仕方ないのかもしれませんが    69\n",
       "6695              よろしくお願いします     5\n",
       "\n",
       "[6696 rows x 2 columns]"
      ]
     },
     "execution_count": 158,
     "metadata": {},
     "output_type": "execute_result"
    }
   ],
   "source": []
  },
  {
   "cell_type": "code",
   "execution_count": null,
   "metadata": {},
   "outputs": [],
   "source": []
  },
  {
   "cell_type": "code",
   "execution_count": null,
   "metadata": {},
   "outputs": [],
   "source": [
    "# df_results_list = []\n",
    "# batch_size = 10  # バッチサイズを設定\n",
    "\n",
    "# for i in range(0, len(sorted_dfs), batch_size):\n",
    "#     batch = sorted_dfs[i:i+batch_size]\n",
    "    \n",
    "#     for j, cl_df in enumerate(batch):\n",
    "#         # combined_text = connect_text_list(cl_df)  # 一文に繋げる\n",
    "#         # df_results_keywords = text_extract_keywords(combined_text, int(cl_df['クラスタ'].iloc[0]), kw_model, top_n=len(cl_df))  # クラスタリング\n",
    "#         # df_results_list.append(df_results_keywords)\n",
    "        \n",
    "#         keyword = df_results_keywords[\"キーワード1\"].iloc[0]\n",
    "#         sorted_dfs[i+j] = replace_text(sorted_dfs[i+j], keyword)\n",
    "    \n",
    "#     # バッチ処理後にメモリをクリア\n",
    "#     torch.mps.empty_cache()\n",
    "    \n",
    "#     if i % 100 == 0:\n",
    "#         print(f\"Processed {i} items\")\n",
    "\n",
    "# print(df_results_list)"
   ]
  },
  {
   "cell_type": "code",
   "execution_count": null,
   "metadata": {},
   "outputs": [],
   "source": [
    "# df_results_list[192]"
   ]
  },
  {
   "cell_type": "code",
   "execution_count": 149,
   "metadata": {},
   "outputs": [],
   "source": [
    "# # 要素数が一番多いクラスタ\n",
    "# max_size = max([df.shape[0], i] for i, df in enumerate(cluster_dfs.values()))\n",
    "# max_size"
   ]
  },
  {
   "cell_type": "code",
   "execution_count": 150,
   "metadata": {},
   "outputs": [],
   "source": [
    "# cluster_dfs[max_size[1]]"
   ]
  },
  {
   "cell_type": "code",
   "execution_count": 151,
   "metadata": {},
   "outputs": [],
   "source": [
    "# # すべてのDataFrameを連結\n",
    "# combined_df = pd.concat(sorted_dfs, ignore_index=False)\n",
    "\n",
    "# # index番号でソート\n",
    "# df_results = combined_df.sort_index()"
   ]
  },
  {
   "cell_type": "code",
   "execution_count": null,
   "metadata": {},
   "outputs": [],
   "source": [
    "# # データフレームの行数を取得\n",
    "# total_rows = len(df_results)\n",
    "\n",
    "# # データフレームを半分に分割\n",
    "# df_first_half = df_results.iloc[:total_rows//2]\n",
    "# df_second_half = df_results.iloc[total_rows//2:]\n",
    "\n",
    "# df_first_half = df_first_half.rename(columns={\"文章\": \"理由\", \"クラスタ\": \"理由_クラスタ\"})\n",
    "# df_second_half = df_second_half.rename(columns={\"文章\": \"結果\", \"クラスタ\": \"結果_クラスタ\"})\n",
    "\n",
    "# # 後半のデータセットのインデックスを振り直す\n",
    "# df_second_half = df_second_half.reset_index(drop=True)\n",
    "\n",
    "# # 結果を確認\n",
    "# print(\"前半のデータセット:\")\n",
    "# print(df_first_half)\n",
    "# print(\"\\n後半のデータセット（インデックス振り直し後）:\")\n",
    "# print(df_second_half)"
   ]
  },
  {
   "cell_type": "code",
   "execution_count": null,
   "metadata": {},
   "outputs": [],
   "source": [
    "# # df_first_halfとdf_second_halfを横方向に連結\n",
    "# concatenated_df_horizontal = pd.concat([df_first_half, df_second_half], axis=1)\n",
    "\n",
    "# # 結果を表示\n",
    "# print(concatenated_df_horizontal)"
   ]
  },
  {
   "cell_type": "code",
   "execution_count": null,
   "metadata": {},
   "outputs": [],
   "source": [
    "# concatenated_df_horizontal"
   ]
  },
  {
   "cell_type": "markdown",
   "metadata": {},
   "source": [
    "## networrkxで可視化 ##"
   ]
  },
  {
   "cell_type": "code",
   "execution_count": 155,
   "metadata": {},
   "outputs": [],
   "source": [
    "# !pip install networkx\n",
    "# !pip install japanize_matplotlib"
   ]
  },
  {
   "cell_type": "code",
   "execution_count": 156,
   "metadata": {},
   "outputs": [],
   "source": [
    "# brew install graphviz\n",
    "# !pip install --global-option=build_ext --global-option=\"-I$(brew --prefix graphviz)/include/\" --global-option=\"-L$(brew --prefix graphviz)/lib/\" pygraphviz"
   ]
  },
  {
   "cell_type": "code",
   "execution_count": 157,
   "metadata": {},
   "outputs": [],
   "source": [
    "import networkx as nx\n",
    "import matplotlib.pyplot as plt\n",
    "import matplotlib as mpl\n",
    "# 日本語フォントの設定\n",
    "plt.rcParams['font.family'] = 'sans-serif'\n",
    "plt.rcParams['font.sans-serif'] = ['Hiragino Sans', 'Yu Gothic', 'Meiryo', 'Takao', 'IPAexGothic', 'IPAPGothic', 'VL PGothic', 'Noto Sans CJK JP']\n",
    "import japanize_matplotlib\n",
    "import pygraphviz\n",
    "from networkx.drawing.nx_agraph import graphviz_layout"
   ]
  },
  {
   "cell_type": "code",
   "execution_count": null,
   "metadata": {},
   "outputs": [],
   "source": [
    "# # グラフの作成\n",
    "# G = nx.Graph()\n",
    "\n",
    "# # ノードの追加\n",
    "# for index, row in concatenated_df_horizontal.iterrows():\n",
    "#     G.add_node(row['理由'], type='理由')\n",
    "#     G.add_node(row['結果'], type='結果')\n",
    "\n",
    "# # エッジの追加（インデックス番号が同じもの同士）\n",
    "# for index, row in concatenated_df_horizontal.iterrows():\n",
    "#     G.add_edge(row['理由'], row['結果'], type='index')\n",
    "\n",
    "# # エッジの追加（クラスタ番号が同じもの同士）\n",
    "# 理由クラスタグループ = concatenated_df_horizontal.groupby('理由_クラスタ')\n",
    "# 結果クラスタグループ = concatenated_df_horizontal.groupby('結果_クラスタ')\n",
    "\n",
    "# for _, group in 理由クラスタグループ:\n",
    "#     nodes = group['理由'].tolist()\n",
    "#     for i in range(len(nodes)):\n",
    "#         for j in range(i + 1, len(nodes)):\n",
    "#             G.add_edge(nodes[i], nodes[j], type='理由クラスタ')\n",
    "\n",
    "# for _, group in 結果クラスタグループ:\n",
    "#     nodes = group['結果'].tolist()\n",
    "#     for i in range(len(nodes)):\n",
    "#         for j in range(i + 1, len(nodes)):\n",
    "#             G.add_edge(nodes[i], nodes[j], type='結果クラスタ')\n",
    "\n",
    "# # グラフの描画\n",
    "# plt.figure(figsize=(20, 16))\n",
    "\n",
    "# # graphviz_layoutを使用してノードの配置を最適化\n",
    "# pos = graphviz_layout(G, prog='neato')\n",
    "\n",
    "# # spring_layoutを使用して更に最適化\n",
    "# pos = nx.spring_layout(G, pos=pos, iterations=50)\n",
    "\n",
    "# # ノードの描画\n",
    "# nx.draw_networkx_nodes(G, pos, \n",
    "#                        node_color=['skyblue' if G.nodes[node]['type'] == '理由' else 'lightgreen' for node in G.nodes],\n",
    "#                        node_size=300)\n",
    "\n",
    "# # エッジの描画\n",
    "# edge_colors = ['red' if G[u][v]['type'] == 'index' else 'blue' if G[u][v]['type'] == '理由クラスタ' else 'green' for u, v in G.edges()]\n",
    "# nx.draw_networkx_edges(G, pos, edge_color=edge_colors, alpha=0.3)\n",
    "\n",
    "# # ラベルの描画\n",
    "# nx.draw_networkx_labels(G, pos, font_size=8)\n",
    "\n",
    "# plt.title(\"Network Visualization\")\n",
    "# plt.axis('off')\n",
    "# plt.tight_layout()\n",
    "# plt.show()"
   ]
  },
  {
   "cell_type": "code",
   "execution_count": null,
   "metadata": {},
   "outputs": [],
   "source": []
  },
  {
   "cell_type": "markdown",
   "metadata": {},
   "source": [
    "## pyvisで可視化 ##"
   ]
  },
  {
   "cell_type": "code",
   "execution_count": 159,
   "metadata": {},
   "outputs": [],
   "source": [
    "# !pip install pyvis"
   ]
  },
  {
   "cell_type": "code",
   "execution_count": 213,
   "metadata": {},
   "outputs": [],
   "source": [
    "from pyvis.network import Network"
   ]
  },
  {
   "cell_type": "code",
   "execution_count": 214,
   "metadata": {},
   "outputs": [
    {
     "data": {
      "text/plain": [
       "3348"
      ]
     },
     "execution_count": 214,
     "metadata": {},
     "output_type": "execute_result"
    }
   ],
   "source": [
    "len(concatenated_df_horizontal)"
   ]
  },
  {
   "cell_type": "code",
   "execution_count": 218,
   "metadata": {},
   "outputs": [],
   "source": [
    "net = Network(height=\"1200px\", width=\"100%\", bgcolor=\"#222222\", font_color=\"white\", notebook=True, cdn_resources='remote', select_menu=True)"
   ]
  },
  {
   "cell_type": "code",
   "execution_count": 219,
   "metadata": {},
   "outputs": [
    {
     "ename": "AttributeError",
     "evalue": "'dict' object has no attribute 'edges'",
     "output_type": "error",
     "traceback": [
      "\u001b[0;31m---------------------------------------------------------------------------\u001b[0m",
      "\u001b[0;31mAttributeError\u001b[0m                            Traceback (most recent call last)",
      "Cell \u001b[0;32mIn[219], line 12\u001b[0m\n\u001b[1;32m      1\u001b[0m net\u001b[38;5;241m.\u001b[39mset_options(\u001b[38;5;124m'''\u001b[39m\n\u001b[1;32m      2\u001b[0m \u001b[38;5;124mvar options = \u001b[39m\u001b[38;5;124m{\u001b[39m\n\u001b[1;32m      3\u001b[0m \u001b[38;5;124m    \u001b[39m\u001b[38;5;124m\"\u001b[39m\u001b[38;5;124minteraction\u001b[39m\u001b[38;5;124m\"\u001b[39m\u001b[38;5;124m: \u001b[39m\u001b[38;5;124m{\u001b[39m\n\u001b[0;32m   (...)\u001b[0m\n\u001b[1;32m      9\u001b[0m \u001b[38;5;124m}\u001b[39m\n\u001b[1;32m     10\u001b[0m \u001b[38;5;124m'''\u001b[39m)\n\u001b[0;32m---> 12\u001b[0m \u001b[43mnet\u001b[49m\u001b[38;5;241;43m.\u001b[39;49m\u001b[43mset_edge_smooth\u001b[49m\u001b[43m(\u001b[49m\u001b[38;5;124;43m'\u001b[39;49m\u001b[38;5;124;43mdynamic\u001b[39;49m\u001b[38;5;124;43m'\u001b[39;49m\u001b[43m)\u001b[49m\n\u001b[1;32m     14\u001b[0m net\u001b[38;5;241m.\u001b[39madd_js_callback(\u001b[38;5;124m\"\u001b[39m\u001b[38;5;124mselectNode\u001b[39m\u001b[38;5;124m\"\u001b[39m, \u001b[38;5;124m'''\u001b[39m\n\u001b[1;32m     15\u001b[0m \u001b[38;5;124mfunction(params) \u001b[39m\u001b[38;5;124m{\u001b[39m\n\u001b[1;32m     16\u001b[0m \u001b[38;5;124m    var selectedNodeId = params.nodes[0];\u001b[39m\n\u001b[0;32m   (...)\u001b[0m\n\u001b[1;32m     22\u001b[0m \u001b[38;5;124m}\u001b[39m\n\u001b[1;32m     23\u001b[0m \u001b[38;5;124m'''\u001b[39m)\n\u001b[1;32m     25\u001b[0m net\u001b[38;5;241m.\u001b[39madd_js_callback(\u001b[38;5;124m\"\u001b[39m\u001b[38;5;124mdeselectNode\u001b[39m\u001b[38;5;124m\"\u001b[39m, \u001b[38;5;124m'''\u001b[39m\n\u001b[1;32m     26\u001b[0m \u001b[38;5;124mfunction(params) \u001b[39m\u001b[38;5;124m{\u001b[39m\n\u001b[1;32m     27\u001b[0m \u001b[38;5;124m    network.edges.forEach(function(edge) \u001b[39m\u001b[38;5;124m{\u001b[39m\n\u001b[0;32m   (...)\u001b[0m\n\u001b[1;32m     31\u001b[0m \u001b[38;5;124m}\u001b[39m\n\u001b[1;32m     32\u001b[0m \u001b[38;5;124m'''\u001b[39m)\n",
      "File \u001b[0;32m/opt/anaconda3/envs/hotpeppar/lib/python3.12/site-packages/pyvis/network.py:900\u001b[0m, in \u001b[0;36mNetwork.set_edge_smooth\u001b[0;34m(self, smooth_type)\u001b[0m\n\u001b[1;32m    885\u001b[0m \u001b[38;5;28;01mdef\u001b[39;00m \u001b[38;5;21mset_edge_smooth\u001b[39m(\u001b[38;5;28mself\u001b[39m, smooth_type):\n\u001b[1;32m    886\u001b[0m \u001b[38;5;250m    \u001b[39m\u001b[38;5;124;03m\"\"\"\u001b[39;00m\n\u001b[1;32m    887\u001b[0m \u001b[38;5;124;03m    Sets the smooth.type attribute of the edges.\u001b[39;00m\n\u001b[1;32m    888\u001b[0m \n\u001b[0;32m   (...)\u001b[0m\n\u001b[1;32m    898\u001b[0m \u001b[38;5;124;03m    :type smooth_type: string\u001b[39;00m\n\u001b[1;32m    899\u001b[0m \u001b[38;5;124;03m    \"\"\"\u001b[39;00m\n\u001b[0;32m--> 900\u001b[0m     \u001b[38;5;28;43mself\u001b[39;49m\u001b[38;5;241;43m.\u001b[39;49m\u001b[43moptions\u001b[49m\u001b[38;5;241;43m.\u001b[39;49m\u001b[43medges\u001b[49m\u001b[38;5;241m.\u001b[39msmooth\u001b[38;5;241m.\u001b[39menabled \u001b[38;5;241m=\u001b[39m \u001b[38;5;28;01mTrue\u001b[39;00m\n\u001b[1;32m    901\u001b[0m     \u001b[38;5;28mself\u001b[39m\u001b[38;5;241m.\u001b[39moptions\u001b[38;5;241m.\u001b[39medges\u001b[38;5;241m.\u001b[39msmooth\u001b[38;5;241m.\u001b[39mtype \u001b[38;5;241m=\u001b[39m smooth_type\n",
      "\u001b[0;31mAttributeError\u001b[0m: 'dict' object has no attribute 'edges'"
     ]
    }
   ],
   "source": [
    "net.set_options('''\n",
    "var options = {\n",
    "    \"interaction\": {\n",
    "        \"hover\": true\n",
    "    },\n",
    "    \"manipulation\": {\n",
    "        \"enabled\": true\n",
    "    }\n",
    "}\n",
    "''')\n",
    "\n",
    "net.set_edge_smooth('dynamic')\n",
    "\n",
    "net.add_js_callback(\"selectNode\", '''\n",
    "function(params) {\n",
    "    var selectedNodeId = params.nodes[0];\n",
    "    var edges = network.getConnectedEdges(selectedNodeId);\n",
    "    edges.forEach(function(edgeId) {\n",
    "        network.updateEdge(edgeId, {color: {color: '#FF0000'}});\n",
    "    });\n",
    "    network.redraw();\n",
    "}\n",
    "''')\n",
    "\n",
    "net.add_js_callback(\"deselectNode\", '''\n",
    "function(params) {\n",
    "    network.edges.forEach(function(edge) {\n",
    "        network.updateEdge(edge.id, {color: {color: edge.color.color}});\n",
    "    });\n",
    "    network.redraw();\n",
    "}\n",
    "''')\n"
   ]
  },
  {
   "cell_type": "code",
   "execution_count": 221,
   "metadata": {},
   "outputs": [
    {
     "name": "stdout",
     "output_type": "stream",
     "text": [
      "network_graph_2.html\n"
     ]
    },
    {
     "data": {
      "text/html": [
       "\n",
       "        <iframe\n",
       "            width=\"100%\"\n",
       "            height=\"1200px\"\n",
       "            src=\"network_graph_2.html\"\n",
       "            frameborder=\"0\"\n",
       "            allowfullscreen\n",
       "            \n",
       "        ></iframe>\n",
       "        "
      ],
      "text/plain": [
       "<IPython.lib.display.IFrame at 0x35fbeab70>"
      ]
     },
     "execution_count": 221,
     "metadata": {},
     "output_type": "execute_result"
    }
   ],
   "source": [
    "# PyvisのNetworkオブジェクトを作成\n",
    "net = Network(height=\"1200px\", width=\"100%\", bgcolor=\"#222222\", font_color=\"white\", notebook=True, cdn_resources='remote')\n",
    "# ノードの追加\n",
    "for index, row in concatenated_df_horizontal.iterrows():\n",
    "    net.add_node(row['理由_トピック'], label=row['理由_トピック'][:20] + '...', title=row['理由_トピック'], color='#97C2FC')\n",
    "    net.add_node(row['結果_トピック'], label=row['結果_トピック'][:20] + '...', title=row['結果_トピック'], color='#FB7E81')\n",
    "\n",
    "# エッジの追加（インデックス番号が同じもの同士）\n",
    "for index, row in concatenated_df_horizontal.iterrows():\n",
    "    net.add_edge(row['理由_トピック'], row['結果_トピック'], color='#FFFF00')\n",
    "\n",
    "# エッジの追加（クラスタ番号が同じもの同士）\n",
    "理由クラスタグループ = concatenated_df_horizontal.groupby('理由_クラスタ')\n",
    "結果クラスタグループ = concatenated_df_horizontal.groupby('結果_クラスタ')\n",
    "\n",
    "for _, group in 理由クラスタグループ:\n",
    "    nodes = group['理由_トピック'].tolist()\n",
    "    for i in range(len(nodes)):\n",
    "        for j in range(i + 1, len(nodes)):\n",
    "            net.add_edge(nodes[i], nodes[j], color='#00FFFF')\n",
    "\n",
    "for _, group in 結果クラスタグループ:\n",
    "    nodes = group['結果_トピック'].tolist()\n",
    "    for i in range(len(nodes)):\n",
    "        for j in range(i + 1, len(nodes)):\n",
    "            net.add_edge(nodes[i], nodes[j], color='#FF00FF')\n",
    "\n",
    "# グラフの設定\n",
    "net.toggle_physics(True)\n",
    "net.show_buttons(filter_=['physics'])\n",
    "\n",
    "# HTMLファイルとして保存\n",
    "net.show('network_graph_2.html')"
   ]
  },
  {
   "cell_type": "code",
   "execution_count": null,
   "metadata": {},
   "outputs": [],
   "source": []
  },
  {
   "cell_type": "code",
   "execution_count": null,
   "metadata": {},
   "outputs": [],
   "source": []
  },
  {
   "cell_type": "markdown",
   "metadata": {},
   "source": [
    "# テスト実行ゾーン #"
   ]
  },
  {
   "cell_type": "code",
   "execution_count": null,
   "metadata": {},
   "outputs": [],
   "source": [
    "import unicodedata\n",
    "from pyknp import Juman\n",
    "\n",
    "def preprocess_text(text):\n",
    "    # 全角文字を半角に変換し、テキストを正規化\n",
    "    normalized_text = unicodedata.normalize('NFKC', text)\n",
    "    \n",
    "    # Juman++を使用して形態素解析\n",
    "    jumanpp = Juman()\n",
    "    result = jumanpp.analysis(normalized_text)\n",
    "    \n",
    "    # 形態素に分割されたテキストを作成\n",
    "    morphemes = [mrph.midasi for mrph in result.mrph_list()]\n",
    "    segmented_text = ' '.join(morphemes)\n",
    "    \n",
    "    return segmented_text\n",
    "\n",
    "# テスト\n",
    "input_text = \"ホットペッパーの口コミが良い雰囲気だった\"\n",
    "processed_text = preprocess_text(input_text)\n",
    "print(processed_text)\n"
   ]
  },
  {
   "cell_type": "code",
   "execution_count": null,
   "metadata": {},
   "outputs": [],
   "source": [
    "from transformers import BertJapaneseTokenizer, BertModel\n",
    "import torch\n",
    "\n",
    "def prepare_bert_model():\n",
    "    # 正しいモデル名を指定\n",
    "    model_name = \"tohoku-nlp/bert-base-japanese-char-v2\"\n",
    "\n",
    "    # トークナイザーの準備\n",
    "    tokenizer = BertJapaneseTokenizer.from_pretrained(model_name)\n",
    "\n",
    "    # モデルの準備\n",
    "    model = BertModel.from_pretrained(model_name)\n",
    "\n",
    "    # GPUが利用可能な場合はGPUを使用\n",
    "    device = torch.device(\"cuda\" if torch.cuda.is_available() else \"cpu\")\n",
    "    model = model.to(device)\n",
    "\n",
    "    # 評価モードに設定\n",
    "    model.eval()\n",
    "\n",
    "    return tokenizer, model, device\n",
    "\n",
    "# モデルの準備\n",
    "tokenizer, model, device = prepare_bert_model()\n",
    "print(\"BERTモデルの準備が完了しました。\")\n"
   ]
  },
  {
   "cell_type": "code",
   "execution_count": null,
   "metadata": {},
   "outputs": [],
   "source": [
    "from transformers import BertJapaneseTokenizer\n",
    "\n",
    "def tokenize_and_encode(text, tokenizer, max_length=128):\n",
    "    # テキストをトークン化し、特殊トークンを追加\n",
    "    encoded = tokenizer.encode_plus(\n",
    "        text,\n",
    "        add_special_tokens=True,\n",
    "        max_length=max_length,\n",
    "        padding='max_length',\n",
    "        truncation=True,\n",
    "        return_tensors='pt'\n",
    "    )\n",
    "    \n",
    "    # トークンIDとアテンションマスクを取得\n",
    "    input_ids = encoded['input_ids'].squeeze(0)\n",
    "    attention_mask = encoded['attention_mask'].squeeze(0)\n",
    "    \n",
    "    # トークン化されたテキストを取得（デバッグ用）\n",
    "    tokens = tokenizer.convert_ids_to_tokens(input_ids)\n",
    "    \n",
    "    return input_ids, attention_mask, tokens\n",
    "\n",
    "# トークナイザーの準備\n",
    "tokenizer = BertJapaneseTokenizer.from_pretrained(\"cl-tohoku/bert-base-japanese-char-v2\")\n",
    "\n",
    "# テキストの例\n",
    "text = \"ホットペッパーの口コミが良い雰囲気だった\"\n",
    "\n",
    "# トークン化とエンコーディングを実行\n",
    "input_ids, attention_mask, tokens = tokenize_and_encode(text, tokenizer)\n",
    "\n",
    "# 結果の表示\n",
    "print(\"トークン化されたテキスト:\")\n",
    "print(\" \".join(tokens))\n",
    "print(\"\\nInput IDs:\", input_ids)\n",
    "print(\"\\nAttention Mask:\", attention_mask)\n"
   ]
  },
  {
   "cell_type": "code",
   "execution_count": null,
   "metadata": {},
   "outputs": [],
   "source": [
    "import torch\n",
    "from transformers import BertJapaneseTokenizer, BertModel\n",
    "\n",
    "def get_contextualized_embeddings(text, model, tokenizer, device):\n",
    "    # テキストをトークン化\n",
    "    inputs = tokenizer(text, return_tensors=\"pt\", padding=True, truncation=True)\n",
    "    inputs = {k: v.to(device) for k, v in inputs.items()}\n",
    "\n",
    "    # モデルに入力を渡し、隠れ状態を取得\n",
    "    with torch.no_grad():\n",
    "        outputs = model(**inputs, output_hidden_states=True)\n",
    "\n",
    "    # 最後の層の隠れ状態を取得\n",
    "    last_hidden_states = outputs.last_hidden_state\n",
    "\n",
    "    # トークンと対応する埋め込みを取得\n",
    "    tokens = tokenizer.convert_ids_to_tokens(inputs[\"input_ids\"][0])\n",
    "    embeddings = last_hidden_states[0]\n",
    "\n",
    "    return tokens, embeddings\n",
    "\n",
    "# モデルとトークナイザーの準備\n",
    "model_name = \"cl-tohoku/bert-base-japanese-char-v2\"\n",
    "tokenizer = BertJapaneseTokenizer.from_pretrained(model_name)\n",
    "model = BertModel.from_pretrained(model_name)\n",
    "device = torch.device(\"cuda\" if torch.cuda.is_available() else \"cpu\")\n",
    "model.to(device)\n",
    "model.eval()\n",
    "\n",
    "# テキストの例\n",
    "text = \"ホットペッパーの口コミが良い雰囲気だった\"\n",
    "\n",
    "# 文脈化された表現を取得\n",
    "tokens, embeddings = get_contextualized_embeddings(text, model, tokenizer, device)\n",
    "\n",
    "# 結果の表示\n",
    "print(\"トークン:\")\n",
    "print(tokens)\n",
    "print(\"\\n最初の3トークンの埋め込み:\")\n",
    "for token, embedding in zip(tokens[:3], embeddings[:3]):\n",
    "    print(f\"{token}: {embedding[:5]}...\")  # 最初の5次元のみ表示\n"
   ]
  },
  {
   "cell_type": "code",
   "execution_count": 212,
   "metadata": {},
   "outputs": [],
   "source": [
    "from transformers import BertJapaneseTokenizer, BertModel\n",
    "import torch\n",
    "import numpy as np\n",
    "from scipy.special import softmax\n",
    "\n",
    "def dependency_parse(text, model, tokenizer, device):\n",
    "    # テキストをトークン化\n",
    "    inputs = tokenizer(text, return_tensors=\"pt\", add_special_tokens=True)\n",
    "    inputs = {k: v.to(device) for k, v in inputs.items()}\n",
    "\n",
    "    # BERTモデルで文脈化された表現を取得\n",
    "    with torch.no_grad():\n",
    "        outputs = model(**inputs)\n",
    "    \n",
    "    last_hidden_states = outputs.last_hidden_state[0]\n",
    "    \n",
    "    # 係り受け行列の計算\n",
    "    scores = torch.matmul(last_hidden_states, last_hidden_states.transpose(0, 1))\n",
    "    scores = scores.cpu().numpy()\n",
    "\n",
    "    # マスクの作成（自身より後ろの単語にのみ係るようにする）\n",
    "    mask = np.tril(np.ones_like(scores), k=-1).T\n",
    "    scores = scores * mask + -1e9 * (1 - mask)\n",
    "\n",
    "    # スコアを確率に変換\n",
    "    probs = softmax(scores, axis=1)\n",
    "\n",
    "    # 最も確率の高い係り先を選択\n",
    "    heads = np.argmax(probs, axis=1)\n",
    "\n",
    "    # トークンと係り受け関係を取得\n",
    "    tokens = tokenizer.convert_ids_to_tokens(inputs['input_ids'][0])\n",
    "    dependencies = []\n",
    "    for i, head in enumerate(heads):\n",
    "        if i == 0 or tokens[i].startswith('##'):  # [CLS]トークンやサブワードは無視\n",
    "            continue\n",
    "        if head == 0:  # rootの場合\n",
    "            dependencies.append((tokens[i], 'ROOT'))\n",
    "        else:\n",
    "            dependencies.append((tokens[i], tokens[head]))\n",
    "\n",
    "    return dependencies"
   ]
  },
  {
   "cell_type": "code",
   "execution_count": null,
   "metadata": {},
   "outputs": [],
   "source": [
    "from transformers import BertJapaneseTokenizer, BertModel\n",
    "import torch\n",
    "import numpy as np\n",
    "from scipy.special import softmax\n",
    "\n",
    "def dependency_parse(text, model, tokenizer, device):\n",
    "    # テキストをトークン化\n",
    "    inputs = tokenizer(text, return_tensors=\"pt\", add_special_tokens=True)\n",
    "    inputs = {k: v.to(device) for k, v in inputs.items()}\n",
    "\n",
    "    # BERTモデルで文脈化された表現を取得\n",
    "    with torch.no_grad():\n",
    "        outputs = model(**inputs)\n",
    "    \n",
    "    last_hidden_states = outputs.last_hidden_state[0]\n",
    "    \n",
    "    # 係り受け行列の計算\n",
    "    scores = torch.matmul(last_hidden_states, last_hidden_states.transpose(0, 1))\n",
    "    scores = scores.cpu().numpy()\n",
    "\n",
    "    # マスクの作成（自身より後ろの単語にのみ係るようにする）\n",
    "    mask = np.tril(np.ones_like(scores), k=-1).T\n",
    "    scores = scores * mask + -1e9 * (1 - mask)\n",
    "\n",
    "    # スコアを確率に変換\n",
    "    probs = softmax(scores, axis=1)\n",
    "\n",
    "    # 最も確率の高い係り先を選択\n",
    "    heads = np.argmax(probs, axis=1)\n",
    "\n",
    "    # トークンと係り受け関係を取得\n",
    "    tokens = tokenizer.convert_ids_to_tokens(inputs['input_ids'][0])\n",
    "    dependencies = []\n",
    "    for i, head in enumerate(heads):\n",
    "        if i == 0 or tokens[i].startswith('##'):  # [CLS]トークンやサブワードは無視\n",
    "            continue\n",
    "        if head == 0:  # rootの場合\n",
    "            dependencies.append((tokens[i], 'ROOT'))\n",
    "        else:\n",
    "            dependencies.append((tokens[i], tokens[head]))\n",
    "\n",
    "    return dependencies\n",
    "\n",
    "# BERTモデルとトークナイザーの準備\n",
    "model_name = \"cl-tohoku/bert-base-japanese-whole-word-masking\"\n",
    "tokenizer = BertJapaneseTokenizer.from_pretrained(model_name)\n",
    "model = BertModel.from_pretrained(model_name)\n",
    "device = torch.device(\"cuda\" if torch.cuda.is_available() else \"cpu\")\n",
    "model.to(device)\n",
    "model.eval()\n",
    "\n",
    "# テキストの例\n",
    "text = \"ホットペッパーの口コミが良い雰囲気だった\"\n",
    "\n",
    "# 構文解析の実行\n",
    "dependencies = dependency_parse(text, model, tokenizer, device)\n",
    "\n",
    "# 結果の表示\n",
    "print(\"係り受け関係:\")\n",
    "for dep in dependencies:\n",
    "    print(f\"{dep[0]} -> {dep[1]}\")\n",
    "\n",
    "# 特定の文法構造の抽出\n",
    "for i, dep in enumerate(dependencies):\n",
    "    if dep[0] == 'が' and i+1 < len(dependencies):\n",
    "        subject = dependencies[i-1][0]\n",
    "        predicate = dependencies[i+1][0]\n",
    "        print(f\"\\n抽出された「〇〇が〇〇」構造: {subject}が{predicate}\")\n"
   ]
  },
  {
   "cell_type": "markdown",
   "metadata": {},
   "source": [
    "# 逆説の分析 #"
   ]
  },
  {
   "cell_type": "code",
   "execution_count": null,
   "metadata": {},
   "outputs": [],
   "source": [
    "data[100:200]"
   ]
  },
  {
   "cell_type": "code",
   "execution_count": 221,
   "metadata": {},
   "outputs": [],
   "source": [
    "paradox_temp = data[data[\"関係\"]==\"原因・理由\"].copy()\n",
    "paradox_temp.reset_index(drop=True, inplace=True)\n",
    "paradox_temp_unique = temp.drop_duplicates()\n",
    "paradox_temp = paradox_temp_unique"
   ]
  },
  {
   "cell_type": "code",
   "execution_count": null,
   "metadata": {},
   "outputs": [],
   "source": [
    "paradox_temp[200:300]"
   ]
  },
  {
   "cell_type": "code",
   "execution_count": null,
   "metadata": {},
   "outputs": [],
   "source": [
    "import pandas as pd\n",
    "from textblob import TextBlob\n",
    "\n",
    "# ポジティブ・ネガティブの分析を行う関数\n",
    "def analyze_sentiment(text):\n",
    "    blob = TextBlob(text)\n",
    "    return blob.sentiment.polarity\n",
    "\n",
    "# 各行の原因と結果のポジティブ・ネガティブを分析\n",
    "paradox_temp['原因_ポジティブ度'] = paradox_temp['原因'].apply(analyze_sentiment)\n",
    "paradox_temp['結果_ポジティブ度'] = paradox_temp['結果'].apply(analyze_sentiment)\n",
    "\n",
    "# 結果を保存するDataFrameを作成\n",
    "result_df = pd.DataFrame(columns=['index', 'ポジティブ', 'ネガティブ'])\n",
    "\n",
    "# 各行の原因と結果のポジティブ・ネガティブを比較し、結果を保存\n",
    "for index, row in paradox_temp.iterrows():\n",
    "    if row['原因_ポジティブ度'] > row['結果_ポジティブ度']:\n",
    "        positive = row['原因']\n",
    "        negative = row['結果']\n",
    "    else:\n",
    "        positive = row['結果']\n",
    "        negative = row['原因']\n",
    "    \n",
    "    # appendの代わりにconcatを使用\n",
    "    new_row = pd.DataFrame({'index': [index], 'ポジティブ': [positive], 'ネガティブ': [negative]})\n",
    "    result_df = pd.concat([result_df, new_row], ignore_index=True)\n",
    "\n",
    "# 結果を表示\n",
    "print(result_df)"
   ]
  },
  {
   "cell_type": "code",
   "execution_count": null,
   "metadata": {},
   "outputs": [],
   "source": []
  }
 ],
 "metadata": {
  "kernelspec": {
   "display_name": "hotpeppar",
   "language": "python",
   "name": "python3"
  },
  "language_info": {
   "codemirror_mode": {
    "name": "ipython",
    "version": 3
   },
   "file_extension": ".py",
   "mimetype": "text/x-python",
   "name": "python",
   "nbconvert_exporter": "python",
   "pygments_lexer": "ipython3",
   "version": "3.12.2"
  }
 },
 "nbformat": 4,
 "nbformat_minor": 2
}
